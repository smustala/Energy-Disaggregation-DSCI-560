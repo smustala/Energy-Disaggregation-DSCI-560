{
  "nbformat": 4,
  "nbformat_minor": 0,
  "metadata": {
    "colab": {
      "name": "dishwasher_prediction.ipynb",
      "provenance": [],
      "collapsed_sections": []
    },
    "kernelspec": {
      "name": "python3",
      "display_name": "Python 3"
    },
    "language_info": {
      "name": "python"
    }
  },
  "cells": [
    {
      "cell_type": "code",
      "metadata": {
        "colab": {
          "base_uri": "https://localhost:8080/"
        },
        "id": "63CwTYA66kmv",
        "outputId": "0aedafba-a228-443d-c46d-e2096eeb8664"
      },
      "source": [
        "from google.colab import drive\n",
        "drive.mount('/content/gdrive')"
      ],
      "execution_count": null,
      "outputs": [
        {
          "output_type": "stream",
          "text": [
            "Mounted at /content/gdrive\n"
          ],
          "name": "stdout"
        }
      ]
    },
    {
      "cell_type": "code",
      "metadata": {
        "id": "tRGz7ZK_6u1H"
      },
      "source": [
        "import pandas as pd\n",
        "import numpy as np\n",
        "\n",
        "from keras.models import load_model\n",
        "from keras.models import Sequential\n",
        "from keras.layers import Dense, Conv1D, GRU, Bidirectional, Dropout\n",
        "from keras.utils import plot_model\n",
        "\n",
        "import matplotlib.pyplot as plt\n",
        "import time\n",
        "import matplotlib.pyplot as plt\n",
        "%matplotlib inline\n",
        "from IPython.display import display\n",
        "import datetime\n",
        "import math\n",
        "import warnings\n",
        "warnings.filterwarnings(\"ignore\")\n",
        "import glob\n",
        "from sklearn.metrics import mean_squared_error, mean_absolute_error"
      ],
      "execution_count": null,
      "outputs": []
    },
    {
      "cell_type": "markdown",
      "metadata": {
        "id": "kQUeYPZZTwTG"
      },
      "source": [
        "# **Functions**"
      ]
    },
    {
      "cell_type": "markdown",
      "metadata": {
        "id": "uc9OqLVna5oM"
      },
      "source": [
        "### **Provide path for raw REDD data**"
      ]
    },
    {
      "cell_type": "code",
      "metadata": {
        "id": "Bi8-EC5x6l2o"
      },
      "source": [
        "def read_label():\n",
        "    label = {}\n",
        "    for i in range(1,4):\n",
        "        hi = '/content/gdrive/MyDrive/energy_disaggregation/windowGRU/data/house_{}/labels.dat'.format(i)\n",
        "        label[i] = {}\n",
        "        with open(hi) as f:\n",
        "            for line in f:\n",
        "                splitted_line = line.split(' ')\n",
        "                label[i][int(splitted_line[0])] = splitted_line[1].strip() + '_' + splitted_line[0]\n",
        "    return label\n",
        "\n",
        "\n",
        "#-------------------------------------------------------------------------------------------------------------------\n",
        "\n",
        "def read_merge_data(house):\n",
        "    path = '/content/gdrive/MyDrive/energy_disaggregation/windowGRU/data/house_{}/'.format(house)\n",
        "    \n",
        "    \n",
        "    file = path + 'channel_1.dat'\n",
        "\n",
        "    df = pd.read_table(file, sep = ' ', names = ['unix_time', labels[house][1]], \n",
        "                                       dtype = {'unix_time': 'int64', labels[house][1]:'float64'}) \n",
        "\n",
        "    num_apps = len(glob.glob(path + 'channel*'))\n",
        "\n",
        "    \n",
        "    for i in range(2, num_apps + 1):\n",
        "        file = path + 'channel_{}.dat'.format(i)\n",
        "        data = pd.read_table(file, sep = ' ', names = ['unix_time', labels[house][i]], \n",
        "                                       dtype = {'unix_time': 'int64', labels[house][i]:'float64'})\n",
        "        df = pd.merge(df, data, how = 'inner', on = 'unix_time')\n",
        "    df['timestamp'] = df['unix_time'].astype(\"datetime64[s]\")\n",
        "    df = df.set_index(df['timestamp'].values)\n",
        "    df.drop(['unix_time','timestamp'], axis=1, inplace=True)\n",
        "    return df\n",
        "\n",
        "#-------------------------------------------------------------------------------------------------------------------\n",
        "\n",
        "def uniform_label(df):\n",
        "  if 'microwave_11' in df.columns:   \n",
        "    df = df.rename(columns={'microwave_11': 'microwave'})\n",
        "\n",
        "  if 'microwave_6' in df.columns:\n",
        "    df = df.rename(columns={'microwave_6': 'microwave'})\n",
        "\n",
        "  if 'microwave_16' in df.columns:\n",
        "    df = df.rename(columns={'microwave_16': 'microwave'})\n",
        "\n",
        "  return df\n",
        "\n",
        "#----------------------------------------------------------------------------------------------------------------------\n",
        "\n",
        "def add_houses(df_list, appliance):\n",
        "  merged_df = pd.DataFrame()\n",
        "  for df in df_list:\n",
        "    df = uniform_label(df)\n",
        "\n",
        "    df[\"aggregate_mains\"] = df['mains_1'] + df['mains_2']\n",
        "    df = df[['aggregate_mains',appliance]]\n",
        "    \n",
        "    merged_df = pd.concat([merged_df,df])\n",
        "  return merged_df\n",
        "\n",
        "#-----------------------------------------------------------------------------------------------------------------------\n",
        "\n",
        "def max_value(df):\n",
        "  return max(df['aggregate_mains'])\n",
        "\n",
        "\n",
        "#-----------------------------------------------------------------------------------------------------------------------\n",
        "\n",
        "\n",
        "def preprocess_data(df, appliance, nmax):\n",
        "\n",
        "  df['aggregate_mains'] = df['aggregate_mains']/ nmax\n",
        "\n",
        "  df[appliance] = df[appliance]/ nmax\n",
        "  \n",
        "  return df\n",
        "\n",
        "#----------------------------------------------------------------------------------------------------------------------\n",
        "def create_window_chunk(df, sequence_length):\n",
        "  result = []\n",
        "  for index in range(len(df) - sequence_length):\n",
        "      result.append(df[index: index + sequence_length])\n",
        "\n",
        "  return result\n",
        "\n",
        "#----------------------------------------------------------------------------------------------------------------------\n",
        "\n",
        "def _create_model(window_size):\n",
        "    '''Creates the GRU architecture described in the paper\n",
        "    '''\n",
        "    model = Sequential()\n",
        "\n",
        "    # 1D Conv\n",
        "    model.add(Conv1D(16, 4, activation='relu', input_shape=(window_size,1), padding=\"same\", strides=1))\n",
        "\n",
        "    #Bi-directional GRUs\n",
        "    model.add(Bidirectional(GRU(64, activation='relu', return_sequences=True), merge_mode='concat'))\n",
        "    model.add(Dropout(0.5))\n",
        "    model.add(Bidirectional(GRU(128, activation='relu', return_sequences=False), merge_mode='concat'))\n",
        "    model.add(Dropout(0.5))\n",
        "\n",
        "    # Fully Connected Layers\n",
        "    model.add(Dense(128, activation='relu'))\n",
        "    model.add(Dropout(0.5))\n",
        "    model.add(Dense(1, activation='linear'))\n",
        "\n",
        "    model.compile(loss='mse', optimizer='adam')\n",
        "    print(model.summary())\n",
        "\n",
        "    return model\n",
        "\n",
        "#---------------------------------------------------------------------------------------------------------------------\n"
      ],
      "execution_count": null,
      "outputs": []
    },
    {
      "cell_type": "markdown",
      "metadata": {
        "id": "w0R_HcMxYFVi"
      },
      "source": [
        "###*Provide path of saved model*"
      ]
    },
    {
      "cell_type": "code",
      "metadata": {
        "id": "9BEM6Uwc856f"
      },
      "source": [
        "# saved_model = \"gdrive/MyDrive/saved_model/new_microwave_train_2_3_test_1_e_20_b_128_s_t_v_0.33_w_10_model.h5\"\n",
        "saved_model = \"\""
      ],
      "execution_count": null,
      "outputs": []
    },
    {
      "cell_type": "markdown",
      "metadata": {
        "id": "ra3HonwBXWIp"
      },
      "source": [
        "### *max value for house 2 & 3*"
      ]
    },
    {
      "cell_type": "code",
      "metadata": {
        "id": "yoNkBaI0XSQk"
      },
      "source": [
        "nmax = 8059.92"
      ],
      "execution_count": null,
      "outputs": []
    },
    {
      "cell_type": "markdown",
      "metadata": {
        "id": "XpCfVXu2XRwC"
      },
      "source": [
        "### *Initializing the window size and dataframe dictionary*\n",
        "\n"
      ]
    },
    {
      "cell_type": "code",
      "metadata": {
        "id": "M3z05tUuX139"
      },
      "source": [
        "window_size = 50\n",
        "df_dic={}"
      ],
      "execution_count": null,
      "outputs": []
    },
    {
      "cell_type": "markdown",
      "metadata": {
        "id": "dfB53ZcuXL7s"
      },
      "source": [
        "#**Loading saved model**"
      ]
    },
    {
      "cell_type": "code",
      "metadata": {
        "id": "ymF6f_rd66J8"
      },
      "source": [
        "model = _create_model(window_size)\n",
        "\n",
        "\n",
        "model = load_model(saved_model)"
      ],
      "execution_count": null,
      "outputs": []
    },
    {
      "cell_type": "markdown",
      "metadata": {
        "id": "bvtvRtIrPlKv"
      },
      "source": [
        "### *Preparing and preprocessing test data - house 1*"
      ]
    },
    {
      "cell_type": "code",
      "metadata": {
        "id": "LPw1DdTX6_8O"
      },
      "source": [
        "labels = read_label()\n",
        "for i in range(1,4):\n",
        "    df_dic[i] = read_merge_data(i)"
      ],
      "execution_count": null,
      "outputs": []
    },
    {
      "cell_type": "code",
      "metadata": {
        "id": "UsqxYui37du8"
      },
      "source": [
        "df_list = [df_dic[1]]\n",
        "dfs = add_houses(df_list, 'dishwasher')\n",
        "df_test = preprocess_data(dfs, \"dishwasher\", nmax)"
      ],
      "execution_count": null,
      "outputs": []
    },
    {
      "cell_type": "code",
      "metadata": {
        "id": "X8ch6u2B7in3"
      },
      "source": [
        "sequence_length = window_size\n",
        "\n",
        "x_test = create_window_chunk(df_test['aggregate_mains'], sequence_length)\n",
        "\n",
        "y_test = df_test['dishwasher'][sequence_length:]"
      ],
      "execution_count": null,
      "outputs": []
    },
    {
      "cell_type": "code",
      "metadata": {
        "id": "wcxU3Nzi7roH"
      },
      "source": [
        "x_test = np.array(x_test)\n",
        "y_test = np.array(y_test)"
      ],
      "execution_count": null,
      "outputs": []
    },
    {
      "cell_type": "code",
      "metadata": {
        "id": "HUvgXKtH7uk2"
      },
      "source": [
        "x_test = np.reshape(x_test, (x_test.shape[0], x_test.shape[1], 1))"
      ],
      "execution_count": null,
      "outputs": []
    },
    {
      "cell_type": "markdown",
      "metadata": {
        "id": "exGwrLSl_ZK1"
      },
      "source": [
        "###*Predicting on the test*"
      ]
    },
    {
      "cell_type": "code",
      "metadata": {
        "id": "DF-Y8wbf7x6G"
      },
      "source": [
        "pred_test = model.predict(x_test, batch_size=512)"
      ],
      "execution_count": null,
      "outputs": []
    },
    {
      "cell_type": "code",
      "metadata": {
        "id": "duVruoUz740p"
      },
      "source": [
        "pred_test = np.reshape(pred_test, (len(pred_test)))"
      ],
      "execution_count": null,
      "outputs": []
    },
    {
      "cell_type": "markdown",
      "metadata": {
        "id": "6EUnUVO_Lg5V"
      },
      "source": [
        "### *Denormalized the test and predicted data*"
      ]
    },
    {
      "cell_type": "code",
      "metadata": {
        "id": "dQAH2A7R77Va"
      },
      "source": [
        "y_test_d = y_test * nmax\n",
        "y_pred_d = pred_test* nmax"
      ],
      "execution_count": null,
      "outputs": []
    },
    {
      "cell_type": "markdown",
      "metadata": {
        "id": "AtcO9yNz_3Mz"
      },
      "source": [
        "###*Removing the predicted readings which are below average dishwasher reading , observed dishwasher reading as 800*"
      ]
    },
    {
      "cell_type": "code",
      "metadata": {
        "id": "JZXZHNEl8Hxp"
      },
      "source": [
        "y_pred_d = [0 if y<800 else y for y in list(y_pred_d)]"
      ],
      "execution_count": null,
      "outputs": []
    },
    {
      "cell_type": "markdown",
      "metadata": {
        "id": "BvVv2XnFAU3A"
      },
      "source": [
        "#**Data Visualization**"
      ]
    },
    {
      "cell_type": "code",
      "metadata": {
        "id": "pFhr8Tuw8J90"
      },
      "source": [
        "plt.figure(figsize = (30, 8))\n",
        "plt.plot(y_test_d, color='pink', label=\"ground dishwaser\")\n",
        "plt.plot(y_pred_d, color='red', label=\"predicted dishwaser\")\n",
        "plt.show"
      ],
      "execution_count": null,
      "outputs": []
    },
    {
      "cell_type": "code",
      "metadata": {
        "id": "tVR3BJ6H8PV1"
      },
      "source": [
        "plt.figure(figsize = (30, 8))\n",
        "plt.plot(y_test_d[2000:3000], color='pink', label=\"ground dishwaser\")\n",
        "plt.plot(y_pred_d[2000:3000], color='red', label=\"predicted dishwaser\")\n",
        "\n",
        "plt.show"
      ],
      "execution_count": null,
      "outputs": []
    },
    {
      "cell_type": "markdown",
      "metadata": {
        "id": "iLVl1MHaBAin"
      },
      "source": [
        "#**Evaluation Metrics**"
      ]
    },
    {
      "cell_type": "code",
      "metadata": {
        "id": "FXGcM7CT8Rxh"
      },
      "source": [
        "# Calculating MAE on test data\n",
        "mean_absolute_error(y_test_d, y_pred_d)"
      ],
      "execution_count": null,
      "outputs": []
    },
    {
      "cell_type": "code",
      "metadata": {
        "id": "qrUfqJmj8T9Q"
      },
      "source": [
        "# Calculating RMSE on test data\n",
        "math.sqrt(mean_squared_error(y_test_d, y_pred_d))"
      ],
      "execution_count": null,
      "outputs": []
    }
  ]
}