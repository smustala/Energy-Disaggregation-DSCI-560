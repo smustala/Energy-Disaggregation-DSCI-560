{
  "nbformat": 4,
  "nbformat_minor": 0,
  "metadata": {
    "colab": {
      "name": "Stove_train1_2_test4_epochs_10_batch_256.ipynb",
      "provenance": [],
      "collapsed_sections": [
        "6EUnUVO_Lg5V"
      ]
    },
    "kernelspec": {
      "display_name": "Python 3",
      "name": "python3"
    },
    "language_info": {
      "name": "python"
    }
  },
  "cells": [
    {
      "cell_type": "markdown",
      "metadata": {
        "id": "IKCTExfocljm"
      },
      "source": [
        "Train Stove using Window GRU model: train1_2_test4_epochs_10_batch_256"
      ]
    },
    {
      "cell_type": "code",
      "metadata": {
        "colab": {
          "base_uri": "https://localhost:8080/"
        },
        "id": "XycoGJVnTFfK",
        "outputId": "301ae1ca-82dd-4e70-bed3-86520ded920e"
      },
      "source": [
        "from google.colab import drive\n",
        "drive.mount('/content/drive')"
      ],
      "execution_count": null,
      "outputs": [
        {
          "output_type": "stream",
          "text": [
            "Drive already mounted at /content/drive; to attempt to forcibly remount, call drive.mount(\"/content/drive\", force_remount=True).\n"
          ],
          "name": "stdout"
        }
      ]
    },
    {
      "cell_type": "code",
      "metadata": {
        "id": "ST7xWEJfTTS0"
      },
      "source": [
        "path = \"/content/drive/MyDrive/energy_disaggregation/windowGRU\""
      ],
      "execution_count": null,
      "outputs": []
    },
    {
      "cell_type": "code",
      "metadata": {
        "id": "7_KmNbtSTTdD"
      },
      "source": [
        "import pandas as pd\n",
        "import numpy as np\n",
        "\n",
        "from keras.models import load_model\n",
        "from keras.models import Sequential\n",
        "from keras.layers import Dense, Conv1D, GRU, Bidirectional, Dropout\n",
        "from keras.utils import plot_model\n",
        "\n",
        "import matplotlib.pyplot as plt\n",
        "import time\n",
        "import matplotlib.pyplot as plt\n",
        "%matplotlib inline\n",
        "from IPython.display import display\n",
        "import datetime\n",
        "import math\n",
        "import warnings\n",
        "warnings.filterwarnings(\"ignore\")\n",
        "import glob\n",
        "from sklearn.metrics import mean_squared_error, mean_absolute_error"
      ],
      "execution_count": null,
      "outputs": []
    },
    {
      "cell_type": "code",
      "metadata": {
        "id": "qQ5W8fNKTTkc"
      },
      "source": [
        "window_size = 50"
      ],
      "execution_count": null,
      "outputs": []
    },
    {
      "cell_type": "markdown",
      "metadata": {
        "id": "kQUeYPZZTwTG"
      },
      "source": [
        "# Functions"
      ]
    },
    {
      "cell_type": "code",
      "metadata": {
        "id": "VcYWfFu6Tv6i"
      },
      "source": [
        "def read_label():\n",
        "    label = {}\n",
        "    for i in range(1,6):\n",
        "        hi = '/content/drive/MyDrive/energy_disaggregation/windowGRU/house_{}/labels.dat'.format(i)\n",
        "        label[i] = {}\n",
        "        with open(hi) as f:\n",
        "            for line in f:\n",
        "                splitted_line = line.split(' ')\n",
        "                label[i][int(splitted_line[0])] = splitted_line[1].strip() + '_' + splitted_line[0]\n",
        "    return label\n",
        "\n",
        "\n",
        "#-------------------------------------------------------------------------------------------------------------------\n",
        "\n",
        "def read_merge_data(house):\n",
        "    path = '/content/drive/MyDrive/energy_disaggregation/windowGRU/house_{}/'.format(house)\n",
        "    \n",
        "    \n",
        "    file = path + 'channel_1.dat'\n",
        "\n",
        "    df = pd.read_table(file, sep = ' ', names = ['unix_time', labels[house][1]], \n",
        "                                       dtype = {'unix_time': 'int64', labels[house][1]:'float64'}) \n",
        "\n",
        "    num_apps = len(glob.glob(path + 'channel*'))\n",
        "\n",
        "    \n",
        "    for i in range(2, num_apps + 1):\n",
        "        file = path + 'channel_{}.dat'.format(i)\n",
        "        data = pd.read_table(file, sep = ' ', names = ['unix_time', labels[house][i]], \n",
        "                                       dtype = {'unix_time': 'int64', labels[house][i]:'float64'})\n",
        "        df = pd.merge(df, data, how = 'inner', on = 'unix_time')\n",
        "    df['timestamp'] = df['unix_time'].astype(\"datetime64[s]\")\n",
        "    df = df.set_index(df['timestamp'].values)\n",
        "    df.drop(['unix_time','timestamp'], axis=1, inplace=True)\n",
        "    return df\n",
        "\n",
        "#-------------------------------------------------------------------------------------------------------------------\n",
        "\n",
        "def uniform_label(df):\n",
        "  if 'stove_14' in df.columns:   \n",
        "    df = df.rename(columns={'stove_14': 'stove'})\n",
        "\n",
        "  if 'stove_5' in df.columns:\n",
        "    df = df.rename(columns={'stove_5': 'stove'})\n",
        "\n",
        "  if 'stove_8' in df.columns:\n",
        "    print(\"true\")\n",
        "    df = df.rename(columns={'stove_8': 'stove'})\n",
        "\n",
        "  return df\n",
        "\n",
        "#----------------------------------------------------------------------------------------------------------------------\n",
        "\n",
        "def add_houses(df_list, appliance):\n",
        "  merged_df = pd.DataFrame()\n",
        "  for df in df_list:\n",
        "    df = uniform_label(df)\n",
        "\n",
        "    df[\"aggregate_mains\"] = df['mains_1'] + df['mains_2']\n",
        "    df = df[['aggregate_mains',appliance]]\n",
        "    \n",
        "    merged_df = pd.concat([merged_df,df])\n",
        "  return merged_df\n",
        "\n",
        "#-----------------------------------------------------------------------------------------------------------------------\n",
        "\n",
        "def max_value(df):\n",
        "  return max(df['aggregate_mains'])\n",
        "\n",
        "#-----------------------------------------------------------------------------------------------------------------------\n",
        "\n",
        "def preprocess_data(df, appliance, nmax):\n",
        "\n",
        "  df['aggregate_mains'] = df['aggregate_mains']/ nmax\n",
        "\n",
        "  df[appliance] = df[appliance]/ nmax\n",
        "  \n",
        "  return df \n",
        "\n",
        "#----------------------------------------------------------------------------------------------------------------------\n",
        "def create_window_chunk(df, sequence_length):\n",
        "  result = []\n",
        "  for index in range(len(df) - sequence_length):\n",
        "      result.append(df[index: index + sequence_length])\n",
        "\n",
        "  return result\n",
        "\n",
        "#----------------------------------------------------------------------------------------------------------------------\n",
        "\n",
        "def _create_model(window_size):\n",
        "    '''Creates the GRU architecture described in the paper\n",
        "    '''\n",
        "    model = Sequential()\n",
        "\n",
        "    # 1D Conv\n",
        "    model.add(Conv1D(16, 4, activation='relu', input_shape=(window_size,1), padding=\"same\", strides=1))\n",
        "\n",
        "    #Bi-directional GRUs\n",
        "    model.add(Bidirectional(GRU(64, activation='relu', return_sequences=True), merge_mode='concat'))\n",
        "    model.add(Dropout(0.5))\n",
        "    model.add(Bidirectional(GRU(128, activation='relu', return_sequences=False), merge_mode='concat'))\n",
        "    model.add(Dropout(0.5))\n",
        "\n",
        "    # Fully Connected Layers\n",
        "    model.add(Dense(128, activation='relu'))\n",
        "    model.add(Dropout(0.5))\n",
        "    model.add(Dense(1, activation='linear'))\n",
        "\n",
        "    model.compile(loss='mse', optimizer='adam')\n",
        "    print(model.summary())\n",
        "\n",
        "    return model\n",
        "\n",
        "#---------------------------------------------------------------------------------------------------------------------\n",
        "\n",
        "\n",
        "\n",
        "\n",
        "\n"
      ],
      "execution_count": null,
      "outputs": []
    },
    {
      "cell_type": "markdown",
      "metadata": {
        "id": "4gpeOoOHOUED"
      },
      "source": [
        "# Preprocess Data"
      ]
    },
    {
      "cell_type": "code",
      "metadata": {
        "id": "ko1h0YmuOh8U"
      },
      "source": [
        "df_dic = {}\n",
        "dates = {}"
      ],
      "execution_count": null,
      "outputs": []
    },
    {
      "cell_type": "code",
      "metadata": {
        "id": "OcrrGlEyTToR"
      },
      "source": [
        "labels = read_label()\n",
        "#labels"
      ],
      "execution_count": null,
      "outputs": []
    },
    {
      "cell_type": "code",
      "metadata": {
        "id": "ZpsJbmShUqNa"
      },
      "source": [
        "for i in range(1,6):\n",
        "    df_dic[i] = read_merge_data(i)\n",
        "    \n",
        "#print(df_dic)"
      ],
      "execution_count": null,
      "outputs": []
    },
    {
      "cell_type": "code",
      "metadata": {
        "id": "C8Te_g_cU1Wv"
      },
      "source": [
        "for i in range(1,6):\n",
        "    dates[i] = [str(time)[:10] for time in df_dic[i].index.values]\n",
        "    dates[i] = sorted(list(set(dates[i])))\n",
        "    #print('House {0} data contain {1} days from {2} to {3}.'.format(i,len(dates[i]),dates[i][0], dates[i][-1]))\n",
        "    #print(dates[i], '\\n')"
      ],
      "execution_count": null,
      "outputs": []
    },
    {
      "cell_type": "code",
      "metadata": {
        "colab": {
          "base_uri": "https://localhost:8080/",
          "height": 1000
        },
        "id": "iGHadd-YWUFB",
        "outputId": "8c732011-ca39-40ab-dedc-4c3f1a243247"
      },
      "source": [
        "for i in range(1,6):\n",
        "    print('House {} data has shape: '.format(i), df_dic[i].shape)\n",
        "    display(df_dic[i].tail(3))"
      ],
      "execution_count": null,
      "outputs": [
        {
          "output_type": "stream",
          "text": [
            "House 1 data has shape:  (406748, 20)\n"
          ],
          "name": "stdout"
        },
        {
          "output_type": "display_data",
          "data": {
            "text/html": [
              "<div>\n",
              "<style scoped>\n",
              "    .dataframe tbody tr th:only-of-type {\n",
              "        vertical-align: middle;\n",
              "    }\n",
              "\n",
              "    .dataframe tbody tr th {\n",
              "        vertical-align: top;\n",
              "    }\n",
              "\n",
              "    .dataframe thead th {\n",
              "        text-align: right;\n",
              "    }\n",
              "</style>\n",
              "<table border=\"1\" class=\"dataframe\">\n",
              "  <thead>\n",
              "    <tr style=\"text-align: right;\">\n",
              "      <th></th>\n",
              "      <th>mains_1</th>\n",
              "      <th>mains_2</th>\n",
              "      <th>oven_3</th>\n",
              "      <th>oven_4</th>\n",
              "      <th>refrigerator_5</th>\n",
              "      <th>dishwaser_6</th>\n",
              "      <th>kitchen_outlets_7</th>\n",
              "      <th>kitchen_outlets_8</th>\n",
              "      <th>lighting_9</th>\n",
              "      <th>washer_dryer_10</th>\n",
              "      <th>microwave_11</th>\n",
              "      <th>bathroom_gfi_12</th>\n",
              "      <th>electric_heat_13</th>\n",
              "      <th>stove_14</th>\n",
              "      <th>kitchen_outlets_15</th>\n",
              "      <th>kitchen_outlets_16</th>\n",
              "      <th>lighting_17</th>\n",
              "      <th>lighting_18</th>\n",
              "      <th>washer_dryer_19</th>\n",
              "      <th>washer_dryer_20</th>\n",
              "    </tr>\n",
              "  </thead>\n",
              "  <tbody>\n",
              "    <tr>\n",
              "      <th>2011-05-24 19:56:27</th>\n",
              "      <td>235.46</td>\n",
              "      <td>38.61</td>\n",
              "      <td>0.0</td>\n",
              "      <td>0.0</td>\n",
              "      <td>190.0</td>\n",
              "      <td>0.0</td>\n",
              "      <td>24.0</td>\n",
              "      <td>20.0</td>\n",
              "      <td>2.0</td>\n",
              "      <td>0.0</td>\n",
              "      <td>4.0</td>\n",
              "      <td>1.0</td>\n",
              "      <td>0.0</td>\n",
              "      <td>0.0</td>\n",
              "      <td>1.0</td>\n",
              "      <td>0.0</td>\n",
              "      <td>0.0</td>\n",
              "      <td>1.0</td>\n",
              "      <td>0.0</td>\n",
              "      <td>0.0</td>\n",
              "    </tr>\n",
              "    <tr>\n",
              "      <th>2011-05-24 19:56:30</th>\n",
              "      <td>235.98</td>\n",
              "      <td>38.77</td>\n",
              "      <td>0.0</td>\n",
              "      <td>0.0</td>\n",
              "      <td>189.0</td>\n",
              "      <td>0.0</td>\n",
              "      <td>24.0</td>\n",
              "      <td>20.0</td>\n",
              "      <td>2.0</td>\n",
              "      <td>0.0</td>\n",
              "      <td>4.0</td>\n",
              "      <td>1.0</td>\n",
              "      <td>0.0</td>\n",
              "      <td>0.0</td>\n",
              "      <td>1.0</td>\n",
              "      <td>0.0</td>\n",
              "      <td>0.0</td>\n",
              "      <td>1.0</td>\n",
              "      <td>0.0</td>\n",
              "      <td>0.0</td>\n",
              "    </tr>\n",
              "    <tr>\n",
              "      <th>2011-05-24 19:56:34</th>\n",
              "      <td>235.29</td>\n",
              "      <td>38.83</td>\n",
              "      <td>0.0</td>\n",
              "      <td>0.0</td>\n",
              "      <td>186.0</td>\n",
              "      <td>0.0</td>\n",
              "      <td>26.0</td>\n",
              "      <td>20.0</td>\n",
              "      <td>2.0</td>\n",
              "      <td>0.0</td>\n",
              "      <td>4.0</td>\n",
              "      <td>1.0</td>\n",
              "      <td>0.0</td>\n",
              "      <td>0.0</td>\n",
              "      <td>1.0</td>\n",
              "      <td>0.0</td>\n",
              "      <td>0.0</td>\n",
              "      <td>1.0</td>\n",
              "      <td>0.0</td>\n",
              "      <td>0.0</td>\n",
              "    </tr>\n",
              "  </tbody>\n",
              "</table>\n",
              "</div>"
            ],
            "text/plain": [
              "                     mains_1  mains_2  ...  washer_dryer_19  washer_dryer_20\n",
              "2011-05-24 19:56:27   235.46    38.61  ...              0.0              0.0\n",
              "2011-05-24 19:56:30   235.98    38.77  ...              0.0              0.0\n",
              "2011-05-24 19:56:34   235.29    38.83  ...              0.0              0.0\n",
              "\n",
              "[3 rows x 20 columns]"
            ]
          },
          "metadata": {
            "tags": []
          }
        },
        {
          "output_type": "stream",
          "text": [
            "House 2 data has shape:  (316840, 11)\n"
          ],
          "name": "stdout"
        },
        {
          "output_type": "display_data",
          "data": {
            "text/html": [
              "<div>\n",
              "<style scoped>\n",
              "    .dataframe tbody tr th:only-of-type {\n",
              "        vertical-align: middle;\n",
              "    }\n",
              "\n",
              "    .dataframe tbody tr th {\n",
              "        vertical-align: top;\n",
              "    }\n",
              "\n",
              "    .dataframe thead th {\n",
              "        text-align: right;\n",
              "    }\n",
              "</style>\n",
              "<table border=\"1\" class=\"dataframe\">\n",
              "  <thead>\n",
              "    <tr style=\"text-align: right;\">\n",
              "      <th></th>\n",
              "      <th>mains_1</th>\n",
              "      <th>mains_2</th>\n",
              "      <th>kitchen_outlets_3</th>\n",
              "      <th>lighting_4</th>\n",
              "      <th>stove_5</th>\n",
              "      <th>microwave_6</th>\n",
              "      <th>washer_dryer_7</th>\n",
              "      <th>kitchen_outlets_8</th>\n",
              "      <th>refrigerator_9</th>\n",
              "      <th>dishwaser_10</th>\n",
              "      <th>disposal_11</th>\n",
              "    </tr>\n",
              "  </thead>\n",
              "  <tbody>\n",
              "    <tr>\n",
              "      <th>2011-05-22 23:59:01</th>\n",
              "      <td>10.84</td>\n",
              "      <td>252.61</td>\n",
              "      <td>0.0</td>\n",
              "      <td>9.0</td>\n",
              "      <td>0.0</td>\n",
              "      <td>5.0</td>\n",
              "      <td>0.0</td>\n",
              "      <td>2.0</td>\n",
              "      <td>158.0</td>\n",
              "      <td>0.0</td>\n",
              "      <td>0.0</td>\n",
              "    </tr>\n",
              "    <tr>\n",
              "      <th>2011-05-22 23:59:04</th>\n",
              "      <td>10.88</td>\n",
              "      <td>253.02</td>\n",
              "      <td>0.0</td>\n",
              "      <td>9.0</td>\n",
              "      <td>0.0</td>\n",
              "      <td>4.0</td>\n",
              "      <td>0.0</td>\n",
              "      <td>2.0</td>\n",
              "      <td>160.0</td>\n",
              "      <td>0.0</td>\n",
              "      <td>0.0</td>\n",
              "    </tr>\n",
              "    <tr>\n",
              "      <th>2011-05-22 23:59:08</th>\n",
              "      <td>10.84</td>\n",
              "      <td>252.77</td>\n",
              "      <td>0.0</td>\n",
              "      <td>9.0</td>\n",
              "      <td>0.0</td>\n",
              "      <td>4.0</td>\n",
              "      <td>0.0</td>\n",
              "      <td>2.0</td>\n",
              "      <td>157.0</td>\n",
              "      <td>0.0</td>\n",
              "      <td>0.0</td>\n",
              "    </tr>\n",
              "  </tbody>\n",
              "</table>\n",
              "</div>"
            ],
            "text/plain": [
              "                     mains_1  mains_2  ...  dishwaser_10  disposal_11\n",
              "2011-05-22 23:59:01    10.84   252.61  ...           0.0          0.0\n",
              "2011-05-22 23:59:04    10.88   253.02  ...           0.0          0.0\n",
              "2011-05-22 23:59:08    10.84   252.77  ...           0.0          0.0\n",
              "\n",
              "[3 rows x 11 columns]"
            ]
          },
          "metadata": {
            "tags": []
          }
        },
        {
          "output_type": "stream",
          "text": [
            "House 3 data has shape:  (376150, 22)\n"
          ],
          "name": "stdout"
        },
        {
          "output_type": "display_data",
          "data": {
            "text/html": [
              "<div>\n",
              "<style scoped>\n",
              "    .dataframe tbody tr th:only-of-type {\n",
              "        vertical-align: middle;\n",
              "    }\n",
              "\n",
              "    .dataframe tbody tr th {\n",
              "        vertical-align: top;\n",
              "    }\n",
              "\n",
              "    .dataframe thead th {\n",
              "        text-align: right;\n",
              "    }\n",
              "</style>\n",
              "<table border=\"1\" class=\"dataframe\">\n",
              "  <thead>\n",
              "    <tr style=\"text-align: right;\">\n",
              "      <th></th>\n",
              "      <th>mains_1</th>\n",
              "      <th>mains_2</th>\n",
              "      <th>outlets_unknown_3</th>\n",
              "      <th>outlets_unknown_4</th>\n",
              "      <th>lighting_5</th>\n",
              "      <th>electronics_6</th>\n",
              "      <th>refrigerator_7</th>\n",
              "      <th>disposal_8</th>\n",
              "      <th>dishwaser_9</th>\n",
              "      <th>furance_10</th>\n",
              "      <th>lighting_11</th>\n",
              "      <th>outlets_unknown_12</th>\n",
              "      <th>washer_dryer_13</th>\n",
              "      <th>washer_dryer_14</th>\n",
              "      <th>lighting_15</th>\n",
              "      <th>microwave_16</th>\n",
              "      <th>lighting_17</th>\n",
              "      <th>smoke_alarms_18</th>\n",
              "      <th>lighting_19</th>\n",
              "      <th>bathroom_gfi_20</th>\n",
              "      <th>kitchen_outlets_21</th>\n",
              "      <th>kitchen_outlets_22</th>\n",
              "    </tr>\n",
              "  </thead>\n",
              "  <tbody>\n",
              "    <tr>\n",
              "      <th>2011-05-31 00:19:30</th>\n",
              "      <td>15.45</td>\n",
              "      <td>2.23</td>\n",
              "      <td>0.0</td>\n",
              "      <td>1.0</td>\n",
              "      <td>1.0</td>\n",
              "      <td>1139.0</td>\n",
              "      <td>8.0</td>\n",
              "      <td>6.0</td>\n",
              "      <td>3.0</td>\n",
              "      <td>7.0</td>\n",
              "      <td>147.0</td>\n",
              "      <td>0.0</td>\n",
              "      <td>0.0</td>\n",
              "      <td>0.0</td>\n",
              "      <td>1.0</td>\n",
              "      <td>2.0</td>\n",
              "      <td>10.0</td>\n",
              "      <td>0.0</td>\n",
              "      <td>0.0</td>\n",
              "      <td>0.0</td>\n",
              "      <td>0.0</td>\n",
              "      <td>2.5</td>\n",
              "    </tr>\n",
              "    <tr>\n",
              "      <th>2011-05-31 00:19:33</th>\n",
              "      <td>15.42</td>\n",
              "      <td>2.23</td>\n",
              "      <td>0.0</td>\n",
              "      <td>1.0</td>\n",
              "      <td>1.0</td>\n",
              "      <td>1138.0</td>\n",
              "      <td>8.0</td>\n",
              "      <td>6.0</td>\n",
              "      <td>3.0</td>\n",
              "      <td>7.0</td>\n",
              "      <td>147.0</td>\n",
              "      <td>0.0</td>\n",
              "      <td>0.0</td>\n",
              "      <td>0.0</td>\n",
              "      <td>1.0</td>\n",
              "      <td>2.0</td>\n",
              "      <td>10.0</td>\n",
              "      <td>0.0</td>\n",
              "      <td>0.0</td>\n",
              "      <td>0.0</td>\n",
              "      <td>0.0</td>\n",
              "      <td>2.5</td>\n",
              "    </tr>\n",
              "    <tr>\n",
              "      <th>2011-05-31 00:19:36</th>\n",
              "      <td>15.44</td>\n",
              "      <td>2.23</td>\n",
              "      <td>0.0</td>\n",
              "      <td>1.0</td>\n",
              "      <td>1.0</td>\n",
              "      <td>1134.0</td>\n",
              "      <td>7.0</td>\n",
              "      <td>6.0</td>\n",
              "      <td>3.0</td>\n",
              "      <td>7.0</td>\n",
              "      <td>147.0</td>\n",
              "      <td>0.0</td>\n",
              "      <td>0.0</td>\n",
              "      <td>0.0</td>\n",
              "      <td>1.0</td>\n",
              "      <td>2.0</td>\n",
              "      <td>10.0</td>\n",
              "      <td>0.0</td>\n",
              "      <td>0.0</td>\n",
              "      <td>0.0</td>\n",
              "      <td>0.0</td>\n",
              "      <td>2.5</td>\n",
              "    </tr>\n",
              "  </tbody>\n",
              "</table>\n",
              "</div>"
            ],
            "text/plain": [
              "                     mains_1  mains_2  ...  kitchen_outlets_21  kitchen_outlets_22\n",
              "2011-05-31 00:19:30    15.45     2.23  ...                 0.0                 2.5\n",
              "2011-05-31 00:19:33    15.42     2.23  ...                 0.0                 2.5\n",
              "2011-05-31 00:19:36    15.44     2.23  ...                 0.0                 2.5\n",
              "\n",
              "[3 rows x 22 columns]"
            ]
          },
          "metadata": {
            "tags": []
          }
        },
        {
          "output_type": "stream",
          "text": [
            "House 4 data has shape:  (428076, 20)\n"
          ],
          "name": "stdout"
        },
        {
          "output_type": "display_data",
          "data": {
            "text/html": [
              "<div>\n",
              "<style scoped>\n",
              "    .dataframe tbody tr th:only-of-type {\n",
              "        vertical-align: middle;\n",
              "    }\n",
              "\n",
              "    .dataframe tbody tr th {\n",
              "        vertical-align: top;\n",
              "    }\n",
              "\n",
              "    .dataframe thead th {\n",
              "        text-align: right;\n",
              "    }\n",
              "</style>\n",
              "<table border=\"1\" class=\"dataframe\">\n",
              "  <thead>\n",
              "    <tr style=\"text-align: right;\">\n",
              "      <th></th>\n",
              "      <th>mains_1</th>\n",
              "      <th>mains_2</th>\n",
              "      <th>lighting_3</th>\n",
              "      <th>furance_4</th>\n",
              "      <th>kitchen_outlets_5</th>\n",
              "      <th>outlets_unknown_6</th>\n",
              "      <th>washer_dryer_7</th>\n",
              "      <th>stove_8</th>\n",
              "      <th>air_conditioning_9</th>\n",
              "      <th>air_conditioning_10</th>\n",
              "      <th>miscellaeneous_11</th>\n",
              "      <th>smoke_alarms_12</th>\n",
              "      <th>lighting_13</th>\n",
              "      <th>kitchen_outlets_14</th>\n",
              "      <th>dishwaser_15</th>\n",
              "      <th>bathroom_gfi_16</th>\n",
              "      <th>bathroom_gfi_17</th>\n",
              "      <th>lighting_18</th>\n",
              "      <th>lighting_19</th>\n",
              "      <th>air_conditioning_20</th>\n",
              "    </tr>\n",
              "  </thead>\n",
              "  <tbody>\n",
              "    <tr>\n",
              "      <th>2011-06-04 00:45:31</th>\n",
              "      <td>403.36</td>\n",
              "      <td>94.65</td>\n",
              "      <td>173.0</td>\n",
              "      <td>27.0</td>\n",
              "      <td>38.0</td>\n",
              "      <td>3.0</td>\n",
              "      <td>1.0</td>\n",
              "      <td>5.0</td>\n",
              "      <td>0.0</td>\n",
              "      <td>0.0</td>\n",
              "      <td>1.0</td>\n",
              "      <td>0.0</td>\n",
              "      <td>25.0</td>\n",
              "      <td>135.0</td>\n",
              "      <td>0.0</td>\n",
              "      <td>0.0</td>\n",
              "      <td>1.0</td>\n",
              "      <td>0.0</td>\n",
              "      <td>0.0</td>\n",
              "      <td>0.0</td>\n",
              "    </tr>\n",
              "    <tr>\n",
              "      <th>2011-06-04 00:45:35</th>\n",
              "      <td>401.11</td>\n",
              "      <td>94.63</td>\n",
              "      <td>174.0</td>\n",
              "      <td>27.0</td>\n",
              "      <td>34.0</td>\n",
              "      <td>4.0</td>\n",
              "      <td>1.0</td>\n",
              "      <td>5.0</td>\n",
              "      <td>0.0</td>\n",
              "      <td>0.0</td>\n",
              "      <td>1.0</td>\n",
              "      <td>0.0</td>\n",
              "      <td>25.0</td>\n",
              "      <td>135.0</td>\n",
              "      <td>0.0</td>\n",
              "      <td>0.0</td>\n",
              "      <td>1.0</td>\n",
              "      <td>0.0</td>\n",
              "      <td>0.0</td>\n",
              "      <td>0.0</td>\n",
              "    </tr>\n",
              "    <tr>\n",
              "      <th>2011-06-04 00:45:38</th>\n",
              "      <td>400.24</td>\n",
              "      <td>94.43</td>\n",
              "      <td>175.0</td>\n",
              "      <td>27.0</td>\n",
              "      <td>38.0</td>\n",
              "      <td>4.0</td>\n",
              "      <td>1.0</td>\n",
              "      <td>5.0</td>\n",
              "      <td>0.0</td>\n",
              "      <td>0.0</td>\n",
              "      <td>2.0</td>\n",
              "      <td>0.0</td>\n",
              "      <td>25.0</td>\n",
              "      <td>135.0</td>\n",
              "      <td>0.0</td>\n",
              "      <td>0.0</td>\n",
              "      <td>1.0</td>\n",
              "      <td>0.0</td>\n",
              "      <td>0.0</td>\n",
              "      <td>0.0</td>\n",
              "    </tr>\n",
              "  </tbody>\n",
              "</table>\n",
              "</div>"
            ],
            "text/plain": [
              "                     mains_1  mains_2  ...  lighting_19  air_conditioning_20\n",
              "2011-06-04 00:45:31   403.36    94.65  ...          0.0                  0.0\n",
              "2011-06-04 00:45:35   401.11    94.63  ...          0.0                  0.0\n",
              "2011-06-04 00:45:38   400.24    94.43  ...          0.0                  0.0\n",
              "\n",
              "[3 rows x 20 columns]"
            ]
          },
          "metadata": {
            "tags": []
          }
        },
        {
          "output_type": "stream",
          "text": [
            "House 5 data has shape:  (77451, 26)\n"
          ],
          "name": "stdout"
        },
        {
          "output_type": "display_data",
          "data": {
            "text/html": [
              "<div>\n",
              "<style scoped>\n",
              "    .dataframe tbody tr th:only-of-type {\n",
              "        vertical-align: middle;\n",
              "    }\n",
              "\n",
              "    .dataframe tbody tr th {\n",
              "        vertical-align: top;\n",
              "    }\n",
              "\n",
              "    .dataframe thead th {\n",
              "        text-align: right;\n",
              "    }\n",
              "</style>\n",
              "<table border=\"1\" class=\"dataframe\">\n",
              "  <thead>\n",
              "    <tr style=\"text-align: right;\">\n",
              "      <th></th>\n",
              "      <th>mains_1</th>\n",
              "      <th>mains_2</th>\n",
              "      <th>microwave_3</th>\n",
              "      <th>lighting_4</th>\n",
              "      <th>outlets_unknown_5</th>\n",
              "      <th>furance_6</th>\n",
              "      <th>outlets_unknown_7</th>\n",
              "      <th>washer_dryer_8</th>\n",
              "      <th>washer_dryer_9</th>\n",
              "      <th>subpanel_10</th>\n",
              "      <th>subpanel_11</th>\n",
              "      <th>electric_heat_12</th>\n",
              "      <th>electric_heat_13</th>\n",
              "      <th>lighting_14</th>\n",
              "      <th>outlets_unknown_15</th>\n",
              "      <th>bathroom_gfi_16</th>\n",
              "      <th>lighting_17</th>\n",
              "      <th>refrigerator_18</th>\n",
              "      <th>lighting_19</th>\n",
              "      <th>dishwaser_20</th>\n",
              "      <th>disposal_21</th>\n",
              "      <th>electronics_22</th>\n",
              "      <th>lighting_23</th>\n",
              "      <th>kitchen_outlets_24</th>\n",
              "      <th>kitchen_outlets_25</th>\n",
              "      <th>outdoor_outlets_26</th>\n",
              "    </tr>\n",
              "  </thead>\n",
              "  <tbody>\n",
              "    <tr>\n",
              "      <th>2011-06-01 00:20:07</th>\n",
              "      <td>151.68</td>\n",
              "      <td>37.39</td>\n",
              "      <td>3.0</td>\n",
              "      <td>0.0</td>\n",
              "      <td>3.0</td>\n",
              "      <td>7.0</td>\n",
              "      <td>0.0</td>\n",
              "      <td>0.0</td>\n",
              "      <td>0.0</td>\n",
              "      <td>12.5</td>\n",
              "      <td>5.0</td>\n",
              "      <td>0.0</td>\n",
              "      <td>0.0</td>\n",
              "      <td>3.0</td>\n",
              "      <td>0.0</td>\n",
              "      <td>1.0</td>\n",
              "      <td>0.0</td>\n",
              "      <td>0.0</td>\n",
              "      <td>2.0</td>\n",
              "      <td>0.0</td>\n",
              "      <td>0.0</td>\n",
              "      <td>5.0</td>\n",
              "      <td>115.0</td>\n",
              "      <td>0.0</td>\n",
              "      <td>0.0</td>\n",
              "      <td>0.0</td>\n",
              "    </tr>\n",
              "    <tr>\n",
              "      <th>2011-06-01 00:20:10</th>\n",
              "      <td>150.42</td>\n",
              "      <td>37.21</td>\n",
              "      <td>3.0</td>\n",
              "      <td>0.0</td>\n",
              "      <td>3.0</td>\n",
              "      <td>7.0</td>\n",
              "      <td>0.0</td>\n",
              "      <td>0.0</td>\n",
              "      <td>0.0</td>\n",
              "      <td>12.5</td>\n",
              "      <td>5.0</td>\n",
              "      <td>0.0</td>\n",
              "      <td>0.0</td>\n",
              "      <td>3.0</td>\n",
              "      <td>0.0</td>\n",
              "      <td>1.0</td>\n",
              "      <td>0.0</td>\n",
              "      <td>1.0</td>\n",
              "      <td>2.0</td>\n",
              "      <td>0.0</td>\n",
              "      <td>0.0</td>\n",
              "      <td>5.0</td>\n",
              "      <td>100.0</td>\n",
              "      <td>0.0</td>\n",
              "      <td>0.0</td>\n",
              "      <td>0.0</td>\n",
              "    </tr>\n",
              "    <tr>\n",
              "      <th>2011-06-01 00:20:14</th>\n",
              "      <td>149.29</td>\n",
              "      <td>37.10</td>\n",
              "      <td>3.0</td>\n",
              "      <td>0.0</td>\n",
              "      <td>3.0</td>\n",
              "      <td>7.0</td>\n",
              "      <td>0.0</td>\n",
              "      <td>0.0</td>\n",
              "      <td>0.0</td>\n",
              "      <td>12.5</td>\n",
              "      <td>5.0</td>\n",
              "      <td>0.0</td>\n",
              "      <td>0.0</td>\n",
              "      <td>3.0</td>\n",
              "      <td>0.0</td>\n",
              "      <td>1.0</td>\n",
              "      <td>0.0</td>\n",
              "      <td>0.0</td>\n",
              "      <td>2.0</td>\n",
              "      <td>0.0</td>\n",
              "      <td>0.0</td>\n",
              "      <td>5.0</td>\n",
              "      <td>97.5</td>\n",
              "      <td>0.0</td>\n",
              "      <td>0.0</td>\n",
              "      <td>0.0</td>\n",
              "    </tr>\n",
              "  </tbody>\n",
              "</table>\n",
              "</div>"
            ],
            "text/plain": [
              "                     mains_1  mains_2  ...  kitchen_outlets_25  outdoor_outlets_26\n",
              "2011-06-01 00:20:07   151.68    37.39  ...                 0.0                 0.0\n",
              "2011-06-01 00:20:10   150.42    37.21  ...                 0.0                 0.0\n",
              "2011-06-01 00:20:14   149.29    37.10  ...                 0.0                 0.0\n",
              "\n",
              "[3 rows x 26 columns]"
            ]
          },
          "metadata": {
            "tags": []
          }
        }
      ]
    },
    {
      "cell_type": "code",
      "metadata": {
        "id": "Ev5IOrq6gYHe"
      },
      "source": [
        ""
      ],
      "execution_count": null,
      "outputs": []
    },
    {
      "cell_type": "markdown",
      "metadata": {
        "id": "8qjxhxnJVkhp"
      },
      "source": [
        "# Preparing train data - house 1"
      ]
    },
    {
      "cell_type": "code",
      "metadata": {
        "id": "g6MQ_LzQ4zSU"
      },
      "source": [
        "df_list = [df_dic[1], df_dic[2]]\n",
        "dfs = add_houses(df_list, 'stove')"
      ],
      "execution_count": null,
      "outputs": []
    },
    {
      "cell_type": "code",
      "metadata": {
        "colab": {
          "base_uri": "https://localhost:8080/"
        },
        "id": "1wTb58dDRILz",
        "outputId": "b9aefc3d-b78c-4014-98eb-80085f6fe1e0"
      },
      "source": [
        "print(dfs.head())"
      ],
      "execution_count": null,
      "outputs": [
        {
          "output_type": "stream",
          "text": [
            "                     aggregate_mains  stove\n",
            "2011-04-18 13:22:13           341.03    0.0\n",
            "2011-04-18 13:22:16           342.36    0.0\n",
            "2011-04-18 13:22:20           342.52    0.0\n",
            "2011-04-18 13:22:23           342.07    0.0\n",
            "2011-04-18 13:22:26           341.77    0.0\n"
          ],
          "name": "stdout"
        }
      ]
    },
    {
      "cell_type": "code",
      "metadata": {
        "id": "Edrn0dG9jh-q"
      },
      "source": [
        "nmax= max_value(dfs)"
      ],
      "execution_count": null,
      "outputs": []
    },
    {
      "cell_type": "code",
      "metadata": {
        "colab": {
          "base_uri": "https://localhost:8080/"
        },
        "id": "GiLgjt5mZ0MH",
        "outputId": "ad04eca0-e3f1-406f-e891-f6c3942ae34e"
      },
      "source": [
        "df = preprocess_data(dfs, 'stove', nmax)\n",
        "print(df.head())\n"
      ],
      "execution_count": null,
      "outputs": [
        {
          "output_type": "stream",
          "text": [
            "                     aggregate_mains  stove\n",
            "2011-04-18 13:22:13         0.028594    0.0\n",
            "2011-04-18 13:22:16         0.028706    0.0\n",
            "2011-04-18 13:22:20         0.028719    0.0\n",
            "2011-04-18 13:22:23         0.028681    0.0\n",
            "2011-04-18 13:22:26         0.028656    0.0\n"
          ],
          "name": "stdout"
        }
      ]
    },
    {
      "cell_type": "markdown",
      "metadata": {
        "id": "A-PE_oVqfMJo"
      },
      "source": [
        "# Create window chunk and normalize dataframe"
      ]
    },
    {
      "cell_type": "code",
      "metadata": {
        "id": "bmzqbrmUVI4R"
      },
      "source": [
        "sequence_length = window_size\n",
        "\n",
        "x = create_window_chunk(df['aggregate_mains'], sequence_length)\n",
        "\n",
        "y = df['stove'][sequence_length:]"
      ],
      "execution_count": null,
      "outputs": []
    },
    {
      "cell_type": "code",
      "metadata": {
        "id": "-rCIiyxuehQw"
      },
      "source": [
        "x = np.array(x)\n",
        "y = np.array(y)"
      ],
      "execution_count": null,
      "outputs": []
    },
    {
      "cell_type": "code",
      "metadata": {
        "colab": {
          "base_uri": "https://localhost:8080/"
        },
        "id": "vCf2OICifV3G",
        "outputId": "1b6b24cb-3d6f-400c-84b3-b0789a818dda"
      },
      "source": [
        "x.shape"
      ],
      "execution_count": null,
      "outputs": [
        {
          "output_type": "execute_result",
          "data": {
            "text/plain": [
              "(723538, 50)"
            ]
          },
          "metadata": {
            "tags": []
          },
          "execution_count": 18
        }
      ]
    },
    {
      "cell_type": "code",
      "metadata": {
        "colab": {
          "base_uri": "https://localhost:8080/"
        },
        "id": "LWzGzrfXt5dj",
        "outputId": "9cacfae5-c004-431d-83e3-a088eeb0ab07"
      },
      "source": [
        "y.shape\n"
      ],
      "execution_count": null,
      "outputs": [
        {
          "output_type": "execute_result",
          "data": {
            "text/plain": [
              "(723538,)"
            ]
          },
          "metadata": {
            "tags": []
          },
          "execution_count": 19
        }
      ]
    },
    {
      "cell_type": "markdown",
      "metadata": {
        "id": "8kqkAlDKNSLB"
      },
      "source": [
        "## reshape"
      ]
    },
    {
      "cell_type": "code",
      "metadata": {
        "id": "3rcs9TDg1Qdo"
      },
      "source": [
        "x_train = np.reshape(x, (x.shape[0], x.shape[1], 1))"
      ],
      "execution_count": null,
      "outputs": []
    },
    {
      "cell_type": "code",
      "metadata": {
        "colab": {
          "base_uri": "https://localhost:8080/"
        },
        "id": "r6BJz9sh1Wq7",
        "outputId": "cdf17339-52f5-4577-d314-3f87412c9755"
      },
      "source": [
        "x_train.shape"
      ],
      "execution_count": null,
      "outputs": [
        {
          "output_type": "execute_result",
          "data": {
            "text/plain": [
              "(723538, 50, 1)"
            ]
          },
          "metadata": {
            "tags": []
          },
          "execution_count": 21
        }
      ]
    },
    {
      "cell_type": "markdown",
      "metadata": {
        "id": "co3If9FC06WC"
      },
      "source": [
        "# Model"
      ]
    },
    {
      "cell_type": "code",
      "metadata": {
        "colab": {
          "base_uri": "https://localhost:8080/"
        },
        "id": "eoAfpSrgTTry",
        "outputId": "a1622fd8-045f-4e75-a466-0f62c543fbf7"
      },
      "source": [
        "model = _create_model(window_size)"
      ],
      "execution_count": null,
      "outputs": [
        {
          "output_type": "stream",
          "text": [
            "Model: \"sequential\"\n",
            "_________________________________________________________________\n",
            "Layer (type)                 Output Shape              Param #   \n",
            "=================================================================\n",
            "conv1d (Conv1D)              (None, 50, 16)            80        \n",
            "_________________________________________________________________\n",
            "bidirectional (Bidirectional (None, 50, 128)           31488     \n",
            "_________________________________________________________________\n",
            "dropout (Dropout)            (None, 50, 128)           0         \n",
            "_________________________________________________________________\n",
            "bidirectional_1 (Bidirection (None, 256)               198144    \n",
            "_________________________________________________________________\n",
            "dropout_1 (Dropout)          (None, 256)               0         \n",
            "_________________________________________________________________\n",
            "dense (Dense)                (None, 128)               32896     \n",
            "_________________________________________________________________\n",
            "dropout_2 (Dropout)          (None, 128)               0         \n",
            "_________________________________________________________________\n",
            "dense_1 (Dense)              (None, 1)                 129       \n",
            "=================================================================\n",
            "Total params: 262,737\n",
            "Trainable params: 262,737\n",
            "Non-trainable params: 0\n",
            "_________________________________________________________________\n",
            "None\n"
          ],
          "name": "stdout"
        }
      ]
    },
    {
      "cell_type": "code",
      "metadata": {
        "colab": {
          "background_save": true,
          "base_uri": "https://localhost:8080/"
        },
        "id": "VMh1wnlfTTur",
        "outputId": "42a871e0-033d-4180-bb31-195c0fcbb740"
      },
      "source": [
        "start = time.time()\n",
        "model.fit(x_train, y, epochs=10, batch_size=256)\n",
        "print('Finish trainning. Time: ', time.time() - start)"
      ],
      "execution_count": null,
      "outputs": [
        {
          "output_type": "stream",
          "text": [
            "Epoch 1/10\n",
            "2827/2827 [==============================] - 1892s 667ms/step - loss: 1.3021e-06\n",
            "Epoch 2/10\n",
            "2827/2827 [==============================] - 1902s 673ms/step - loss: 1.1191e-06\n",
            "Epoch 3/10\n",
            "2827/2827 [==============================] - 1897s 671ms/step - loss: 1.1522e-06\n",
            "Epoch 4/10\n",
            "2827/2827 [==============================] - 1898s 672ms/step - loss: 1.0579e-06\n",
            "Epoch 5/10\n",
            "2827/2827 [==============================] - 1926s 681ms/step - loss: 1.1364e-06\n",
            "Epoch 6/10\n",
            "2827/2827 [==============================] - 1906s 674ms/step - loss: 1.0457e-06\n",
            "Epoch 7/10\n",
            "2827/2827 [==============================] - 1920s 679ms/step - loss: 1.2093e-06\n",
            "Epoch 8/10\n",
            "2827/2827 [==============================] - 1926s 681ms/step - loss: 1.1018e-06\n",
            "Epoch 9/10\n",
            "2827/2827 [==============================] - 1926s 681ms/step - loss: 1.1312e-06\n",
            "Epoch 10/10\n",
            "2827/2827 [==============================] - 1917s 678ms/step - loss: 1.0790e-06\n",
            "Finish trainning. Time:  19109.954473018646\n"
          ],
          "name": "stdout"
        }
      ]
    },
    {
      "cell_type": "code",
      "metadata": {
        "colab": {
          "background_save": true
        },
        "id": "HdjFvsavJEx6"
      },
      "source": [
        "model.save(\"refrigerator_train_1_2_epochs_10_batch_256_model.h5\")"
      ],
      "execution_count": null,
      "outputs": []
    },
    {
      "cell_type": "markdown",
      "metadata": {
        "id": "bvtvRtIrPlKv"
      },
      "source": [
        "# Preparing test data - house 4\n",
        "\n",
        "\n",
        "\n"
      ]
    },
    {
      "cell_type": "code",
      "metadata": {
        "colab": {
          "background_save": true
        },
        "id": "bghgAaEvPksA",
        "outputId": "013c9e87-9dec-4830-c401-20fce7729db9"
      },
      "source": [
        "df_list = [df_dic[4]]\n",
        "dfs_test = add_houses(df_list, 'stove')\n"
      ],
      "execution_count": null,
      "outputs": [
        {
          "output_type": "stream",
          "text": [
            "true\n"
          ],
          "name": "stdout"
        }
      ]
    },
    {
      "cell_type": "code",
      "metadata": {
        "colab": {
          "background_save": true
        },
        "id": "9pyyrIQO4YUW",
        "outputId": "a2691daa-16ac-479b-c314-3862ab927a18"
      },
      "source": [
        "df_test = preprocess_data(dfs_test, \"stove\", nmax)\n",
        "\n",
        "print(df_test.head())"
      ],
      "execution_count": null,
      "outputs": [
        {
          "output_type": "stream",
          "text": [
            "                     aggregate_mains     stove\n",
            "2011-04-17 01:16:32         0.046022  0.000419\n",
            "2011-04-17 01:16:35         0.046029  0.000419\n",
            "2011-04-17 01:16:38         0.046074  0.000419\n",
            "2011-04-17 01:16:42         0.046055  0.000419\n",
            "2011-04-17 01:16:45         0.046117  0.000419\n"
          ],
          "name": "stdout"
        }
      ]
    },
    {
      "cell_type": "code",
      "metadata": {
        "colab": {
          "background_save": true
        },
        "id": "u3f42TZUR4KK"
      },
      "source": [
        "sequence_length = window_size\n",
        "\n",
        "x_test = create_window_chunk(df_test['aggregate_mains'], sequence_length)\n",
        "\n",
        "y_test = df_test['stove'][sequence_length:]\n"
      ],
      "execution_count": null,
      "outputs": []
    },
    {
      "cell_type": "code",
      "metadata": {
        "colab": {
          "background_save": true
        },
        "id": "ZRjgFLj7SThV"
      },
      "source": [
        "x_test = np.array(x_test)\n",
        "y_test = np.array(y_test)"
      ],
      "execution_count": null,
      "outputs": []
    },
    {
      "cell_type": "code",
      "metadata": {
        "colab": {
          "background_save": true
        },
        "id": "yIZOZB0FSTV0",
        "outputId": "31b01bda-49fa-4262-fc38-43ba64eb9aaf"
      },
      "source": [
        "x_test.shape"
      ],
      "execution_count": null,
      "outputs": [
        {
          "output_type": "execute_result",
          "data": {
            "text/plain": [
              "(428026, 50)"
            ]
          },
          "metadata": {
            "tags": []
          },
          "execution_count": 0
        }
      ]
    },
    {
      "cell_type": "code",
      "metadata": {
        "colab": {
          "background_save": true
        },
        "id": "Trdil0G-SVTy",
        "outputId": "d27d7992-8782-4a50-ced7-61984817861e"
      },
      "source": [
        "y_test.shape"
      ],
      "execution_count": null,
      "outputs": [
        {
          "output_type": "execute_result",
          "data": {
            "text/plain": [
              "(428026,)"
            ]
          },
          "metadata": {
            "tags": []
          },
          "execution_count": 0
        }
      ]
    },
    {
      "cell_type": "code",
      "metadata": {
        "colab": {
          "background_save": true
        },
        "id": "GxMQxvmxSv8t"
      },
      "source": [
        "x_test = np.reshape(x_test, (x_test.shape[0], x_test.shape[1], 1))"
      ],
      "execution_count": null,
      "outputs": []
    },
    {
      "cell_type": "code",
      "metadata": {
        "id": "35SdwMnFTTx_"
      },
      "source": [
        "pred_test = model.predict(x_test, batch_size=256)"
      ],
      "execution_count": null,
      "outputs": []
    },
    {
      "cell_type": "code",
      "metadata": {
        "colab": {
          "background_save": true
        },
        "id": "zFAqfMYNBtbQ",
        "outputId": "9cf58cf5-f8a0-42cc-be8f-1c97bcf81d3e"
      },
      "source": [
        "print(pred_test)\n",
        "print(\"-------------------\")\n",
        "pred_test.shape"
      ],
      "execution_count": null,
      "outputs": [
        {
          "output_type": "stream",
          "text": [
            "[[0.00021223]\n",
            " [0.00021223]\n",
            " [0.00021223]\n",
            " ...\n",
            " [0.00021223]\n",
            " [0.00021223]\n",
            " [0.00021223]]\n",
            "-------------------\n"
          ],
          "name": "stdout"
        },
        {
          "output_type": "execute_result",
          "data": {
            "text/plain": [
              "(428026, 1)"
            ]
          },
          "metadata": {
            "tags": []
          },
          "execution_count": 0
        }
      ]
    },
    {
      "cell_type": "code",
      "metadata": {
        "colab": {
          "background_save": true
        },
        "id": "Z-cPoLNx_SK-"
      },
      "source": [
        "pred_test = np.reshape(pred_test, (len(pred_test)))"
      ],
      "execution_count": null,
      "outputs": []
    },
    {
      "cell_type": "code",
      "metadata": {
        "colab": {
          "background_save": true
        },
        "id": "Y71hM-hlCENP",
        "outputId": "fab701aa-f897-422f-a784-a14466c089e3"
      },
      "source": [
        "pred_test"
      ],
      "execution_count": null,
      "outputs": [
        {
          "output_type": "execute_result",
          "data": {
            "text/plain": [
              "array([0.00021223, 0.00021223, 0.00021223, ..., 0.00021223, 0.00021223,\n",
              "       0.00021223], dtype=float32)"
            ]
          },
          "metadata": {
            "tags": []
          },
          "execution_count": 0
        }
      ]
    },
    {
      "cell_type": "code",
      "metadata": {
        "colab": {
          "background_save": true
        },
        "id": "a4TmhJWVFlrK",
        "outputId": "936f5efe-9fad-42fd-faf5-65c12e6f2c59"
      },
      "source": [
        "max(pred_test)"
      ],
      "execution_count": null,
      "outputs": [
        {
          "output_type": "execute_result",
          "data": {
            "text/plain": [
              "0.00021223343"
            ]
          },
          "metadata": {
            "tags": []
          },
          "execution_count": 0
        }
      ]
    },
    {
      "cell_type": "code",
      "metadata": {
        "colab": {
          "background_save": true
        },
        "id": "vYM4Q-cwEGA7",
        "outputId": "0d592fd8-d1cf-4a01-875b-590d9ec056a8"
      },
      "source": [
        "pred_test.shape"
      ],
      "execution_count": null,
      "outputs": [
        {
          "output_type": "execute_result",
          "data": {
            "text/plain": [
              "(428026,)"
            ]
          },
          "metadata": {
            "tags": []
          },
          "execution_count": 0
        }
      ]
    },
    {
      "cell_type": "code",
      "metadata": {
        "id": "-8UKv4W4Dtfy"
      },
      "source": [
        "max(y_test)"
      ],
      "execution_count": null,
      "outputs": []
    },
    {
      "cell_type": "code",
      "metadata": {
        "id": "XhvFEkX2ECRP"
      },
      "source": [
        "y_test.shape"
      ],
      "execution_count": null,
      "outputs": []
    },
    {
      "cell_type": "markdown",
      "metadata": {
        "id": "6EUnUVO_Lg5V"
      },
      "source": [
        "## Denormalized the data"
      ]
    },
    {
      "cell_type": "code",
      "metadata": {
        "id": "BmyHiG-VLerG"
      },
      "source": [
        "y_test_d = y_test * nmax"
      ],
      "execution_count": null,
      "outputs": []
    },
    {
      "cell_type": "code",
      "metadata": {
        "id": "lAWUeoSqLxh3"
      },
      "source": [
        "max(y_test_d)"
      ],
      "execution_count": null,
      "outputs": []
    },
    {
      "cell_type": "code",
      "metadata": {
        "id": "f7VXU47TL4bd"
      },
      "source": [
        "y_pred_d = pred_test* nmax"
      ],
      "execution_count": null,
      "outputs": []
    },
    {
      "cell_type": "code",
      "metadata": {
        "id": "Fy-TZw8WL_kL"
      },
      "source": [
        "max(y_pred_d)"
      ],
      "execution_count": null,
      "outputs": []
    },
    {
      "cell_type": "code",
      "metadata": {
        "id": "MlpDWABEkoK2"
      },
      "source": [
        "plt.plot(y_pred_d, color='red', label=\"predicted stove\")\n",
        "plt.plot(y_test_d, color='green', label=\"ground stove\")\n",
        "plt.show"
      ],
      "execution_count": null,
      "outputs": []
    },
    {
      "cell_type": "code",
      "metadata": {
        "id": "W8mB4uOhMDGE"
      },
      "source": [
        "# on denormalized data\n",
        "\n",
        "mean_absolute_error(y_test_d, y_pred_d)"
      ],
      "execution_count": null,
      "outputs": []
    },
    {
      "cell_type": "code",
      "metadata": {
        "id": "hgw7WjR9OEVB"
      },
      "source": [
        "math.sqrt(mean_squared_error(y_test_d, y_pred_d))"
      ],
      "execution_count": null,
      "outputs": []
    },
    {
      "cell_type": "code",
      "metadata": {
        "id": "wKwx13mfko61"
      },
      "source": [
        "plt.plot(y_pred_d[50000:100000], color='red')\n",
        "plt.plot(y_test_d[50000:100000], color='green')\n",
        "plt.show"
      ],
      "execution_count": null,
      "outputs": []
    }
  ]
}