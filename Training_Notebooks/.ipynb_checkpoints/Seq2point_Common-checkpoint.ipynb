{
 "cells": [
  {
   "cell_type": "markdown",
   "metadata": {},
   "source": [
    "**Code for training and testing Seq2point on any appliance**\n",
    "\n",
    "<br>*This notebook is created in google colab. You might find indent mismatch if you open this notebook in Jupyter Notebooks.* "
   ]
  },
  {
   "cell_type": "code",
   "execution_count": null,
   "metadata": {
    "id": "SPwo500t1Qcl"
   },
   "outputs": [],
   "source": [
    "from google.colab import drive\n",
    "drive.mount('/content/drive')"
   ]
  },
  {
   "cell_type": "code",
   "execution_count": null,
   "metadata": {
    "id": "KJvAH1hR1bbd"
   },
   "outputs": [],
   "source": [
    "path = \"/content/drive/MyDrive/energy_disaggregation/seq2point-nilm\""
   ]
  },
  {
   "cell_type": "code",
   "execution_count": null,
   "metadata": {
    "colab": {
     "base_uri": "https://localhost:8080/"
    },
    "executionInfo": {
     "elapsed": 900,
     "status": "ok",
     "timestamp": 1618939383736,
     "user": {
      "displayName": "Price CSI",
      "photoUrl": "",
      "userId": "03164941046315396543"
     },
     "user_tz": 420
    },
    "id": "JJguVG653BjO",
    "outputId": "13321265-ad99-4c0d-b48c-e3482fe9cc25"
   },
   "outputs": [],
   "source": [
    "#This is to import all the necessary functions - from seq2point_train_sm.py, data_feeder.py,appliance_data.py,seq2point_test.py \n",
    "!cp \"/content/drive/MyDrive/energy_disaggregation/seq2point-nilm/seq2point_train_sm.py\" .\n",
    "!cp \"/content/drive/MyDrive/energy_disaggregation/seq2point-nilm/data_feeder.py\" .\n",
    "!cp \"/content/drive/MyDrive/energy_disaggregation/seq2point-nilm/seq2point_test.py\" .\n",
    "!cp \"/content/drive/MyDrive/energy_disaggregation/seq2point-nilm/appliance_data.py\" ."
   ]
  },
  {
   "cell_type": "code",
   "execution_count": null,
   "metadata": {
    "id": "f01wUtI8OhQh"
   },
   "outputs": [],
   "source": [
    "#model_structure.py\n",
    "#Added more drop out layers : used Sequential() from keras\n",
    "\n",
    "import tensorflow as tf \n",
    "import os\n",
    "\n",
    "def create_model(input_window_length):\n",
    "\n",
    "    \"\"\"Specifies the structure of a seq2point model using Keras' functional API.\n",
    "\n",
    "    Returns:\n",
    "    model (tensorflow.keras.Model): The uncompiled seq2point model.\n",
    "\n",
    "    \"\"\"\n",
    "    from tensorflow.keras.layers import Conv1D, Dense, Dropout, Reshape, Flatten, Conv2D, Input\n",
    "    from tensorflow.keras.models import Sequential\n",
    "    model = Sequential()\n",
    "    model.add(Input(shape=(input_window_length,)))\n",
    "    model.add(Reshape((1, input_window_length, 1)))\n",
    "    model.add(Dropout(0.2))\n",
    "    model.add(Conv2D(30,kernel_size=(10, 1), strides=(1, 1),activation=\"relu\",input_shape=(1, input_window_length, 1), padding=\"same\"))\n",
    "    model.add(Conv2D(30, kernel_size=(8, 1), activation='relu', strides=(1, 1), padding=\"same\"))\n",
    "    model.add(Conv2D(40, kernel_size=(6, 1), activation='relu', strides=(1, 1), padding=\"same\"))\n",
    "    model.add(Conv2D(60, kernel_size=(5, 1), activation='relu', strides=(1, 1), padding=\"same\"))\n",
    "    model.add(Dropout(.5))\n",
    "    model.add(Conv2D(60, kernel_size=(5, 1), activation='relu', strides=(1, 1), padding=\"same\"))\n",
    "    model.add(Dropout(.5))\n",
    "    model.add(Flatten())\n",
    "    model.add(Dense(1024, activation='relu'))\n",
    "    model.add(Dropout(.5))\n",
    "    model.add(Dense(1))\n",
    "    \n",
    "    return model\n",
    "\n",
    "def save_model(model, network_type, algorithm, appliance, save_model_dir):\n",
    "\n",
    "    \"\"\" Saves a model to a specified location. Models are named using a combination of their \n",
    "    target appliance, architecture, and pruning algorithm.\n",
    "\n",
    "    Parameters:\n",
    "    model (tensorflow.keras.Model): The Keras model to save.\n",
    "    network_type (string): The architecture of the model ('', 'reduced', 'dropout', or 'reduced_dropout').\n",
    "    algorithm (string): The pruning algorithm applied to the model.\n",
    "    appliance (string): The appliance the model was trained with.\n",
    "\n",
    "    \"\"\"\n",
    "    \n",
    "    model_path = save_model_dir\n",
    "    model.save(model_path)\n",
    "    \n",
    "\n",
    "def load_model(model, network_type, algorithm, appliance, saved_model_dir):\n",
    "\n",
    "    \"\"\" Loads a model from a specified location.\n",
    "\n",
    "    Parameters:\n",
    "    model (tensorflow.keras.Model): The Keas model to which the loaded weights will be applied to.\n",
    "    network_type (string): The architecture of the model ('', 'reduced', 'dropout', or 'reduced_dropout').\n",
    "    algorithm (string): The pruning algorithm applied to the model.\n",
    "    appliance (string): The appliance the model was trained with.\n",
    "\n",
    "    \"\"\"\n",
    "\n",
    "    model_name = saved_model_dir\n",
    "    print(\"PATH NAME: \", model_name)\n",
    "\n",
    "    model = tf.keras.models.load_model(model_name)\n",
    "    num_of_weights = model.count_params()\n",
    "    print(\"Loaded model with \", str(num_of_weights), \" weights\")\n",
    "    return model\n",
    "\n"
   ]
  },
  {
   "cell_type": "code",
   "execution_count": null,
   "metadata": {
    "id": "9FxDhC-NO7w1"
   },
   "outputs": [],
   "source": [
    "#seq2point_train_sm\n",
    "# Be careful with the skiprows parameter. Shouldn't be too high else all the data gets skipped \n",
    "\n",
    "\n",
    "import tensorflow as tf \n",
    "import numpy as np\n",
    "import matplotlib.pyplot as plt\n",
    "\n",
    "from data_feeder import TrainSlidingWindowGenerator\n",
    "\n",
    "class Trainer():\n",
    "\n",
    "    \"\"\" Used to train a seq2point model with or without pruning applied Supports \n",
    "    various alternative architectures. \n",
    "    \n",
    "    Parameters:\n",
    "    __appliance (string): The target appliance.\n",
    "    __network_type (string): The architecture of the model.\n",
    "    __batch_size (int): The number of rows per testing batch.\n",
    "    __window_size (int): The size of eaech sliding window\n",
    "    __window_offset (int): The offset of the inferred value from the sliding window.\n",
    "    __max_chunk_size (int): The largest possible number of row per chunk.\n",
    "    __validation_frequency (int): The number of epochs between model validation.\n",
    "    __training_directory (string): The directory of the model's training file.\n",
    "    __validation_directory (string): The directory of the model's validation file.\n",
    "    __training_chunker (TrainSlidingWindowGenerator): A sliding window provider \n",
    "    that returns feature / target pairs. For training use only.\n",
    "    __validation_chunker (TrainSlidingWindowGenerator): A sliding window provider \n",
    "    that returns feature / target pairs. For validation use only.\n",
    "    \n",
    "    \"\"\"\n",
    "\n",
    "    def __init__(self, appliance, batch_size, crop, network_type, \n",
    "                 training_directory, validation_directory, save_model_dir,\n",
    "                 epochs=10, input_window_length=599, validation_frequency = 1,\n",
    "                 patience=3, min_delta=1e-6, verbose=1):\n",
    "        self.__appliance = appliance\n",
    "        self.__algorithm = network_type\n",
    "        self.__network_type = network_type\n",
    "        self.__crop = crop\n",
    "        self.__batch_size = batch_size\n",
    "        self.__epochs = epochs\n",
    "        self.__patience = patience\n",
    "        self.__min_delta = min_delta\n",
    "        self.__verbose = verbose\n",
    "        self.__loss = \"mse\"\n",
    "        self.__metrics = [\"mse\", \"msle\", \"mae\"]\n",
    "        self.__learning_rate = 0.001\n",
    "        self.__beta_1=0.9\n",
    "        self.__beta_2=0.999\n",
    "        self.__save_model_dir = save_model_dir\n",
    "\n",
    "        self.__input_window_length = input_window_length\n",
    "        self.__window_size = 2+self.__input_window_length\n",
    "        self.__window_offset =  int((0.5 * self.__window_size) - 1)\n",
    "        self.__max_chunk_size = 5 * 10 ** 2\n",
    "        self.__validation_frequency = validation_frequency\n",
    "        self.__ram_threshold=5*10**5\n",
    "        self.__skip_rows_train= 0 \n",
    "        self.__validation_steps=100\n",
    "        self.__skip_rows_val = 0\n",
    "\n",
    "        # Directories of the training and validation files. Always has the structure \n",
    "        # ./dataset_management/refit/{appliance_name}/{appliance_name}_training_.csv for training or \n",
    "        # ./dataset_management/refit/{appliance_name}/{appliance_name}_validation_.csv\n",
    "        self.__training_directory = training_directory\n",
    "        self.__validation_directory = validation_directory\n",
    "\n",
    "        self.__training_chunker = TrainSlidingWindowGenerator(file_name=self.__training_directory, \n",
    "                                        chunk_size=self.__max_chunk_size, \n",
    "                                        batch_size=self.__batch_size, \n",
    "                                        crop=self.__crop, shuffle=True,\n",
    "                                        skip_rows=self.__skip_rows_train, \n",
    "                                        offset=self.__window_offset, \n",
    "                                        ram_threshold=self.__ram_threshold)\n",
    "        \n",
    "        self.__validation_chunker = TrainSlidingWindowGenerator(file_name=self.__validation_directory, \n",
    "                                            chunk_size=self.__max_chunk_size, \n",
    "                                            batch_size=self.__batch_size, \n",
    "                                            crop=self.__crop, \n",
    "                                            shuffle=True,\n",
    "                                            skip_rows=self.__skip_rows_val, \n",
    "                                            offset=self.__window_offset, \n",
    "                                            ram_threshold=self.__ram_threshold)\n",
    "\n",
    "    def train_model(self):\n",
    "\n",
    "        \"\"\" Trains an energy disaggregation model using a user-selected pruning algorithm (default is no pruning). \n",
    "        Plots and saves the resulting model. \"\"\"\n",
    "\n",
    "        # Calculate the optimum steps per epoch.\n",
    "        # self.__training_chunker.check_if_chunking()\n",
    "        steps_per_training_epoch = np.round(int(self.__training_chunker.total_num_samples / self.__batch_size), decimals=0)\n",
    "        \n",
    "        model = create_model(self.__input_window_length)\n",
    "\n",
    "        model.compile(optimizer=tf.keras.optimizers.Adam(learning_rate=self.__learning_rate, beta_1=self.__beta_1, beta_2=self.__beta_2), loss=self.__loss, metrics=self.__metrics) \n",
    "        early_stopping = tf.keras.callbacks.EarlyStopping(monitor=\"val_loss\", min_delta=self.__min_delta, patience=self.__patience, verbose=self.__verbose, mode=\"auto\")\n",
    "\n",
    "        ## can use checkpoint ###############################################\n",
    "        # checkpoint_filepath = \"checkpoint/housedata/refit/\"+ self.__appliance + \"/\"\n",
    "        # model_checkpoint_callback = tf.keras.callbacks.ModelCheckpoint(\n",
    "        #     filepath = checkpoint_filepath,\n",
    "        #     monitor='val_loss',\n",
    "        #     verbose=0,\n",
    "        #     save_best_only=True,\n",
    "        #     save_weights_only=False,\n",
    "        #     mode='auto',\n",
    "        #     save_freq='epoch')        \n",
    "        #callbacks=[early_stopping, model_checkpoint_callback]\n",
    "        ###################################################################\n",
    "\n",
    "        callbacks=[early_stopping]\n",
    "        \n",
    "        training_history = self.default_train(model, callbacks, steps_per_training_epoch)\n",
    "\n",
    "        training_history.history[\"val_loss\"] = np.repeat(training_history.history[\"val_loss\"], self.__validation_frequency)\n",
    "\n",
    "        model.summary()\n",
    "        save_model(model, self.__network_type, self.__algorithm, self.__appliance, self.__save_model_dir)\n",
    "        \n",
    "        print(\"SAVED\")\n",
    "\n",
    "        self.plot_training_results(training_history)\n",
    "        return model \n",
    "\n",
    "    def default_train(self, model, callbacks, steps_per_training_epoch):\n",
    "\n",
    "        \"\"\" The default training method the neural network will use. No pruning occurs.\n",
    "\n",
    "        Parameters:\n",
    "        model (tensorflow.keras.Model): The seq2point model being trained.\n",
    "        early_stopping (tensorflow.keras.callbacks.EarlyStopping): An early stopping callback to \n",
    "        prevent overfitting.\n",
    "        steps_per_training_epoch (int): The number of training steps to occur per epoch.\n",
    "\n",
    "        Returns:\n",
    "        training_history (numpy.ndarray): The error metrics and loss values that were calculated \n",
    "        at the end of each training epoch.\n",
    "\n",
    "        \"\"\"\n",
    " \n",
    "        #data = TrainSlidingWindowGenerator()\n",
    "        training_history = model.fit(self.__training_chunker.load_dataset(),                            \n",
    "                                      steps_per_epoch=steps_per_training_epoch,\n",
    "                                      epochs = self.__epochs,\n",
    "                                      verbose = self.__verbose,\n",
    "                                      callbacks=callbacks,\n",
    "                                      validation_data = self.__validation_chunker.load_dataset(),\n",
    "                                      validation_freq=self.__validation_frequency,\n",
    "                                      validation_steps=self.__validation_steps)\n",
    "     \n",
    "        return training_history\n",
    "\n",
    "    def plot_training_results(self, training_history):\n",
    "\n",
    "        \"\"\" Plots and saves a graph of training loss against epoch.\n",
    "\n",
    "        Parameters:\n",
    "        training_history (numpy.ndarray): A timeseries of loss against epoch count.\n",
    "\n",
    "        \"\"\"\n",
    "\n",
    "        plt.plot(training_history.history[\"loss\"], label=\"MSE (Training Loss)\")\n",
    "        plt.plot(training_history.history[\"val_loss\"], label=\"MSE (Validation Loss)\")\n",
    "        plt.title('Training History')\n",
    "        plt.ylabel('Loss')\n",
    "        plt.xlabel('Epoch')\n",
    "        plt.legend()\n",
    "\n",
    "      \n"
   ]
  },
  {
   "cell_type": "code",
   "execution_count": null,
   "metadata": {
    "id": "unRwydos1ylJ"
   },
   "outputs": [],
   "source": [
    "import pandas as pd\n",
    "import os\n",
    "import argparse\n",
    "import tensorflow as tf \n",
    "import numpy as np\n",
    "import matplotlib.pyplot as plt\n",
    "\n",
    "from data_feeder import TrainSlidingWindowGenerator\n"
   ]
  },
  {
   "cell_type": "code",
   "execution_count": null,
   "metadata": {
    "id": "ETecGTm_2KgD"
   },
   "outputs": [],
   "source": [
    "def remove_space(string):\n",
    "    return string.replace(\" \",\"\")"
   ]
  },
  {
   "cell_type": "code",
   "execution_count": 27,
   "metadata": {
    "executionInfo": {
     "elapsed": 758,
     "status": "ok",
     "timestamp": 1618940304785,
     "user": {
      "displayName": "Price CSI",
      "photoUrl": "",
      "userId": "03164941046315396543"
     },
     "user_tz": 420
    },
    "id": "2353ahbg3q3t"
   },
   "outputs": [],
   "source": [
    "#Input filepaths for training data and validation data and directory to save the trained model \n",
    "training_directory=\"/content/drive/MyDrive/energy_disaggregation/seq2point-nilm/training_dir/dishwasher/dishwasher_training_234.csv\"  #data from houses 2,3,4   #has 504544 rows\n",
    "validation_directory=\"/content/drive/MyDrive/energy_disaggregation/seq2point-nilm/validation_dir/dishwasher/REDDdishwasher_validation_.csv\"\n",
    "save_model_dir = os.path.join(path, \"saved_models/\" + arguments.appliance_name + \"_\" + arguments.network_type + \"_model.h5\")\n",
    "\n",
    "\n",
    "parser = argparse.ArgumentParser(description=\"Train sequence-to-point learning for energy disaggregation.\")\n",
    "parser.add_argument(\"-f\", \"--fff\", help=\"a dummy argument to fool ipython\", default=\"1\")\n",
    "parser.add_argument(\"--appliance_name\", type=remove_space, default=\"dishwasher\", help=\"The name of the appliance to train the network with. Default is kettle. Available are: kettle, fridge, washing machine, dishwasher, and microwave. \")\n",
    "parser.add_argument(\"--batch_size\", type=int, default=\"500\", help=\"The batch size to use when training the network. Default is 1000. \")\n",
    "parser.add_argument(\"--crop\", type=int, default=\"10000\", help=\"The number of rows of the dataset to take training data from. Default is 10000. \")\n",
    "parser.add_argument(\"--network_type\", type=remove_space, default=\"seq2point\", help=\"The seq2point architecture to use. \")\n",
    "parser.add_argument(\"--epochs\", type=int, default=\"5\", help=\"Number of epochs. Default is 10. \")\n",
    "parser.add_argument(\"--input_window_length\", type=int, default=\"199\", help=\"Number of input data points to network. Default is 599.\")\n",
    "parser.add_argument(\"--validation_frequency\", type=int, default=\"1\", help=\"How often to validate model. Default is 1. \")\n",
    "parser.add_argument(\"--training_directory\", type=str, default=training_directory, help=\"The dir for training data. \")\n",
    "parser.add_argument(\"--validation_directory\", type=str, default=validation_directory, help=\"The dir for validation data. \")\n",
    "\n",
    "arguments = parser.parse_args()"
   ]
  },
  {
   "cell_type": "code",
   "execution_count": 28,
   "metadata": {
    "colab": {
     "base_uri": "https://localhost:8080/",
     "height": 1000
    },
    "executionInfo": {
     "elapsed": 75831,
     "status": "ok",
     "timestamp": 1618940384327,
     "user": {
      "displayName": "Price CSI",
      "photoUrl": "",
      "userId": "03164941046315396543"
     },
     "user_tz": 420
    },
    "id": "K4XphOW24dte",
    "outputId": "440e5e24-f265-403a-9859-18919430a491"
   },
   "outputs": [
    {
     "name": "stdout",
     "output_type": "stream",
     "text": [
      "Importing training file...\n",
      "Counting number of rows...\n",
      "Done.\n",
      "The dataset contains  500000  rows\n",
      "Epoch 1/5\n",
      " 997/1000 [============================>.] - ETA: 0s - loss: 0.0158 - mse: 0.0158 - msle: 3.1326e-04 - mae: 0.0593Importing training file...\n",
      "Counting number of rows...\n",
      "Done.\n",
      "The dataset contains  33371  rows\n",
      "1000/1000 [==============================] - 15s 14ms/step - loss: 0.0158 - mse: 0.0158 - msle: 3.1324e-04 - mae: 0.0592 - val_loss: 0.0050 - val_mse: 0.0050 - val_msle: 1.3129e-05 - val_mae: 0.0114\n",
      "Epoch 2/5\n",
      "1000/1000 [==============================] - 14s 14ms/step - loss: 0.0044 - mse: 0.0044 - msle: 3.1324e-04 - mae: 0.0323 - val_loss: 0.0061 - val_mse: 0.0061 - val_msle: 1.3265e-05 - val_mae: 0.0477\n",
      "Epoch 3/5\n",
      "1000/1000 [==============================] - 14s 14ms/step - loss: 0.0040 - mse: 0.0040 - msle: 3.1324e-04 - mae: 0.0286 - val_loss: 0.0048 - val_mse: 0.0048 - val_msle: 1.3132e-05 - val_mae: 0.0120\n",
      "Epoch 4/5\n",
      "1000/1000 [==============================] - 14s 14ms/step - loss: 0.0037 - mse: 0.0037 - msle: 3.1324e-04 - mae: 0.0255 - val_loss: 0.0050 - val_mse: 0.0050 - val_msle: 1.3386e-05 - val_mae: 0.0098\n",
      "Epoch 5/5\n",
      "1000/1000 [==============================] - 14s 14ms/step - loss: 0.0035 - mse: 0.0035 - msle: 3.1324e-04 - mae: 0.0225 - val_loss: 0.0049 - val_mse: 0.0049 - val_msle: 1.3077e-05 - val_mae: 0.0099\n",
      "Model: \"sequential_2\"\n",
      "_________________________________________________________________\n",
      "Layer (type)                 Output Shape              Param #   \n",
      "=================================================================\n",
      "reshape_2 (Reshape)          (None, 1, 199, 1)         0         \n",
      "_________________________________________________________________\n",
      "dropout_8 (Dropout)          (None, 1, 199, 1)         0         \n",
      "_________________________________________________________________\n",
      "conv2d_10 (Conv2D)           (None, 1, 199, 30)        330       \n",
      "_________________________________________________________________\n",
      "conv2d_11 (Conv2D)           (None, 1, 199, 30)        7230      \n",
      "_________________________________________________________________\n",
      "conv2d_12 (Conv2D)           (None, 1, 199, 40)        7240      \n",
      "_________________________________________________________________\n",
      "conv2d_13 (Conv2D)           (None, 1, 199, 60)        12060     \n",
      "_________________________________________________________________\n",
      "dropout_9 (Dropout)          (None, 1, 199, 60)        0         \n",
      "_________________________________________________________________\n",
      "conv2d_14 (Conv2D)           (None, 1, 199, 60)        18060     \n",
      "_________________________________________________________________\n",
      "dropout_10 (Dropout)         (None, 1, 199, 60)        0         \n",
      "_________________________________________________________________\n",
      "flatten_2 (Flatten)          (None, 11940)             0         \n",
      "_________________________________________________________________\n",
      "dense_4 (Dense)              (None, 1024)              12227584  \n",
      "_________________________________________________________________\n",
      "dropout_11 (Dropout)         (None, 1024)              0         \n",
      "_________________________________________________________________\n",
      "dense_5 (Dense)              (None, 1)                 1025      \n",
      "=================================================================\n",
      "Total params: 12,273,529\n",
      "Trainable params: 12,273,529\n",
      "Non-trainable params: 0\n",
      "_________________________________________________________________\n",
      "SAVED\n"
     ]
    },
    {
     "data": {
      "image/png": "[encoded data removed]",
      "text/plain": [
       "<Figure size 432x288 with 1 Axes>"
      ]
     },
     "metadata": {
      "needs_background": "light",
      "tags": []
     },
     "output_type": "display_data"
    }
   ],
   "source": [
    "#change the appliance name based on the training appliance \n",
    "#change the crop parameter based on the size of the training data -> safe to use the whole data i.e. crop = size of the training data if it's not too huge\n",
    "trainer = Trainer(\"dishwasher\", arguments.batch_size, 500000, arguments.network_type,\n",
    "                  arguments.training_directory, arguments.validation_directory,\n",
    "                  save_model_dir,\n",
    "                  epochs = arguments.epochs, input_window_length = arguments.input_window_length,\n",
    "                  validation_frequency = arguments.validation_frequency )\n",
    "model = trainer.train_model()"
   ]
  },
  {
   "cell_type": "markdown",
   "metadata": {
    "id": "SjBzH9tSvMUP"
   },
   "source": [
    "# Test"
   ]
  },
  {
   "cell_type": "code",
   "execution_count": 29,
   "metadata": {
    "executionInfo": {
     "elapsed": 882,
     "status": "ok",
     "timestamp": 1618940683650,
     "user": {
      "displayName": "Price CSI",
      "photoUrl": "",
      "userId": "03164941046315396543"
     },
     "user_tz": 420
    },
    "id": "V-dTvlk4UAAe"
   },
   "outputs": [],
   "source": [
    "#seq2point_test.py\n",
    "import argparse\n",
    "import os\n",
    "import logging\n",
    "import numpy as np \n",
    "import keras\n",
    "import pandas as pd\n",
    "import tensorflow as tf \n",
    "import time\n",
    "#from model_structure import create_model, load_model\n",
    "from data_feeder import TestSlidingWindowGenerator\n",
    "from appliance_data import appliance_data, mains_data\n",
    "import matplotlib.pyplot as plt\n",
    "\n",
    "#Tester class: the trained model is directly given as an input to the tester. The trained model is also saved in the save_model_dir\n",
    "class Tester():\n",
    "\n",
    "    \"\"\" Used to test and evaluate a pre-trained seq2point model with or without pruning applied. \n",
    "    \n",
    "    Parameters:\n",
    "    __appliance (string): The target appliance.\n",
    "    __algorithm (string): The (pruning) algorithm the model was trained with.\n",
    "    __network_type (string): The architecture of the model.\n",
    "    __crop (int): The maximum number of rows of data to evaluate the model with.\n",
    "    __batch_size (int): The number of rows per testing batch.\n",
    "    __window_size (int): The size of eaech sliding window\n",
    "    __window_offset (int): The offset of the inferred value from the sliding window.\n",
    "    __test_directory (string): The directory of the test file for the model.\n",
    "    \n",
    "    \"\"\"\n",
    "\n",
    "    def __init__(self, model, appliance, algorithm, crop, batch_size, network_type,\n",
    "                 test_directory, saved_model_dir, log_file_dir,\n",
    "                 input_window_length):\n",
    "        self.model = model\n",
    "        self.__appliance = appliance\n",
    "        self.__algorithm = algorithm\n",
    "        self.__network_type = network_type\n",
    "\n",
    "        self.__crop = crop\n",
    "        self.__batch_size = batch_size\n",
    "        self._input_window_length = input_window_length\n",
    "        self.__window_size = self._input_window_length + 2\n",
    "        self.__window_offset = int(0.5 * self.__window_size - 1)\n",
    "        self.__number_of_windows = 100\n",
    "\n",
    "        self.__test_directory = test_directory\n",
    "        self.__saved_model_dir = saved_model_dir\n",
    "\n",
    "        self.__log_file = log_file_dir\n",
    "        logging.basicConfig(filename=self.__log_file,level=logging.INFO)\n",
    "\n",
    "    def test_model(self):\n",
    "\n",
    "        \"\"\" Tests a fully-trained model using a sliding window generator as an input. Measures inference time, gathers, and \n",
    "        plots evaluationg metrics. \"\"\"\n",
    "\n",
    "        test_input, test_target = self.load_dataset(self.__test_directory)\n",
    "        #model = create_model(self._input_window_length)\n",
    "        #model = load_model(model, self.__network_type, self.__algorithm, \n",
    "        #                   self.__appliance, self.__saved_model_dir)\n",
    "        model = self.model\n",
    "        test_generator = TestSlidingWindowGenerator(number_of_windows=self.__number_of_windows, inputs=test_input, targets=test_target, offset=self.__window_offset)\n",
    "\n",
    "        # Calculate the optimum steps per epoch.\n",
    "        steps_per_test_epoch = np.round(int(test_generator.total_size / self.__batch_size), decimals=0)\n",
    "\n",
    "        # Test the model.\n",
    "        start_time = time.time()\n",
    "        testing_history = model.predict(x=test_generator.load_dataset(), steps=steps_per_test_epoch, verbose=2)\n",
    "\n",
    "        end_time = time.time()\n",
    "        test_time = end_time - start_time\n",
    "\n",
    "        evaluation_metrics = model.evaluate(x=test_generator.load_dataset(), steps=steps_per_test_epoch)\n",
    "\n",
    "        self.log_results(model, test_time, evaluation_metrics)\n",
    "        self.plot_results(testing_history, test_input, test_target)\n",
    "\n",
    "\n",
    "    def load_dataset(self, directory):\n",
    "        \"\"\"Loads the testing dataset from the location specified by file_name.\n",
    "\n",
    "        Parameters:\n",
    "        directory (string): The location at which the dataset is stored, concatenated with the file name.\n",
    "\n",
    "        Returns:\n",
    "        test_input (numpy.array): The first n (crop) features of the test dataset.\n",
    "        test_target (numpy.array): The first n (crop) targets of the test dataset.\n",
    "\n",
    "        \"\"\"\n",
    "\n",
    "        data_frame = pd.read_csv(directory, nrows=self.__crop, skiprows=0, header=0)\n",
    "        test_input = np.round(np.array(data_frame.iloc[:, 0], float), 6)\n",
    "        test_target = np.round(np.array(data_frame.iloc[self.__window_offset: -self.__window_offset, 1], float), 6)\n",
    "        \n",
    "        del data_frame\n",
    "        return test_input, test_target\n",
    "\n",
    "    def log_results(self, model, test_time, evaluation_metrics):\n",
    "\n",
    "        \"\"\"Logs the inference time, MAE and MSE of an evaluated model.\n",
    "\n",
    "        Parameters:\n",
    "        model (tf.keras.Model): The evaluated model.\n",
    "        test_time (float): The time taken by the model to infer all required values.\n",
    "        evaluation metrics (list): The MSE, MAE, and various compression ratios of the model.\n",
    "\n",
    "        \"\"\"\n",
    "\n",
    "        inference_log = \"Inference Time: \" + str(test_time)\n",
    "        logging.info(inference_log)\n",
    "\n",
    "        metric_string = \"MSE: \", str(evaluation_metrics[0]), \" MAE: \", str(evaluation_metrics[3])\n",
    "        logging.info(metric_string)\n",
    "\n",
    "        self.count_pruned_weights(model)  \n",
    "\n",
    "    def count_pruned_weights(self, model):\n",
    "\n",
    "        \"\"\" Counts the total number of weights, pruned weights, and weights in convolutional \n",
    "        layers. Calculates the sparsity ratio of different layer types and logs these values.\n",
    "\n",
    "        Parameters:\n",
    "        model (tf.keras.Model): The evaluated model.\n",
    "\n",
    "        \"\"\"\n",
    "        num_total_zeros = 0\n",
    "        num_dense_zeros = 0\n",
    "        num_dense_weights = 0\n",
    "        num_conv_zeros = 0\n",
    "        num_conv_weights = 0\n",
    "        for layer in model.layers:\n",
    "            if np.shape(layer.get_weights())[0] != 0:\n",
    "                layer_weights = layer.get_weights()[0].flatten()\n",
    "\n",
    "                if \"conv\" in layer.name:\n",
    "                    num_conv_weights += np.size(layer_weights)\n",
    "                    num_conv_zeros += np.count_nonzero(layer_weights==0)\n",
    "\n",
    "                    num_total_zeros += np.size(layer_weights)\n",
    "                else:\n",
    "                    num_dense_weights += np.size(layer_weights)\n",
    "                    num_dense_zeros += np.count_nonzero(layer_weights==0)\n",
    "\n",
    "        conv_zeros_string = \"CONV. ZEROS: \" + str(num_conv_zeros)\n",
    "        conv_weights_string = \"CONV. WEIGHTS: \" + str(num_conv_weights)\n",
    "        conv_sparsity_ratio = \"CONV. RATIO: \" + str(num_conv_zeros / num_conv_weights)\n",
    "\n",
    "        dense_weights_string = \"DENSE WEIGHTS: \" + str(num_dense_weights)\n",
    "        dense_zeros_string = \"DENSE ZEROS: \" + str(num_dense_zeros)\n",
    "        dense_sparsity_ratio = \"DENSE RATIO: \" + str(num_dense_zeros / num_dense_weights)\n",
    "\n",
    "        total_zeros_string = \"TOTAL ZEROS: \" + str(num_total_zeros)\n",
    "        total_weights_string = \"TOTAL WEIGHTS: \" + str(model.count_params())\n",
    "        total_sparsity_ratio = \"TOTAL RATIO: \" + str(num_total_zeros / model.count_params())\n",
    "\n",
    "        print(\"LOGGING PATH: \", self.__log_file)\n",
    "\n",
    "        logging.info(conv_zeros_string)\n",
    "        logging.info(conv_weights_string)\n",
    "        logging.info(conv_sparsity_ratio)\n",
    "        logging.info(\"\")\n",
    "        logging.info(dense_zeros_string)\n",
    "        logging.info(dense_weights_string)\n",
    "        logging.info(dense_sparsity_ratio)\n",
    "        logging.info(\"\")\n",
    "        logging.info(total_zeros_string)\n",
    "        logging.info(total_weights_string)\n",
    "        logging.info(total_sparsity_ratio)\n",
    "\n",
    "    def plot_results(self, testing_history, test_input, test_target):\n",
    "\n",
    "        \"\"\" Generates and saves a plot of the testing history of the model against the (actual) \n",
    "        aggregate energy values and the true appliance values.\n",
    "\n",
    "        Parameters:\n",
    "        testing_history (numpy.ndarray): The series of values inferred by the model.\n",
    "        test_input (numpy.ndarray): The aggregate energy data.\n",
    "        test_target (numpy.ndarray): The true energy values of the appliance.\n",
    "\n",
    "        \"\"\"\n",
    "\n",
    "        testing_history = ((testing_history * appliance_data[self.__appliance][\"std\"]) + appliance_data[self.__appliance][\"mean\"])\n",
    "        test_target = ((test_target * appliance_data[self.__appliance][\"std\"]) + appliance_data[self.__appliance][\"mean\"])\n",
    "        test_agg = (test_input.flatten() * mains_data[\"std\"]) + mains_data[\"mean\"]\n",
    "        test_agg = test_agg[:testing_history.size]\n",
    "\n",
    "        # Can't have negative energy readings - set any results below 0 to 0.\n",
    "        test_target[test_target < 0] = 0\n",
    "        testing_history[testing_history < 0] = 0\n",
    "        test_input[test_input < 0] = 0\n",
    "\n",
    "        # Plot testing outcomes against ground truth.\n",
    "        plt.figure(1)\n",
    "        print(self.__window_offset)\n",
    "        print(test_agg.size)\n",
    "        print(test_target.size)\n",
    "        print(testing_history.size)\n",
    "        plt.plot(test_agg[self.__window_offset: -self.__window_offset], label=\"Aggregate\")\n",
    "        plt.plot(test_target[:test_agg.size - (2 * self.__window_offset)], label=\"Ground Truth\")\n",
    "        plt.plot(testing_history[:test_agg.size - (2 * self.__window_offset)], label=\"Predicted\")\n",
    "        plt.title(self.__appliance + \" \" + self.__network_type + \"(\" + self.__algorithm + \")\")\n",
    "        plt.ylabel(\"Power Value (Watts)\")\n",
    "        plt.xlabel(\"Testing Window\")\n",
    "        plt.legend()\n",
    "        #For zoomed in plots - change x1 and x2 based on how the plot looks - changes with appliance and test data \n",
    "        x1 = 4500\n",
    "        x2 = 6000\n",
    "        plt.figure(2)\n",
    "        plt.plot(test_agg[self.__window_offset + x1: x2], label=\"Aggregate\")\n",
    "        plt.plot(test_target[x1:x2], label=\"Ground Truth\")\n",
    "        plt.plot(testing_history[x1:x2], label=\"Predicted\")\n",
    "        x3 = 4900\n",
    "        x4 = 5500\n",
    "        plt.figure(3)\n",
    "        plt.plot(test_agg[self.__window_offset + x3: x4], label=\"Aggregate\")\n",
    "        plt.plot(test_target[x3:x4], label=\"Ground Truth\")\n",
    "        plt.plot(testing_history[x3:x4], label=\"Predicted\")\n",
    "\n",
    "\n",
    "        plt.show()"
   ]
  },
  {
   "cell_type": "code",
   "execution_count": 30,
   "metadata": {
    "executionInfo": {
     "elapsed": 751,
     "status": "ok",
     "timestamp": 1618940686030,
     "user": {
      "displayName": "Price CSI",
      "photoUrl": "",
      "userId": "03164941046315396543"
     },
     "user_tz": 420
    },
    "id": "7G8Vjzf9vb5L"
   },
   "outputs": [],
   "source": [
    "test_directory= \"/content/drive/MyDrive/energy_disaggregation/seq2point-nilm/test_dir/dishwasher/REDDdishwasher_test_.csv\""
   ]
  },
  {
   "cell_type": "code",
   "execution_count": 31,
   "metadata": {
    "executionInfo": {
     "elapsed": 570,
     "status": "ok",
     "timestamp": 1618940686575,
     "user": {
      "displayName": "Price CSI",
      "photoUrl": "",
      "userId": "03164941046315396543"
     },
     "user_tz": 420
    },
    "id": "ObJa2l1KwQsa"
   },
   "outputs": [],
   "source": [
    "parser = argparse.ArgumentParser(description=\"Train a pruned neural network for energy disaggregation. \")\n",
    "parser.add_argument(\"-f\", \"--fff\", help=\"a dummy argument to fool ipython\", default=\"1\")\n",
    "parser.add_argument(\"--appliance_name\", type=remove_space, default=\"dishwasher\", help=\"The name of the appliance to perform disaggregation with. Default is kettle. Available are: kettle, fridge, dishwasher, microwave. \")\n",
    "parser.add_argument(\"--batch_size\", type=int, default=\"500\", help=\"The batch size to use when training the network. Default is 1000. \")\n",
    "parser.add_argument(\"--crop\", type=int, default=\"10000\", help=\"The number of rows of the dataset to take training data from. Default is 10000. \")\n",
    "parser.add_argument(\"--algorithm\", type=remove_space, default=\"seq2point\", help=\"The pruning algorithm of the model to test. Default is none. \")\n",
    "parser.add_argument(\"--network_type\", type=remove_space, default=\"\", help=\"The seq2point architecture to use. Only use if you do not want to use the standard architecture. Available are: default, dropout, reduced, and reduced_dropout. \")\n",
    "parser.add_argument(\"--input_window_length\", type=int, default=\"199\", help=\"Number of input data points to network. Default is 599. \")\n",
    "parser.add_argument(\"--test_directory\", type=str, default=test_directory, help=\"The dir for training data. \")\n",
    "\n",
    "arguments = parser.parse_args()"
   ]
  },
  {
   "cell_type": "code",
   "execution_count": 32,
   "metadata": {
    "executionInfo": {
     "elapsed": 709,
     "status": "ok",
     "timestamp": 1618940688803,
     "user": {
      "displayName": "Price CSI",
      "photoUrl": "",
      "userId": "03164941046315396543"
     },
     "user_tz": 420
    },
    "id": "G1ZCLz7vwTKA"
   },
   "outputs": [],
   "source": [
    "# You need to provide the trained model \n",
    "saved_model_dir = os.path.join(path, \"saved_models/\" + arguments.appliance_name + \"_\" + arguments.network_type + \"_model.h5\")\n"
   ]
  },
  {
   "cell_type": "code",
   "execution_count": 33,
   "metadata": {
    "executionInfo": {
     "elapsed": 389,
     "status": "ok",
     "timestamp": 1618940689168,
     "user": {
      "displayName": "Price CSI",
      "photoUrl": "",
      "userId": "03164941046315396543"
     },
     "user_tz": 420
    },
    "id": "pbybLPgiwVZz"
   },
   "outputs": [],
   "source": [
    "# The logs including results will be recorded to this log file\n",
    "log_file_dir = os.path.join(path,\"saved_models/\" + arguments.appliance_name + \"_\" + arguments.algorithm + \"_\" + arguments.network_type + \".log\")"
   ]
  },
  {
   "cell_type": "code",
   "execution_count": 34,
   "metadata": {
    "executionInfo": {
     "elapsed": 670,
     "status": "ok",
     "timestamp": 1618940691206,
     "user": {
      "displayName": "Price CSI",
      "photoUrl": "",
      "userId": "03164941046315396543"
     },
     "user_tz": 420
    },
    "id": "kXsD6ZWkwY2i"
   },
   "outputs": [],
   "source": [
    "tester = Tester(model, arguments.appliance_name, arguments.algorithm, 190000, \n",
    "                arguments.batch_size, arguments.network_type,\n",
    "                arguments.test_directory, saved_model_dir, log_file_dir,\n",
    "                arguments.input_window_length\n",
    "                )"
   ]
  },
  {
   "cell_type": "code",
   "execution_count": 35,
   "metadata": {
    "colab": {
     "base_uri": "https://localhost:8080/",
     "height": 964
    },
    "executionInfo": {
     "elapsed": 3661,
     "status": "ok",
     "timestamp": 1618940695098,
     "user": {
      "displayName": "Price CSI",
      "photoUrl": "",
      "userId": "03164941046315396543"
     },
     "user_tz": 420
    },
    "id": "05wtM-oTwbTt",
    "outputId": "1db64966-d2f3-40e0-8c6e-c1789400b397"
   },
   "outputs": [
    {
     "name": "stdout",
     "output_type": "stream",
     "text": [
      "380/380 - 1s\n",
      "380/380 [==============================] - 1s 3ms/step - loss: 0.0100 - mse: 0.0100 - msle: 0.0012 - mae: 0.0181\n",
      "LOGGING PATH:  /content/drive/MyDrive/energy_disaggregation/seq2point-nilm/saved_models/dishwasher_seq2point_.log\n",
      "99\n",
      "38000\n",
      "189802\n",
      "38000\n"
     ]
    },
    {
     "name": "stderr",
     "output_type": "stream",
     "text": [
      "/usr/local/lib/python3.7/dist-packages/numpy/core/_asarray.py:83: VisibleDeprecationWarning: Creating an ndarray from ragged nested sequences (which is a list-or-tuple of lists-or-tuples-or ndarrays with different lengths or shapes) is deprecated. If you meant to do this, you must specify 'dtype=object' when creating the ndarray\n",
      "  return array(a, dtype, copy=False, order=order)\n"
     ]
    },
    {
     "data": {
      "image/png": "[encoded data removed]",
      "text/plain": [
       "<Figure size 432x288 with 1 Axes>"
      ]
     },
     "metadata": {
      "needs_background": "light",
      "tags": []
     },
     "output_type": "display_data"
    },
    {
     "data": {
      "image/png": "[encoded data removed]",
      "text/plain": [
       "<Figure size 432x288 with 1 Axes>"
      ]
     },
     "metadata": {
      "needs_background": "light",
      "tags": []
     },
     "output_type": "display_data"
    },
    {
     "data": {
      "image/png": "[encoded data removed]",
      "text/plain": [
       "<Figure size 432x288 with 1 Axes>"
      ]
     },
     "metadata": {
      "needs_background": "light",
      "tags": []
     },
     "output_type": "display_data"
    }
   ],
   "source": [
    "tester.test_model()\n"
   ]
  },
  {
   "cell_type": "code",
   "execution_count": null,
   "metadata": {
    "id": "cM6Cq269XisJ"
   },
   "outputs": [],
   "source": []
  }
 ],
 "metadata": {
  "accelerator": "GPU",
  "colab": {
   "authorship_tag": "ABX9TyMIQTr49JKB2e+Bs+6/9jM8",
   "machine_shape": "hm",
   "name": "Seq2point_dishwasher_alldata.ipynb",
   "provenance": []
  },
  "kernelspec": {
   "display_name": "Python 3",
   "language": "python",
   "name": "python3"
  },
  "language_info": {
   "codemirror_mode": {
    "name": "ipython",
    "version": 3
   },
   "file_extension": ".py",
   "mimetype": "text/x-python",
   "name": "python",
   "nbconvert_exporter": "python",
   "pygments_lexer": "ipython3",
   "version": "3.7.3"
  }
 },
 "nbformat": 4,
 "nbformat_minor": 1
}
