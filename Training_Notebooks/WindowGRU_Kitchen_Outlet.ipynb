{
  "nbformat": 4,
  "nbformat_minor": 0,
  "metadata": {
    "colab": {
      "name": "WindowGRU_Kitchen_Outlet.ipynb",
      "provenance": [],
      "collapsed_sections": []
    },
    "kernelspec": {
      "name": "python3",
      "display_name": "Python 3"
    },
    "language_info": {
      "name": "python"
    },
    "accelerator": "GPU"
  },
  "cells": [
    {
      "cell_type": "code",
      "metadata": {
        "colab": {
          "base_uri": "https://localhost:8080/"
        },
        "id": "XycoGJVnTFfK",
        "outputId": "f57b039d-0506-4552-93ee-91a35d7c73b8"
      },
      "source": [
        "from google.colab import drive\n",
        "drive.mount('/content/gdrive')"
      ],
      "execution_count": 1,
      "outputs": [
        {
          "output_type": "stream",
          "text": [
            "Mounted at /content/gdrive\n"
          ],
          "name": "stdout"
        }
      ]
    },
    {
      "cell_type": "markdown",
      "metadata": {
        "id": "oRSLAuJO7ZwH"
      },
      "source": [
        "#**Importing Packages**\n",
        "\n",
        "\n"
      ]
    },
    {
      "cell_type": "code",
      "metadata": {
        "id": "7_KmNbtSTTdD"
      },
      "source": [
        "import pandas as pd\n",
        "import numpy as np\n",
        "\n",
        "from keras.models import load_model\n",
        "from keras.models import Sequential\n",
        "from keras.layers import Dense, Conv1D, GRU, Bidirectional, Dropout\n",
        "from keras.utils import plot_model\n",
        "\n",
        "import matplotlib.pyplot as plt\n",
        "import time\n",
        "import matplotlib.pyplot as plt\n",
        "%matplotlib inline\n",
        "from IPython.display import display\n",
        "import datetime\n",
        "import math\n",
        "import warnings\n",
        "warnings.filterwarnings(\"ignore\")\n",
        "import glob\n",
        "from sklearn.metrics import mean_squared_error, mean_absolute_error"
      ],
      "execution_count": 5,
      "outputs": []
    },
    {
      "cell_type": "markdown",
      "metadata": {
        "id": "9moxYRuw9n4-"
      },
      "source": [
        "### *Initializing Window size*"
      ]
    },
    {
      "cell_type": "code",
      "metadata": {
        "id": "qQ5W8fNKTTkc"
      },
      "source": [
        "window_size = 10"
      ],
      "execution_count": 14,
      "outputs": []
    },
    {
      "cell_type": "markdown",
      "metadata": {
        "id": "kQUeYPZZTwTG"
      },
      "source": [
        "# **Functions**"
      ]
    },
    {
      "cell_type": "code",
      "metadata": {
        "id": "VcYWfFu6Tv6i"
      },
      "source": [
        "def read_label():\n",
        "    label = {}\n",
        "    for i in range(1,7):\n",
        "        hi = '/content/gdrive/MyDrive/energy_disaggregation/windowGRU/data/house_{}/labels.dat'.format(i)\n",
        "        label[i] = {}\n",
        "        with open(hi) as f:\n",
        "            for line in f:\n",
        "                splitted_line = line.split(' ')\n",
        "                label[i][int(splitted_line[0])] = splitted_line[1].strip() + '_' + splitted_line[0]\n",
        "    return label\n",
        "\n",
        "\n",
        "#-------------------------------------------------------------------------------------------------------------------\n",
        "\n",
        "def read_merge_data(house):\n",
        "    path = '/content/gdrive/MyDrive/energy_disaggregation/windowGRU/data/house_{}/'.format(house)\n",
        "    \n",
        "    \n",
        "    file = path + 'channel_1.dat'\n",
        "\n",
        "    df = pd.read_table(file, sep = ' ', names = ['unix_time', labels[house][1]], \n",
        "                                       dtype = {'unix_time': 'int64', labels[house][1]:'float64'}) \n",
        "\n",
        "    num_apps = len(glob.glob(path + 'channel*'))\n",
        "\n",
        "    \n",
        "    for i in range(2, num_apps + 1):\n",
        "        file = path + 'channel_{}.dat'.format(i)\n",
        "        data = pd.read_table(file, sep = ' ', names = ['unix_time', labels[house][i]], \n",
        "                                       dtype = {'unix_time': 'int64', labels[house][i]:'float64'})\n",
        "        df = pd.merge(df, data, how = 'inner', on = 'unix_time')\n",
        "    df['timestamp'] = df['unix_time'].astype(\"datetime64[s]\")\n",
        "    df = df.set_index(df['timestamp'].values)\n",
        "    df.drop(['unix_time','timestamp'], axis=1, inplace=True)\n",
        "    return df\n",
        "\n",
        "#-------------------------------------------------------------------------------------------------------------------\n",
        "\n",
        "def uniform_label(df):\n",
        "  if 'kitchen_outlets_7' in df.columns:   \n",
        "    df = df.rename(columns={'kitchen_outlets_7': 'kitchen'})\n",
        "\n",
        "  if 'kitchen_outlets_5' in df.columns:\n",
        "    df = df.rename(columns={'kitchen_outlets_5': 'kitchen'})\n",
        "\n",
        "  if 'kitchen_outlets_3' in df.columns:\n",
        "    df = df.rename(columns={'kitchen_outlets_3': 'kitchen'})\n",
        "\n",
        "  if 'kitchen_outlets_24' in df.columns:\n",
        "    df = df.rename(columns={'kitchen_outlets_24': 'kitchen'})\n",
        "\n",
        "    \n",
        "\n",
        "  return df\n",
        "\n",
        "#----------------------------------------------------------------------------------------------------------------------\n",
        "\n",
        "def add_houses(df_list, appliance):\n",
        "  merged_df = pd.DataFrame()\n",
        "  for df in df_list:\n",
        "    df = uniform_label(df)\n",
        "\n",
        "    df[\"aggregate_mains\"] = df['mains_1'] + df['mains_2']\n",
        "    df = df[['aggregate_mains',appliance]]\n",
        "    \n",
        "    merged_df = pd.concat([merged_df,df])\n",
        "  return merged_df\n",
        "\n",
        "#-----------------------------------------------------------------------------------------------------------------------\n",
        "\n",
        "def max_value(df):\n",
        "  return max(df['aggregate_mains'])\n",
        "\n",
        "\n",
        "#-----------------------------------------------------------------------------------------------------------------------\n",
        "\n",
        "\n",
        "def preprocess_data(df, appliance, nmax):\n",
        "\n",
        "  df['aggregate_mains'] = df['aggregate_mains']/ nmax\n",
        "\n",
        "  df[appliance] = df[appliance]/ nmax\n",
        "  \n",
        "  return df\n",
        "\n",
        "#----------------------------------------------------------------------------------------------------------------------\n",
        "def create_window_chunk(df, sequence_length):\n",
        "  result = []\n",
        "  for index in range(len(df) - sequence_length):\n",
        "      result.append(df[index: index + sequence_length])\n",
        "\n",
        "  return result\n",
        "\n",
        "#----------------------------------------------------------------------------------------------------------------------\n",
        "\n",
        "def _create_model(window_size):\n",
        "    '''Creates the GRU architecture described in the paper\n",
        "    '''\n",
        "    model = Sequential()\n",
        "\n",
        "    # 1D Conv\n",
        "    model.add(Conv1D(16, 4, activation='relu', input_shape=(window_size,1), padding=\"same\", strides=1))\n",
        "\n",
        "    #Bi-directional GRUs\n",
        "    model.add(Bidirectional(GRU(64, activation='relu', return_sequences=True), merge_mode='concat'))\n",
        "    model.add(Dropout(0.5))\n",
        "    model.add(Bidirectional(GRU(128, activation='relu', return_sequences=False), merge_mode='concat'))\n",
        "    model.add(Dropout(0.5))\n",
        "\n",
        "    # Fully Connected Layers\n",
        "    model.add(Dense(128, activation='relu'))\n",
        "    model.add(Dropout(0.5))\n",
        "    model.add(Dense(1, activation='linear'))\n",
        "\n",
        "    model.compile(loss='mse', optimizer='adam')\n",
        "    print(model.summary())\n",
        "\n",
        "    return model\n",
        "\n",
        "#---------------------------------------------------------------------------------------------------------------------\n",
        "\n",
        "\n",
        "\n",
        "\n",
        "\n"
      ],
      "execution_count": 36,
      "outputs": []
    },
    {
      "cell_type": "markdown",
      "metadata": {
        "id": "sV5Ki7E0C4hh"
      },
      "source": [
        "# **Data Preprocessing**"
      ]
    },
    {
      "cell_type": "code",
      "metadata": {
        "id": "ko1h0YmuOh8U"
      },
      "source": [
        "df_dic = {}\n",
        "dates = {}"
      ],
      "execution_count": 16,
      "outputs": []
    },
    {
      "cell_type": "markdown",
      "metadata": {
        "id": "Jmb2k8_k7_la"
      },
      "source": [
        "### *Reading and storing labels of all the houses in a dictionary*"
      ]
    },
    {
      "cell_type": "code",
      "metadata": {
        "colab": {
          "base_uri": "https://localhost:8080/"
        },
        "id": "OcrrGlEyTToR",
        "outputId": "083b0b25-396c-40a4-c2ae-39ad8b798a78"
      },
      "source": [
        "labels = read_label()\n",
        "labels"
      ],
      "execution_count": 17,
      "outputs": [
        {
          "output_type": "execute_result",
          "data": {
            "text/plain": [
              "{1: {1: 'mains_1',\n",
              "  2: 'mains_2',\n",
              "  3: 'oven_3',\n",
              "  4: 'oven_4',\n",
              "  5: 'refrigerator_5',\n",
              "  6: 'dishwaser_6',\n",
              "  7: 'kitchen_outlets_7',\n",
              "  8: 'kitchen_outlets_8',\n",
              "  9: 'lighting_9',\n",
              "  10: 'washer_dryer_10',\n",
              "  11: 'microwave_11',\n",
              "  12: 'bathroom_gfi_12',\n",
              "  13: 'electric_heat_13',\n",
              "  14: 'stove_14',\n",
              "  15: 'kitchen_outlets_15',\n",
              "  16: 'kitchen_outlets_16',\n",
              "  17: 'lighting_17',\n",
              "  18: 'lighting_18',\n",
              "  19: 'washer_dryer_19',\n",
              "  20: 'washer_dryer_20'},\n",
              " 2: {1: 'mains_1',\n",
              "  2: 'mains_2',\n",
              "  3: 'kitchen_outlets_3',\n",
              "  4: 'lighting_4',\n",
              "  5: 'stove_5',\n",
              "  6: 'microwave_6',\n",
              "  7: 'washer_dryer_7',\n",
              "  8: 'kitchen_outlets_8',\n",
              "  9: 'refrigerator_9',\n",
              "  10: 'dishwaser_10',\n",
              "  11: 'disposal_11'},\n",
              " 3: {1: 'mains_1',\n",
              "  2: 'mains_2',\n",
              "  3: 'outlets_unknown_3',\n",
              "  4: 'outlets_unknown_4',\n",
              "  5: 'lighting_5',\n",
              "  6: 'electronics_6',\n",
              "  7: 'refrigerator_7',\n",
              "  8: 'disposal_8',\n",
              "  9: 'dishwaser_9',\n",
              "  10: 'furance_10',\n",
              "  11: 'lighting_11',\n",
              "  12: 'outlets_unknown_12',\n",
              "  13: 'washer_dryer_13',\n",
              "  14: 'washer_dryer_14',\n",
              "  15: 'lighting_15',\n",
              "  16: 'microwave_16',\n",
              "  17: 'lighting_17',\n",
              "  18: 'smoke_alarms_18',\n",
              "  19: 'lighting_19',\n",
              "  20: 'bathroom_gfi_20',\n",
              "  21: 'kitchen_outlets_21',\n",
              "  22: 'kitchen_outlets_22'},\n",
              " 4: {1: 'mains_1',\n",
              "  2: 'mains_2',\n",
              "  3: 'lighting_3',\n",
              "  4: 'furance_4',\n",
              "  5: 'kitchen_outlets_5',\n",
              "  6: 'outlets_unknown_6',\n",
              "  7: 'washer_dryer_7',\n",
              "  8: 'stove_8',\n",
              "  9: 'air_conditioning_9',\n",
              "  10: 'air_conditioning_10',\n",
              "  11: 'miscellaeneous_11',\n",
              "  12: 'smoke_alarms_12',\n",
              "  13: 'lighting_13',\n",
              "  14: 'kitchen_outlets_14',\n",
              "  15: 'dishwaser_15',\n",
              "  16: 'bathroom_gfi_16',\n",
              "  17: 'bathroom_gfi_17',\n",
              "  18: 'lighting_18',\n",
              "  19: 'lighting_19',\n",
              "  20: 'air_conditioning_20'},\n",
              " 5: {1: 'mains_1',\n",
              "  2: 'mains_2',\n",
              "  3: 'microwave_3',\n",
              "  4: 'lighting_4',\n",
              "  5: 'outlets_unknown_5',\n",
              "  6: 'furance_6',\n",
              "  7: 'outlets_unknown_7',\n",
              "  8: 'washer_dryer_8',\n",
              "  9: 'washer_dryer_9',\n",
              "  10: 'subpanel_10',\n",
              "  11: 'subpanel_11',\n",
              "  12: 'electric_heat_12',\n",
              "  13: 'electric_heat_13',\n",
              "  14: 'lighting_14',\n",
              "  15: 'outlets_unknown_15',\n",
              "  16: 'bathroom_gfi_16',\n",
              "  17: 'lighting_17',\n",
              "  18: 'refrigerator_18',\n",
              "  19: 'lighting_19',\n",
              "  20: 'dishwaser_20',\n",
              "  21: 'disposal_21',\n",
              "  22: 'electronics_22',\n",
              "  23: 'lighting_23',\n",
              "  24: 'kitchen_outlets_24',\n",
              "  25: 'kitchen_outlets_25',\n",
              "  26: 'outdoor_outlets_26'},\n",
              " 6: {1: 'mains_1',\n",
              "  2: 'mains_2',\n",
              "  3: 'kitchen_outlets_3',\n",
              "  4: 'washer_dryer_4',\n",
              "  5: 'stove_5',\n",
              "  6: 'electronics_6',\n",
              "  7: 'bathroom_gfi_7',\n",
              "  8: 'refrigerator_8',\n",
              "  9: 'dishwaser_9',\n",
              "  10: 'outlets_unknown_10',\n",
              "  11: 'outlets_unknown_11',\n",
              "  12: 'electric_heat_12',\n",
              "  13: 'kitchen_outlets_13',\n",
              "  14: 'lighting_14',\n",
              "  15: 'air_conditioning_15',\n",
              "  16: 'air_conditioning_16',\n",
              "  17: 'air_conditioning_17'}}"
            ]
          },
          "metadata": {
            "tags": []
          },
          "execution_count": 17
        }
      ]
    },
    {
      "cell_type": "markdown",
      "metadata": {
        "id": "LHvWiWUw8PqP"
      },
      "source": [
        "### *Converting raw dataset of a house into Pandas Dataframe and storing all the dataframes in a dictionary*"
      ]
    },
    {
      "cell_type": "code",
      "metadata": {
        "colab": {
          "base_uri": "https://localhost:8080/"
        },
        "id": "ZpsJbmShUqNa",
        "outputId": "b250a98d-7e0c-4d54-c118-468fd13b18b5"
      },
      "source": [
        "for i in range(1,7):\n",
        "    df_dic[i] = read_merge_data(i)\n",
        "    \n",
        "print(df_dic)"
      ],
      "execution_count": 18,
      "outputs": [
        {
          "output_type": "stream",
          "text": [
            "{1:                      mains_1  mains_2  ...  washer_dryer_19  washer_dryer_20\n",
            "2011-04-18 13:22:13   222.20   118.83  ...              0.0              0.0\n",
            "2011-04-18 13:22:16   223.17   119.19  ...              0.0              0.0\n",
            "2011-04-18 13:22:20   223.60   118.92  ...              0.0              0.0\n",
            "2011-04-18 13:22:23   222.91   119.16  ...              0.0              0.0\n",
            "2011-04-18 13:22:26   222.94   118.83  ...              0.0              0.0\n",
            "...                      ...      ...  ...              ...              ...\n",
            "2011-05-24 19:56:20   235.73    38.65  ...              0.0              0.0\n",
            "2011-05-24 19:56:23   235.03    38.66  ...              0.0              0.0\n",
            "2011-05-24 19:56:27   235.46    38.61  ...              0.0              0.0\n",
            "2011-05-24 19:56:30   235.98    38.77  ...              0.0              0.0\n",
            "2011-05-24 19:56:34   235.29    38.83  ...              0.0              0.0\n",
            "\n",
            "[406748 rows x 20 columns], 2:                      mains_1  mains_2  ...  dishwaser_10  disposal_11\n",
            "2011-04-18 05:31:40    15.71    22.61  ...           1.0          0.0\n",
            "2011-04-18 05:31:44    15.71    22.61  ...           0.0          0.0\n",
            "2011-04-18 05:31:47    15.72    22.61  ...           1.0          0.0\n",
            "2011-04-18 05:31:50    15.70    22.57  ...           0.0          0.0\n",
            "2011-04-18 05:32:05    15.64    22.61  ...           1.0          0.0\n",
            "...                      ...      ...  ...           ...          ...\n",
            "2011-05-22 23:58:54    10.78   252.55  ...           0.0          0.0\n",
            "2011-05-22 23:58:57    10.76   253.01  ...           0.0          0.0\n",
            "2011-05-22 23:59:01    10.84   252.61  ...           0.0          0.0\n",
            "2011-05-22 23:59:04    10.88   253.02  ...           0.0          0.0\n",
            "2011-05-22 23:59:08    10.84   252.77  ...           0.0          0.0\n",
            "\n",
            "[316840 rows x 11 columns], 3:                      mains_1  mains_2  ...  kitchen_outlets_21  kitchen_outlets_22\n",
            "2011-04-16 05:11:30   181.34   577.30  ...                 0.0                 0.0\n",
            "2011-04-16 05:11:33   180.74   577.39  ...                 0.0                 0.0\n",
            "2011-04-16 05:11:36   182.00   577.88  ...                 0.0                 0.0\n",
            "2011-04-16 05:11:40   181.44   578.44  ...                 0.0                 0.0\n",
            "2011-04-16 05:11:43   179.95   575.92  ...                 0.0                 0.0\n",
            "...                      ...      ...  ...                 ...                 ...\n",
            "2011-05-31 00:19:23    15.47     2.23  ...                 0.0                 2.5\n",
            "2011-05-31 00:19:26    15.48     2.23  ...                 0.0                 2.5\n",
            "2011-05-31 00:19:30    15.45     2.23  ...                 0.0                 2.5\n",
            "2011-05-31 00:19:33    15.42     2.23  ...                 0.0                 2.5\n",
            "2011-05-31 00:19:36    15.44     2.23  ...                 0.0                 2.5\n",
            "\n",
            "[376150 rows x 22 columns], 4:                      mains_1  mains_2  ...  lighting_19  air_conditioning_20\n",
            "2011-04-17 01:16:32   462.31    86.58  ...          0.0                  0.0\n",
            "2011-04-17 01:16:35   462.41    86.56  ...          0.0                  0.0\n",
            "2011-04-17 01:16:38   462.89    86.62  ...          0.0                  0.0\n",
            "2011-04-17 01:16:42   462.78    86.50  ...          0.0                  0.0\n",
            "2011-04-17 01:16:45   463.41    86.61  ...          0.0                  0.0\n",
            "...                      ...      ...  ...          ...                  ...\n",
            "2011-06-04 00:45:25   400.95    94.80  ...          0.0                  0.0\n",
            "2011-06-04 00:45:28   399.17    94.83  ...          0.0                  0.0\n",
            "2011-06-04 00:45:31   403.36    94.65  ...          0.0                  0.0\n",
            "2011-06-04 00:45:35   401.11    94.63  ...          0.0                  0.0\n",
            "2011-06-04 00:45:38   400.24    94.43  ...          0.0                  0.0\n",
            "\n",
            "[428076 rows x 20 columns], 5:                      mains_1  mains_2  ...  kitchen_outlets_25  outdoor_outlets_26\n",
            "2011-04-18 04:24:07   115.74   196.83  ...                 0.0                 0.0\n",
            "2011-04-18 04:24:11   115.78   197.87  ...                 0.0                 0.0\n",
            "2011-04-18 04:24:14   115.57   197.09  ...                 0.0                 0.0\n",
            "2011-04-18 04:24:18   115.37   196.08  ...                 0.0                 0.0\n",
            "2011-04-18 04:24:21   115.79   196.70  ...                 0.0                 0.0\n",
            "...                      ...      ...  ...                 ...                 ...\n",
            "2011-06-01 00:19:59   152.24    37.32  ...                 0.0                 0.0\n",
            "2011-06-01 00:20:03   151.72    37.41  ...                 0.0                 0.0\n",
            "2011-06-01 00:20:07   151.68    37.39  ...                 0.0                 0.0\n",
            "2011-06-01 00:20:10   150.42    37.21  ...                 0.0                 0.0\n",
            "2011-06-01 00:20:14   149.29    37.10  ...                 0.0                 0.0\n",
            "\n",
            "[77451 rows x 26 columns], 6:                      mains_1  mains_2  ...  air_conditioning_16  air_conditioning_17\n",
            "2011-05-21 19:39:51    46.78   255.62  ...                  0.0                  0.0\n",
            "2011-05-21 19:39:57    46.92   257.48  ...                  0.0                  0.0\n",
            "2011-05-21 19:40:00    46.82   255.07  ...                  0.0                  0.0\n",
            "2011-05-21 19:40:04    46.78   255.78  ...                  0.0                  0.0\n",
            "2011-05-21 19:40:07    46.82   256.38  ...                  0.0                  0.0\n",
            "...                      ...      ...  ...                  ...                  ...\n",
            "2011-06-14 01:12:20    19.78   399.61  ...                  0.0                  0.0\n",
            "2011-06-14 01:12:23    19.73   399.66  ...                  0.0                  0.0\n",
            "2011-06-14 01:12:25    19.82   401.65  ...                  0.0                  0.0\n",
            "2011-06-14 01:12:33    19.59   400.11  ...                  0.0                  0.0\n",
            "2011-06-14 01:12:36    19.59   399.47  ...                  0.0                  0.0\n",
            "\n",
            "[192192 rows x 17 columns]}\n"
          ],
          "name": "stdout"
        }
      ]
    },
    {
      "cell_type": "markdown",
      "metadata": {
        "id": "GvXg2pqb94N-"
      },
      "source": [
        "### *Checking the Number of days of available data of different houses*"
      ]
    },
    {
      "cell_type": "code",
      "metadata": {
        "colab": {
          "base_uri": "https://localhost:8080/"
        },
        "id": "C8Te_g_cU1Wv",
        "outputId": "9b36db59-6a91-4ea9-cf38-fe7edaede70a"
      },
      "source": [
        "for i in range(1,7):\n",
        "    dates[i] = [str(time)[:10] for time in df_dic[i].index.values]\n",
        "    dates[i] = sorted(list(set(dates[i])))\n",
        "    print('House {0} data contain {1} days from {2} to {3}.'.format(i,len(dates[i]),dates[i][0], dates[i][-1]))\n",
        "    print(dates[i], '\\n')"
      ],
      "execution_count": 19,
      "outputs": [
        {
          "output_type": "stream",
          "text": [
            "House 1 data contain 23 days from 2011-04-18 to 2011-05-24.\n",
            "['2011-04-18', '2011-04-19', '2011-04-20', '2011-04-21', '2011-04-22', '2011-04-23', '2011-04-24', '2011-04-25', '2011-04-26', '2011-04-27', '2011-04-28', '2011-04-30', '2011-05-01', '2011-05-02', '2011-05-03', '2011-05-06', '2011-05-07', '2011-05-11', '2011-05-12', '2011-05-13', '2011-05-22', '2011-05-23', '2011-05-24'] \n",
            "\n",
            "House 2 data contain 16 days from 2011-04-18 to 2011-05-22.\n",
            "['2011-04-18', '2011-04-19', '2011-04-20', '2011-04-21', '2011-04-22', '2011-04-23', '2011-04-24', '2011-04-25', '2011-04-26', '2011-04-27', '2011-04-28', '2011-04-29', '2011-04-30', '2011-05-01', '2011-05-02', '2011-05-22'] \n",
            "\n",
            "House 3 data contain 26 days from 2011-04-16 to 2011-05-31.\n",
            "['2011-04-16', '2011-04-17', '2011-04-18', '2011-04-19', '2011-04-20', '2011-04-21', '2011-04-22', '2011-04-23', '2011-04-24', '2011-04-25', '2011-04-26', '2011-04-27', '2011-04-28', '2011-05-17', '2011-05-18', '2011-05-19', '2011-05-21', '2011-05-22', '2011-05-23', '2011-05-24', '2011-05-25', '2011-05-26', '2011-05-27', '2011-05-28', '2011-05-30', '2011-05-31'] \n",
            "\n",
            "House 4 data contain 26 days from 2011-04-17 to 2011-06-04.\n",
            "['2011-04-17', '2011-04-18', '2011-04-19', '2011-04-20', '2011-04-21', '2011-04-22', '2011-04-23', '2011-04-24', '2011-04-25', '2011-04-26', '2011-04-27', '2011-04-28', '2011-04-29', '2011-04-30', '2011-05-01', '2011-05-02', '2011-05-22', '2011-05-23', '2011-05-24', '2011-05-25', '2011-05-26', '2011-05-27', '2011-05-28', '2011-05-29', '2011-06-03', '2011-06-04'] \n",
            "\n",
            "House 5 data contain 9 days from 2011-04-18 to 2011-06-01.\n",
            "['2011-04-18', '2011-04-19', '2011-04-20', '2011-04-21', '2011-05-22', '2011-05-23', '2011-05-24', '2011-05-31', '2011-06-01'] \n",
            "\n",
            "House 6 data contain 17 days from 2011-05-21 to 2011-06-14.\n",
            "['2011-05-21', '2011-05-22', '2011-05-24', '2011-05-25', '2011-05-26', '2011-05-27', '2011-05-28', '2011-05-29', '2011-05-30', '2011-05-31', '2011-06-08', '2011-06-09', '2011-06-10', '2011-06-11', '2011-06-12', '2011-06-13', '2011-06-14'] \n",
            "\n"
          ],
          "name": "stdout"
        }
      ]
    },
    {
      "cell_type": "code",
      "metadata": {
        "colab": {
          "base_uri": "https://localhost:8080/",
          "height": 1000
        },
        "id": "iGHadd-YWUFB",
        "outputId": "0aaa1f0f-a0f8-4e34-b16e-ea80e977705f"
      },
      "source": [
        "for i in range(1,7):\n",
        "    print('House {} data has shape: '.format(i), df_dic[i].shape)\n",
        "    display(df_dic[i].tail(3))"
      ],
      "execution_count": 20,
      "outputs": [
        {
          "output_type": "stream",
          "text": [
            "House 1 data has shape:  (406748, 20)\n"
          ],
          "name": "stdout"
        },
        {
          "output_type": "display_data",
          "data": {
            "text/html": [
              "<div>\n",
              "<style scoped>\n",
              "    .dataframe tbody tr th:only-of-type {\n",
              "        vertical-align: middle;\n",
              "    }\n",
              "\n",
              "    .dataframe tbody tr th {\n",
              "        vertical-align: top;\n",
              "    }\n",
              "\n",
              "    .dataframe thead th {\n",
              "        text-align: right;\n",
              "    }\n",
              "</style>\n",
              "<table border=\"1\" class=\"dataframe\">\n",
              "  <thead>\n",
              "    <tr style=\"text-align: right;\">\n",
              "      <th></th>\n",
              "      <th>mains_1</th>\n",
              "      <th>mains_2</th>\n",
              "      <th>oven_3</th>\n",
              "      <th>oven_4</th>\n",
              "      <th>refrigerator_5</th>\n",
              "      <th>dishwaser_6</th>\n",
              "      <th>kitchen_outlets_7</th>\n",
              "      <th>kitchen_outlets_8</th>\n",
              "      <th>lighting_9</th>\n",
              "      <th>washer_dryer_10</th>\n",
              "      <th>microwave_11</th>\n",
              "      <th>bathroom_gfi_12</th>\n",
              "      <th>electric_heat_13</th>\n",
              "      <th>stove_14</th>\n",
              "      <th>kitchen_outlets_15</th>\n",
              "      <th>kitchen_outlets_16</th>\n",
              "      <th>lighting_17</th>\n",
              "      <th>lighting_18</th>\n",
              "      <th>washer_dryer_19</th>\n",
              "      <th>washer_dryer_20</th>\n",
              "    </tr>\n",
              "  </thead>\n",
              "  <tbody>\n",
              "    <tr>\n",
              "      <th>2011-05-24 19:56:27</th>\n",
              "      <td>235.46</td>\n",
              "      <td>38.61</td>\n",
              "      <td>0.0</td>\n",
              "      <td>0.0</td>\n",
              "      <td>190.0</td>\n",
              "      <td>0.0</td>\n",
              "      <td>24.0</td>\n",
              "      <td>20.0</td>\n",
              "      <td>2.0</td>\n",
              "      <td>0.0</td>\n",
              "      <td>4.0</td>\n",
              "      <td>1.0</td>\n",
              "      <td>0.0</td>\n",
              "      <td>0.0</td>\n",
              "      <td>1.0</td>\n",
              "      <td>0.0</td>\n",
              "      <td>0.0</td>\n",
              "      <td>1.0</td>\n",
              "      <td>0.0</td>\n",
              "      <td>0.0</td>\n",
              "    </tr>\n",
              "    <tr>\n",
              "      <th>2011-05-24 19:56:30</th>\n",
              "      <td>235.98</td>\n",
              "      <td>38.77</td>\n",
              "      <td>0.0</td>\n",
              "      <td>0.0</td>\n",
              "      <td>189.0</td>\n",
              "      <td>0.0</td>\n",
              "      <td>24.0</td>\n",
              "      <td>20.0</td>\n",
              "      <td>2.0</td>\n",
              "      <td>0.0</td>\n",
              "      <td>4.0</td>\n",
              "      <td>1.0</td>\n",
              "      <td>0.0</td>\n",
              "      <td>0.0</td>\n",
              "      <td>1.0</td>\n",
              "      <td>0.0</td>\n",
              "      <td>0.0</td>\n",
              "      <td>1.0</td>\n",
              "      <td>0.0</td>\n",
              "      <td>0.0</td>\n",
              "    </tr>\n",
              "    <tr>\n",
              "      <th>2011-05-24 19:56:34</th>\n",
              "      <td>235.29</td>\n",
              "      <td>38.83</td>\n",
              "      <td>0.0</td>\n",
              "      <td>0.0</td>\n",
              "      <td>186.0</td>\n",
              "      <td>0.0</td>\n",
              "      <td>26.0</td>\n",
              "      <td>20.0</td>\n",
              "      <td>2.0</td>\n",
              "      <td>0.0</td>\n",
              "      <td>4.0</td>\n",
              "      <td>1.0</td>\n",
              "      <td>0.0</td>\n",
              "      <td>0.0</td>\n",
              "      <td>1.0</td>\n",
              "      <td>0.0</td>\n",
              "      <td>0.0</td>\n",
              "      <td>1.0</td>\n",
              "      <td>0.0</td>\n",
              "      <td>0.0</td>\n",
              "    </tr>\n",
              "  </tbody>\n",
              "</table>\n",
              "</div>"
            ],
            "text/plain": [
              "                     mains_1  mains_2  ...  washer_dryer_19  washer_dryer_20\n",
              "2011-05-24 19:56:27   235.46    38.61  ...              0.0              0.0\n",
              "2011-05-24 19:56:30   235.98    38.77  ...              0.0              0.0\n",
              "2011-05-24 19:56:34   235.29    38.83  ...              0.0              0.0\n",
              "\n",
              "[3 rows x 20 columns]"
            ]
          },
          "metadata": {
            "tags": []
          }
        },
        {
          "output_type": "stream",
          "text": [
            "House 2 data has shape:  (316840, 11)\n"
          ],
          "name": "stdout"
        },
        {
          "output_type": "display_data",
          "data": {
            "text/html": [
              "<div>\n",
              "<style scoped>\n",
              "    .dataframe tbody tr th:only-of-type {\n",
              "        vertical-align: middle;\n",
              "    }\n",
              "\n",
              "    .dataframe tbody tr th {\n",
              "        vertical-align: top;\n",
              "    }\n",
              "\n",
              "    .dataframe thead th {\n",
              "        text-align: right;\n",
              "    }\n",
              "</style>\n",
              "<table border=\"1\" class=\"dataframe\">\n",
              "  <thead>\n",
              "    <tr style=\"text-align: right;\">\n",
              "      <th></th>\n",
              "      <th>mains_1</th>\n",
              "      <th>mains_2</th>\n",
              "      <th>kitchen_outlets_3</th>\n",
              "      <th>lighting_4</th>\n",
              "      <th>stove_5</th>\n",
              "      <th>microwave_6</th>\n",
              "      <th>washer_dryer_7</th>\n",
              "      <th>kitchen_outlets_8</th>\n",
              "      <th>refrigerator_9</th>\n",
              "      <th>dishwaser_10</th>\n",
              "      <th>disposal_11</th>\n",
              "    </tr>\n",
              "  </thead>\n",
              "  <tbody>\n",
              "    <tr>\n",
              "      <th>2011-05-22 23:59:01</th>\n",
              "      <td>10.84</td>\n",
              "      <td>252.61</td>\n",
              "      <td>0.0</td>\n",
              "      <td>9.0</td>\n",
              "      <td>0.0</td>\n",
              "      <td>5.0</td>\n",
              "      <td>0.0</td>\n",
              "      <td>2.0</td>\n",
              "      <td>158.0</td>\n",
              "      <td>0.0</td>\n",
              "      <td>0.0</td>\n",
              "    </tr>\n",
              "    <tr>\n",
              "      <th>2011-05-22 23:59:04</th>\n",
              "      <td>10.88</td>\n",
              "      <td>253.02</td>\n",
              "      <td>0.0</td>\n",
              "      <td>9.0</td>\n",
              "      <td>0.0</td>\n",
              "      <td>4.0</td>\n",
              "      <td>0.0</td>\n",
              "      <td>2.0</td>\n",
              "      <td>160.0</td>\n",
              "      <td>0.0</td>\n",
              "      <td>0.0</td>\n",
              "    </tr>\n",
              "    <tr>\n",
              "      <th>2011-05-22 23:59:08</th>\n",
              "      <td>10.84</td>\n",
              "      <td>252.77</td>\n",
              "      <td>0.0</td>\n",
              "      <td>9.0</td>\n",
              "      <td>0.0</td>\n",
              "      <td>4.0</td>\n",
              "      <td>0.0</td>\n",
              "      <td>2.0</td>\n",
              "      <td>157.0</td>\n",
              "      <td>0.0</td>\n",
              "      <td>0.0</td>\n",
              "    </tr>\n",
              "  </tbody>\n",
              "</table>\n",
              "</div>"
            ],
            "text/plain": [
              "                     mains_1  mains_2  ...  dishwaser_10  disposal_11\n",
              "2011-05-22 23:59:01    10.84   252.61  ...           0.0          0.0\n",
              "2011-05-22 23:59:04    10.88   253.02  ...           0.0          0.0\n",
              "2011-05-22 23:59:08    10.84   252.77  ...           0.0          0.0\n",
              "\n",
              "[3 rows x 11 columns]"
            ]
          },
          "metadata": {
            "tags": []
          }
        },
        {
          "output_type": "stream",
          "text": [
            "House 3 data has shape:  (376150, 22)\n"
          ],
          "name": "stdout"
        },
        {
          "output_type": "display_data",
          "data": {
            "text/html": [
              "<div>\n",
              "<style scoped>\n",
              "    .dataframe tbody tr th:only-of-type {\n",
              "        vertical-align: middle;\n",
              "    }\n",
              "\n",
              "    .dataframe tbody tr th {\n",
              "        vertical-align: top;\n",
              "    }\n",
              "\n",
              "    .dataframe thead th {\n",
              "        text-align: right;\n",
              "    }\n",
              "</style>\n",
              "<table border=\"1\" class=\"dataframe\">\n",
              "  <thead>\n",
              "    <tr style=\"text-align: right;\">\n",
              "      <th></th>\n",
              "      <th>mains_1</th>\n",
              "      <th>mains_2</th>\n",
              "      <th>outlets_unknown_3</th>\n",
              "      <th>outlets_unknown_4</th>\n",
              "      <th>lighting_5</th>\n",
              "      <th>electronics_6</th>\n",
              "      <th>refrigerator_7</th>\n",
              "      <th>disposal_8</th>\n",
              "      <th>dishwaser_9</th>\n",
              "      <th>furance_10</th>\n",
              "      <th>lighting_11</th>\n",
              "      <th>outlets_unknown_12</th>\n",
              "      <th>washer_dryer_13</th>\n",
              "      <th>washer_dryer_14</th>\n",
              "      <th>lighting_15</th>\n",
              "      <th>microwave_16</th>\n",
              "      <th>lighting_17</th>\n",
              "      <th>smoke_alarms_18</th>\n",
              "      <th>lighting_19</th>\n",
              "      <th>bathroom_gfi_20</th>\n",
              "      <th>kitchen_outlets_21</th>\n",
              "      <th>kitchen_outlets_22</th>\n",
              "    </tr>\n",
              "  </thead>\n",
              "  <tbody>\n",
              "    <tr>\n",
              "      <th>2011-05-31 00:19:30</th>\n",
              "      <td>15.45</td>\n",
              "      <td>2.23</td>\n",
              "      <td>0.0</td>\n",
              "      <td>1.0</td>\n",
              "      <td>1.0</td>\n",
              "      <td>1139.0</td>\n",
              "      <td>8.0</td>\n",
              "      <td>6.0</td>\n",
              "      <td>3.0</td>\n",
              "      <td>7.0</td>\n",
              "      <td>147.0</td>\n",
              "      <td>0.0</td>\n",
              "      <td>0.0</td>\n",
              "      <td>0.0</td>\n",
              "      <td>1.0</td>\n",
              "      <td>2.0</td>\n",
              "      <td>10.0</td>\n",
              "      <td>0.0</td>\n",
              "      <td>0.0</td>\n",
              "      <td>0.0</td>\n",
              "      <td>0.0</td>\n",
              "      <td>2.5</td>\n",
              "    </tr>\n",
              "    <tr>\n",
              "      <th>2011-05-31 00:19:33</th>\n",
              "      <td>15.42</td>\n",
              "      <td>2.23</td>\n",
              "      <td>0.0</td>\n",
              "      <td>1.0</td>\n",
              "      <td>1.0</td>\n",
              "      <td>1138.0</td>\n",
              "      <td>8.0</td>\n",
              "      <td>6.0</td>\n",
              "      <td>3.0</td>\n",
              "      <td>7.0</td>\n",
              "      <td>147.0</td>\n",
              "      <td>0.0</td>\n",
              "      <td>0.0</td>\n",
              "      <td>0.0</td>\n",
              "      <td>1.0</td>\n",
              "      <td>2.0</td>\n",
              "      <td>10.0</td>\n",
              "      <td>0.0</td>\n",
              "      <td>0.0</td>\n",
              "      <td>0.0</td>\n",
              "      <td>0.0</td>\n",
              "      <td>2.5</td>\n",
              "    </tr>\n",
              "    <tr>\n",
              "      <th>2011-05-31 00:19:36</th>\n",
              "      <td>15.44</td>\n",
              "      <td>2.23</td>\n",
              "      <td>0.0</td>\n",
              "      <td>1.0</td>\n",
              "      <td>1.0</td>\n",
              "      <td>1134.0</td>\n",
              "      <td>7.0</td>\n",
              "      <td>6.0</td>\n",
              "      <td>3.0</td>\n",
              "      <td>7.0</td>\n",
              "      <td>147.0</td>\n",
              "      <td>0.0</td>\n",
              "      <td>0.0</td>\n",
              "      <td>0.0</td>\n",
              "      <td>1.0</td>\n",
              "      <td>2.0</td>\n",
              "      <td>10.0</td>\n",
              "      <td>0.0</td>\n",
              "      <td>0.0</td>\n",
              "      <td>0.0</td>\n",
              "      <td>0.0</td>\n",
              "      <td>2.5</td>\n",
              "    </tr>\n",
              "  </tbody>\n",
              "</table>\n",
              "</div>"
            ],
            "text/plain": [
              "                     mains_1  mains_2  ...  kitchen_outlets_21  kitchen_outlets_22\n",
              "2011-05-31 00:19:30    15.45     2.23  ...                 0.0                 2.5\n",
              "2011-05-31 00:19:33    15.42     2.23  ...                 0.0                 2.5\n",
              "2011-05-31 00:19:36    15.44     2.23  ...                 0.0                 2.5\n",
              "\n",
              "[3 rows x 22 columns]"
            ]
          },
          "metadata": {
            "tags": []
          }
        },
        {
          "output_type": "stream",
          "text": [
            "House 4 data has shape:  (428076, 20)\n"
          ],
          "name": "stdout"
        },
        {
          "output_type": "display_data",
          "data": {
            "text/html": [
              "<div>\n",
              "<style scoped>\n",
              "    .dataframe tbody tr th:only-of-type {\n",
              "        vertical-align: middle;\n",
              "    }\n",
              "\n",
              "    .dataframe tbody tr th {\n",
              "        vertical-align: top;\n",
              "    }\n",
              "\n",
              "    .dataframe thead th {\n",
              "        text-align: right;\n",
              "    }\n",
              "</style>\n",
              "<table border=\"1\" class=\"dataframe\">\n",
              "  <thead>\n",
              "    <tr style=\"text-align: right;\">\n",
              "      <th></th>\n",
              "      <th>mains_1</th>\n",
              "      <th>mains_2</th>\n",
              "      <th>lighting_3</th>\n",
              "      <th>furance_4</th>\n",
              "      <th>kitchen_outlets_5</th>\n",
              "      <th>outlets_unknown_6</th>\n",
              "      <th>washer_dryer_7</th>\n",
              "      <th>stove_8</th>\n",
              "      <th>air_conditioning_9</th>\n",
              "      <th>air_conditioning_10</th>\n",
              "      <th>miscellaeneous_11</th>\n",
              "      <th>smoke_alarms_12</th>\n",
              "      <th>lighting_13</th>\n",
              "      <th>kitchen_outlets_14</th>\n",
              "      <th>dishwaser_15</th>\n",
              "      <th>bathroom_gfi_16</th>\n",
              "      <th>bathroom_gfi_17</th>\n",
              "      <th>lighting_18</th>\n",
              "      <th>lighting_19</th>\n",
              "      <th>air_conditioning_20</th>\n",
              "    </tr>\n",
              "  </thead>\n",
              "  <tbody>\n",
              "    <tr>\n",
              "      <th>2011-06-04 00:45:31</th>\n",
              "      <td>403.36</td>\n",
              "      <td>94.65</td>\n",
              "      <td>173.0</td>\n",
              "      <td>27.0</td>\n",
              "      <td>38.0</td>\n",
              "      <td>3.0</td>\n",
              "      <td>1.0</td>\n",
              "      <td>5.0</td>\n",
              "      <td>0.0</td>\n",
              "      <td>0.0</td>\n",
              "      <td>1.0</td>\n",
              "      <td>0.0</td>\n",
              "      <td>25.0</td>\n",
              "      <td>135.0</td>\n",
              "      <td>0.0</td>\n",
              "      <td>0.0</td>\n",
              "      <td>1.0</td>\n",
              "      <td>0.0</td>\n",
              "      <td>0.0</td>\n",
              "      <td>0.0</td>\n",
              "    </tr>\n",
              "    <tr>\n",
              "      <th>2011-06-04 00:45:35</th>\n",
              "      <td>401.11</td>\n",
              "      <td>94.63</td>\n",
              "      <td>174.0</td>\n",
              "      <td>27.0</td>\n",
              "      <td>34.0</td>\n",
              "      <td>4.0</td>\n",
              "      <td>1.0</td>\n",
              "      <td>5.0</td>\n",
              "      <td>0.0</td>\n",
              "      <td>0.0</td>\n",
              "      <td>1.0</td>\n",
              "      <td>0.0</td>\n",
              "      <td>25.0</td>\n",
              "      <td>135.0</td>\n",
              "      <td>0.0</td>\n",
              "      <td>0.0</td>\n",
              "      <td>1.0</td>\n",
              "      <td>0.0</td>\n",
              "      <td>0.0</td>\n",
              "      <td>0.0</td>\n",
              "    </tr>\n",
              "    <tr>\n",
              "      <th>2011-06-04 00:45:38</th>\n",
              "      <td>400.24</td>\n",
              "      <td>94.43</td>\n",
              "      <td>175.0</td>\n",
              "      <td>27.0</td>\n",
              "      <td>38.0</td>\n",
              "      <td>4.0</td>\n",
              "      <td>1.0</td>\n",
              "      <td>5.0</td>\n",
              "      <td>0.0</td>\n",
              "      <td>0.0</td>\n",
              "      <td>2.0</td>\n",
              "      <td>0.0</td>\n",
              "      <td>25.0</td>\n",
              "      <td>135.0</td>\n",
              "      <td>0.0</td>\n",
              "      <td>0.0</td>\n",
              "      <td>1.0</td>\n",
              "      <td>0.0</td>\n",
              "      <td>0.0</td>\n",
              "      <td>0.0</td>\n",
              "    </tr>\n",
              "  </tbody>\n",
              "</table>\n",
              "</div>"
            ],
            "text/plain": [
              "                     mains_1  mains_2  ...  lighting_19  air_conditioning_20\n",
              "2011-06-04 00:45:31   403.36    94.65  ...          0.0                  0.0\n",
              "2011-06-04 00:45:35   401.11    94.63  ...          0.0                  0.0\n",
              "2011-06-04 00:45:38   400.24    94.43  ...          0.0                  0.0\n",
              "\n",
              "[3 rows x 20 columns]"
            ]
          },
          "metadata": {
            "tags": []
          }
        },
        {
          "output_type": "stream",
          "text": [
            "House 5 data has shape:  (77451, 26)\n"
          ],
          "name": "stdout"
        },
        {
          "output_type": "display_data",
          "data": {
            "text/html": [
              "<div>\n",
              "<style scoped>\n",
              "    .dataframe tbody tr th:only-of-type {\n",
              "        vertical-align: middle;\n",
              "    }\n",
              "\n",
              "    .dataframe tbody tr th {\n",
              "        vertical-align: top;\n",
              "    }\n",
              "\n",
              "    .dataframe thead th {\n",
              "        text-align: right;\n",
              "    }\n",
              "</style>\n",
              "<table border=\"1\" class=\"dataframe\">\n",
              "  <thead>\n",
              "    <tr style=\"text-align: right;\">\n",
              "      <th></th>\n",
              "      <th>mains_1</th>\n",
              "      <th>mains_2</th>\n",
              "      <th>microwave_3</th>\n",
              "      <th>lighting_4</th>\n",
              "      <th>outlets_unknown_5</th>\n",
              "      <th>furance_6</th>\n",
              "      <th>outlets_unknown_7</th>\n",
              "      <th>washer_dryer_8</th>\n",
              "      <th>washer_dryer_9</th>\n",
              "      <th>subpanel_10</th>\n",
              "      <th>subpanel_11</th>\n",
              "      <th>electric_heat_12</th>\n",
              "      <th>electric_heat_13</th>\n",
              "      <th>lighting_14</th>\n",
              "      <th>outlets_unknown_15</th>\n",
              "      <th>bathroom_gfi_16</th>\n",
              "      <th>lighting_17</th>\n",
              "      <th>refrigerator_18</th>\n",
              "      <th>lighting_19</th>\n",
              "      <th>dishwaser_20</th>\n",
              "      <th>disposal_21</th>\n",
              "      <th>electronics_22</th>\n",
              "      <th>lighting_23</th>\n",
              "      <th>kitchen_outlets_24</th>\n",
              "      <th>kitchen_outlets_25</th>\n",
              "      <th>outdoor_outlets_26</th>\n",
              "    </tr>\n",
              "  </thead>\n",
              "  <tbody>\n",
              "    <tr>\n",
              "      <th>2011-06-01 00:20:07</th>\n",
              "      <td>151.68</td>\n",
              "      <td>37.39</td>\n",
              "      <td>3.0</td>\n",
              "      <td>0.0</td>\n",
              "      <td>3.0</td>\n",
              "      <td>7.0</td>\n",
              "      <td>0.0</td>\n",
              "      <td>0.0</td>\n",
              "      <td>0.0</td>\n",
              "      <td>12.5</td>\n",
              "      <td>5.0</td>\n",
              "      <td>0.0</td>\n",
              "      <td>0.0</td>\n",
              "      <td>3.0</td>\n",
              "      <td>0.0</td>\n",
              "      <td>1.0</td>\n",
              "      <td>0.0</td>\n",
              "      <td>0.0</td>\n",
              "      <td>2.0</td>\n",
              "      <td>0.0</td>\n",
              "      <td>0.0</td>\n",
              "      <td>5.0</td>\n",
              "      <td>115.0</td>\n",
              "      <td>0.0</td>\n",
              "      <td>0.0</td>\n",
              "      <td>0.0</td>\n",
              "    </tr>\n",
              "    <tr>\n",
              "      <th>2011-06-01 00:20:10</th>\n",
              "      <td>150.42</td>\n",
              "      <td>37.21</td>\n",
              "      <td>3.0</td>\n",
              "      <td>0.0</td>\n",
              "      <td>3.0</td>\n",
              "      <td>7.0</td>\n",
              "      <td>0.0</td>\n",
              "      <td>0.0</td>\n",
              "      <td>0.0</td>\n",
              "      <td>12.5</td>\n",
              "      <td>5.0</td>\n",
              "      <td>0.0</td>\n",
              "      <td>0.0</td>\n",
              "      <td>3.0</td>\n",
              "      <td>0.0</td>\n",
              "      <td>1.0</td>\n",
              "      <td>0.0</td>\n",
              "      <td>1.0</td>\n",
              "      <td>2.0</td>\n",
              "      <td>0.0</td>\n",
              "      <td>0.0</td>\n",
              "      <td>5.0</td>\n",
              "      <td>100.0</td>\n",
              "      <td>0.0</td>\n",
              "      <td>0.0</td>\n",
              "      <td>0.0</td>\n",
              "    </tr>\n",
              "    <tr>\n",
              "      <th>2011-06-01 00:20:14</th>\n",
              "      <td>149.29</td>\n",
              "      <td>37.10</td>\n",
              "      <td>3.0</td>\n",
              "      <td>0.0</td>\n",
              "      <td>3.0</td>\n",
              "      <td>7.0</td>\n",
              "      <td>0.0</td>\n",
              "      <td>0.0</td>\n",
              "      <td>0.0</td>\n",
              "      <td>12.5</td>\n",
              "      <td>5.0</td>\n",
              "      <td>0.0</td>\n",
              "      <td>0.0</td>\n",
              "      <td>3.0</td>\n",
              "      <td>0.0</td>\n",
              "      <td>1.0</td>\n",
              "      <td>0.0</td>\n",
              "      <td>0.0</td>\n",
              "      <td>2.0</td>\n",
              "      <td>0.0</td>\n",
              "      <td>0.0</td>\n",
              "      <td>5.0</td>\n",
              "      <td>97.5</td>\n",
              "      <td>0.0</td>\n",
              "      <td>0.0</td>\n",
              "      <td>0.0</td>\n",
              "    </tr>\n",
              "  </tbody>\n",
              "</table>\n",
              "</div>"
            ],
            "text/plain": [
              "                     mains_1  mains_2  ...  kitchen_outlets_25  outdoor_outlets_26\n",
              "2011-06-01 00:20:07   151.68    37.39  ...                 0.0                 0.0\n",
              "2011-06-01 00:20:10   150.42    37.21  ...                 0.0                 0.0\n",
              "2011-06-01 00:20:14   149.29    37.10  ...                 0.0                 0.0\n",
              "\n",
              "[3 rows x 26 columns]"
            ]
          },
          "metadata": {
            "tags": []
          }
        },
        {
          "output_type": "stream",
          "text": [
            "House 6 data has shape:  (192192, 17)\n"
          ],
          "name": "stdout"
        },
        {
          "output_type": "display_data",
          "data": {
            "text/html": [
              "<div>\n",
              "<style scoped>\n",
              "    .dataframe tbody tr th:only-of-type {\n",
              "        vertical-align: middle;\n",
              "    }\n",
              "\n",
              "    .dataframe tbody tr th {\n",
              "        vertical-align: top;\n",
              "    }\n",
              "\n",
              "    .dataframe thead th {\n",
              "        text-align: right;\n",
              "    }\n",
              "</style>\n",
              "<table border=\"1\" class=\"dataframe\">\n",
              "  <thead>\n",
              "    <tr style=\"text-align: right;\">\n",
              "      <th></th>\n",
              "      <th>mains_1</th>\n",
              "      <th>mains_2</th>\n",
              "      <th>kitchen_outlets_3</th>\n",
              "      <th>washer_dryer_4</th>\n",
              "      <th>stove_5</th>\n",
              "      <th>electronics_6</th>\n",
              "      <th>bathroom_gfi_7</th>\n",
              "      <th>refrigerator_8</th>\n",
              "      <th>dishwaser_9</th>\n",
              "      <th>outlets_unknown_10</th>\n",
              "      <th>outlets_unknown_11</th>\n",
              "      <th>electric_heat_12</th>\n",
              "      <th>kitchen_outlets_13</th>\n",
              "      <th>lighting_14</th>\n",
              "      <th>air_conditioning_15</th>\n",
              "      <th>air_conditioning_16</th>\n",
              "      <th>air_conditioning_17</th>\n",
              "    </tr>\n",
              "  </thead>\n",
              "  <tbody>\n",
              "    <tr>\n",
              "      <th>2011-06-14 01:12:25</th>\n",
              "      <td>19.82</td>\n",
              "      <td>401.65</td>\n",
              "      <td>4.0</td>\n",
              "      <td>3.0</td>\n",
              "      <td>1.0</td>\n",
              "      <td>0.0</td>\n",
              "      <td>4.0</td>\n",
              "      <td>140.0</td>\n",
              "      <td>0.0</td>\n",
              "      <td>87.0</td>\n",
              "      <td>0.0</td>\n",
              "      <td>7.0</td>\n",
              "      <td>1.0</td>\n",
              "      <td>114.0</td>\n",
              "      <td>4.0</td>\n",
              "      <td>0.0</td>\n",
              "      <td>0.0</td>\n",
              "    </tr>\n",
              "    <tr>\n",
              "      <th>2011-06-14 01:12:33</th>\n",
              "      <td>19.59</td>\n",
              "      <td>400.11</td>\n",
              "      <td>4.0</td>\n",
              "      <td>3.0</td>\n",
              "      <td>1.0</td>\n",
              "      <td>0.0</td>\n",
              "      <td>3.0</td>\n",
              "      <td>143.0</td>\n",
              "      <td>0.0</td>\n",
              "      <td>87.0</td>\n",
              "      <td>0.0</td>\n",
              "      <td>7.0</td>\n",
              "      <td>1.0</td>\n",
              "      <td>113.0</td>\n",
              "      <td>4.0</td>\n",
              "      <td>0.0</td>\n",
              "      <td>0.0</td>\n",
              "    </tr>\n",
              "    <tr>\n",
              "      <th>2011-06-14 01:12:36</th>\n",
              "      <td>19.59</td>\n",
              "      <td>399.47</td>\n",
              "      <td>4.0</td>\n",
              "      <td>3.0</td>\n",
              "      <td>1.0</td>\n",
              "      <td>0.0</td>\n",
              "      <td>3.0</td>\n",
              "      <td>143.0</td>\n",
              "      <td>0.0</td>\n",
              "      <td>87.0</td>\n",
              "      <td>0.0</td>\n",
              "      <td>7.0</td>\n",
              "      <td>0.0</td>\n",
              "      <td>113.0</td>\n",
              "      <td>4.0</td>\n",
              "      <td>0.0</td>\n",
              "      <td>0.0</td>\n",
              "    </tr>\n",
              "  </tbody>\n",
              "</table>\n",
              "</div>"
            ],
            "text/plain": [
              "                     mains_1  mains_2  ...  air_conditioning_16  air_conditioning_17\n",
              "2011-06-14 01:12:25    19.82   401.65  ...                  0.0                  0.0\n",
              "2011-06-14 01:12:33    19.59   400.11  ...                  0.0                  0.0\n",
              "2011-06-14 01:12:36    19.59   399.47  ...                  0.0                  0.0\n",
              "\n",
              "[3 rows x 17 columns]"
            ]
          },
          "metadata": {
            "tags": []
          }
        }
      ]
    },
    {
      "cell_type": "markdown",
      "metadata": {
        "id": "uk3EE_0TEamg"
      },
      "source": [
        "### *Preparing training data - house 1 & 4, Appliance- Kitchen_outlet*"
      ]
    },
    {
      "cell_type": "code",
      "metadata": {
        "id": "g6MQ_LzQ4zSU"
      },
      "source": [
        "df_list = [df_dic[1], df_dic[4]]\n",
        "dfs = add_houses(df_list, 'kitchen')"
      ],
      "execution_count": 21,
      "outputs": []
    },
    {
      "cell_type": "code",
      "metadata": {
        "colab": {
          "base_uri": "https://localhost:8080/",
          "height": 399
        },
        "id": "Q8CJDvDB-t5j",
        "outputId": "4d23bbc6-e223-4c8f-9ef7-9fa59a8f6176"
      },
      "source": [
        "dfs"
      ],
      "execution_count": 22,
      "outputs": [
        {
          "output_type": "execute_result",
          "data": {
            "text/html": [
              "<div>\n",
              "<style scoped>\n",
              "    .dataframe tbody tr th:only-of-type {\n",
              "        vertical-align: middle;\n",
              "    }\n",
              "\n",
              "    .dataframe tbody tr th {\n",
              "        vertical-align: top;\n",
              "    }\n",
              "\n",
              "    .dataframe thead th {\n",
              "        text-align: right;\n",
              "    }\n",
              "</style>\n",
              "<table border=\"1\" class=\"dataframe\">\n",
              "  <thead>\n",
              "    <tr style=\"text-align: right;\">\n",
              "      <th></th>\n",
              "      <th>aggregate_mains</th>\n",
              "      <th>kitchen</th>\n",
              "    </tr>\n",
              "  </thead>\n",
              "  <tbody>\n",
              "    <tr>\n",
              "      <th>2011-04-18 13:22:13</th>\n",
              "      <td>341.03</td>\n",
              "      <td>34.0</td>\n",
              "    </tr>\n",
              "    <tr>\n",
              "      <th>2011-04-18 13:22:16</th>\n",
              "      <td>342.36</td>\n",
              "      <td>34.0</td>\n",
              "    </tr>\n",
              "    <tr>\n",
              "      <th>2011-04-18 13:22:20</th>\n",
              "      <td>342.52</td>\n",
              "      <td>34.0</td>\n",
              "    </tr>\n",
              "    <tr>\n",
              "      <th>2011-04-18 13:22:23</th>\n",
              "      <td>342.07</td>\n",
              "      <td>35.0</td>\n",
              "    </tr>\n",
              "    <tr>\n",
              "      <th>2011-04-18 13:22:26</th>\n",
              "      <td>341.77</td>\n",
              "      <td>34.0</td>\n",
              "    </tr>\n",
              "    <tr>\n",
              "      <th>...</th>\n",
              "      <td>...</td>\n",
              "      <td>...</td>\n",
              "    </tr>\n",
              "    <tr>\n",
              "      <th>2011-06-04 00:45:25</th>\n",
              "      <td>495.75</td>\n",
              "      <td>34.0</td>\n",
              "    </tr>\n",
              "    <tr>\n",
              "      <th>2011-06-04 00:45:28</th>\n",
              "      <td>494.00</td>\n",
              "      <td>36.0</td>\n",
              "    </tr>\n",
              "    <tr>\n",
              "      <th>2011-06-04 00:45:31</th>\n",
              "      <td>498.01</td>\n",
              "      <td>38.0</td>\n",
              "    </tr>\n",
              "    <tr>\n",
              "      <th>2011-06-04 00:45:35</th>\n",
              "      <td>495.74</td>\n",
              "      <td>34.0</td>\n",
              "    </tr>\n",
              "    <tr>\n",
              "      <th>2011-06-04 00:45:38</th>\n",
              "      <td>494.67</td>\n",
              "      <td>38.0</td>\n",
              "    </tr>\n",
              "  </tbody>\n",
              "</table>\n",
              "<p>834824 rows × 2 columns</p>\n",
              "</div>"
            ],
            "text/plain": [
              "                     aggregate_mains  kitchen\n",
              "2011-04-18 13:22:13           341.03     34.0\n",
              "2011-04-18 13:22:16           342.36     34.0\n",
              "2011-04-18 13:22:20           342.52     34.0\n",
              "2011-04-18 13:22:23           342.07     35.0\n",
              "2011-04-18 13:22:26           341.77     34.0\n",
              "...                              ...      ...\n",
              "2011-06-04 00:45:25           495.75     34.0\n",
              "2011-06-04 00:45:28           494.00     36.0\n",
              "2011-06-04 00:45:31           498.01     38.0\n",
              "2011-06-04 00:45:35           495.74     34.0\n",
              "2011-06-04 00:45:38           494.67     38.0\n",
              "\n",
              "[834824 rows x 2 columns]"
            ]
          },
          "metadata": {
            "tags": []
          },
          "execution_count": 22
        }
      ]
    },
    {
      "cell_type": "markdown",
      "metadata": {
        "id": "pNpqi_P7Epzi"
      },
      "source": [
        "### *Creating window chunk and normalizing dataframe*"
      ]
    },
    {
      "cell_type": "code",
      "metadata": {
        "id": "mr8YQGhOdz1F"
      },
      "source": [
        " nmax = max_value(dfs)"
      ],
      "execution_count": 23,
      "outputs": []
    },
    {
      "cell_type": "code",
      "metadata": {
        "colab": {
          "base_uri": "https://localhost:8080/",
          "height": 399
        },
        "id": "GiLgjt5mZ0MH",
        "outputId": "69354f9d-d6e2-4adb-f1a5-7eb63b51416f"
      },
      "source": [
        "df = preprocess_data(dfs, 'kitchen', nmax)\n",
        "\n",
        "df"
      ],
      "execution_count": 24,
      "outputs": [
        {
          "output_type": "execute_result",
          "data": {
            "text/html": [
              "<div>\n",
              "<style scoped>\n",
              "    .dataframe tbody tr th:only-of-type {\n",
              "        vertical-align: middle;\n",
              "    }\n",
              "\n",
              "    .dataframe tbody tr th {\n",
              "        vertical-align: top;\n",
              "    }\n",
              "\n",
              "    .dataframe thead th {\n",
              "        text-align: right;\n",
              "    }\n",
              "</style>\n",
              "<table border=\"1\" class=\"dataframe\">\n",
              "  <thead>\n",
              "    <tr style=\"text-align: right;\">\n",
              "      <th></th>\n",
              "      <th>aggregate_mains</th>\n",
              "      <th>kitchen</th>\n",
              "    </tr>\n",
              "  </thead>\n",
              "  <tbody>\n",
              "    <tr>\n",
              "      <th>2011-04-18 13:22:13</th>\n",
              "      <td>0.028594</td>\n",
              "      <td>0.002851</td>\n",
              "    </tr>\n",
              "    <tr>\n",
              "      <th>2011-04-18 13:22:16</th>\n",
              "      <td>0.028706</td>\n",
              "      <td>0.002851</td>\n",
              "    </tr>\n",
              "    <tr>\n",
              "      <th>2011-04-18 13:22:20</th>\n",
              "      <td>0.028719</td>\n",
              "      <td>0.002851</td>\n",
              "    </tr>\n",
              "    <tr>\n",
              "      <th>2011-04-18 13:22:23</th>\n",
              "      <td>0.028681</td>\n",
              "      <td>0.002935</td>\n",
              "    </tr>\n",
              "    <tr>\n",
              "      <th>2011-04-18 13:22:26</th>\n",
              "      <td>0.028656</td>\n",
              "      <td>0.002851</td>\n",
              "    </tr>\n",
              "    <tr>\n",
              "      <th>...</th>\n",
              "      <td>...</td>\n",
              "      <td>...</td>\n",
              "    </tr>\n",
              "    <tr>\n",
              "      <th>2011-06-04 00:45:25</th>\n",
              "      <td>0.041567</td>\n",
              "      <td>0.002851</td>\n",
              "    </tr>\n",
              "    <tr>\n",
              "      <th>2011-06-04 00:45:28</th>\n",
              "      <td>0.041420</td>\n",
              "      <td>0.003018</td>\n",
              "    </tr>\n",
              "    <tr>\n",
              "      <th>2011-06-04 00:45:31</th>\n",
              "      <td>0.041756</td>\n",
              "      <td>0.003186</td>\n",
              "    </tr>\n",
              "    <tr>\n",
              "      <th>2011-06-04 00:45:35</th>\n",
              "      <td>0.041566</td>\n",
              "      <td>0.002851</td>\n",
              "    </tr>\n",
              "    <tr>\n",
              "      <th>2011-06-04 00:45:38</th>\n",
              "      <td>0.041476</td>\n",
              "      <td>0.003186</td>\n",
              "    </tr>\n",
              "  </tbody>\n",
              "</table>\n",
              "<p>834824 rows × 2 columns</p>\n",
              "</div>"
            ],
            "text/plain": [
              "                     aggregate_mains   kitchen\n",
              "2011-04-18 13:22:13         0.028594  0.002851\n",
              "2011-04-18 13:22:16         0.028706  0.002851\n",
              "2011-04-18 13:22:20         0.028719  0.002851\n",
              "2011-04-18 13:22:23         0.028681  0.002935\n",
              "2011-04-18 13:22:26         0.028656  0.002851\n",
              "...                              ...       ...\n",
              "2011-06-04 00:45:25         0.041567  0.002851\n",
              "2011-06-04 00:45:28         0.041420  0.003018\n",
              "2011-06-04 00:45:31         0.041756  0.003186\n",
              "2011-06-04 00:45:35         0.041566  0.002851\n",
              "2011-06-04 00:45:38         0.041476  0.003186\n",
              "\n",
              "[834824 rows x 2 columns]"
            ]
          },
          "metadata": {
            "tags": []
          },
          "execution_count": 24
        }
      ]
    },
    {
      "cell_type": "code",
      "metadata": {
        "id": "bmzqbrmUVI4R"
      },
      "source": [
        "sequence_length = window_size\n",
        "\n",
        "\n",
        "x = create_window_chunk(df['aggregate_mains'], sequence_length)\n",
        "\n",
        "y = df['kitchen'][sequence_length:]"
      ],
      "execution_count": 25,
      "outputs": []
    },
    {
      "cell_type": "code",
      "metadata": {
        "id": "-rCIiyxuehQw"
      },
      "source": [
        "x = np.array(x)\n",
        "y = np.array(y)"
      ],
      "execution_count": 26,
      "outputs": []
    },
    {
      "cell_type": "markdown",
      "metadata": {
        "id": "-B3mgPBQE_7Y"
      },
      "source": [
        "### *reshaping the data*"
      ]
    },
    {
      "cell_type": "code",
      "metadata": {
        "id": "3rcs9TDg1Qdo"
      },
      "source": [
        "x_train = np.reshape(x, (x.shape[0], x.shape[1], 1))"
      ],
      "execution_count": 29,
      "outputs": []
    },
    {
      "cell_type": "markdown",
      "metadata": {
        "id": "co3If9FC06WC"
      },
      "source": [
        "# **Creating Model**"
      ]
    },
    {
      "cell_type": "code",
      "metadata": {
        "colab": {
          "base_uri": "https://localhost:8080/"
        },
        "id": "eoAfpSrgTTry",
        "outputId": "c3ce979a-3a94-450a-bf91-8a9b21432b48"
      },
      "source": [
        "model = _create_model(window_size)"
      ],
      "execution_count": 31,
      "outputs": [
        {
          "output_type": "stream",
          "text": [
            "WARNING:tensorflow:Layer gru will not use cuDNN kernel since it doesn't meet the cuDNN kernel criteria. It will use generic GPU kernel as fallback when running on GPU\n",
            "WARNING:tensorflow:Layer gru will not use cuDNN kernel since it doesn't meet the cuDNN kernel criteria. It will use generic GPU kernel as fallback when running on GPU\n",
            "WARNING:tensorflow:Layer gru will not use cuDNN kernel since it doesn't meet the cuDNN kernel criteria. It will use generic GPU kernel as fallback when running on GPU\n",
            "WARNING:tensorflow:Layer gru_1 will not use cuDNN kernel since it doesn't meet the cuDNN kernel criteria. It will use generic GPU kernel as fallback when running on GPU\n",
            "WARNING:tensorflow:Layer gru_1 will not use cuDNN kernel since it doesn't meet the cuDNN kernel criteria. It will use generic GPU kernel as fallback when running on GPU\n",
            "WARNING:tensorflow:Layer gru_1 will not use cuDNN kernel since it doesn't meet the cuDNN kernel criteria. It will use generic GPU kernel as fallback when running on GPU\n",
            "Model: \"sequential\"\n",
            "_________________________________________________________________\n",
            "Layer (type)                 Output Shape              Param #   \n",
            "=================================================================\n",
            "conv1d (Conv1D)              (None, 10, 16)            80        \n",
            "_________________________________________________________________\n",
            "bidirectional (Bidirectional (None, 10, 128)           31488     \n",
            "_________________________________________________________________\n",
            "dropout (Dropout)            (None, 10, 128)           0         \n",
            "_________________________________________________________________\n",
            "bidirectional_1 (Bidirection (None, 256)               198144    \n",
            "_________________________________________________________________\n",
            "dropout_1 (Dropout)          (None, 256)               0         \n",
            "_________________________________________________________________\n",
            "dense (Dense)                (None, 128)               32896     \n",
            "_________________________________________________________________\n",
            "dropout_2 (Dropout)          (None, 128)               0         \n",
            "_________________________________________________________________\n",
            "dense_1 (Dense)              (None, 1)                 129       \n",
            "=================================================================\n",
            "Total params: 262,737\n",
            "Trainable params: 262,737\n",
            "Non-trainable params: 0\n",
            "_________________________________________________________________\n",
            "None\n"
          ],
          "name": "stdout"
        }
      ]
    },
    {
      "cell_type": "markdown",
      "metadata": {
        "id": "3oPHAg51-5Al"
      },
      "source": [
        "###*training model*"
      ]
    },
    {
      "cell_type": "code",
      "metadata": {
        "colab": {
          "base_uri": "https://localhost:8080/"
        },
        "id": "VMh1wnlfTTur",
        "outputId": "d506df52-b16d-42a0-d003-ddb4ad36ce56"
      },
      "source": [
        "start = time.time()\n",
        "model.fit(x_train, y, epochs=2, batch_size=128, shuffle=True, validation_split=0.33)\n",
        "print('Finish trainning. Time: ', time.time() - start)"
      ],
      "execution_count": 32,
      "outputs": [
        {
          "output_type": "stream",
          "text": [
            "Epoch 1/2\n",
            "4370/4370 [==============================] - 392s 82ms/step - loss: 9.9237e-07 - val_loss: 4.6604e-06\n",
            "Epoch 2/2\n",
            "4370/4370 [==============================] - 360s 82ms/step - loss: 6.3970e-07 - val_loss: 5.2425e-06\n",
            "Finish trainning. Time:  751.3553023338318\n"
          ],
          "name": "stdout"
        }
      ]
    },
    {
      "cell_type": "markdown",
      "metadata": {
        "id": "YkNnsqoF_Dn4"
      },
      "source": [
        "###*Saving the trained model*"
      ]
    },
    {
      "cell_type": "code",
      "metadata": {
        "id": "HdjFvsavJEx6"
      },
      "source": [
        "model.save(\"gdrive/MyDrive/saved_model/kitchen_outlet_train_1_4_test_5_6_epochs_2_batch_128_window_10_validation_split_0.33_model.h5\")"
      ],
      "execution_count": 33,
      "outputs": []
    },
    {
      "cell_type": "markdown",
      "metadata": {
        "id": "RKaoKgPQFafO"
      },
      "source": [
        "### *Preparing and preprocessing test data - house 5 & 6*"
      ]
    },
    {
      "cell_type": "code",
      "metadata": {
        "colab": {
          "base_uri": "https://localhost:8080/"
        },
        "id": "bghgAaEvPksA",
        "outputId": "0fb948bc-b00e-4c9f-ed3c-35675c5d5326"
      },
      "source": [
        "df_list = [df_dic[5],df_dic[6]]\n",
        "dfs = add_houses(df_list, 'kitchen')\n",
        "df_test = preprocess_data(dfs, \"kitchen\", nmax)\n",
        "\n",
        "print(df_test.head())"
      ],
      "execution_count": 38,
      "outputs": [
        {
          "output_type": "stream",
          "text": [
            "                     aggregate_mains  kitchen\n",
            "2011-04-18 04:24:07         0.026208      0.0\n",
            "2011-04-18 04:24:11         0.026298      0.0\n",
            "2011-04-18 04:24:14         0.026215      0.0\n",
            "2011-04-18 04:24:18         0.026114      0.0\n",
            "2011-04-18 04:24:21         0.026201      0.0\n"
          ],
          "name": "stdout"
        }
      ]
    },
    {
      "cell_type": "code",
      "metadata": {
        "id": "u3f42TZUR4KK"
      },
      "source": [
        "sequence_length = window_size\n",
        "\n",
        "x_test = create_window_chunk(df_test['aggregate_mains'], sequence_length)\n",
        "\n",
        "y_test = df_test['kitchen'][sequence_length:]\n"
      ],
      "execution_count": 39,
      "outputs": []
    },
    {
      "cell_type": "code",
      "metadata": {
        "id": "3ZweTnTKtcr7"
      },
      "source": [
        "x_test = np.array(x_test)\n",
        "y_test = np.array(y_test)"
      ],
      "execution_count": 40,
      "outputs": []
    },
    {
      "cell_type": "code",
      "metadata": {
        "id": "aMW_HWcntnbQ"
      },
      "source": [
        "x_test = np.reshape(x_test, (x_test.shape[0], x_test.shape[1], 1))"
      ],
      "execution_count": 43,
      "outputs": []
    },
    {
      "cell_type": "markdown",
      "metadata": {
        "id": "exGwrLSl_ZK1"
      },
      "source": [
        "###*Predicting on the test*"
      ]
    },
    {
      "cell_type": "code",
      "metadata": {
        "id": "ovBtggv-trLz"
      },
      "source": [
        "pred_test = model.predict(x_test, batch_size=128)"
      ],
      "execution_count": 44,
      "outputs": []
    },
    {
      "cell_type": "code",
      "metadata": {
        "id": "NgDttca7twGA"
      },
      "source": [
        "\n",
        "pred_test = np.reshape(pred_test, (len(pred_test)))\n"
      ],
      "execution_count": 45,
      "outputs": []
    },
    {
      "cell_type": "markdown",
      "metadata": {
        "id": "10XqCDV9Fq6E"
      },
      "source": [
        "### *Denormalized the test and predicted data*"
      ]
    },
    {
      "cell_type": "code",
      "metadata": {
        "id": "ZLWoNYLLt8st"
      },
      "source": [
        "y_test_d = y_test * nmax\n",
        "y_pred_d = pred_test* nmax"
      ],
      "execution_count": 47,
      "outputs": []
    },
    {
      "cell_type": "markdown",
      "metadata": {
        "id": "BvVv2XnFAU3A"
      },
      "source": [
        "#**Data Visualization**"
      ]
    },
    {
      "cell_type": "code",
      "metadata": {
        "colab": {
          "base_uri": "https://localhost:8080/",
          "height": 520
        },
        "id": "A20jAt2luEYT",
        "outputId": "1b85cca9-c6a2-4816-f1bd-ab4e674895d6"
      },
      "source": [
        "plt.figure(figsize = (30, 8))\n",
        "plt.plot(y_test, color='green', label=\"ground kitchen outlet\")\n",
        "plt.plot(pred_test, color='blue', label=\"predicted kitchen outlet\")\n",
        "\n",
        "plt.legend\n",
        "plt.show"
      ],
      "execution_count": 49,
      "outputs": [
        {
          "output_type": "execute_result",
          "data": {
            "text/plain": [
              "<function matplotlib.pyplot.show>"
            ]
          },
          "metadata": {
            "tags": []
          },
          "execution_count": 49
        },
        {
          "output_type": "display_data",
          "data": {
            "image/png": "[encoded data removed]",
            "text/plain": [
              "<Figure size 2160x576 with 1 Axes>"
            ]
          },
          "metadata": {
            "tags": [],
            "needs_background": "light"
          }
        }
      ]
    },
    {
      "cell_type": "markdown",
      "metadata": {
        "id": "w4Y4eRn9A2vu"
      },
      "source": [
        "###*More Zooming into the graph*\n"
      ]
    },
    {
      "cell_type": "code",
      "metadata": {
        "colab": {
          "base_uri": "https://localhost:8080/",
          "height": 465
        },
        "id": "ToSPXA2puMrd",
        "outputId": "75586361-ed5c-4df4-8f9c-dd2874368fda"
      },
      "source": [
        "plt.figure(figsize = (30, 8))\n",
        "plt.plot(pred_test[50000:100000], color='green', label=\"predicted kitchen outlet\")\n",
        "plt.plot(y_test[50000:100000], color='blue', label=\"ground kitchen outlet\")\n",
        "\n",
        "plt.legend\n",
        "plt.show"
      ],
      "execution_count": 52,
      "outputs": [
        {
          "output_type": "execute_result",
          "data": {
            "text/plain": [
              "<function matplotlib.pyplot.show>"
            ]
          },
          "metadata": {
            "tags": []
          },
          "execution_count": 52
        },
        {
          "output_type": "display_data",
          "data": {
            "image/png": "[encoded data removed]",
            "text/plain": [
              "<Figure size 2160x576 with 1 Axes>"
            ]
          },
          "metadata": {
            "tags": [],
            "needs_background": "light"
          }
        }
      ]
    },
    {
      "cell_type": "markdown",
      "metadata": {
        "id": "iLVl1MHaBAin"
      },
      "source": [
        "#**Evaluation Metrics**"
      ]
    },
    {
      "cell_type": "code",
      "metadata": {
        "colab": {
          "base_uri": "https://localhost:8080/"
        },
        "id": "TlGokkT8uGtD",
        "outputId": "6bf82b43-41e9-4432-d332-81a651befd27"
      },
      "source": [
        "# Calculating MAE on test data\n",
        "mean_absolute_error(y_test_d, y_pred_d)"
      ],
      "execution_count": 50,
      "outputs": [
        {
          "output_type": "execute_result",
          "data": {
            "text/plain": [
              "15.976928011367184"
            ]
          },
          "metadata": {
            "tags": []
          },
          "execution_count": 50
        }
      ]
    },
    {
      "cell_type": "code",
      "metadata": {
        "colab": {
          "base_uri": "https://localhost:8080/"
        },
        "id": "uyBl_FxPuJ0s",
        "outputId": "53f8c6f9-e33c-41e5-8916-8abafc2cd44d"
      },
      "source": [
        "# Calculating RMSE on test data\n",
        "math.sqrt(mean_squared_error(y_test_d, y_pred_d))"
      ],
      "execution_count": 51,
      "outputs": [
        {
          "output_type": "execute_result",
          "data": {
            "text/plain": [
              "48.869227024427566"
            ]
          },
          "metadata": {
            "tags": []
          },
          "execution_count": 51
        }
      ]
    }
  ]
}