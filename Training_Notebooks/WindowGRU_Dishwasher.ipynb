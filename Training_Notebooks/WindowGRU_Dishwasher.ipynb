{
  "nbformat": 4,
  "nbformat_minor": 0,
  "metadata": {
    "colab": {
      "name": "WindowGRU_Dishwasher.ipynb",
      "provenance": [],
      "collapsed_sections": []
    },
    "kernelspec": {
      "name": "python3",
      "display_name": "Python 3"
    },
    "language_info": {
      "name": "python"
    }
  },
  "cells": [
    {
      "cell_type": "code",
      "metadata": {
        "colab": {
          "base_uri": "https://localhost:8080/"
        },
        "id": "XycoGJVnTFfK",
        "outputId": "4f8f11e5-93a6-488f-f241-c1ce43e16839"
      },
      "source": [
        "from google.colab import drive\n",
        "drive.mount('/content/gdrive')"
      ],
      "execution_count": 1,
      "outputs": [
        {
          "output_type": "stream",
          "text": [
            "Mounted at /content/gdrive\n"
          ],
          "name": "stdout"
        }
      ]
    },
    {
      "cell_type": "markdown",
      "metadata": {
        "id": "oRSLAuJO7ZwH"
      },
      "source": [
        "#**Importing Packages**\n",
        "\n",
        "\n"
      ]
    },
    {
      "cell_type": "code",
      "metadata": {
        "id": "7_KmNbtSTTdD"
      },
      "source": [
        "import pandas as pd\n",
        "import numpy as np\n",
        "\n",
        "from keras.models import load_model\n",
        "from keras.models import Sequential\n",
        "from keras.layers import Dense, Conv1D, GRU, Bidirectional, Dropout\n",
        "from keras.utils import plot_model\n",
        "\n",
        "import matplotlib.pyplot as plt\n",
        "import time\n",
        "import matplotlib.pyplot as plt\n",
        "%matplotlib inline\n",
        "from IPython.display import display\n",
        "import datetime\n",
        "import math\n",
        "import warnings\n",
        "warnings.filterwarnings(\"ignore\")\n",
        "import glob\n",
        "from sklearn.metrics import mean_squared_error, mean_absolute_error"
      ],
      "execution_count": 5,
      "outputs": []
    },
    {
      "cell_type": "markdown",
      "metadata": {
        "id": "9moxYRuw9n4-"
      },
      "source": [
        "### *Initializing Window size*"
      ]
    },
    {
      "cell_type": "code",
      "metadata": {
        "id": "qQ5W8fNKTTkc"
      },
      "source": [
        "window_size = 50"
      ],
      "execution_count": 6,
      "outputs": []
    },
    {
      "cell_type": "markdown",
      "metadata": {
        "id": "kQUeYPZZTwTG"
      },
      "source": [
        "# **Functions**"
      ]
    },
    {
      "cell_type": "code",
      "metadata": {
        "id": "VcYWfFu6Tv6i"
      },
      "source": [
        "def read_label():\n",
        "    label = {}\n",
        "    for i in range(1,5):\n",
        "        label_path = '/content/gdrive/MyDrive/energy_disaggregation/windowGRU/data/house_{}/labels.dat'.format(i)\n",
        "        label[i] = {}\n",
        "        with open(label_path) as f:\n",
        "            for line in f:\n",
        "                splitted_line = line.split(' ')\n",
        "                label[i][int(splitted_line[0])] = splitted_line[1].strip() + '_' + splitted_line[0]\n",
        "    return label\n",
        "\n",
        "\n",
        "#-------------------------------------------------------------------------------------------------------------------\n",
        "\n",
        "def read_merge_data(house):\n",
        "    path = '/content/gdrive/MyDrive/energy_disaggregation/windowGRU/data/house_{}/'.format(house)\n",
        "    \n",
        "    \n",
        "    file = path + 'channel_1.dat'\n",
        "\n",
        "    df = pd.read_table(file, sep = ' ', names = ['unix_time', labels[house][1]], \n",
        "                                       dtype = {'unix_time': 'int64', labels[house][1]:'float64'}) \n",
        "\n",
        "    num_apps = len(glob.glob(path + 'channel*'))\n",
        "\n",
        "    \n",
        "    for i in range(2, num_apps + 1):\n",
        "        file = path + 'channel_{}.dat'.format(i)\n",
        "        data = pd.read_table(file, sep = ' ', names = ['unix_time', labels[house][i]], \n",
        "                                       dtype = {'unix_time': 'int64', labels[house][i]:'float64'})\n",
        "        df = pd.merge(df, data, how = 'inner', on = 'unix_time')\n",
        "    df['timestamp'] = df['unix_time'].astype(\"datetime64[s]\")\n",
        "    df = df.set_index(df['timestamp'].values)\n",
        "    df.drop(['unix_time','timestamp'], axis=1, inplace=True)\n",
        "    return df\n",
        "\n",
        "#-------------------------------------------------------------------------------------------------------------------\n",
        "\n",
        "def uniform_label(df):\n",
        "  if 'dishwaser_6' in df.columns:   \n",
        "    df = df.rename(columns={'dishwaser_6': 'dishwasher'})\n",
        "\n",
        "  if 'dishwaser_10' in df.columns:\n",
        "    df = df.rename(columns={'dishwaser_10': 'dishwasher'})\n",
        "\n",
        "  if 'dishwaser_9' in df.columns:\n",
        "    df = df.rename(columns={'dishwaser_9': 'dishwasher'})\n",
        "\n",
        "  if 'dishwaser_15' in df.columns:\n",
        "    df = df.rename(columns={'dishwaser_15': 'dishwasher'})\n",
        "\n",
        "  return df\n",
        "\n",
        "#----------------------------------------------------------------------------------------------------------------------\n",
        "\n",
        "def add_houses(df_list, appliance):\n",
        "  merged_df = pd.DataFrame()\n",
        "  for df in df_list:\n",
        "    df = uniform_label(df)\n",
        "\n",
        "    df[\"aggregate_mains\"] = df['mains_1'] + df['mains_2']\n",
        "    df = df[['aggregate_mains',appliance]]\n",
        "    \n",
        "    merged_df = pd.concat([merged_df,df])\n",
        "  return merged_df\n",
        "\n",
        "#-----------------------------------------------------------------------------------------------------------------------\n",
        "\n",
        "def max_value(df):\n",
        "  return max(df['aggregate_mains'])\n",
        "\n",
        "#-----------------------------------------------------------------------------------------------------------------------\n",
        "\n",
        "def preprocess_data(df, appliance, nmax):\n",
        "\n",
        "  df['aggregate_mains'] = df['aggregate_mains']/ nmax\n",
        "\n",
        "  df[appliance] = df[appliance]/ nmax\n",
        "  \n",
        "  return df \n",
        "\n",
        "#----------------------------------------------------------------------------------------------------------------------\n",
        "def create_window_chunk(df, sequence_length):\n",
        "  result = []\n",
        "  for index in range(len(df) - sequence_length):\n",
        "      result.append(df[index: index + sequence_length])\n",
        "\n",
        "  return result\n",
        "\n",
        "#----------------------------------------------------------------------------------------------------------------------\n",
        "\n",
        "def _create_model(window_size):\n",
        "    '''Creates the GRU architecture described in the paper\n",
        "    '''\n",
        "    model = Sequential()\n",
        "\n",
        "    # 1D Conv\n",
        "    model.add(Conv1D(16, 4, activation='relu', input_shape=(window_size,1), padding=\"same\", strides=1))\n",
        "    #Bi-directional GRUs\n",
        "    model.add(Bidirectional(GRU(64, activation='relu', return_sequences=True), merge_mode='concat'))\n",
        "    model.add(Dropout(0.2))\n",
        "    model.add(Bidirectional(GRU(128, activation='relu', return_sequences=False), merge_mode='concat'))\n",
        "    model.add(Dropout(0.2))\n",
        "\n",
        "\n",
        "    # Fully Connected Layers\n",
        "    model.add(Dense(256, activation='relu'))\n",
        "    model.add(Dropout(0.2))\n",
        "    model.add(Dense(1, activation='linear'))\n",
        "\n",
        "    model.compile(loss='mse', optimizer='adam')\n",
        "    print(model.summary())\n",
        "\n",
        "    return model\n",
        "\n",
        "#---------------------------------------------------------------------------------------------------------------------\n",
        "\n",
        "\n",
        "\n",
        "\n",
        "\n"
      ],
      "execution_count": 7,
      "outputs": []
    },
    {
      "cell_type": "markdown",
      "metadata": {
        "id": "4gpeOoOHOUED"
      },
      "source": [
        "# **Data Preprocessing**"
      ]
    },
    {
      "cell_type": "code",
      "metadata": {
        "id": "ko1h0YmuOh8U"
      },
      "source": [
        "df_dic = {}\n",
        "dates = {}"
      ],
      "execution_count": 8,
      "outputs": []
    },
    {
      "cell_type": "markdown",
      "metadata": {
        "id": "Jmb2k8_k7_la"
      },
      "source": [
        "### *Reading and storing labels of all the houses in a dictionary*"
      ]
    },
    {
      "cell_type": "code",
      "metadata": {
        "colab": {
          "base_uri": "https://localhost:8080/"
        },
        "id": "OcrrGlEyTToR",
        "outputId": "96bbb48f-6bad-4dee-8455-610c5bf5fbc7"
      },
      "source": [
        "labels = read_label()\n",
        "labels"
      ],
      "execution_count": 9,
      "outputs": [
        {
          "output_type": "execute_result",
          "data": {
            "text/plain": [
              "{1: {1: 'mains_1',\n",
              "  2: 'mains_2',\n",
              "  3: 'oven_3',\n",
              "  4: 'oven_4',\n",
              "  5: 'refrigerator_5',\n",
              "  6: 'dishwaser_6',\n",
              "  7: 'kitchen_outlets_7',\n",
              "  8: 'kitchen_outlets_8',\n",
              "  9: 'lighting_9',\n",
              "  10: 'washer_dryer_10',\n",
              "  11: 'microwave_11',\n",
              "  12: 'bathroom_gfi_12',\n",
              "  13: 'electric_heat_13',\n",
              "  14: 'stove_14',\n",
              "  15: 'kitchen_outlets_15',\n",
              "  16: 'kitchen_outlets_16',\n",
              "  17: 'lighting_17',\n",
              "  18: 'lighting_18',\n",
              "  19: 'washer_dryer_19',\n",
              "  20: 'washer_dryer_20'},\n",
              " 2: {1: 'mains_1',\n",
              "  2: 'mains_2',\n",
              "  3: 'kitchen_outlets_3',\n",
              "  4: 'lighting_4',\n",
              "  5: 'stove_5',\n",
              "  6: 'microwave_6',\n",
              "  7: 'washer_dryer_7',\n",
              "  8: 'kitchen_outlets_8',\n",
              "  9: 'refrigerator_9',\n",
              "  10: 'dishwaser_10',\n",
              "  11: 'disposal_11'},\n",
              " 3: {1: 'mains_1',\n",
              "  2: 'mains_2',\n",
              "  3: 'outlets_unknown_3',\n",
              "  4: 'outlets_unknown_4',\n",
              "  5: 'lighting_5',\n",
              "  6: 'electronics_6',\n",
              "  7: 'refrigerator_7',\n",
              "  8: 'disposal_8',\n",
              "  9: 'dishwaser_9',\n",
              "  10: 'furance_10',\n",
              "  11: 'lighting_11',\n",
              "  12: 'outlets_unknown_12',\n",
              "  13: 'washer_dryer_13',\n",
              "  14: 'washer_dryer_14',\n",
              "  15: 'lighting_15',\n",
              "  16: 'microwave_16',\n",
              "  17: 'lighting_17',\n",
              "  18: 'smoke_alarms_18',\n",
              "  19: 'lighting_19',\n",
              "  20: 'bathroom_gfi_20',\n",
              "  21: 'kitchen_outlets_21',\n",
              "  22: 'kitchen_outlets_22'},\n",
              " 4: {1: 'mains_1',\n",
              "  2: 'mains_2',\n",
              "  3: 'lighting_3',\n",
              "  4: 'furance_4',\n",
              "  5: 'kitchen_outlets_5',\n",
              "  6: 'outlets_unknown_6',\n",
              "  7: 'washer_dryer_7',\n",
              "  8: 'stove_8',\n",
              "  9: 'air_conditioning_9',\n",
              "  10: 'air_conditioning_10',\n",
              "  11: 'miscellaeneous_11',\n",
              "  12: 'smoke_alarms_12',\n",
              "  13: 'lighting_13',\n",
              "  14: 'kitchen_outlets_14',\n",
              "  15: 'dishwaser_15',\n",
              "  16: 'bathroom_gfi_16',\n",
              "  17: 'bathroom_gfi_17',\n",
              "  18: 'lighting_18',\n",
              "  19: 'lighting_19',\n",
              "  20: 'air_conditioning_20'}}"
            ]
          },
          "metadata": {
            "tags": []
          },
          "execution_count": 9
        }
      ]
    },
    {
      "cell_type": "markdown",
      "metadata": {
        "id": "LHvWiWUw8PqP"
      },
      "source": [
        "### *Converting raw dataset of a house into Pandas Dataframe and storing all the dataframes in a dictionary*"
      ]
    },
    {
      "cell_type": "code",
      "metadata": {
        "colab": {
          "base_uri": "https://localhost:8080/"
        },
        "id": "ZpsJbmShUqNa",
        "outputId": "0c2d2a8b-993c-4ec5-c339-34048137f84e"
      },
      "source": [
        "for i in range(1,5):\n",
        "    df_dic[i] = read_merge_data(i)\n",
        "    \n",
        "print(df_dic)"
      ],
      "execution_count": 10,
      "outputs": [
        {
          "output_type": "stream",
          "text": [
            "{1:                      mains_1  mains_2  ...  washer_dryer_19  washer_dryer_20\n",
            "2011-04-18 13:22:13   222.20   118.83  ...              0.0              0.0\n",
            "2011-04-18 13:22:16   223.17   119.19  ...              0.0              0.0\n",
            "2011-04-18 13:22:20   223.60   118.92  ...              0.0              0.0\n",
            "2011-04-18 13:22:23   222.91   119.16  ...              0.0              0.0\n",
            "2011-04-18 13:22:26   222.94   118.83  ...              0.0              0.0\n",
            "...                      ...      ...  ...              ...              ...\n",
            "2011-05-24 19:56:20   235.73    38.65  ...              0.0              0.0\n",
            "2011-05-24 19:56:23   235.03    38.66  ...              0.0              0.0\n",
            "2011-05-24 19:56:27   235.46    38.61  ...              0.0              0.0\n",
            "2011-05-24 19:56:30   235.98    38.77  ...              0.0              0.0\n",
            "2011-05-24 19:56:34   235.29    38.83  ...              0.0              0.0\n",
            "\n",
            "[406748 rows x 20 columns], 2:                      mains_1  mains_2  ...  dishwaser_10  disposal_11\n",
            "2011-04-18 05:31:40    15.71    22.61  ...           1.0          0.0\n",
            "2011-04-18 05:31:44    15.71    22.61  ...           0.0          0.0\n",
            "2011-04-18 05:31:47    15.72    22.61  ...           1.0          0.0\n",
            "2011-04-18 05:31:50    15.70    22.57  ...           0.0          0.0\n",
            "2011-04-18 05:32:05    15.64    22.61  ...           1.0          0.0\n",
            "...                      ...      ...  ...           ...          ...\n",
            "2011-05-22 23:58:54    10.78   252.55  ...           0.0          0.0\n",
            "2011-05-22 23:58:57    10.76   253.01  ...           0.0          0.0\n",
            "2011-05-22 23:59:01    10.84   252.61  ...           0.0          0.0\n",
            "2011-05-22 23:59:04    10.88   253.02  ...           0.0          0.0\n",
            "2011-05-22 23:59:08    10.84   252.77  ...           0.0          0.0\n",
            "\n",
            "[316840 rows x 11 columns], 3:                      mains_1  mains_2  ...  kitchen_outlets_21  kitchen_outlets_22\n",
            "2011-04-16 05:11:30   181.34   577.30  ...                 0.0                 0.0\n",
            "2011-04-16 05:11:33   180.74   577.39  ...                 0.0                 0.0\n",
            "2011-04-16 05:11:36   182.00   577.88  ...                 0.0                 0.0\n",
            "2011-04-16 05:11:40   181.44   578.44  ...                 0.0                 0.0\n",
            "2011-04-16 05:11:43   179.95   575.92  ...                 0.0                 0.0\n",
            "...                      ...      ...  ...                 ...                 ...\n",
            "2011-05-31 00:19:23    15.47     2.23  ...                 0.0                 2.5\n",
            "2011-05-31 00:19:26    15.48     2.23  ...                 0.0                 2.5\n",
            "2011-05-31 00:19:30    15.45     2.23  ...                 0.0                 2.5\n",
            "2011-05-31 00:19:33    15.42     2.23  ...                 0.0                 2.5\n",
            "2011-05-31 00:19:36    15.44     2.23  ...                 0.0                 2.5\n",
            "\n",
            "[376150 rows x 22 columns], 4:                      mains_1  mains_2  ...  lighting_19  air_conditioning_20\n",
            "2011-04-17 01:16:32   462.31    86.58  ...          0.0                  0.0\n",
            "2011-04-17 01:16:35   462.41    86.56  ...          0.0                  0.0\n",
            "2011-04-17 01:16:38   462.89    86.62  ...          0.0                  0.0\n",
            "2011-04-17 01:16:42   462.78    86.50  ...          0.0                  0.0\n",
            "2011-04-17 01:16:45   463.41    86.61  ...          0.0                  0.0\n",
            "...                      ...      ...  ...          ...                  ...\n",
            "2011-06-04 00:45:25   400.95    94.80  ...          0.0                  0.0\n",
            "2011-06-04 00:45:28   399.17    94.83  ...          0.0                  0.0\n",
            "2011-06-04 00:45:31   403.36    94.65  ...          0.0                  0.0\n",
            "2011-06-04 00:45:35   401.11    94.63  ...          0.0                  0.0\n",
            "2011-06-04 00:45:38   400.24    94.43  ...          0.0                  0.0\n",
            "\n",
            "[428076 rows x 20 columns]}\n"
          ],
          "name": "stdout"
        }
      ]
    },
    {
      "cell_type": "markdown",
      "metadata": {
        "id": "GvXg2pqb94N-"
      },
      "source": [
        "### *Checking the Number of days of available data of different houses*"
      ]
    },
    {
      "cell_type": "code",
      "metadata": {
        "colab": {
          "base_uri": "https://localhost:8080/"
        },
        "id": "C8Te_g_cU1Wv",
        "outputId": "6c000035-56f7-4e79-cf44-4f5bdf4f0f86"
      },
      "source": [
        "for i in range(1,5):\n",
        "    dates[i] = [str(time)[:10] for time in df_dic[i].index.values]\n",
        "    dates[i] = sorted(list(set(dates[i])))\n",
        "    print('House {0} data contain {1} days from {2} to {3}.'.format(i,len(dates[i]),dates[i][0], dates[i][-1]))\n",
        "    print(dates[i], '\\n')"
      ],
      "execution_count": 11,
      "outputs": [
        {
          "output_type": "stream",
          "text": [
            "House 1 data contain 23 days from 2011-04-18 to 2011-05-24.\n",
            "['2011-04-18', '2011-04-19', '2011-04-20', '2011-04-21', '2011-04-22', '2011-04-23', '2011-04-24', '2011-04-25', '2011-04-26', '2011-04-27', '2011-04-28', '2011-04-30', '2011-05-01', '2011-05-02', '2011-05-03', '2011-05-06', '2011-05-07', '2011-05-11', '2011-05-12', '2011-05-13', '2011-05-22', '2011-05-23', '2011-05-24'] \n",
            "\n",
            "House 2 data contain 16 days from 2011-04-18 to 2011-05-22.\n",
            "['2011-04-18', '2011-04-19', '2011-04-20', '2011-04-21', '2011-04-22', '2011-04-23', '2011-04-24', '2011-04-25', '2011-04-26', '2011-04-27', '2011-04-28', '2011-04-29', '2011-04-30', '2011-05-01', '2011-05-02', '2011-05-22'] \n",
            "\n",
            "House 3 data contain 26 days from 2011-04-16 to 2011-05-31.\n",
            "['2011-04-16', '2011-04-17', '2011-04-18', '2011-04-19', '2011-04-20', '2011-04-21', '2011-04-22', '2011-04-23', '2011-04-24', '2011-04-25', '2011-04-26', '2011-04-27', '2011-04-28', '2011-05-17', '2011-05-18', '2011-05-19', '2011-05-21', '2011-05-22', '2011-05-23', '2011-05-24', '2011-05-25', '2011-05-26', '2011-05-27', '2011-05-28', '2011-05-30', '2011-05-31'] \n",
            "\n",
            "House 4 data contain 26 days from 2011-04-17 to 2011-06-04.\n",
            "['2011-04-17', '2011-04-18', '2011-04-19', '2011-04-20', '2011-04-21', '2011-04-22', '2011-04-23', '2011-04-24', '2011-04-25', '2011-04-26', '2011-04-27', '2011-04-28', '2011-04-29', '2011-04-30', '2011-05-01', '2011-05-02', '2011-05-22', '2011-05-23', '2011-05-24', '2011-05-25', '2011-05-26', '2011-05-27', '2011-05-28', '2011-05-29', '2011-06-03', '2011-06-04'] \n",
            "\n"
          ],
          "name": "stdout"
        }
      ]
    },
    {
      "cell_type": "code",
      "metadata": {
        "colab": {
          "base_uri": "https://localhost:8080/",
          "height": 883
        },
        "id": "iGHadd-YWUFB",
        "outputId": "346c3b04-b92d-459c-c2c8-502be7dde94b"
      },
      "source": [
        "for i in range(1,5):\n",
        "    print('House {} data has shape: '.format(i), df_dic[i].shape)\n",
        "    display(df_dic[i].tail(3))"
      ],
      "execution_count": 12,
      "outputs": [
        {
          "output_type": "stream",
          "text": [
            "House 1 data has shape:  (406748, 20)\n"
          ],
          "name": "stdout"
        },
        {
          "output_type": "display_data",
          "data": {
            "text/html": [
              "<div>\n",
              "<style scoped>\n",
              "    .dataframe tbody tr th:only-of-type {\n",
              "        vertical-align: middle;\n",
              "    }\n",
              "\n",
              "    .dataframe tbody tr th {\n",
              "        vertical-align: top;\n",
              "    }\n",
              "\n",
              "    .dataframe thead th {\n",
              "        text-align: right;\n",
              "    }\n",
              "</style>\n",
              "<table border=\"1\" class=\"dataframe\">\n",
              "  <thead>\n",
              "    <tr style=\"text-align: right;\">\n",
              "      <th></th>\n",
              "      <th>mains_1</th>\n",
              "      <th>mains_2</th>\n",
              "      <th>oven_3</th>\n",
              "      <th>oven_4</th>\n",
              "      <th>refrigerator_5</th>\n",
              "      <th>dishwaser_6</th>\n",
              "      <th>kitchen_outlets_7</th>\n",
              "      <th>kitchen_outlets_8</th>\n",
              "      <th>lighting_9</th>\n",
              "      <th>washer_dryer_10</th>\n",
              "      <th>microwave_11</th>\n",
              "      <th>bathroom_gfi_12</th>\n",
              "      <th>electric_heat_13</th>\n",
              "      <th>stove_14</th>\n",
              "      <th>kitchen_outlets_15</th>\n",
              "      <th>kitchen_outlets_16</th>\n",
              "      <th>lighting_17</th>\n",
              "      <th>lighting_18</th>\n",
              "      <th>washer_dryer_19</th>\n",
              "      <th>washer_dryer_20</th>\n",
              "    </tr>\n",
              "  </thead>\n",
              "  <tbody>\n",
              "    <tr>\n",
              "      <th>2011-05-24 19:56:27</th>\n",
              "      <td>235.46</td>\n",
              "      <td>38.61</td>\n",
              "      <td>0.0</td>\n",
              "      <td>0.0</td>\n",
              "      <td>190.0</td>\n",
              "      <td>0.0</td>\n",
              "      <td>24.0</td>\n",
              "      <td>20.0</td>\n",
              "      <td>2.0</td>\n",
              "      <td>0.0</td>\n",
              "      <td>4.0</td>\n",
              "      <td>1.0</td>\n",
              "      <td>0.0</td>\n",
              "      <td>0.0</td>\n",
              "      <td>1.0</td>\n",
              "      <td>0.0</td>\n",
              "      <td>0.0</td>\n",
              "      <td>1.0</td>\n",
              "      <td>0.0</td>\n",
              "      <td>0.0</td>\n",
              "    </tr>\n",
              "    <tr>\n",
              "      <th>2011-05-24 19:56:30</th>\n",
              "      <td>235.98</td>\n",
              "      <td>38.77</td>\n",
              "      <td>0.0</td>\n",
              "      <td>0.0</td>\n",
              "      <td>189.0</td>\n",
              "      <td>0.0</td>\n",
              "      <td>24.0</td>\n",
              "      <td>20.0</td>\n",
              "      <td>2.0</td>\n",
              "      <td>0.0</td>\n",
              "      <td>4.0</td>\n",
              "      <td>1.0</td>\n",
              "      <td>0.0</td>\n",
              "      <td>0.0</td>\n",
              "      <td>1.0</td>\n",
              "      <td>0.0</td>\n",
              "      <td>0.0</td>\n",
              "      <td>1.0</td>\n",
              "      <td>0.0</td>\n",
              "      <td>0.0</td>\n",
              "    </tr>\n",
              "    <tr>\n",
              "      <th>2011-05-24 19:56:34</th>\n",
              "      <td>235.29</td>\n",
              "      <td>38.83</td>\n",
              "      <td>0.0</td>\n",
              "      <td>0.0</td>\n",
              "      <td>186.0</td>\n",
              "      <td>0.0</td>\n",
              "      <td>26.0</td>\n",
              "      <td>20.0</td>\n",
              "      <td>2.0</td>\n",
              "      <td>0.0</td>\n",
              "      <td>4.0</td>\n",
              "      <td>1.0</td>\n",
              "      <td>0.0</td>\n",
              "      <td>0.0</td>\n",
              "      <td>1.0</td>\n",
              "      <td>0.0</td>\n",
              "      <td>0.0</td>\n",
              "      <td>1.0</td>\n",
              "      <td>0.0</td>\n",
              "      <td>0.0</td>\n",
              "    </tr>\n",
              "  </tbody>\n",
              "</table>\n",
              "</div>"
            ],
            "text/plain": [
              "                     mains_1  mains_2  ...  washer_dryer_19  washer_dryer_20\n",
              "2011-05-24 19:56:27   235.46    38.61  ...              0.0              0.0\n",
              "2011-05-24 19:56:30   235.98    38.77  ...              0.0              0.0\n",
              "2011-05-24 19:56:34   235.29    38.83  ...              0.0              0.0\n",
              "\n",
              "[3 rows x 20 columns]"
            ]
          },
          "metadata": {
            "tags": []
          }
        },
        {
          "output_type": "stream",
          "text": [
            "House 2 data has shape:  (316840, 11)\n"
          ],
          "name": "stdout"
        },
        {
          "output_type": "display_data",
          "data": {
            "text/html": [
              "<div>\n",
              "<style scoped>\n",
              "    .dataframe tbody tr th:only-of-type {\n",
              "        vertical-align: middle;\n",
              "    }\n",
              "\n",
              "    .dataframe tbody tr th {\n",
              "        vertical-align: top;\n",
              "    }\n",
              "\n",
              "    .dataframe thead th {\n",
              "        text-align: right;\n",
              "    }\n",
              "</style>\n",
              "<table border=\"1\" class=\"dataframe\">\n",
              "  <thead>\n",
              "    <tr style=\"text-align: right;\">\n",
              "      <th></th>\n",
              "      <th>mains_1</th>\n",
              "      <th>mains_2</th>\n",
              "      <th>kitchen_outlets_3</th>\n",
              "      <th>lighting_4</th>\n",
              "      <th>stove_5</th>\n",
              "      <th>microwave_6</th>\n",
              "      <th>washer_dryer_7</th>\n",
              "      <th>kitchen_outlets_8</th>\n",
              "      <th>refrigerator_9</th>\n",
              "      <th>dishwaser_10</th>\n",
              "      <th>disposal_11</th>\n",
              "    </tr>\n",
              "  </thead>\n",
              "  <tbody>\n",
              "    <tr>\n",
              "      <th>2011-05-22 23:59:01</th>\n",
              "      <td>10.84</td>\n",
              "      <td>252.61</td>\n",
              "      <td>0.0</td>\n",
              "      <td>9.0</td>\n",
              "      <td>0.0</td>\n",
              "      <td>5.0</td>\n",
              "      <td>0.0</td>\n",
              "      <td>2.0</td>\n",
              "      <td>158.0</td>\n",
              "      <td>0.0</td>\n",
              "      <td>0.0</td>\n",
              "    </tr>\n",
              "    <tr>\n",
              "      <th>2011-05-22 23:59:04</th>\n",
              "      <td>10.88</td>\n",
              "      <td>253.02</td>\n",
              "      <td>0.0</td>\n",
              "      <td>9.0</td>\n",
              "      <td>0.0</td>\n",
              "      <td>4.0</td>\n",
              "      <td>0.0</td>\n",
              "      <td>2.0</td>\n",
              "      <td>160.0</td>\n",
              "      <td>0.0</td>\n",
              "      <td>0.0</td>\n",
              "    </tr>\n",
              "    <tr>\n",
              "      <th>2011-05-22 23:59:08</th>\n",
              "      <td>10.84</td>\n",
              "      <td>252.77</td>\n",
              "      <td>0.0</td>\n",
              "      <td>9.0</td>\n",
              "      <td>0.0</td>\n",
              "      <td>4.0</td>\n",
              "      <td>0.0</td>\n",
              "      <td>2.0</td>\n",
              "      <td>157.0</td>\n",
              "      <td>0.0</td>\n",
              "      <td>0.0</td>\n",
              "    </tr>\n",
              "  </tbody>\n",
              "</table>\n",
              "</div>"
            ],
            "text/plain": [
              "                     mains_1  mains_2  ...  dishwaser_10  disposal_11\n",
              "2011-05-22 23:59:01    10.84   252.61  ...           0.0          0.0\n",
              "2011-05-22 23:59:04    10.88   253.02  ...           0.0          0.0\n",
              "2011-05-22 23:59:08    10.84   252.77  ...           0.0          0.0\n",
              "\n",
              "[3 rows x 11 columns]"
            ]
          },
          "metadata": {
            "tags": []
          }
        },
        {
          "output_type": "stream",
          "text": [
            "House 3 data has shape:  (376150, 22)\n"
          ],
          "name": "stdout"
        },
        {
          "output_type": "display_data",
          "data": {
            "text/html": [
              "<div>\n",
              "<style scoped>\n",
              "    .dataframe tbody tr th:only-of-type {\n",
              "        vertical-align: middle;\n",
              "    }\n",
              "\n",
              "    .dataframe tbody tr th {\n",
              "        vertical-align: top;\n",
              "    }\n",
              "\n",
              "    .dataframe thead th {\n",
              "        text-align: right;\n",
              "    }\n",
              "</style>\n",
              "<table border=\"1\" class=\"dataframe\">\n",
              "  <thead>\n",
              "    <tr style=\"text-align: right;\">\n",
              "      <th></th>\n",
              "      <th>mains_1</th>\n",
              "      <th>mains_2</th>\n",
              "      <th>outlets_unknown_3</th>\n",
              "      <th>outlets_unknown_4</th>\n",
              "      <th>lighting_5</th>\n",
              "      <th>electronics_6</th>\n",
              "      <th>refrigerator_7</th>\n",
              "      <th>disposal_8</th>\n",
              "      <th>dishwaser_9</th>\n",
              "      <th>furance_10</th>\n",
              "      <th>lighting_11</th>\n",
              "      <th>outlets_unknown_12</th>\n",
              "      <th>washer_dryer_13</th>\n",
              "      <th>washer_dryer_14</th>\n",
              "      <th>lighting_15</th>\n",
              "      <th>microwave_16</th>\n",
              "      <th>lighting_17</th>\n",
              "      <th>smoke_alarms_18</th>\n",
              "      <th>lighting_19</th>\n",
              "      <th>bathroom_gfi_20</th>\n",
              "      <th>kitchen_outlets_21</th>\n",
              "      <th>kitchen_outlets_22</th>\n",
              "    </tr>\n",
              "  </thead>\n",
              "  <tbody>\n",
              "    <tr>\n",
              "      <th>2011-05-31 00:19:30</th>\n",
              "      <td>15.45</td>\n",
              "      <td>2.23</td>\n",
              "      <td>0.0</td>\n",
              "      <td>1.0</td>\n",
              "      <td>1.0</td>\n",
              "      <td>1139.0</td>\n",
              "      <td>8.0</td>\n",
              "      <td>6.0</td>\n",
              "      <td>3.0</td>\n",
              "      <td>7.0</td>\n",
              "      <td>147.0</td>\n",
              "      <td>0.0</td>\n",
              "      <td>0.0</td>\n",
              "      <td>0.0</td>\n",
              "      <td>1.0</td>\n",
              "      <td>2.0</td>\n",
              "      <td>10.0</td>\n",
              "      <td>0.0</td>\n",
              "      <td>0.0</td>\n",
              "      <td>0.0</td>\n",
              "      <td>0.0</td>\n",
              "      <td>2.5</td>\n",
              "    </tr>\n",
              "    <tr>\n",
              "      <th>2011-05-31 00:19:33</th>\n",
              "      <td>15.42</td>\n",
              "      <td>2.23</td>\n",
              "      <td>0.0</td>\n",
              "      <td>1.0</td>\n",
              "      <td>1.0</td>\n",
              "      <td>1138.0</td>\n",
              "      <td>8.0</td>\n",
              "      <td>6.0</td>\n",
              "      <td>3.0</td>\n",
              "      <td>7.0</td>\n",
              "      <td>147.0</td>\n",
              "      <td>0.0</td>\n",
              "      <td>0.0</td>\n",
              "      <td>0.0</td>\n",
              "      <td>1.0</td>\n",
              "      <td>2.0</td>\n",
              "      <td>10.0</td>\n",
              "      <td>0.0</td>\n",
              "      <td>0.0</td>\n",
              "      <td>0.0</td>\n",
              "      <td>0.0</td>\n",
              "      <td>2.5</td>\n",
              "    </tr>\n",
              "    <tr>\n",
              "      <th>2011-05-31 00:19:36</th>\n",
              "      <td>15.44</td>\n",
              "      <td>2.23</td>\n",
              "      <td>0.0</td>\n",
              "      <td>1.0</td>\n",
              "      <td>1.0</td>\n",
              "      <td>1134.0</td>\n",
              "      <td>7.0</td>\n",
              "      <td>6.0</td>\n",
              "      <td>3.0</td>\n",
              "      <td>7.0</td>\n",
              "      <td>147.0</td>\n",
              "      <td>0.0</td>\n",
              "      <td>0.0</td>\n",
              "      <td>0.0</td>\n",
              "      <td>1.0</td>\n",
              "      <td>2.0</td>\n",
              "      <td>10.0</td>\n",
              "      <td>0.0</td>\n",
              "      <td>0.0</td>\n",
              "      <td>0.0</td>\n",
              "      <td>0.0</td>\n",
              "      <td>2.5</td>\n",
              "    </tr>\n",
              "  </tbody>\n",
              "</table>\n",
              "</div>"
            ],
            "text/plain": [
              "                     mains_1  mains_2  ...  kitchen_outlets_21  kitchen_outlets_22\n",
              "2011-05-31 00:19:30    15.45     2.23  ...                 0.0                 2.5\n",
              "2011-05-31 00:19:33    15.42     2.23  ...                 0.0                 2.5\n",
              "2011-05-31 00:19:36    15.44     2.23  ...                 0.0                 2.5\n",
              "\n",
              "[3 rows x 22 columns]"
            ]
          },
          "metadata": {
            "tags": []
          }
        },
        {
          "output_type": "stream",
          "text": [
            "House 4 data has shape:  (428076, 20)\n"
          ],
          "name": "stdout"
        },
        {
          "output_type": "display_data",
          "data": {
            "text/html": [
              "<div>\n",
              "<style scoped>\n",
              "    .dataframe tbody tr th:only-of-type {\n",
              "        vertical-align: middle;\n",
              "    }\n",
              "\n",
              "    .dataframe tbody tr th {\n",
              "        vertical-align: top;\n",
              "    }\n",
              "\n",
              "    .dataframe thead th {\n",
              "        text-align: right;\n",
              "    }\n",
              "</style>\n",
              "<table border=\"1\" class=\"dataframe\">\n",
              "  <thead>\n",
              "    <tr style=\"text-align: right;\">\n",
              "      <th></th>\n",
              "      <th>mains_1</th>\n",
              "      <th>mains_2</th>\n",
              "      <th>lighting_3</th>\n",
              "      <th>furance_4</th>\n",
              "      <th>kitchen_outlets_5</th>\n",
              "      <th>outlets_unknown_6</th>\n",
              "      <th>washer_dryer_7</th>\n",
              "      <th>stove_8</th>\n",
              "      <th>air_conditioning_9</th>\n",
              "      <th>air_conditioning_10</th>\n",
              "      <th>miscellaeneous_11</th>\n",
              "      <th>smoke_alarms_12</th>\n",
              "      <th>lighting_13</th>\n",
              "      <th>kitchen_outlets_14</th>\n",
              "      <th>dishwaser_15</th>\n",
              "      <th>bathroom_gfi_16</th>\n",
              "      <th>bathroom_gfi_17</th>\n",
              "      <th>lighting_18</th>\n",
              "      <th>lighting_19</th>\n",
              "      <th>air_conditioning_20</th>\n",
              "    </tr>\n",
              "  </thead>\n",
              "  <tbody>\n",
              "    <tr>\n",
              "      <th>2011-06-04 00:45:31</th>\n",
              "      <td>403.36</td>\n",
              "      <td>94.65</td>\n",
              "      <td>173.0</td>\n",
              "      <td>27.0</td>\n",
              "      <td>38.0</td>\n",
              "      <td>3.0</td>\n",
              "      <td>1.0</td>\n",
              "      <td>5.0</td>\n",
              "      <td>0.0</td>\n",
              "      <td>0.0</td>\n",
              "      <td>1.0</td>\n",
              "      <td>0.0</td>\n",
              "      <td>25.0</td>\n",
              "      <td>135.0</td>\n",
              "      <td>0.0</td>\n",
              "      <td>0.0</td>\n",
              "      <td>1.0</td>\n",
              "      <td>0.0</td>\n",
              "      <td>0.0</td>\n",
              "      <td>0.0</td>\n",
              "    </tr>\n",
              "    <tr>\n",
              "      <th>2011-06-04 00:45:35</th>\n",
              "      <td>401.11</td>\n",
              "      <td>94.63</td>\n",
              "      <td>174.0</td>\n",
              "      <td>27.0</td>\n",
              "      <td>34.0</td>\n",
              "      <td>4.0</td>\n",
              "      <td>1.0</td>\n",
              "      <td>5.0</td>\n",
              "      <td>0.0</td>\n",
              "      <td>0.0</td>\n",
              "      <td>1.0</td>\n",
              "      <td>0.0</td>\n",
              "      <td>25.0</td>\n",
              "      <td>135.0</td>\n",
              "      <td>0.0</td>\n",
              "      <td>0.0</td>\n",
              "      <td>1.0</td>\n",
              "      <td>0.0</td>\n",
              "      <td>0.0</td>\n",
              "      <td>0.0</td>\n",
              "    </tr>\n",
              "    <tr>\n",
              "      <th>2011-06-04 00:45:38</th>\n",
              "      <td>400.24</td>\n",
              "      <td>94.43</td>\n",
              "      <td>175.0</td>\n",
              "      <td>27.0</td>\n",
              "      <td>38.0</td>\n",
              "      <td>4.0</td>\n",
              "      <td>1.0</td>\n",
              "      <td>5.0</td>\n",
              "      <td>0.0</td>\n",
              "      <td>0.0</td>\n",
              "      <td>2.0</td>\n",
              "      <td>0.0</td>\n",
              "      <td>25.0</td>\n",
              "      <td>135.0</td>\n",
              "      <td>0.0</td>\n",
              "      <td>0.0</td>\n",
              "      <td>1.0</td>\n",
              "      <td>0.0</td>\n",
              "      <td>0.0</td>\n",
              "      <td>0.0</td>\n",
              "    </tr>\n",
              "  </tbody>\n",
              "</table>\n",
              "</div>"
            ],
            "text/plain": [
              "                     mains_1  mains_2  ...  lighting_19  air_conditioning_20\n",
              "2011-06-04 00:45:31   403.36    94.65  ...          0.0                  0.0\n",
              "2011-06-04 00:45:35   401.11    94.63  ...          0.0                  0.0\n",
              "2011-06-04 00:45:38   400.24    94.43  ...          0.0                  0.0\n",
              "\n",
              "[3 rows x 20 columns]"
            ]
          },
          "metadata": {
            "tags": []
          }
        }
      ]
    },
    {
      "cell_type": "markdown",
      "metadata": {
        "id": "8qjxhxnJVkhp"
      },
      "source": [
        "### *Preparing training data - house 2 & 3, Appliance Dishwasher*"
      ]
    },
    {
      "cell_type": "code",
      "metadata": {
        "id": "g6MQ_LzQ4zSU"
      },
      "source": [
        "df_list = [df_dic[2], df_dic[3]]\n",
        "dfs = add_houses(df_list, 'dishwasher')"
      ],
      "execution_count": 13,
      "outputs": []
    },
    {
      "cell_type": "code",
      "metadata": {
        "colab": {
          "base_uri": "https://localhost:8080/",
          "height": 402
        },
        "id": "Q8CJDvDB-t5j",
        "outputId": "fd511627-fdf4-46da-9ba7-29a7349d9e3d"
      },
      "source": [
        "dfs"
      ],
      "execution_count": 14,
      "outputs": [
        {
          "output_type": "execute_result",
          "data": {
            "text/html": [
              "<div>\n",
              "<style scoped>\n",
              "    .dataframe tbody tr th:only-of-type {\n",
              "        vertical-align: middle;\n",
              "    }\n",
              "\n",
              "    .dataframe tbody tr th {\n",
              "        vertical-align: top;\n",
              "    }\n",
              "\n",
              "    .dataframe thead th {\n",
              "        text-align: right;\n",
              "    }\n",
              "</style>\n",
              "<table border=\"1\" class=\"dataframe\">\n",
              "  <thead>\n",
              "    <tr style=\"text-align: right;\">\n",
              "      <th></th>\n",
              "      <th>aggregate_mains</th>\n",
              "      <th>dishwasher</th>\n",
              "    </tr>\n",
              "  </thead>\n",
              "  <tbody>\n",
              "    <tr>\n",
              "      <th>2011-04-18 05:31:40</th>\n",
              "      <td>38.32</td>\n",
              "      <td>1.0</td>\n",
              "    </tr>\n",
              "    <tr>\n",
              "      <th>2011-04-18 05:31:44</th>\n",
              "      <td>38.32</td>\n",
              "      <td>0.0</td>\n",
              "    </tr>\n",
              "    <tr>\n",
              "      <th>2011-04-18 05:31:47</th>\n",
              "      <td>38.33</td>\n",
              "      <td>1.0</td>\n",
              "    </tr>\n",
              "    <tr>\n",
              "      <th>2011-04-18 05:31:50</th>\n",
              "      <td>38.27</td>\n",
              "      <td>0.0</td>\n",
              "    </tr>\n",
              "    <tr>\n",
              "      <th>2011-04-18 05:32:05</th>\n",
              "      <td>38.25</td>\n",
              "      <td>1.0</td>\n",
              "    </tr>\n",
              "    <tr>\n",
              "      <th>...</th>\n",
              "      <td>...</td>\n",
              "      <td>...</td>\n",
              "    </tr>\n",
              "    <tr>\n",
              "      <th>2011-05-31 00:19:23</th>\n",
              "      <td>17.70</td>\n",
              "      <td>3.0</td>\n",
              "    </tr>\n",
              "    <tr>\n",
              "      <th>2011-05-31 00:19:26</th>\n",
              "      <td>17.71</td>\n",
              "      <td>3.0</td>\n",
              "    </tr>\n",
              "    <tr>\n",
              "      <th>2011-05-31 00:19:30</th>\n",
              "      <td>17.68</td>\n",
              "      <td>3.0</td>\n",
              "    </tr>\n",
              "    <tr>\n",
              "      <th>2011-05-31 00:19:33</th>\n",
              "      <td>17.65</td>\n",
              "      <td>3.0</td>\n",
              "    </tr>\n",
              "    <tr>\n",
              "      <th>2011-05-31 00:19:36</th>\n",
              "      <td>17.67</td>\n",
              "      <td>3.0</td>\n",
              "    </tr>\n",
              "  </tbody>\n",
              "</table>\n",
              "<p>692990 rows × 2 columns</p>\n",
              "</div>"
            ],
            "text/plain": [
              "                     aggregate_mains  dishwasher\n",
              "2011-04-18 05:31:40            38.32         1.0\n",
              "2011-04-18 05:31:44            38.32         0.0\n",
              "2011-04-18 05:31:47            38.33         1.0\n",
              "2011-04-18 05:31:50            38.27         0.0\n",
              "2011-04-18 05:32:05            38.25         1.0\n",
              "...                              ...         ...\n",
              "2011-05-31 00:19:23            17.70         3.0\n",
              "2011-05-31 00:19:26            17.71         3.0\n",
              "2011-05-31 00:19:30            17.68         3.0\n",
              "2011-05-31 00:19:33            17.65         3.0\n",
              "2011-05-31 00:19:36            17.67         3.0\n",
              "\n",
              "[692990 rows x 2 columns]"
            ]
          },
          "metadata": {
            "tags": []
          },
          "execution_count": 14
        }
      ]
    },
    {
      "cell_type": "markdown",
      "metadata": {
        "id": "A-PE_oVqfMJo"
      },
      "source": [
        "### *Creating window chunk and normalizing dataframe*"
      ]
    },
    {
      "cell_type": "code",
      "metadata": {
        "id": "Edrn0dG9jh-q"
      },
      "source": [
        "nmax= max_value(dfs)"
      ],
      "execution_count": 15,
      "outputs": []
    },
    {
      "cell_type": "code",
      "metadata": {
        "colab": {
          "base_uri": "https://localhost:8080/"
        },
        "id": "GiLgjt5mZ0MH",
        "outputId": "f4fb8c96-4d1d-42f3-ad26-4bafaf615668"
      },
      "source": [
        "df = preprocess_data(dfs, 'dishwasher', nmax)\n",
        "print(df.head())\n"
      ],
      "execution_count": 16,
      "outputs": [
        {
          "output_type": "stream",
          "text": [
            "                     aggregate_mains  dishwasher\n",
            "2011-04-18 05:31:40         0.004754    0.000124\n",
            "2011-04-18 05:31:44         0.004754    0.000000\n",
            "2011-04-18 05:31:47         0.004756    0.000124\n",
            "2011-04-18 05:31:50         0.004748    0.000000\n",
            "2011-04-18 05:32:05         0.004746    0.000124\n"
          ],
          "name": "stdout"
        }
      ]
    },
    {
      "cell_type": "code",
      "metadata": {
        "id": "bmzqbrmUVI4R"
      },
      "source": [
        "sequence_length = window_size\n",
        "\n",
        "x = create_window_chunk(df['aggregate_mains'], sequence_length)\n",
        "\n",
        "y = df['dishwasher'][sequence_length:]"
      ],
      "execution_count": 17,
      "outputs": []
    },
    {
      "cell_type": "code",
      "metadata": {
        "id": "-rCIiyxuehQw"
      },
      "source": [
        "x = np.array(x)\n",
        "y = np.array(y)"
      ],
      "execution_count": 18,
      "outputs": []
    },
    {
      "cell_type": "markdown",
      "metadata": {
        "id": "8kqkAlDKNSLB"
      },
      "source": [
        "### *reshaping the data*"
      ]
    },
    {
      "cell_type": "code",
      "metadata": {
        "id": "3rcs9TDg1Qdo"
      },
      "source": [
        "x_train = np.reshape(x, (x.shape[0], x.shape[1], 1))"
      ],
      "execution_count": 21,
      "outputs": []
    },
    {
      "cell_type": "markdown",
      "metadata": {
        "id": "co3If9FC06WC"
      },
      "source": [
        "# **Creating Model**"
      ]
    },
    {
      "cell_type": "code",
      "metadata": {
        "colab": {
          "base_uri": "https://localhost:8080/"
        },
        "id": "eoAfpSrgTTry",
        "outputId": "8c1d6a43-295d-4c9a-b265-a84be83c64e9"
      },
      "source": [
        "model = _create_model(window_size)"
      ],
      "execution_count": 23,
      "outputs": [
        {
          "output_type": "stream",
          "text": [
            "Model: \"sequential\"\n",
            "_________________________________________________________________\n",
            "Layer (type)                 Output Shape              Param #   \n",
            "=================================================================\n",
            "conv1d (Conv1D)              (None, 50, 16)            80        \n",
            "_________________________________________________________________\n",
            "bidirectional (Bidirectional (None, 50, 128)           31488     \n",
            "_________________________________________________________________\n",
            "dropout (Dropout)            (None, 50, 128)           0         \n",
            "_________________________________________________________________\n",
            "bidirectional_1 (Bidirection (None, 256)               198144    \n",
            "_________________________________________________________________\n",
            "dropout_1 (Dropout)          (None, 256)               0         \n",
            "_________________________________________________________________\n",
            "dense (Dense)                (None, 256)               65792     \n",
            "_________________________________________________________________\n",
            "dropout_2 (Dropout)          (None, 256)               0         \n",
            "_________________________________________________________________\n",
            "dense_1 (Dense)              (None, 1)                 257       \n",
            "=================================================================\n",
            "Total params: 295,761\n",
            "Trainable params: 295,761\n",
            "Non-trainable params: 0\n",
            "_________________________________________________________________\n",
            "None\n"
          ],
          "name": "stdout"
        }
      ]
    },
    {
      "cell_type": "markdown",
      "metadata": {
        "id": "3oPHAg51-5Al"
      },
      "source": [
        "###*training model*"
      ]
    },
    {
      "cell_type": "code",
      "metadata": {
        "colab": {
          "base_uri": "https://localhost:8080/"
        },
        "id": "VMh1wnlfTTur",
        "outputId": "3ae7f72c-6dcc-4d02-cc8b-08e243d0855a"
      },
      "source": [
        "start = time.time()\n",
        "model.fit(x_train, y, epochs=15, batch_size=512, shuffle=True, validation_split=0.33)\n",
        "print('Finish trainning. Time: ', time.time() - start)"
      ],
      "execution_count": 24,
      "outputs": [
        {
          "output_type": "stream",
          "text": [
            "Epoch 1/15\n",
            "907/907 [==============================] - 1206s 1s/step - loss: 1.0218e-04 - val_loss: 5.9859e-05\n",
            "Epoch 2/15\n",
            "907/907 [==============================] - 1199s 1s/step - loss: 7.4886e-05 - val_loss: 5.5235e-05\n",
            "Epoch 3/15\n",
            "907/907 [==============================] - 1204s 1s/step - loss: 7.1918e-05 - val_loss: 5.3474e-05\n",
            "Epoch 4/15\n",
            "907/907 [==============================] - 1202s 1s/step - loss: 6.8322e-05 - val_loss: 5.3002e-05\n",
            "Epoch 5/15\n",
            "907/907 [==============================] - 1208s 1s/step - loss: 6.7856e-05 - val_loss: 6.3670e-05\n",
            "Epoch 6/15\n",
            "907/907 [==============================] - 1212s 1s/step - loss: 6.4337e-05 - val_loss: 6.0940e-05\n",
            "Epoch 7/15\n",
            "907/907 [==============================] - 1214s 1s/step - loss: 6.2612e-05 - val_loss: 5.2509e-05\n",
            "Epoch 8/15\n",
            "907/907 [==============================] - 1243s 1s/step - loss: 6.1049e-05 - val_loss: 5.2584e-05\n",
            "Epoch 9/15\n",
            "907/907 [==============================] - 1253s 1s/step - loss: 5.8522e-05 - val_loss: 5.5592e-05\n",
            "Epoch 10/15\n",
            "907/907 [==============================] - 1231s 1s/step - loss: 5.5811e-05 - val_loss: 5.6801e-05\n",
            "Epoch 11/15\n",
            "907/907 [==============================] - 1224s 1s/step - loss: 5.5501e-05 - val_loss: 5.2009e-05\n",
            "Epoch 12/15\n",
            "907/907 [==============================] - 1218s 1s/step - loss: 5.5190e-05 - val_loss: 5.7336e-05\n",
            "Epoch 13/15\n",
            "907/907 [==============================] - 1219s 1s/step - loss: 5.1643e-05 - val_loss: 5.3891e-05\n",
            "Epoch 14/15\n",
            "907/907 [==============================] - 1217s 1s/step - loss: 5.4019e-05 - val_loss: 5.4963e-05\n",
            "Epoch 15/15\n",
            "907/907 [==============================] - 1215s 1s/step - loss: 5.2988e-05 - val_loss: 5.4472e-05\n",
            "Finish trainning. Time:  18264.70138311386\n"
          ],
          "name": "stdout"
        }
      ]
    },
    {
      "cell_type": "markdown",
      "metadata": {
        "id": "YkNnsqoF_Dn4"
      },
      "source": [
        "###*Saving the trained model*"
      ]
    },
    {
      "cell_type": "code",
      "metadata": {
        "id": "HdjFvsavJEx6"
      },
      "source": [
        "model.save(\"gdrive/MyDrive/saved_model/new_dishwasher_tr_2_3_t_1_e_15_b_512_w_50_d_0.2_v_0.33_s_t.h5\")"
      ],
      "execution_count": 25,
      "outputs": []
    },
    {
      "cell_type": "markdown",
      "metadata": {
        "id": "bvtvRtIrPlKv"
      },
      "source": [
        "### *Preparing and preprocessing test data - house 1*"
      ]
    },
    {
      "cell_type": "code",
      "metadata": {
        "id": "bghgAaEvPksA"
      },
      "source": [
        "df_list = [df_dic[1]]\n",
        "dfs_test = add_houses(df_list, 'dishwasher')"
      ],
      "execution_count": 27,
      "outputs": []
    },
    {
      "cell_type": "code",
      "metadata": {
        "colab": {
          "base_uri": "https://localhost:8080/"
        },
        "id": "9pyyrIQO4YUW",
        "outputId": "db6c651e-4218-4fb8-916b-b61494e5c250"
      },
      "source": [
        "df_test = preprocess_data(dfs_test, \"dishwasher\", nmax)\n",
        "\n",
        "print(df_test.head())"
      ],
      "execution_count": 28,
      "outputs": [
        {
          "output_type": "stream",
          "text": [
            "                     aggregate_mains  dishwasher\n",
            "2011-04-18 13:22:13         0.042312    0.000000\n",
            "2011-04-18 13:22:16         0.042477    0.000000\n",
            "2011-04-18 13:22:20         0.042497    0.000000\n",
            "2011-04-18 13:22:23         0.042441    0.000124\n",
            "2011-04-18 13:22:26         0.042404    0.000000\n"
          ],
          "name": "stdout"
        }
      ]
    },
    {
      "cell_type": "code",
      "metadata": {
        "id": "u3f42TZUR4KK"
      },
      "source": [
        "sequence_length = window_size\n",
        "\n",
        "x_test = create_window_chunk(df_test['aggregate_mains'], sequence_length)\n",
        "\n",
        "y_test = df_test['dishwasher'][sequence_length:]\n"
      ],
      "execution_count": 29,
      "outputs": []
    },
    {
      "cell_type": "code",
      "metadata": {
        "id": "ZRjgFLj7SThV"
      },
      "source": [
        "x_test = np.array(x_test)\n",
        "y_test = np.array(y_test)"
      ],
      "execution_count": 30,
      "outputs": []
    },
    {
      "cell_type": "code",
      "metadata": {
        "id": "GxMQxvmxSv8t"
      },
      "source": [
        "x_test = np.reshape(x_test, (x_test.shape[0], x_test.shape[1], 1))"
      ],
      "execution_count": 31,
      "outputs": []
    },
    {
      "cell_type": "markdown",
      "metadata": {
        "id": "exGwrLSl_ZK1"
      },
      "source": [
        "###*Predicting on the test*"
      ]
    },
    {
      "cell_type": "code",
      "metadata": {
        "id": "35SdwMnFTTx_"
      },
      "source": [
        "pred_test = model.predict(x_test, batch_size=512)"
      ],
      "execution_count": 46,
      "outputs": []
    },
    {
      "cell_type": "code",
      "metadata": {
        "id": "Z-cPoLNx_SK-"
      },
      "source": [
        "pred_test = np.reshape(pred_test, (len(pred_test)))"
      ],
      "execution_count": 48,
      "outputs": []
    },
    {
      "cell_type": "markdown",
      "metadata": {
        "id": "6EUnUVO_Lg5V"
      },
      "source": [
        "### *Denormalized the test and predicted data*"
      ]
    },
    {
      "cell_type": "code",
      "metadata": {
        "id": "BmyHiG-VLerG"
      },
      "source": [
        "y_test_d = y_test * nmax"
      ],
      "execution_count": 52,
      "outputs": []
    },
    {
      "cell_type": "code",
      "metadata": {
        "id": "f7VXU47TL4bd"
      },
      "source": [
        "y_pred_d = pred_test* nmax"
      ],
      "execution_count": 65,
      "outputs": []
    },
    {
      "cell_type": "code",
      "metadata": {
        "id": "UfZHrNS_Dzrb"
      },
      "source": [
        "list(y_pred_d)"
      ],
      "execution_count": null,
      "outputs": []
    },
    {
      "cell_type": "markdown",
      "metadata": {
        "id": "AtcO9yNz_3Mz"
      },
      "source": [
        "###*Removing the predicted readings which are below average dishwasher reading , observed dishwasher reading as 800*"
      ]
    },
    {
      "cell_type": "code",
      "metadata": {
        "id": "1PKW6vl9E67p"
      },
      "source": [
        "y_pred_d = [0 if y<800 else y for y in list(y_pred_d)]"
      ],
      "execution_count": 74,
      "outputs": []
    },
    {
      "cell_type": "markdown",
      "metadata": {
        "id": "BvVv2XnFAU3A"
      },
      "source": [
        "#**Data Visualization**"
      ]
    },
    {
      "cell_type": "code",
      "metadata": {
        "colab": {
          "base_uri": "https://localhost:8080/",
          "height": 417
        },
        "id": "MlpDWABEkoK2",
        "outputId": "920b556f-185c-4e86-a043-6b0a32f133db"
      },
      "source": [
        "plt.figure(figsize = (30, 8))\n",
        "\n",
        "plt.plot(y_test_d, color='blue', label=\"ground dishwaser\")\n",
        "plt.plot(y_pred_d, color='orange', label=\"predicted dishwaser\")\n",
        "\n",
        "plt.legend()\n",
        "plt.show"
      ],
      "execution_count": 75,
      "outputs": [
        {
          "output_type": "execute_result",
          "data": {
            "text/plain": [
              "<function matplotlib.pyplot.show>"
            ]
          },
          "metadata": {
            "tags": []
          },
          "execution_count": 75
        },
        {
          "output_type": "display_data",
          "data": {
            "image/png": "[encoded data removed]",
            "text/plain": [
              "<Figure size 2160x576 with 1 Axes>"
            ]
          },
          "metadata": {
            "tags": [],
            "needs_background": "light"
          }
        }
      ]
    },
    {
      "cell_type": "markdown",
      "metadata": {
        "id": "UVNESSsoAr1b"
      },
      "source": [
        "###*Zooming into the graph*"
      ]
    },
    {
      "cell_type": "code",
      "metadata": {
        "colab": {
          "base_uri": "https://localhost:8080/",
          "height": 417
        },
        "id": "wKwx13mfko61",
        "outputId": "11369b66-6068-48c6-ec48-53c94c567980"
      },
      "source": [
        "plt.figure(figsize = (30, 8))\n",
        "plt.plot(y_test_d[100000:200000], color='blue', label=\"ground dishwaser\")\n",
        "plt.plot(y_pred_d[100000:200000], color='orange', label=\"predicted dishwaser\")\n",
        "plt.legend()\n",
        "plt.show"
      ],
      "execution_count": 76,
      "outputs": [
        {
          "output_type": "execute_result",
          "data": {
            "text/plain": [
              "<function matplotlib.pyplot.show>"
            ]
          },
          "metadata": {
            "tags": []
          },
          "execution_count": 76
        },
        {
          "output_type": "display_data",
          "data": {
            "image/png": "[encoded data removed]",
            "text/plain": [
              "<Figure size 2160x576 with 1 Axes>"
            ]
          },
          "metadata": {
            "tags": [],
            "needs_background": "light"
          }
        }
      ]
    },
    {
      "cell_type": "markdown",
      "metadata": {
        "id": "w4Y4eRn9A2vu"
      },
      "source": [
        "###*More Zooming into the graph*\n"
      ]
    },
    {
      "cell_type": "code",
      "metadata": {
        "colab": {
          "base_uri": "https://localhost:8080/",
          "height": 417
        },
        "id": "YEdC99VpFtlB",
        "outputId": "ce7a8803-29dd-4812-bc21-d2401ee11f1d"
      },
      "source": [
        "plt.figure(figsize = (30, 8))\n",
        "plt.plot(y_test_d[160000:170000], color='blue', label=\"ground dishwaser\")\n",
        "plt.plot(y_pred_d[160000:170000], color='orange', label=\"predicted dishwaser\")\n",
        "plt.legend()\n",
        "plt.show"
      ],
      "execution_count": 77,
      "outputs": [
        {
          "output_type": "execute_result",
          "data": {
            "text/plain": [
              "<function matplotlib.pyplot.show>"
            ]
          },
          "metadata": {
            "tags": []
          },
          "execution_count": 77
        },
        {
          "output_type": "display_data",
          "data": {
            "image/png": "[encoded data removed]",
            "text/plain": [
              "<Figure size 2160x576 with 1 Axes>"
            ]
          },
          "metadata": {
            "tags": [],
            "needs_background": "light"
          }
        }
      ]
    },
    {
      "cell_type": "markdown",
      "metadata": {
        "id": "iLVl1MHaBAin"
      },
      "source": [
        "#**Evaluation Metrics**"
      ]
    },
    {
      "cell_type": "code",
      "metadata": {
        "colab": {
          "base_uri": "https://localhost:8080/"
        },
        "id": "W8mB4uOhMDGE",
        "outputId": "4b7a6e90-c47c-48a7-ce2a-da21cff1fbba"
      },
      "source": [
        "# Calculating MAE on test data\n",
        "\n",
        "mean_absolute_error(y_test_d, y_pred_d)"
      ],
      "execution_count": 58,
      "outputs": [
        {
          "output_type": "execute_result",
          "data": {
            "text/plain": [
              "21.310554751077177"
            ]
          },
          "metadata": {
            "tags": []
          },
          "execution_count": 58
        }
      ]
    },
    {
      "cell_type": "code",
      "metadata": {
        "colab": {
          "base_uri": "https://localhost:8080/"
        },
        "id": "hgw7WjR9OEVB",
        "outputId": "4f6546c0-e9b9-42af-b2fb-d4f98f736865"
      },
      "source": [
        "# Calculating RMSE on test data\n",
        "math.sqrt(mean_squared_error(y_test_d, y_pred_d))"
      ],
      "execution_count": 59,
      "outputs": [
        {
          "output_type": "execute_result",
          "data": {
            "text/plain": [
              "114.00366441050035"
            ]
          },
          "metadata": {
            "tags": []
          },
          "execution_count": 59
        }
      ]
    }
  ]
}