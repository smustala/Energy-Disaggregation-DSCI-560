{
 "cells": [
  {
   "cell_type": "code",
   "execution_count": 1,
   "metadata": {},
   "outputs": [],
   "source": [
    "import numpy as np\n",
    "import pandas as pd"
   ]
  },
  {
   "cell_type": "code",
   "execution_count": 7,
   "metadata": {},
   "outputs": [],
   "source": [
    "DATA_DIRECTORY = '../../../rawdata/REDD'\n",
    "nrows=None"
   ]
  },
  {
   "cell_type": "code",
   "execution_count": 8,
   "metadata": {},
   "outputs": [],
   "source": [
    "# Getting mean and std of kitchen outlets tove\n",
    "#House 1: kitchen_outlets – 7,8,15,16 / stove – 14\n",
    "#House 2: kitchen outlets – 3,8 / stove – 5\n",
    "#House 3: kitchen outlets – 21, 22 / stove – n/a\n",
    "#House 4: kitchen outlets – 5 / stove – 8\n",
    "#House 5: kitchen outlets – 24, 25 / stove – n/a \n",
    "#House 6: kitchen outlets – 3, 13 / stove – 5\n",
    "\n",
    "outlets_df1=pd.read_table(DATA_DIRECTORY + '/' + 'house_1/channel_7.dat',\n",
    "                                     sep=\"\\s+\",\n",
    "                                      nrows=nrows,\n",
    "                                      usecols=[0, 1],\n",
    "                                      names=['time', 'h1'],\n",
    "                                      dtype={'time': str},\n",
    "                                      )\n",
    "\n",
    "outlets_df2=pd.read_table(DATA_DIRECTORY + '/' + 'house_2/channel_3.dat',\n",
    "                                     sep=\"\\s+\",\n",
    "                                      nrows=nrows,\n",
    "                                      usecols=[0, 1],\n",
    "                                      names=['time', 'h2'],\n",
    "                                      dtype={'time': str},\n",
    "                                      )\n",
    "\n",
    "outlets_df3=pd.read_table(DATA_DIRECTORY + '/' + 'house_3/channel_21.dat',\n",
    "                                     sep=\"\\s+\",\n",
    "                                      nrows=nrows,\n",
    "                                      usecols=[0, 1],\n",
    "                                      names=['time', 'h3'],\n",
    "                                      dtype={'time': str},\n",
    "                                      )\n",
    "\n",
    "outlets_df4=pd.read_table(DATA_DIRECTORY + '/' + 'house_4/channel_5.dat',\n",
    "                                     sep=\"\\s+\",\n",
    "                                      nrows=nrows,\n",
    "                                      usecols=[0, 1],\n",
    "                                      names=['time', 'h4'],\n",
    "                                      dtype={'time': str},\n",
    "                                      )\n",
    "\n",
    "outlets_df5=pd.read_table(DATA_DIRECTORY + '/' + 'house_5/channel_24.dat',\n",
    "                                     sep=\"\\s+\",\n",
    "                                      nrows=nrows,\n",
    "                                      usecols=[0, 1],\n",
    "                                      names=['time', 'h5'],\n",
    "                                      dtype={'time': str},\n",
    "                                      )\n",
    "\n",
    "outlets_df6=pd.read_table(DATA_DIRECTORY + '/' + 'house_6/channel_3.dat',\n",
    "                                     sep=\"\\s+\",\n",
    "                                      nrows=nrows,\n",
    "                                      usecols=[0, 1],\n",
    "                                      names=['time', 'h6'],\n",
    "                                      dtype={'time': str},\n",
    "                                      )  "
   ]
  },
  {
   "cell_type": "code",
   "execution_count": 11,
   "metadata": {},
   "outputs": [],
   "source": [
    "outlets_df1['time']=pd.to_datetime(outlets_df1['time'],unit='s')\n",
    "outlets_df2['time']=pd.to_datetime(outlets_df2['time'],unit='s')\n",
    "outlets_df3['time']=pd.to_datetime(outlets_df3['time'],unit='s')\n",
    "outlets_df4['time']=pd.to_datetime(outlets_df4['time'],unit='s')\n",
    "outlets_df5['time']=pd.to_datetime(outlets_df5['time'],unit='s')\n",
    "outlets_df6['time']=pd.to_datetime(outlets_df6['time'],unit='s')"
   ]
  },
  {
   "cell_type": "code",
   "execution_count": 12,
   "metadata": {},
   "outputs": [],
   "source": [
    "outlets_df1.set_index('time',inplace=True)\n",
    "outlets_df2.set_index('time',inplace=True)\n",
    "outlets_df3.set_index('time',inplace=True)\n",
    "outlets_df4.set_index('time',inplace=True)\n",
    "outlets_df5.set_index('time',inplace=True)\n",
    "outlets_df6.set_index('time',inplace=True)"
   ]
  },
  {
   "cell_type": "code",
   "execution_count": 16,
   "metadata": {},
   "outputs": [],
   "source": [
    "outlets_dfa=outlets_df1.join(outlets_df2,how='outer')\n",
    "outlets_dfb=outlets_dfa.join(outlets_df3,how='outer')\n",
    "outlets_dfc=outlets_dfb.join(outlets_df4,how='outer')\n",
    "outlets_dfd=outlets_dfc.join(outlets_df5,how='outer')\n",
    "outlets_df=outlets_dfd.join(outlets_df6,how='outer')"
   ]
  },
  {
   "cell_type": "code",
   "execution_count": 17,
   "metadata": {},
   "outputs": [
    {
     "data": {
      "text/html": [
       "<div>\n",
       "<style scoped>\n",
       "    .dataframe tbody tr th:only-of-type {\n",
       "        vertical-align: middle;\n",
       "    }\n",
       "\n",
       "    .dataframe tbody tr th {\n",
       "        vertical-align: top;\n",
       "    }\n",
       "\n",
       "    .dataframe thead th {\n",
       "        text-align: right;\n",
       "    }\n",
       "</style>\n",
       "<table border=\"1\" class=\"dataframe\">\n",
       "  <thead>\n",
       "    <tr style=\"text-align: right;\">\n",
       "      <th></th>\n",
       "      <th>h1</th>\n",
       "      <th>h2</th>\n",
       "      <th>h3</th>\n",
       "      <th>h4</th>\n",
       "      <th>h5</th>\n",
       "      <th>h6</th>\n",
       "    </tr>\n",
       "    <tr>\n",
       "      <th>time</th>\n",
       "      <th></th>\n",
       "      <th></th>\n",
       "      <th></th>\n",
       "      <th></th>\n",
       "      <th></th>\n",
       "      <th></th>\n",
       "    </tr>\n",
       "  </thead>\n",
       "  <tbody>\n",
       "    <tr>\n",
       "      <th>2011-04-16 05:11:30</th>\n",
       "      <td>NaN</td>\n",
       "      <td>NaN</td>\n",
       "      <td>0.0</td>\n",
       "      <td>NaN</td>\n",
       "      <td>NaN</td>\n",
       "      <td>NaN</td>\n",
       "    </tr>\n",
       "    <tr>\n",
       "      <th>2011-04-16 05:11:33</th>\n",
       "      <td>NaN</td>\n",
       "      <td>NaN</td>\n",
       "      <td>0.0</td>\n",
       "      <td>NaN</td>\n",
       "      <td>NaN</td>\n",
       "      <td>NaN</td>\n",
       "    </tr>\n",
       "    <tr>\n",
       "      <th>2011-04-16 05:11:36</th>\n",
       "      <td>NaN</td>\n",
       "      <td>NaN</td>\n",
       "      <td>0.0</td>\n",
       "      <td>NaN</td>\n",
       "      <td>NaN</td>\n",
       "      <td>NaN</td>\n",
       "    </tr>\n",
       "    <tr>\n",
       "      <th>2011-04-16 05:11:40</th>\n",
       "      <td>NaN</td>\n",
       "      <td>NaN</td>\n",
       "      <td>0.0</td>\n",
       "      <td>NaN</td>\n",
       "      <td>NaN</td>\n",
       "      <td>NaN</td>\n",
       "    </tr>\n",
       "    <tr>\n",
       "      <th>2011-04-16 05:11:43</th>\n",
       "      <td>NaN</td>\n",
       "      <td>NaN</td>\n",
       "      <td>0.0</td>\n",
       "      <td>NaN</td>\n",
       "      <td>NaN</td>\n",
       "      <td>NaN</td>\n",
       "    </tr>\n",
       "  </tbody>\n",
       "</table>\n",
       "</div>"
      ],
      "text/plain": [
       "                     h1  h2   h3  h4  h5  h6\n",
       "time                                        \n",
       "2011-04-16 05:11:30 NaN NaN  0.0 NaN NaN NaN\n",
       "2011-04-16 05:11:33 NaN NaN  0.0 NaN NaN NaN\n",
       "2011-04-16 05:11:36 NaN NaN  0.0 NaN NaN NaN\n",
       "2011-04-16 05:11:40 NaN NaN  0.0 NaN NaN NaN\n",
       "2011-04-16 05:11:43 NaN NaN  0.0 NaN NaN NaN"
      ]
     },
     "execution_count": 17,
     "metadata": {},
     "output_type": "execute_result"
    }
   ],
   "source": [
    "outlets_df.head()"
   ]
  },
  {
   "cell_type": "code",
   "execution_count": 18,
   "metadata": {},
   "outputs": [],
   "source": [
    "outlets_df.reset_index(inplace=True)"
   ]
  },
  {
   "cell_type": "code",
   "execution_count": 19,
   "metadata": {},
   "outputs": [],
   "source": [
    "outlets_df['aggregate']=outlets_df.iloc[:].sum(axis=1)"
   ]
  },
  {
   "cell_type": "code",
   "execution_count": 20,
   "metadata": {},
   "outputs": [
    {
     "data": {
      "text/html": [
       "<div>\n",
       "<style scoped>\n",
       "    .dataframe tbody tr th:only-of-type {\n",
       "        vertical-align: middle;\n",
       "    }\n",
       "\n",
       "    .dataframe tbody tr th {\n",
       "        vertical-align: top;\n",
       "    }\n",
       "\n",
       "    .dataframe thead th {\n",
       "        text-align: right;\n",
       "    }\n",
       "</style>\n",
       "<table border=\"1\" class=\"dataframe\">\n",
       "  <thead>\n",
       "    <tr style=\"text-align: right;\">\n",
       "      <th></th>\n",
       "      <th>time</th>\n",
       "      <th>h1</th>\n",
       "      <th>h2</th>\n",
       "      <th>h3</th>\n",
       "      <th>h4</th>\n",
       "      <th>h5</th>\n",
       "      <th>h6</th>\n",
       "      <th>aggregate</th>\n",
       "    </tr>\n",
       "  </thead>\n",
       "  <tbody>\n",
       "    <tr>\n",
       "      <th>0</th>\n",
       "      <td>2011-04-16 05:11:30</td>\n",
       "      <td>NaN</td>\n",
       "      <td>NaN</td>\n",
       "      <td>0.0</td>\n",
       "      <td>NaN</td>\n",
       "      <td>NaN</td>\n",
       "      <td>NaN</td>\n",
       "      <td>0.0</td>\n",
       "    </tr>\n",
       "    <tr>\n",
       "      <th>1</th>\n",
       "      <td>2011-04-16 05:11:33</td>\n",
       "      <td>NaN</td>\n",
       "      <td>NaN</td>\n",
       "      <td>0.0</td>\n",
       "      <td>NaN</td>\n",
       "      <td>NaN</td>\n",
       "      <td>NaN</td>\n",
       "      <td>0.0</td>\n",
       "    </tr>\n",
       "    <tr>\n",
       "      <th>2</th>\n",
       "      <td>2011-04-16 05:11:36</td>\n",
       "      <td>NaN</td>\n",
       "      <td>NaN</td>\n",
       "      <td>0.0</td>\n",
       "      <td>NaN</td>\n",
       "      <td>NaN</td>\n",
       "      <td>NaN</td>\n",
       "      <td>0.0</td>\n",
       "    </tr>\n",
       "    <tr>\n",
       "      <th>3</th>\n",
       "      <td>2011-04-16 05:11:40</td>\n",
       "      <td>NaN</td>\n",
       "      <td>NaN</td>\n",
       "      <td>0.0</td>\n",
       "      <td>NaN</td>\n",
       "      <td>NaN</td>\n",
       "      <td>NaN</td>\n",
       "      <td>0.0</td>\n",
       "    </tr>\n",
       "    <tr>\n",
       "      <th>4</th>\n",
       "      <td>2011-04-16 05:11:43</td>\n",
       "      <td>NaN</td>\n",
       "      <td>NaN</td>\n",
       "      <td>0.0</td>\n",
       "      <td>NaN</td>\n",
       "      <td>NaN</td>\n",
       "      <td>NaN</td>\n",
       "      <td>0.0</td>\n",
       "    </tr>\n",
       "  </tbody>\n",
       "</table>\n",
       "</div>"
      ],
      "text/plain": [
       "                 time  h1  h2   h3  h4  h5  h6  aggregate\n",
       "0 2011-04-16 05:11:30 NaN NaN  0.0 NaN NaN NaN        0.0\n",
       "1 2011-04-16 05:11:33 NaN NaN  0.0 NaN NaN NaN        0.0\n",
       "2 2011-04-16 05:11:36 NaN NaN  0.0 NaN NaN NaN        0.0\n",
       "3 2011-04-16 05:11:40 NaN NaN  0.0 NaN NaN NaN        0.0\n",
       "4 2011-04-16 05:11:43 NaN NaN  0.0 NaN NaN NaN        0.0"
      ]
     },
     "execution_count": 20,
     "metadata": {},
     "output_type": "execute_result"
    }
   ],
   "source": [
    "outlets_df.head()"
   ]
  },
  {
   "cell_type": "code",
   "execution_count": 21,
   "metadata": {},
   "outputs": [
    {
     "data": {
      "text/plain": [
       "h1           21.087790\n",
       "h2            6.181444\n",
       "h3            2.320257\n",
       "h4            5.419824\n",
       "h5            5.727676\n",
       "h6            5.558726\n",
       "aggregate    12.272049\n",
       "dtype: float64"
      ]
     },
     "execution_count": 21,
     "metadata": {},
     "output_type": "execute_result"
    }
   ],
   "source": [
    "outlets_df.mean()"
   ]
  },
  {
   "cell_type": "code",
   "execution_count": 22,
   "metadata": {},
   "outputs": [
    {
     "data": {
      "text/plain": [
       "h1            1.870025\n",
       "h2           37.687006\n",
       "h3            4.178775\n",
       "h4           19.112178\n",
       "h5           73.036356\n",
       "h6           29.089129\n",
       "aggregate    28.157518\n",
       "dtype: float64"
      ]
     },
     "execution_count": 22,
     "metadata": {},
     "output_type": "execute_result"
    }
   ],
   "source": [
    "outlets_df.std()"
   ]
  },
  {
   "cell_type": "code",
   "execution_count": 23,
   "metadata": {},
   "outputs": [
    {
     "data": {
      "text/plain": [
       "time         2011-06-14 01:12:36\n",
       "h1                           128\n",
       "h2                           805\n",
       "h3                           140\n",
       "h4                           768\n",
       "h5                        1007.5\n",
       "h6                          1401\n",
       "aggregate                 1736.5\n",
       "dtype: object"
      ]
     },
     "execution_count": 23,
     "metadata": {},
     "output_type": "execute_result"
    }
   ],
   "source": [
    "outlets_df.max()"
   ]
  },
  {
   "cell_type": "code",
   "execution_count": 24,
   "metadata": {},
   "outputs": [
    {
     "data": {
      "text/plain": [
       "time         2011-04-16 05:11:30\n",
       "h1                             2\n",
       "h2                             0\n",
       "h3                             0\n",
       "h4                             0\n",
       "h5                             0\n",
       "h6                             0\n",
       "aggregate                      0\n",
       "dtype: object"
      ]
     },
     "execution_count": 24,
     "metadata": {},
     "output_type": "execute_result"
    }
   ],
   "source": [
    "outlets_df.min()"
   ]
  },
  {
   "cell_type": "code",
   "execution_count": 26,
   "metadata": {},
   "outputs": [],
   "source": [
    "# Getting mean and std of kitchen outlets tove\n",
    "#House 1: kitchen_outlets – 7,8,15,16 / stove – 14\n",
    "#House 2: kitchen outlets – 3,8 / stove – 5\n",
    "#House 3: kitchen outlets – 21, 22 / stove – n/a\n",
    "#House 4: kitchen outlets – 5 / stove – 8\n",
    "#House 5: kitchen outlets – 24, 25 / stove – n/a \n",
    "#House 6: kitchen outlets – 3, 13 / stove – 5\n",
    "\n",
    "stove_df1=pd.read_table(DATA_DIRECTORY + '/' + 'house_1/channel_14.dat',\n",
    "                                     sep=\"\\s+\",\n",
    "                                      nrows=nrows,\n",
    "                                      usecols=[0, 1],\n",
    "                                      names=['time', 'h1'],\n",
    "                                      dtype={'time': str},\n",
    "                                      )\n",
    "\n",
    "stove_df2=pd.read_table(DATA_DIRECTORY + '/' + 'house_2/channel_5.dat',\n",
    "                                     sep=\"\\s+\",\n",
    "                                      nrows=nrows,\n",
    "                                      usecols=[0, 1],\n",
    "                                      names=['time', 'h2'],\n",
    "                                      dtype={'time': str},\n",
    "                                      )\n",
    "\n",
    "stove_df3=pd.read_table(DATA_DIRECTORY + '/' + 'house_4/channel_8.dat',\n",
    "                                     sep=\"\\s+\",\n",
    "                                      nrows=nrows,\n",
    "                                      usecols=[0, 1],\n",
    "                                      names=['time', 'h3'],\n",
    "                                      dtype={'time': str},\n",
    "                                      )\n",
    "\n",
    "stove_df4=pd.read_table(DATA_DIRECTORY + '/' + 'house_6/channel_5.dat',\n",
    "                                     sep=\"\\s+\",\n",
    "                                      nrows=nrows,\n",
    "                                      usecols=[0, 1],\n",
    "                                      names=['time', 'h4'],\n",
    "                                      dtype={'time': str},\n",
    "                                      )\n",
    "\n",
    "stove_df1['time']=pd.to_datetime(stove_df1['time'],unit='s')\n",
    "stove_df2['time']=pd.to_datetime(stove_df2['time'],unit='s')\n",
    "stove_df3['time']=pd.to_datetime(stove_df3['time'],unit='s')\n",
    "stove_df4['time']=pd.to_datetime(stove_df4['time'],unit='s')\n",
    "\n",
    "stove_df1.set_index('time',inplace=True)\n",
    "stove_df2.set_index('time',inplace=True)\n",
    "stove_df3.set_index('time',inplace=True)\n",
    "stove_df4.set_index('time',inplace=True)\n",
    "\n",
    "stove_dfa=stove_df1.join(stove_df2,how='outer')\n",
    "stove_dfb=stove_dfa.join(stove_df3,how='outer')\n",
    "stove_df=stove_dfb.join(stove_df4,how='outer')\n",
    "\n",
    "stove_df['aggregate']=stove_df.iloc[:].sum(axis=1)"
   ]
  },
  {
   "cell_type": "code",
   "execution_count": 27,
   "metadata": {},
   "outputs": [
    {
     "data": {
      "text/plain": [
       "h1           0.0\n",
       "h2           0.0\n",
       "h3           0.0\n",
       "h4           0.0\n",
       "aggregate    0.0\n",
       "dtype: float64"
      ]
     },
     "execution_count": 27,
     "metadata": {},
     "output_type": "execute_result"
    }
   ],
   "source": [
    "stove_df.min()"
   ]
  },
  {
   "cell_type": "code",
   "execution_count": 28,
   "metadata": {},
   "outputs": [
    {
     "data": {
      "text/plain": [
       "h1           1483.0\n",
       "h2            457.0\n",
       "h3           2080.0\n",
       "h4           1830.0\n",
       "aggregate    2080.0\n",
       "dtype: float64"
      ]
     },
     "execution_count": 28,
     "metadata": {},
     "output_type": "execute_result"
    }
   ],
   "source": [
    "stove_df.max()"
   ]
  },
  {
   "cell_type": "code",
   "execution_count": 29,
   "metadata": {},
   "outputs": [
    {
     "data": {
      "text/plain": [
       "h1           0.516229\n",
       "h2           1.436167\n",
       "h3           8.510806\n",
       "h4           4.299145\n",
       "aggregate    4.222186\n",
       "dtype: float64"
      ]
     },
     "execution_count": 29,
     "metadata": {},
     "output_type": "execute_result"
    }
   ],
   "source": [
    "stove_df.mean()"
   ]
  },
  {
   "cell_type": "code",
   "execution_count": 30,
   "metadata": {},
   "outputs": [
    {
     "data": {
      "text/plain": [
       "h1           24.129074\n",
       "h2           18.932500\n",
       "h3           67.197546\n",
       "h4           59.120770\n",
       "aggregate    50.749060\n",
       "dtype: float64"
      ]
     },
     "execution_count": 30,
     "metadata": {},
     "output_type": "execute_result"
    }
   ],
   "source": [
    "stove_df.std()"
   ]
  }
 ],
 "metadata": {
  "kernelspec": {
   "display_name": "Python 3",
   "language": "python",
   "name": "python3"
  },
  "language_info": {
   "codemirror_mode": {
    "name": "ipython",
    "version": 3
   },
   "file_extension": ".py",
   "mimetype": "text/x-python",
   "name": "python",
   "nbconvert_exporter": "python",
   "pygments_lexer": "ipython3",
   "version": "3.6.5"
  }
 },
 "nbformat": 4,
 "nbformat_minor": 4
}
