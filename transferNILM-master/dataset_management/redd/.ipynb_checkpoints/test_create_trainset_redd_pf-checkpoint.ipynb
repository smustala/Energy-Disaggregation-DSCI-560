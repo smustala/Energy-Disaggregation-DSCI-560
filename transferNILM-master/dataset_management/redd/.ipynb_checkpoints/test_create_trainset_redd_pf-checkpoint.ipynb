{
 "cells": [
  {
   "cell_type": "code",
   "execution_count": 15,
   "metadata": {},
   "outputs": [],
   "source": [
    "import redd_parameters\n",
    "import pandas as pd\n",
    "import matplotlib.pyplot as plt\n",
    "import time\n",
    "import argparse\n",
    "import os\n"
   ]
  },
  {
   "cell_type": "code",
   "execution_count": 3,
   "metadata": {},
   "outputs": [],
   "source": [
    "DATA_DIRECTORY = '../../rawdata/REDD'\n",
    "SAVE_PATH = '../../trainingdata/redd_kettle'\n",
    "AGG_MEAN = 522\n",
    "AGG_STD = 814\n"
   ]
  },
  {
   "cell_type": "code",
   "execution_count": 7,
   "metadata": {},
   "outputs": [],
   "source": [
    "    nrows=None\n",
    "    \n",
    "    mains1_df = pd.read_table('../../../rawdata/REDD' + '/' + 'house_' + str(1) + '/' + 'channel_' +\n",
    "                                      str(1) + '.dat',\n",
    "                                      sep=\"\\s+\",\n",
    "                                      nrows=nrows,\n",
    "                                      usecols=[0, 1],\n",
    "                                      names=['time', 'mains1'],\n",
    "                                      dtype={'time': str},\n",
    "                                      )\n",
    "    "
   ]
  },
  {
   "cell_type": "code",
   "execution_count": 8,
   "metadata": {
    "scrolled": true
   },
   "outputs": [
    {
     "data": {
      "text/html": [
       "<div>\n",
       "<style scoped>\n",
       "    .dataframe tbody tr th:only-of-type {\n",
       "        vertical-align: middle;\n",
       "    }\n",
       "\n",
       "    .dataframe tbody tr th {\n",
       "        vertical-align: top;\n",
       "    }\n",
       "\n",
       "    .dataframe thead th {\n",
       "        text-align: right;\n",
       "    }\n",
       "</style>\n",
       "<table border=\"1\" class=\"dataframe\">\n",
       "  <thead>\n",
       "    <tr style=\"text-align: right;\">\n",
       "      <th></th>\n",
       "      <th>time</th>\n",
       "      <th>mains1</th>\n",
       "    </tr>\n",
       "  </thead>\n",
       "  <tbody>\n",
       "    <tr>\n",
       "      <th>0</th>\n",
       "      <td>1303132929</td>\n",
       "      <td>224.19</td>\n",
       "    </tr>\n",
       "    <tr>\n",
       "      <th>1</th>\n",
       "      <td>1303132930</td>\n",
       "      <td>225.57</td>\n",
       "    </tr>\n",
       "    <tr>\n",
       "      <th>2</th>\n",
       "      <td>1303132931</td>\n",
       "      <td>226.09</td>\n",
       "    </tr>\n",
       "    <tr>\n",
       "      <th>3</th>\n",
       "      <td>1303132932</td>\n",
       "      <td>222.74</td>\n",
       "    </tr>\n",
       "    <tr>\n",
       "      <th>4</th>\n",
       "      <td>1303132933</td>\n",
       "      <td>222.20</td>\n",
       "    </tr>\n",
       "    <tr>\n",
       "      <th>...</th>\n",
       "      <td>...</td>\n",
       "      <td>...</td>\n",
       "    </tr>\n",
       "    <tr>\n",
       "      <th>1561655</th>\n",
       "      <td>1306267018</td>\n",
       "      <td>234.44</td>\n",
       "    </tr>\n",
       "    <tr>\n",
       "      <th>1561656</th>\n",
       "      <td>1306267019</td>\n",
       "      <td>235.57</td>\n",
       "    </tr>\n",
       "    <tr>\n",
       "      <th>1561657</th>\n",
       "      <td>1306267020</td>\n",
       "      <td>234.77</td>\n",
       "    </tr>\n",
       "    <tr>\n",
       "      <th>1561658</th>\n",
       "      <td>1306267021</td>\n",
       "      <td>235.55</td>\n",
       "    </tr>\n",
       "    <tr>\n",
       "      <th>1561659</th>\n",
       "      <td>1306267022</td>\n",
       "      <td>235.43</td>\n",
       "    </tr>\n",
       "  </tbody>\n",
       "</table>\n",
       "<p>1561660 rows × 2 columns</p>\n",
       "</div>"
      ],
      "text/plain": [
       "               time  mains1\n",
       "0        1303132929  224.19\n",
       "1        1303132930  225.57\n",
       "2        1303132931  226.09\n",
       "3        1303132932  222.74\n",
       "4        1303132933  222.20\n",
       "...             ...     ...\n",
       "1561655  1306267018  234.44\n",
       "1561656  1306267019  235.57\n",
       "1561657  1306267020  234.77\n",
       "1561658  1306267021  235.55\n",
       "1561659  1306267022  235.43\n",
       "\n",
       "[1561660 rows x 2 columns]"
      ]
     },
     "execution_count": 8,
     "metadata": {},
     "output_type": "execute_result"
    }
   ],
   "source": [
    "mains1_df"
   ]
  },
  {
   "cell_type": "code",
   "execution_count": 9,
   "metadata": {},
   "outputs": [],
   "source": [
    "appliance_name='kettle'"
   ]
  },
  {
   "cell_type": "code",
   "execution_count": 10,
   "metadata": {},
   "outputs": [],
   "source": [
    "train = pd.DataFrame(columns=['aggregate',appliance_name])"
   ]
  },
  {
   "cell_type": "code",
   "execution_count": 11,
   "metadata": {},
   "outputs": [
    {
     "data": {
      "text/html": [
       "<div>\n",
       "<style scoped>\n",
       "    .dataframe tbody tr th:only-of-type {\n",
       "        vertical-align: middle;\n",
       "    }\n",
       "\n",
       "    .dataframe tbody tr th {\n",
       "        vertical-align: top;\n",
       "    }\n",
       "\n",
       "    .dataframe thead th {\n",
       "        text-align: right;\n",
       "    }\n",
       "</style>\n",
       "<table border=\"1\" class=\"dataframe\">\n",
       "  <thead>\n",
       "    <tr style=\"text-align: right;\">\n",
       "      <th></th>\n",
       "      <th>aggregate</th>\n",
       "      <th>kettle</th>\n",
       "    </tr>\n",
       "  </thead>\n",
       "  <tbody>\n",
       "  </tbody>\n",
       "</table>\n",
       "</div>"
      ],
      "text/plain": [
       "Empty DataFrame\n",
       "Columns: [aggregate, kettle]\n",
       "Index: []"
      ]
     },
     "execution_count": 11,
     "metadata": {},
     "output_type": "execute_result"
    }
   ],
   "source": [
    "train"
   ]
  },
  {
   "cell_type": "code",
   "execution_count": 12,
   "metadata": {},
   "outputs": [],
   "source": [
    "import redd_parameters"
   ]
  },
  {
   "cell_type": "code",
   "execution_count": 14,
   "metadata": {},
   "outputs": [
    {
     "data": {
      "text/plain": [
       "{'microwave': {'windowlength': 599,\n",
       "  'on_power_threshold': 200,\n",
       "  'max_on_power': 3969,\n",
       "  'mean': 500,\n",
       "  'std': 800,\n",
       "  's2s_length': 128,\n",
       "  'houses': [1, 2, 3],\n",
       "  'channels': [11, 6, 16],\n",
       "  'train_build': [2, 3],\n",
       "  'test_build': 1},\n",
       " 'fridge': {'windowlength': 599,\n",
       "  'on_power_threshold': 50,\n",
       "  'max_on_power': 3323,\n",
       "  'mean': 200,\n",
       "  'std': 400,\n",
       "  's2s_length': 512,\n",
       "  'houses': [1, 2, 3],\n",
       "  'channels': [5, 9, 7],\n",
       "  'train_build': [2, 3],\n",
       "  'test_build': 1},\n",
       " 'dishwasher': {'windowlength': 599,\n",
       "  'on_power_threshold': 10,\n",
       "  'max_on_power': 3964,\n",
       "  'mean': 700,\n",
       "  'std': 1000,\n",
       "  's2s_length': 1536,\n",
       "  'houses': [1, 2, 3],\n",
       "  'channels': [6, 10, 9],\n",
       "  'train_build': [2, 3],\n",
       "  'test_build': 1},\n",
       " 'washingmachine': {'windowlength': 599,\n",
       "  'on_power_threshold': 20,\n",
       "  'max_on_power': 3999,\n",
       "  'mean': 400,\n",
       "  'std': 700,\n",
       "  's2s_length': 2000,\n",
       "  'houses': [1, 2, 3],\n",
       "  'channels': [20, 7, 13],\n",
       "  'train_build': [2, 3],\n",
       "  'test_build': 1}}"
      ]
     },
     "execution_count": 14,
     "metadata": {},
     "output_type": "execute_result"
    }
   ],
   "source": [
    "params_appliance"
   ]
  },
  {
   "cell_type": "code",
   "execution_count": 16,
   "metadata": {},
   "outputs": [
    {
     "data": {
      "text/plain": [
       "{'windowlength': 599,\n",
       " 'on_power_threshold': 200,\n",
       " 'max_on_power': 3969,\n",
       " 'mean': 500,\n",
       " 'std': 800,\n",
       " 's2s_length': 128,\n",
       " 'houses': [1, 2, 3],\n",
       " 'channels': [11, 6, 16],\n",
       " 'train_build': [2, 3],\n",
       " 'test_build': 1}"
      ]
     },
     "execution_count": 16,
     "metadata": {},
     "output_type": "execute_result"
    }
   ],
   "source": [
    "params_appliance['microwave']"
   ]
  },
  {
   "cell_type": "code",
   "execution_count": null,
   "metadata": {},
   "outputs": [],
   "source": []
  }
 ],
 "metadata": {
  "kernelspec": {
   "display_name": "Python 3",
   "language": "python",
   "name": "python3"
  },
  "language_info": {
   "codemirror_mode": {
    "name": "ipython",
    "version": 3
   },
   "file_extension": ".py",
   "mimetype": "text/x-python",
   "name": "python",
   "nbconvert_exporter": "python",
   "pygments_lexer": "ipython3",
   "version": "3.6.5"
  }
 },
 "nbformat": 4,
 "nbformat_minor": 4
}
