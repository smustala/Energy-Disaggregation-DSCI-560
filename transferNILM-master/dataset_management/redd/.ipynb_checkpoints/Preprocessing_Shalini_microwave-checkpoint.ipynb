{
 "cells": [
  {
   "cell_type": "code",
   "execution_count": 8,
   "metadata": {},
   "outputs": [],
   "source": [
    "from redd_parameters import *\n",
    "import redd_parameters\n",
    "import pandas as pd\n",
    "import matplotlib.pyplot as plt\n",
    "import time\n",
    "import argparse\n",
    "import os\n",
    "import pdb\n",
    "import json\n"
   ]
  },
  {
   "cell_type": "code",
   "execution_count": 23,
   "metadata": {},
   "outputs": [
    {
     "ename": "SyntaxError",
     "evalue": "invalid syntax (<ipython-input-23-b50e40169622>, line 1)",
     "output_type": "error",
     "traceback": [
      "\u001b[0;36m  File \u001b[0;32m\"<ipython-input-23-b50e40169622>\"\u001b[0;36m, line \u001b[0;32m1\u001b[0m\n\u001b[0;31m    python -m ipykernel install\u001b[0m\n\u001b[0m                      ^\u001b[0m\n\u001b[0;31mSyntaxError\u001b[0m\u001b[0;31m:\u001b[0m invalid syntax\n"
     ]
    }
   ],
   "source": []
  },
  {
   "cell_type": "code",
   "execution_count": 24,
   "metadata": {},
   "outputs": [],
   "source": [
    "parser = argparse.ArgumentParser(description='sequence to point learning \\\n",
    "                                     example for NILM')\n",
    "parser.add_argument(\"-f\", \"--fff\", help=\"a dummy argument to fool ipython\", default=\"1\")\n",
    "\n",
    "args = parser.parse_args()\n",
    "\n"
   ]
  },
  {
   "cell_type": "code",
   "execution_count": 25,
   "metadata": {},
   "outputs": [
    {
     "data": {
      "text/plain": [
       "Namespace(fff='/Users/shalinimustala/Library/Jupyter/runtime/kernel-4d78c981-7a27-4821-a62d-954b69a64327.json')"
      ]
     },
     "execution_count": 25,
     "metadata": {},
     "output_type": "execute_result"
    }
   ],
   "source": [
    "args"
   ]
  },
  {
   "cell_type": "code",
   "execution_count": 26,
   "metadata": {},
   "outputs": [],
   "source": [
    "\n",
    "DATA_DIRECTORY = '../../../rawdata/REDD'\n",
    "SAVE_PATH = '../../../trainingdata/redd_kettle'\n",
    "AGG_MEAN = 522\n",
    "AGG_STD = 814\n",
    "def get_arguments():\n",
    "    parser = argparse.ArgumentParser(description='sequence to point learning \\\n",
    "                                     example for NILM')\n",
    "    parser.add_argument(\"-f\", \"--fff\", help=\"a dummy argument to fool ipython\", default=\"1\")\n",
    "    parser.add_argument('--data_dir', type=str, default=DATA_DIRECTORY,\n",
    "                          help='The directory containing the REDD data')\n",
    "    parser.add_argument('--appliance_name', type=str, default='dishwasher',\n",
    "                          help='which appliance you want to train: kettle,\\\n",
    "                          microwave,fridge,dishwasher,washingmachine')\n",
    "    parser.add_argument('--aggregate_mean',type=int,default=AGG_MEAN,\n",
    "                        help='Mean value of aggregated reading (mains)')\n",
    "    parser.add_argument('--aggregate_std',type=int,default=AGG_STD,\n",
    "                        help='Std value of aggregated reading (mains)')\n",
    "    parser.add_argument('--save_path', type=str, default=SAVE_PATH,\n",
    "                          help='The directory to store the training data')\n",
    "    return parser.parse_args()\n"
   ]
  },
  {
   "cell_type": "code",
   "execution_count": 27,
   "metadata": {},
   "outputs": [],
   "source": [
    "args = get_arguments()"
   ]
  },
  {
   "cell_type": "code",
   "execution_count": 29,
   "metadata": {},
   "outputs": [
    {
     "data": {
      "text/plain": [
       "'dishwasher'"
      ]
     },
     "execution_count": 29,
     "metadata": {},
     "output_type": "execute_result"
    }
   ],
   "source": [
    "start_time = time.time()\n",
    "args  = get_arguments()\n",
    "appliance_name = args.appliance_name\n",
    "appliance_name\n"
   ]
  },
  {
   "cell_type": "code",
   "execution_count": 98,
   "metadata": {},
   "outputs": [
    {
     "data": {
      "text/plain": [
       "{'microwave': {'windowlength': 599,\n",
       "  'on_power_threshold': 200,\n",
       "  'max_on_power': 3969,\n",
       "  'mean': 500,\n",
       "  'std': 800,\n",
       "  's2s_length': 128,\n",
       "  'houses': [1, 2, 3],\n",
       "  'channels': [11, 6, 16],\n",
       "  'train_build': [2, 3],\n",
       "  'test_build': 1},\n",
       " 'fridge': {'windowlength': 599,\n",
       "  'on_power_threshold': 50,\n",
       "  'max_on_power': 3323,\n",
       "  'mean': 200,\n",
       "  'std': 400,\n",
       "  's2s_length': 512,\n",
       "  'houses': [1, 2, 3],\n",
       "  'channels': [5, 9, 7],\n",
       "  'train_build': [2, 3],\n",
       "  'test_build': 1},\n",
       " 'dishwasher': {'windowlength': 599,\n",
       "  'on_power_threshold': 10,\n",
       "  'max_on_power': 3964,\n",
       "  'mean': 700,\n",
       "  'std': 1000,\n",
       "  's2s_length': 1536,\n",
       "  'houses': [1, 2, 3],\n",
       "  'channels': [6, 10, 9],\n",
       "  'train_build': [2, 3],\n",
       "  'test_build': 1},\n",
       " 'washingmachine': {'windowlength': 599,\n",
       "  'on_power_threshold': 20,\n",
       "  'max_on_power': 3999,\n",
       "  'mean': 400,\n",
       "  'std': 700,\n",
       "  's2s_length': 2000,\n",
       "  'houses': [1, 2, 3],\n",
       "  'channels': [20, 7, 13],\n",
       "  'train_build': [2, 3],\n",
       "  'test_build': 1}}"
      ]
     },
     "execution_count": 98,
     "metadata": {},
     "output_type": "execute_result"
    }
   ],
   "source": [
    "params_appliance"
   ]
  },
  {
   "cell_type": "code",
   "execution_count": 33,
   "metadata": {},
   "outputs": [
    {
     "name": "stdout",
     "output_type": "stream",
     "text": [
      "\n",
      "dishwasher\n",
      "    ../../../rawdata/REDDhouse_1/channel_6.dat\n"
     ]
    },
    {
     "name": "stderr",
     "output_type": "stream",
     "text": [
      "/Users/shalinimustala/anaconda3/lib/python3.7/site-packages/ipykernel_launcher.py:24: FutureWarning: read_table is deprecated, use read_csv instead.\n",
      "/Users/shalinimustala/anaconda3/lib/python3.7/site-packages/ipykernel_launcher.py:33: FutureWarning: read_table is deprecated, use read_csv instead.\n",
      "/Users/shalinimustala/anaconda3/lib/python3.7/site-packages/ipykernel_launcher.py:42: FutureWarning: read_table is deprecated, use read_csv instead.\n"
     ]
    },
    {
     "name": "stdout",
     "output_type": "stream",
     "text": [
      "    ../../../rawdata/REDDhouse_2/channel_10.dat\n",
      "    ../../../rawdata/REDDhouse_3/channel_9.dat\n"
     ]
    }
   ],
   "source": [
    "sample_seconds = 8\n",
    "validation_percent = 10\n",
    "nrows = None\n",
    "debug = True\n",
    "\n",
    "appliance_name = args.appliance_name\n",
    "print('\\n' + appliance_name)\n",
    "train = pd.DataFrame(columns=['aggregate', appliance_name])\n",
    "params_appliance = redd_parameters.params_appliance\n",
    "\n",
    "#the code until appending all df_aligns to train if houses in training_houses and creating a test csv if houses in test set\n",
    "#should be inside the for loop.\n",
    "#I am taking it outside the for loop for sake of understanding the data and plotting\n",
    "for h in params_appliance[appliance_name]['houses']:\n",
    "    print('    ' + args.data_dir + 'house_' + str(h) + '/'\n",
    "                + 'channel_' +\n",
    "                str(params_appliance[appliance_name]['channels'][params_appliance[appliance_name]['houses'].index(h)]) +\n",
    "                '.dat')\n",
    "\n",
    "        # read data\n",
    "    mains1_df = pd.read_table(args.data_dir + '/' + 'house_' + str(h) + '/' + 'channel_' +\n",
    "                                      str(1) + '.dat',\n",
    "                                      sep=\"\\s+\",\n",
    "                                      nrows=nrows,\n",
    "                                      usecols=[0, 1],\n",
    "                                      names=['time', 'mains1'],\n",
    "                                      dtype={'time': str},\n",
    "                                      )\n",
    "\n",
    "    mains2_df = pd.read_table(args.data_dir + '/' + 'house_' + str(h) + '/' + 'channel_' +\n",
    "                                      str(2) + '.dat',\n",
    "                                      sep=\"\\s+\",\n",
    "                                      nrows=nrows,\n",
    "                                      usecols=[0, 1],\n",
    "                                      names=['time', 'mains2'],\n",
    "                                      dtype={'time': str},\n",
    "                                      )\n",
    "    app_df = pd.read_table(args.data_dir + '/' + 'house_' + str(h) + '/' + 'channel_' +\n",
    "                                   str(params_appliance[appliance_name]['channels']\n",
    "                                       [params_appliance[appliance_name]['houses'].index(h)]) + '.dat',\n",
    "                                   sep=\"\\s+\",\n",
    "                                   nrows=nrows,\n",
    "                                   usecols=[0, 1],\n",
    "                                   names=['time', appliance_name],\n",
    "                                   dtype={'time': str},\n",
    "                                   )"
   ]
  },
  {
   "cell_type": "code",
   "execution_count": 31,
   "metadata": {},
   "outputs": [],
   "source": [
    "mains1_df['time'] = pd.to_datetime(mains1_df['time'], unit='s')\n",
    "mains2_df['time'] = pd.to_datetime(mains2_df['time'], unit='s')\n",
    "\n",
    "mains1_df.set_index('time', inplace=True)\n",
    "mains2_df.set_index('time', inplace=True)\n",
    "\n",
    "mains_df = mains1_df.join(mains2_df, how='outer')\n",
    "\n",
    "mains_df['aggregate'] = mains_df.iloc[:].sum(axis=1)   #aggregate of 2 mains channels\n",
    "        #resample = mains_df.resample(str(sample_seconds) + 'S').mean()\n",
    "\n",
    "mains_df.reset_index(inplace=True)"
   ]
  },
  {
   "cell_type": "code",
   "execution_count": null,
   "metadata": {},
   "outputs": [],
   "source": [
    "del mains_df['mains1'], mains_df['mains2']"
   ]
  },
  {
   "cell_type": "code",
   "execution_count": 69,
   "metadata": {
    "scrolled": true
   },
   "outputs": [
    {
     "name": "stdout",
     "output_type": "stream",
     "text": [
      "    mains_df:\n",
      "                 time  aggregate\n",
      "0 2011-04-16 05:11:27     757.09\n",
      "1 2011-04-16 05:11:28     758.89\n",
      "2 2011-04-16 05:11:29     758.89\n",
      "3 2011-04-16 05:11:30     758.64\n",
      "4 2011-04-16 05:11:31     756.64\n",
      "app_df:\n",
      "                 time  dishwasher\n",
      "0 2011-04-16 05:11:30         0.0\n",
      "1 2011-04-16 05:11:33         1.0\n",
      "2 2011-04-16 05:11:36         0.0\n",
      "3 2011-04-16 05:11:40         1.0\n",
      "4 2011-04-16 05:11:43         0.0\n"
     ]
    },
    {
     "data": {
      "image/png": "[encoded data removed]",
      "text/plain": [
       "<Figure size 1440x1800 with 2 Axes>"
      ]
     },
     "metadata": {
      "needs_background": "light"
     },
     "output_type": "display_data"
    }
   ],
   "source": [
    "\n",
    "if debug:\n",
    "    print(\"    mains_df:\")\n",
    "    print(mains_df.head())\n",
    "    fig = plt.figure(figsize = [20,25])\n",
    "    ax1 = fig.add_subplot(3,1,1)\n",
    "    ax1.plot(mains_df['time'], mains_df['aggregate'])\n",
    "    ax1.tick_params(direction='out', length=10, width=2, labelsize = 15)\n",
    "    plt.xlabel(\"Time\", fontsize=18)\n",
    "    plt.ylabel(\"Mains Reading\", fontsize=18)\n",
    "\n",
    "app_df['time'] = pd.to_datetime(app_df['time'], unit='s')\n",
    "            # app_df.columns = [appliance_name]\n",
    "if debug:\n",
    "    print(\"app_df:\")\n",
    "    print(app_df.head())\n",
    "    ax2 = fig.add_subplot(3,1,2)\n",
    "    ax2.plot(app_df['time'], app_df[appliance_name])\n",
    "    ax2.tick_params(length=10, width=2, labelsize = 15)\n",
    "    plt.xlabel(\"Time\", fontsize=18)\n",
    "    plt.ylabel(\"Appliance Reading (Dishwasher)\", fontsize=18)\n",
    "    \n",
    "    \n",
    "plt.show()"
   ]
  },
  {
   "cell_type": "code",
   "execution_count": null,
   "metadata": {},
   "outputs": [],
   "source": [
    "mains_df.set_index('time', inplace=True)\n",
    "app_df.set_index('time', inplace=True)"
   ]
  },
  {
   "cell_type": "code",
   "execution_count": 99,
   "metadata": {},
   "outputs": [
    {
     "name": "stdout",
     "output_type": "stream",
     "text": [
      "aggregate    1427284\n",
      "dtype: int64\n",
      "Nans in mains readings: 0\n"
     ]
    },
    {
     "data": {
      "text/html": [
       "<div>\n",
       "<style scoped>\n",
       "    .dataframe tbody tr th:only-of-type {\n",
       "        vertical-align: middle;\n",
       "    }\n",
       "\n",
       "    .dataframe tbody tr th {\n",
       "        vertical-align: top;\n",
       "    }\n",
       "\n",
       "    .dataframe thead th {\n",
       "        text-align: right;\n",
       "    }\n",
       "</style>\n",
       "<table border=\"1\" class=\"dataframe\">\n",
       "  <thead>\n",
       "    <tr style=\"text-align: right;\">\n",
       "      <th></th>\n",
       "      <th>aggregate</th>\n",
       "    </tr>\n",
       "    <tr>\n",
       "      <th>time</th>\n",
       "      <th></th>\n",
       "    </tr>\n",
       "  </thead>\n",
       "  <tbody>\n",
       "    <tr>\n",
       "      <th>2011-05-31 00:19:45</th>\n",
       "      <td>17.66</td>\n",
       "    </tr>\n",
       "    <tr>\n",
       "      <th>2011-05-31 00:19:48</th>\n",
       "      <td>17.67</td>\n",
       "    </tr>\n",
       "    <tr>\n",
       "      <th>2011-05-31 00:19:49</th>\n",
       "      <td>17.67</td>\n",
       "    </tr>\n",
       "    <tr>\n",
       "      <th>2011-05-31 00:19:52</th>\n",
       "      <td>17.70</td>\n",
       "    </tr>\n",
       "    <tr>\n",
       "      <th>2011-05-31 00:19:54</th>\n",
       "      <td>17.69</td>\n",
       "    </tr>\n",
       "  </tbody>\n",
       "</table>\n",
       "</div>"
      ],
      "text/plain": [
       "                     aggregate\n",
       "time                          \n",
       "2011-05-31 00:19:45      17.66\n",
       "2011-05-31 00:19:48      17.67\n",
       "2011-05-31 00:19:49      17.67\n",
       "2011-05-31 00:19:52      17.70\n",
       "2011-05-31 00:19:54      17.69"
      ]
     },
     "execution_count": 99,
     "metadata": {},
     "output_type": "execute_result"
    }
   ],
   "source": [
    "print(mains_df.count())   \n",
    "print(\"Nans in mains readings: {}\".format(pd.isna(mains_df['aggregate']).sum()))\n",
    "mains_df.head() \n",
    "mains_df.tail()"
   ]
  },
  {
   "cell_type": "markdown",
   "metadata": {},
   "source": [
    "**Mains_df has readings every second**\n",
    "<br> No Nans\n",
    "<br> Start Time: 2011-04-16 05:11:27 (for house 3)\n",
    "<br> End Time: 2011-05-31 00:19:54 (for house 3)\n",
    "<br> Total Number of readings: 1427284\n"
   ]
  },
  {
   "cell_type": "code",
   "execution_count": 107,
   "metadata": {},
   "outputs": [
    {
     "name": "stdout",
     "output_type": "stream",
     "text": [
      "dishwasher    404107\n",
      "dtype: int64\n",
      "Nans in apps readings: 0\n"
     ]
    },
    {
     "data": {
      "text/html": [
       "<div>\n",
       "<style scoped>\n",
       "    .dataframe tbody tr th:only-of-type {\n",
       "        vertical-align: middle;\n",
       "    }\n",
       "\n",
       "    .dataframe tbody tr th {\n",
       "        vertical-align: top;\n",
       "    }\n",
       "\n",
       "    .dataframe thead th {\n",
       "        text-align: right;\n",
       "    }\n",
       "</style>\n",
       "<table border=\"1\" class=\"dataframe\">\n",
       "  <thead>\n",
       "    <tr style=\"text-align: right;\">\n",
       "      <th></th>\n",
       "      <th>dishwasher</th>\n",
       "    </tr>\n",
       "    <tr>\n",
       "      <th>time</th>\n",
       "      <th></th>\n",
       "    </tr>\n",
       "  </thead>\n",
       "  <tbody>\n",
       "    <tr>\n",
       "      <th>2011-05-31 00:19:23</th>\n",
       "      <td>3.0</td>\n",
       "    </tr>\n",
       "    <tr>\n",
       "      <th>2011-05-31 00:19:26</th>\n",
       "      <td>3.0</td>\n",
       "    </tr>\n",
       "    <tr>\n",
       "      <th>2011-05-31 00:19:30</th>\n",
       "      <td>3.0</td>\n",
       "    </tr>\n",
       "    <tr>\n",
       "      <th>2011-05-31 00:19:33</th>\n",
       "      <td>3.0</td>\n",
       "    </tr>\n",
       "    <tr>\n",
       "      <th>2011-05-31 00:19:36</th>\n",
       "      <td>3.0</td>\n",
       "    </tr>\n",
       "  </tbody>\n",
       "</table>\n",
       "</div>"
      ],
      "text/plain": [
       "                     dishwasher\n",
       "time                           \n",
       "2011-05-31 00:19:23         3.0\n",
       "2011-05-31 00:19:26         3.0\n",
       "2011-05-31 00:19:30         3.0\n",
       "2011-05-31 00:19:33         3.0\n",
       "2011-05-31 00:19:36         3.0"
      ]
     },
     "execution_count": 107,
     "metadata": {},
     "output_type": "execute_result"
    }
   ],
   "source": [
    "print(app_df.count())  #dishwasher\n",
    "print(\"Nans in apps readings: {}\".format(pd.isna(app_df[appliance_name]).sum()))\n",
    "app_df.head(20)\n",
    "app_df.tail()\n",
    "\n",
    "\n"
   ]
  },
  {
   "cell_type": "markdown",
   "metadata": {},
   "source": [
    "**app_df has readings every 3 or 4 seconds, there are readings more spaced than 4 seconds**\n",
    "<br>No Nans\n",
    "<br>Start Time: 2011-04-16 05:11:30\t (for house 3)\n",
    "<br>End Time: 2011-05-31 00:19:36 (for house 3)\n",
    "<br>Total Number of readings: 404107"
   ]
  },
  {
   "cell_type": "code",
   "execution_count": 123,
   "metadata": {},
   "outputs": [
    {
     "data": {
      "text/plain": [
       "aggregate     299776\n",
       "dishwasher    291346\n",
       "dtype: int64"
      ]
     },
     "execution_count": 123,
     "metadata": {},
     "output_type": "execute_result"
    }
   ],
   "source": [
    "mains_df.join(app_df, how='outer'). \\\n",
    "                resample(str(sample_seconds) + 'S').mean().fillna(method='backfill', limit=1).isna().sum()"
   ]
  },
  {
   "cell_type": "code",
   "execution_count": 152,
   "metadata": {},
   "outputs": [
    {
     "name": "stdout",
     "output_type": "stream",
     "text": [
      "time          183543\n",
      "aggregate     183543\n",
      "dishwasher    183543\n",
      "dtype: int64\n"
     ]
    },
    {
     "data": {
      "image/png": "[encoded data removed]",
      "text/plain": [
       "<Figure size 432x288 with 1 Axes>"
      ]
     },
     "metadata": {
      "needs_background": "light"
     },
     "output_type": "display_data"
    }
   ],
   "source": [
    "df_align = mains_df.join(app_df, how='outer'). \\\n",
    "                resample(str(sample_seconds) + 'S').mean().fillna(method='backfill', limit=1)   #sample_seconds = 8 sec\n",
    "df_align = df_align.dropna()\n",
    "df_align.reset_index(inplace=True)\n",
    "print(df_align.count())\n",
    "df_align['OVER 5 MINS'] = (df_align['time'].diff()).dt.seconds > 9   #to check how many readings are more than 9 seconds apart\n",
    "plt.plot(df_align['OVER 5 MINS'])\n",
    "plt.show() "
   ]
  },
  {
   "cell_type": "code",
   "execution_count": 136,
   "metadata": {},
   "outputs": [
    {
     "data": {
      "text/plain": [
       "time           285\n",
       "aggregate      285\n",
       "dishwasher     285\n",
       "OVER 5 MINS    285\n",
       "dtype: int64"
      ]
     },
     "execution_count": 136,
     "metadata": {},
     "output_type": "execute_result"
    }
   ],
   "source": [
    "df_align[df_align[\"OVER 5 MINS\"] == True].count()"
   ]
  },
  {
   "cell_type": "code",
   "execution_count": 132,
   "metadata": {},
   "outputs": [
    {
     "name": "stdout",
     "output_type": "stream",
     "text": [
      "time           183543\n",
      "aggregate      183543\n",
      "dishwasher     183543\n",
      "OVER 5 MINS    183543\n",
      "dtype: int64\n",
      "Nans in merged and resampled readings (just a check, nans already backfilled and removed): time           0\n",
      "aggregate      0\n",
      "dishwasher     0\n",
      "OVER 5 MINS    0\n",
      "dtype: int64\n"
     ]
    },
    {
     "data": {
      "text/html": [
       "<div>\n",
       "<style scoped>\n",
       "    .dataframe tbody tr th:only-of-type {\n",
       "        vertical-align: middle;\n",
       "    }\n",
       "\n",
       "    .dataframe tbody tr th {\n",
       "        vertical-align: top;\n",
       "    }\n",
       "\n",
       "    .dataframe thead th {\n",
       "        text-align: right;\n",
       "    }\n",
       "</style>\n",
       "<table border=\"1\" class=\"dataframe\">\n",
       "  <thead>\n",
       "    <tr style=\"text-align: right;\">\n",
       "      <th></th>\n",
       "      <th>time</th>\n",
       "      <th>aggregate</th>\n",
       "      <th>dishwasher</th>\n",
       "      <th>OVER 5 MINS</th>\n",
       "    </tr>\n",
       "  </thead>\n",
       "  <tbody>\n",
       "    <tr>\n",
       "      <th>183538</th>\n",
       "      <td>2011-05-31 00:19:04</td>\n",
       "      <td>17.71500</td>\n",
       "      <td>3.0</td>\n",
       "      <td>False</td>\n",
       "    </tr>\n",
       "    <tr>\n",
       "      <th>183539</th>\n",
       "      <td>2011-05-31 00:19:12</td>\n",
       "      <td>17.72625</td>\n",
       "      <td>2.5</td>\n",
       "      <td>False</td>\n",
       "    </tr>\n",
       "    <tr>\n",
       "      <th>183540</th>\n",
       "      <td>2011-05-31 00:19:20</td>\n",
       "      <td>17.70750</td>\n",
       "      <td>3.0</td>\n",
       "      <td>False</td>\n",
       "    </tr>\n",
       "    <tr>\n",
       "      <th>183541</th>\n",
       "      <td>2011-05-31 00:19:28</td>\n",
       "      <td>17.66250</td>\n",
       "      <td>3.0</td>\n",
       "      <td>False</td>\n",
       "    </tr>\n",
       "    <tr>\n",
       "      <th>183542</th>\n",
       "      <td>2011-05-31 00:19:36</td>\n",
       "      <td>17.67625</td>\n",
       "      <td>3.0</td>\n",
       "      <td>False</td>\n",
       "    </tr>\n",
       "  </tbody>\n",
       "</table>\n",
       "</div>"
      ],
      "text/plain": [
       "                      time  aggregate  dishwasher  OVER 5 MINS\n",
       "183538 2011-05-31 00:19:04   17.71500         3.0        False\n",
       "183539 2011-05-31 00:19:12   17.72625         2.5        False\n",
       "183540 2011-05-31 00:19:20   17.70750         3.0        False\n",
       "183541 2011-05-31 00:19:28   17.66250         3.0        False\n",
       "183542 2011-05-31 00:19:36   17.67625         3.0        False"
      ]
     },
     "execution_count": 132,
     "metadata": {},
     "output_type": "execute_result"
    }
   ],
   "source": [
    "print(df_align.count())  #merged mains and app\n",
    "print(\"Nans in merged and resampled readings (just a check, nans already backfilled and removed): {}\".format(pd.isna(df_align).sum()))\n",
    "df_align.head()\n",
    "df_align.tail()"
   ]
  },
  {
   "cell_type": "markdown",
   "metadata": {},
   "source": [
    "**df_align is a merged df of mains and app, resampled to 1 reading in 8 seconds, missing values filled by backfilling.**\n",
    "<br> missing values: not all timesteps in the appliance timeseries (may be in mains df too) are not spaced <= 8 seconds. Therefore resampling to 8 sec creates some missing values\n",
    "<br> these missing values are filled by backfilling\n",
    "<br> but wherever the time gap is more 16 seconds,i.e., more than 2 consecutive Nans, backfilling doesn't remove all the NaNs. Backfilling is only to interpolate the missing values caused due to different timestamps of mains and appliance\n",
    "<br> Nan readings after backfilling: 299776 (27.7 days),\n",
    "<br> these rows with NaNs (because of the occurence of higher time gaps between timestamps) are droped using dropna method \n",
    "<br> Total Number of readings after dropna: 183543\n",
    "<br> Start time: 2011-04-16 05:11:20\t\n",
    "End time: 2011-05-31 00:19:36\n",
    "<br> Although start and end dates and 45 days apart. The dataset has data only during the dates in set(all_dates): 26 days\n",
    "<br> Since the data recorded during these dates is also not at regular intervals, \n",
    "<br> it's actually only around 17 days worth of data."
   ]
  },
  {
   "cell_type": "code",
   "execution_count": 118,
   "metadata": {},
   "outputs": [
    {
     "data": {
      "text/plain": [
       "array([16, 17, 18, 19, 20, 21, 22, 23, 24, 25, 26, 27, 28, 30, 31])"
      ]
     },
     "execution_count": 118,
     "metadata": {},
     "output_type": "execute_result"
    }
   ],
   "source": [
    "\n",
    "df_align[\"time\"].dt.day.unique()  #looks like it has data only in these dates in April and May"
   ]
  },
  {
   "cell_type": "code",
   "execution_count": 131,
   "metadata": {},
   "outputs": [
    {
     "data": {
      "text/plain": [
       "{(4, 16),\n",
       " (4, 17),\n",
       " (4, 18),\n",
       " (4, 19),\n",
       " (4, 20),\n",
       " (4, 21),\n",
       " (4, 22),\n",
       " (4, 23),\n",
       " (4, 24),\n",
       " (4, 25),\n",
       " (4, 26),\n",
       " (4, 27),\n",
       " (4, 28),\n",
       " (5, 17),\n",
       " (5, 18),\n",
       " (5, 19),\n",
       " (5, 21),\n",
       " (5, 22),\n",
       " (5, 23),\n",
       " (5, 24),\n",
       " (5, 25),\n",
       " (5, 26),\n",
       " (5, 27),\n",
       " (5, 28),\n",
       " (5, 30),\n",
       " (5, 31)}"
      ]
     },
     "execution_count": 131,
     "metadata": {},
     "output_type": "execute_result"
    }
   ],
   "source": [
    "all_dates = []\n",
    "for i in range(len(df_align)):\n",
    "    all_dates.append((df_align.iloc[i][\"time\"].month, df_align.iloc[i][\"time\"].day))\n",
    "set(all_dates)"
   ]
  },
  {
   "cell_type": "code",
   "execution_count": 82,
   "metadata": {},
   "outputs": [
    {
     "data": {
      "text/plain": [
       "16.994722222222222"
      ]
     },
     "execution_count": 82,
     "metadata": {},
     "output_type": "execute_result"
    }
   ],
   "source": [
    "183543*8/60/60/24  #It's only around 17 days worth of data.  "
   ]
  },
  {
   "cell_type": "code",
   "execution_count": 124,
   "metadata": {},
   "outputs": [
    {
     "data": {
      "text/plain": [
       "27.757037037037037"
      ]
     },
     "execution_count": 124,
     "metadata": {},
     "output_type": "execute_result"
    }
   ],
   "source": [
    "299776*8/60/60/24  #after resampling and backfilling (before removing nans)"
   ]
  },
  {
   "cell_type": "code",
   "execution_count": 161,
   "metadata": {},
   "outputs": [
    {
     "name": "stdout",
     "output_type": "stream",
     "text": [
      "df_align:\n",
      "                 time  aggregate  dishwasher  OVER 5 MINS\n",
      "0 2011-04-16 05:11:20  757.09000    0.500000        False\n",
      "1 2011-04-16 05:11:28  758.67625    0.500000        False\n",
      "2 2011-04-16 05:11:36  758.00375    0.333333        False\n",
      "3 2011-04-16 05:11:44  759.10750    0.500000        False\n",
      "4 2011-04-16 05:11:52  760.28875    0.000000        False\n"
     ]
    },
    {
     "data": {
      "image/png": "[encoded data removed]",
      "text/plain": [
       "<Figure size 936x504 with 1 Axes>"
      ]
     },
     "metadata": {
      "needs_background": "light"
     },
     "output_type": "display_data"
    }
   ],
   "source": [
    "mains = df_align['aggregate'].values\n",
    "app_data = df_align[appliance_name].values\n",
    "# plt.plot(np.arange(0, len(mains)), mains, app_data)\n",
    "# plt.show()\n",
    "if debug:\n",
    "# plot the dtaset\n",
    "    print(\"df_align:\")\n",
    "    print(df_align.head())\n",
    "    fig2 = plt.figure(figsize = [13,7])\n",
    "    ax2 = fig2.add_subplot(1,1,1)\n",
    "    ax2.plot(df_align['time'], df_align['aggregate'])\n",
    "    ax2.plot(df_align['time'], df_align[appliance_name])\n",
    "    ax2.tick_params(direction='out', length=10, width=2, labelsize = 15)\n",
    "    ax2.legend([\"Mains\", \"Appliance (Dishwasher)\"], fontsize = \"large\")\n",
    "    plt.xlabel(\"Time\", fontsize=18)\n",
    "    plt.ylabel(\"Energy Reading\", fontsize=18)\n",
    "    #plt.plot(df_align['aggregate'].values)\n",
    "    #plt.plot(df_align[appliance_name].values)  #make the plot time (date) vs readings\n",
    "    plt.show()"
   ]
  },
  {
   "cell_type": "markdown",
   "metadata": {},
   "source": [
    "**Normalization** : explains the negative values"
   ]
  },
  {
   "cell_type": "code",
   "execution_count": 139,
   "metadata": {},
   "outputs": [],
   "source": [
    "# Normalization\n",
    "mean = params_appliance[appliance_name]['mean']\n",
    "std = params_appliance[appliance_name]['std']\n",
    "\n",
    "df_align['aggregate'] = (df_align['aggregate'] - args.aggregate_mean) / args.aggregate_std\n",
    "df_align[appliance_name] = (df_align[appliance_name] - mean) / std"
   ]
  },
  {
   "cell_type": "code",
   "execution_count": 140,
   "metadata": {},
   "outputs": [
    {
     "data": {
      "text/html": [
       "<div>\n",
       "<style scoped>\n",
       "    .dataframe tbody tr th:only-of-type {\n",
       "        vertical-align: middle;\n",
       "    }\n",
       "\n",
       "    .dataframe tbody tr th {\n",
       "        vertical-align: top;\n",
       "    }\n",
       "\n",
       "    .dataframe thead th {\n",
       "        text-align: right;\n",
       "    }\n",
       "</style>\n",
       "<table border=\"1\" class=\"dataframe\">\n",
       "  <thead>\n",
       "    <tr style=\"text-align: right;\">\n",
       "      <th></th>\n",
       "      <th>time</th>\n",
       "      <th>aggregate</th>\n",
       "      <th>dishwasher</th>\n",
       "      <th>OVER 5 MINS</th>\n",
       "    </tr>\n",
       "  </thead>\n",
       "  <tbody>\n",
       "    <tr>\n",
       "      <th>0</th>\n",
       "      <td>2011-04-16 05:11:20</td>\n",
       "      <td>-0.640923</td>\n",
       "      <td>-0.700699</td>\n",
       "      <td>False</td>\n",
       "    </tr>\n",
       "    <tr>\n",
       "      <th>1</th>\n",
       "      <td>2011-04-16 05:11:28</td>\n",
       "      <td>-0.640920</td>\n",
       "      <td>-0.700699</td>\n",
       "      <td>False</td>\n",
       "    </tr>\n",
       "    <tr>\n",
       "      <th>2</th>\n",
       "      <td>2011-04-16 05:11:36</td>\n",
       "      <td>-0.640921</td>\n",
       "      <td>-0.700700</td>\n",
       "      <td>False</td>\n",
       "    </tr>\n",
       "    <tr>\n",
       "      <th>3</th>\n",
       "      <td>2011-04-16 05:11:44</td>\n",
       "      <td>-0.640920</td>\n",
       "      <td>-0.700699</td>\n",
       "      <td>False</td>\n",
       "    </tr>\n",
       "    <tr>\n",
       "      <th>4</th>\n",
       "      <td>2011-04-16 05:11:52</td>\n",
       "      <td>-0.640918</td>\n",
       "      <td>-0.700700</td>\n",
       "      <td>False</td>\n",
       "    </tr>\n",
       "  </tbody>\n",
       "</table>\n",
       "</div>"
      ],
      "text/plain": [
       "                 time  aggregate  dishwasher  OVER 5 MINS\n",
       "0 2011-04-16 05:11:20  -0.640923   -0.700699        False\n",
       "1 2011-04-16 05:11:28  -0.640920   -0.700699        False\n",
       "2 2011-04-16 05:11:36  -0.640921   -0.700700        False\n",
       "3 2011-04-16 05:11:44  -0.640920   -0.700699        False\n",
       "4 2011-04-16 05:11:52  -0.640918   -0.700700        False"
      ]
     },
     "execution_count": 140,
     "metadata": {},
     "output_type": "execute_result"
    }
   ],
   "source": [
    "df_align.head()"
   ]
  },
  {
   "cell_type": "code",
   "execution_count": null,
   "metadata": {},
   "outputs": [],
   "source": []
  }
 ],
 "metadata": {
  "kernelspec": {
   "display_name": "Python 3",
   "language": "python",
   "name": "python3"
  },
  "language_info": {
   "codemirror_mode": {
    "name": "ipython",
    "version": 3
   },
   "file_extension": ".py",
   "mimetype": "text/x-python",
   "name": "python",
   "nbconvert_exporter": "python",
   "pygments_lexer": "ipython3",
   "version": "3.7.3"
  }
 },
 "nbformat": 4,
 "nbformat_minor": 2
}
