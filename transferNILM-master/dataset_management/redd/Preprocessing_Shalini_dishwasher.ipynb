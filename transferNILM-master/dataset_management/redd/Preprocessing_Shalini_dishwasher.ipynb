{
 "cells": [
  {
   "cell_type": "code",
   "execution_count": 31,
   "metadata": {},
   "outputs": [],
   "source": [
    "from redd_parameters import *\n",
    "import redd_parameters\n",
    "import pandas as pd\n",
    "import matplotlib.pyplot as plt\n",
    "import time\n",
    "import argparse\n",
    "import os\n",
    "import pdb\n",
    "import json\n"
   ]
  },
  {
   "cell_type": "code",
   "execution_count": 32,
   "metadata": {},
   "outputs": [
    {
     "data": {
      "text/plain": [
       "'/Users/shalinimustala/Documents/PPDS_coursework/DSCI560/Energy_disaggregation/Mypreprocessing_folder/transferNILM-master/dataset_management/redd'"
      ]
     },
     "execution_count": 32,
     "metadata": {},
     "output_type": "execute_result"
    }
   ],
   "source": [
    "os.getcwd()"
   ]
  },
  {
   "cell_type": "markdown",
   "metadata": {},
   "source": [
    "**Create a common test set (house 1)**"
   ]
  },
  {
   "cell_type": "code",
   "execution_count": 75,
   "metadata": {},
   "outputs": [],
   "source": [
    "#path for test set (microwave)\n",
    "path2 = '/Users/shalinimustala/Documents/PPDS_coursework/DSCI560/Energy_disaggregation/seq2point-nilm/saved_microwave_ws11/REDDmicrowave_test_.csv'\n",
    "#extracting just the first column and filling the second column with zeros\n",
    "mainsandapp = pd.read_csv(path2)\n",
    "mainsandapp.columns = [\"mains\", \"appliance\"]\n",
    "import numpy as np\n",
    "mainsandapp[\"dummy\"] = np.zeros(len(mainsandapp))\n",
    "mains_new = mainsandapp[[\"mains\", \"dummy\"]]\n"
   ]
  },
  {
   "cell_type": "code",
   "execution_count": 68,
   "metadata": {},
   "outputs": [
    {
     "data": {
      "text/html": [
       "<div>\n",
       "<style scoped>\n",
       "    .dataframe tbody tr th:only-of-type {\n",
       "        vertical-align: middle;\n",
       "    }\n",
       "\n",
       "    .dataframe tbody tr th {\n",
       "        vertical-align: top;\n",
       "    }\n",
       "\n",
       "    .dataframe thead th {\n",
       "        text-align: right;\n",
       "    }\n",
       "</style>\n",
       "<table border=\"1\" class=\"dataframe\">\n",
       "  <thead>\n",
       "    <tr style=\"text-align: right;\">\n",
       "      <th></th>\n",
       "      <th>mains</th>\n",
       "      <th>dummy</th>\n",
       "    </tr>\n",
       "  </thead>\n",
       "  <tbody>\n",
       "    <tr>\n",
       "      <th>0</th>\n",
       "      <td>-0.221414</td>\n",
       "      <td>0.0</td>\n",
       "    </tr>\n",
       "    <tr>\n",
       "      <th>1</th>\n",
       "      <td>-0.222012</td>\n",
       "      <td>0.0</td>\n",
       "    </tr>\n",
       "    <tr>\n",
       "      <th>2</th>\n",
       "      <td>-0.220986</td>\n",
       "      <td>0.0</td>\n",
       "    </tr>\n",
       "    <tr>\n",
       "      <th>3</th>\n",
       "      <td>-0.219377</td>\n",
       "      <td>0.0</td>\n",
       "    </tr>\n",
       "    <tr>\n",
       "      <th>4</th>\n",
       "      <td>-0.219928</td>\n",
       "      <td>0.0</td>\n",
       "    </tr>\n",
       "  </tbody>\n",
       "</table>\n",
       "</div>"
      ],
      "text/plain": [
       "      mains  dummy\n",
       "0 -0.221414    0.0\n",
       "1 -0.222012    0.0\n",
       "2 -0.220986    0.0\n",
       "3 -0.219377    0.0\n",
       "4 -0.219928    0.0"
      ]
     },
     "execution_count": 68,
     "metadata": {},
     "output_type": "execute_result"
    }
   ],
   "source": [
    "mains_new.head()"
   ]
  },
  {
   "cell_type": "code",
   "execution_count": 69,
   "metadata": {},
   "outputs": [],
   "source": [
    "saved_path = '/Users/shalinimustala/Documents/PPDS_coursework/DSCI560/Energy_disaggregation/seq2point-nilm/saved_best/test_mains.csv'\n",
    "mains_new.to_csv(saved_path, index=False, header=False)"
   ]
  },
  {
   "cell_type": "markdown",
   "metadata": {},
   "source": [
    "**Plotting results.csv**"
   ]
  },
  {
   "cell_type": "code",
   "execution_count": 76,
   "metadata": {},
   "outputs": [
    {
     "data": {
      "text/plain": [
       "38000"
      ]
     },
     "execution_count": 76,
     "metadata": {},
     "output_type": "execute_result"
    }
   ],
   "source": [
    "path_results = '/Users/shalinimustala/Documents/PPDS_coursework/DSCI560/Energy_disaggregation/seq2point-nilm/saved_best/results.csv'\n",
    "offset_microwave = 5\n",
    "offset_dishwasher = 100\n",
    "df = pd.read_csv(path_results)\n",
    "#results = df.to_numpy()\n",
    "df.head()\n",
    "len(df)"
   ]
  },
  {
   "cell_type": "code",
   "execution_count": 77,
   "metadata": {},
   "outputs": [
    {
     "data": {
      "text/html": [
       "<div>\n",
       "<style scoped>\n",
       "    .dataframe tbody tr th:only-of-type {\n",
       "        vertical-align: middle;\n",
       "    }\n",
       "\n",
       "    .dataframe tbody tr th {\n",
       "        vertical-align: top;\n",
       "    }\n",
       "\n",
       "    .dataframe thead th {\n",
       "        text-align: right;\n",
       "    }\n",
       "</style>\n",
       "<table border=\"1\" class=\"dataframe\">\n",
       "  <thead>\n",
       "    <tr style=\"text-align: right;\">\n",
       "      <th></th>\n",
       "      <th>time</th>\n",
       "      <th>mains</th>\n",
       "      <th>microwave</th>\n",
       "      <th>dishwasher</th>\n",
       "    </tr>\n",
       "  </thead>\n",
       "  <tbody>\n",
       "    <tr>\n",
       "      <th>count</th>\n",
       "      <td>38000.000000</td>\n",
       "      <td>38000.000000</td>\n",
       "      <td>38000.000000</td>\n",
       "      <td>38000.000000</td>\n",
       "    </tr>\n",
       "    <tr>\n",
       "      <th>mean</th>\n",
       "      <td>19000.500000</td>\n",
       "      <td>302.782596</td>\n",
       "      <td>15.148760</td>\n",
       "      <td>20.583698</td>\n",
       "    </tr>\n",
       "    <tr>\n",
       "      <th>std</th>\n",
       "      <td>10969.799451</td>\n",
       "      <td>354.404111</td>\n",
       "      <td>69.417822</td>\n",
       "      <td>86.931915</td>\n",
       "    </tr>\n",
       "    <tr>\n",
       "      <th>min</th>\n",
       "      <td>1.000000</td>\n",
       "      <td>94.302422</td>\n",
       "      <td>0.000000</td>\n",
       "      <td>0.000000</td>\n",
       "    </tr>\n",
       "    <tr>\n",
       "      <th>25%</th>\n",
       "      <td>9500.750000</td>\n",
       "      <td>169.532302</td>\n",
       "      <td>4.927765</td>\n",
       "      <td>1.798004</td>\n",
       "    </tr>\n",
       "    <tr>\n",
       "      <th>50%</th>\n",
       "      <td>19000.500000</td>\n",
       "      <td>211.905072</td>\n",
       "      <td>5.664139</td>\n",
       "      <td>2.932037</td>\n",
       "    </tr>\n",
       "    <tr>\n",
       "      <th>75%</th>\n",
       "      <td>28500.250000</td>\n",
       "      <td>348.442176</td>\n",
       "      <td>6.920151</td>\n",
       "      <td>4.041077</td>\n",
       "    </tr>\n",
       "    <tr>\n",
       "      <th>max</th>\n",
       "      <td>38000.000000</td>\n",
       "      <td>5836.941368</td>\n",
       "      <td>948.579200</td>\n",
       "      <td>914.023200</td>\n",
       "    </tr>\n",
       "  </tbody>\n",
       "</table>\n",
       "</div>"
      ],
      "text/plain": [
       "               time         mains     microwave    dishwasher\n",
       "count  38000.000000  38000.000000  38000.000000  38000.000000\n",
       "mean   19000.500000    302.782596     15.148760     20.583698\n",
       "std    10969.799451    354.404111     69.417822     86.931915\n",
       "min        1.000000     94.302422      0.000000      0.000000\n",
       "25%     9500.750000    169.532302      4.927765      1.798004\n",
       "50%    19000.500000    211.905072      5.664139      2.932037\n",
       "75%    28500.250000    348.442176      6.920151      4.041077\n",
       "max    38000.000000   5836.941368    948.579200    914.023200"
      ]
     },
     "execution_count": 77,
     "metadata": {},
     "output_type": "execute_result"
    }
   ],
   "source": [
    "df.describe()"
   ]
  },
  {
   "cell_type": "code",
   "execution_count": 79,
   "metadata": {},
   "outputs": [
    {
     "data": {
      "text/plain": [
       "time          0\n",
       "mains         0\n",
       "microwave     0\n",
       "dishwasher    0\n",
       "dtype: int64"
      ]
     },
     "execution_count": 79,
     "metadata": {},
     "output_type": "execute_result"
    }
   ],
   "source": [
    "df.isna().sum()"
   ]
  },
  {
   "cell_type": "code",
   "execution_count": 78,
   "metadata": {},
   "outputs": [
    {
     "data": {
      "text/html": [
       "<div>\n",
       "<style scoped>\n",
       "    .dataframe tbody tr th:only-of-type {\n",
       "        vertical-align: middle;\n",
       "    }\n",
       "\n",
       "    .dataframe tbody tr th {\n",
       "        vertical-align: top;\n",
       "    }\n",
       "\n",
       "    .dataframe thead th {\n",
       "        text-align: right;\n",
       "    }\n",
       "</style>\n",
       "<table border=\"1\" class=\"dataframe\">\n",
       "  <thead>\n",
       "    <tr style=\"text-align: right;\">\n",
       "      <th></th>\n",
       "      <th>time</th>\n",
       "      <th>mains</th>\n",
       "      <th>microwave</th>\n",
       "      <th>dishwasher</th>\n",
       "    </tr>\n",
       "  </thead>\n",
       "  <tbody>\n",
       "    <tr>\n",
       "      <th>0</th>\n",
       "      <td>1</td>\n",
       "      <td>341.282232</td>\n",
       "      <td>6.864014</td>\n",
       "      <td>15.292175</td>\n",
       "    </tr>\n",
       "    <tr>\n",
       "      <th>1</th>\n",
       "      <td>2</td>\n",
       "      <td>342.117396</td>\n",
       "      <td>6.868164</td>\n",
       "      <td>14.658569</td>\n",
       "    </tr>\n",
       "    <tr>\n",
       "      <th>2</th>\n",
       "      <td>3</td>\n",
       "      <td>343.427122</td>\n",
       "      <td>6.872284</td>\n",
       "      <td>13.173767</td>\n",
       "    </tr>\n",
       "    <tr>\n",
       "      <th>3</th>\n",
       "      <td>4</td>\n",
       "      <td>342.978608</td>\n",
       "      <td>6.875854</td>\n",
       "      <td>12.070923</td>\n",
       "    </tr>\n",
       "    <tr>\n",
       "      <th>4</th>\n",
       "      <td>5</td>\n",
       "      <td>344.797898</td>\n",
       "      <td>6.878509</td>\n",
       "      <td>10.253418</td>\n",
       "    </tr>\n",
       "  </tbody>\n",
       "</table>\n",
       "</div>"
      ],
      "text/plain": [
       "   time       mains  microwave  dishwasher\n",
       "0     1  341.282232   6.864014   15.292175\n",
       "1     2  342.117396   6.868164   14.658569\n",
       "2     3  343.427122   6.872284   13.173767\n",
       "3     4  342.978608   6.875854   12.070923\n",
       "4     5  344.797898   6.878509   10.253418"
      ]
     },
     "execution_count": 78,
     "metadata": {},
     "output_type": "execute_result"
    }
   ],
   "source": [
    "df.head()"
   ]
  },
  {
   "cell_type": "code",
   "execution_count": 72,
   "metadata": {},
   "outputs": [
    {
     "data": {
      "text/plain": [
       "5.0"
      ]
     },
     "execution_count": 72,
     "metadata": {},
     "output_type": "execute_result"
    }
   ],
   "source": [
    "190000/len(df)"
   ]
  },
  {
   "cell_type": "code",
   "execution_count": 107,
   "metadata": {},
   "outputs": [
    {
     "data": {
      "text/plain": [
       "Text(0.5, 0, 'Testing Window')"
      ]
     },
     "execution_count": 107,
     "metadata": {},
     "output_type": "execute_result"
    },
    {
     "data": {
      "image/png": "[encoded data removed]",
      "text/plain": [
       "<Figure size 1440x1800 with 1 Axes>"
      ]
     },
     "metadata": {
      "needs_background": "light"
     },
     "output_type": "display_data"
    }
   ],
   "source": [
    "\n",
    "#mains = results\n",
    "fig = plt.figure(figsize = [20,25])\n",
    "ax1 = fig.add_subplot(1,1,1)\n",
    "ax1.plot(df['mains'], label=\"Mains\")\n",
    "ax1.plot(df['microwave'][:- (2 * offset_microwave)], label=\"Microwave\")\n",
    "ax1.plot(df['dishwasher'][:- (2 * offset_dishwasher)], label=\"Dishwasher\")\n",
    "#plt.title(self.__appliance + \" \" + self.__network_type + \"(\" + self.__algorithm + \")\")\n",
    "plt.ylabel(\"Power Value (Watts)\")\n",
    "plt.xlabel(\"Testing Window\")"
   ]
  },
  {
   "cell_type": "code",
   "execution_count": 109,
   "metadata": {
    "scrolled": true
   },
   "outputs": [
    {
     "data": {
      "text/plain": [
       "Text(0.5, 0, 'Testing Window')"
      ]
     },
     "execution_count": 109,
     "metadata": {},
     "output_type": "execute_result"
    },
    {
     "data": {
      "image/png": "[encoded data removed]",
      "text/plain": [
       "<Figure size 1440x720 with 1 Axes>"
      ]
     },
     "metadata": {
      "needs_background": "light"
     },
     "output_type": "display_data"
    }
   ],
   "source": [
    "fig = plt.figure(figsize = [20,10])\n",
    "ax1 = fig.add_subplot(1,1,1)\n",
    "ax1.plot(df['mains'], label=\"Mains\")\n",
    "ax1.plot(df['microwave'], label=\"Microwave\")\n",
    "ax1.plot(df['dishwasher'], label=\"Dishwasher\")\n",
    "#plt.title(self.__appliance + \" \" + self.__network_type + \"(\" + self.__algorithm + \")\")\n",
    "plt.ylabel(\"Power Value (Watts)\")\n",
    "plt.xlabel(\"Testing Window\")"
   ]
  },
  {
   "cell_type": "markdown",
   "metadata": {},
   "source": [
    "**Merge training data from houses 2,3 with house 4**"
   ]
  },
  {
   "cell_type": "markdown",
   "metadata": {},
   "source": [
    "**Microwave**"
   ]
  },
  {
   "cell_type": "code",
   "execution_count": 56,
   "metadata": {},
   "outputs": [
    {
     "data": {
      "text/html": [
       "<div>\n",
       "<style scoped>\n",
       "    .dataframe tbody tr th:only-of-type {\n",
       "        vertical-align: middle;\n",
       "    }\n",
       "\n",
       "    .dataframe tbody tr th {\n",
       "        vertical-align: top;\n",
       "    }\n",
       "\n",
       "    .dataframe thead th {\n",
       "        text-align: right;\n",
       "    }\n",
       "</style>\n",
       "<table border=\"1\" class=\"dataframe\">\n",
       "  <thead>\n",
       "    <tr style=\"text-align: right;\">\n",
       "      <th></th>\n",
       "      <th>mains</th>\n",
       "      <th>appliance</th>\n",
       "    </tr>\n",
       "  </thead>\n",
       "  <tbody>\n",
       "    <tr>\n",
       "      <th>count</th>\n",
       "      <td>300350.000000</td>\n",
       "      <td>300350.000000</td>\n",
       "    </tr>\n",
       "    <tr>\n",
       "      <th>mean</th>\n",
       "      <td>-0.208511</td>\n",
       "      <td>-0.610165</td>\n",
       "    </tr>\n",
       "    <tr>\n",
       "      <th>std</th>\n",
       "      <td>0.736927</td>\n",
       "      <td>0.130792</td>\n",
       "    </tr>\n",
       "    <tr>\n",
       "      <th>min</th>\n",
       "      <td>-0.601689</td>\n",
       "      <td>-0.625000</td>\n",
       "    </tr>\n",
       "    <tr>\n",
       "      <th>25%</th>\n",
       "      <td>-0.489410</td>\n",
       "      <td>-0.622500</td>\n",
       "    </tr>\n",
       "    <tr>\n",
       "      <th>50%</th>\n",
       "      <td>-0.329694</td>\n",
       "      <td>-0.620000</td>\n",
       "    </tr>\n",
       "    <tr>\n",
       "      <th>75%</th>\n",
       "      <td>-0.239883</td>\n",
       "      <td>-0.619167</td>\n",
       "    </tr>\n",
       "    <tr>\n",
       "      <th>max</th>\n",
       "      <td>8.755021</td>\n",
       "      <td>1.848750</td>\n",
       "    </tr>\n",
       "  </tbody>\n",
       "</table>\n",
       "</div>"
      ],
      "text/plain": [
       "               mains      appliance\n",
       "count  300350.000000  300350.000000\n",
       "mean       -0.208511      -0.610165\n",
       "std         0.736927       0.130792\n",
       "min        -0.601689      -0.625000\n",
       "25%        -0.489410      -0.622500\n",
       "50%        -0.329694      -0.620000\n",
       "75%        -0.239883      -0.619167\n",
       "max         8.755021       1.848750"
      ]
     },
     "execution_count": 56,
     "metadata": {},
     "output_type": "execute_result"
    }
   ],
   "source": [
    "#Combining houses 2,3 with 4-Dishwasher\n",
    "PATH = '../../../trainingdata'\n",
    "path_old = os.path.join(PATH, \"REDDmicrowave_training_.csv\")\n",
    "path_new = os.path.join(PATH, \"train_houses4/microwave_training_house4.csv\")\n",
    "df_old = pd.read_csv(path_old)\n",
    "df_old.columns = [\"mains\", \"appliance\"]\n",
    "df_old.describe()"
   ]
  },
  {
   "cell_type": "code",
   "execution_count": 57,
   "metadata": {},
   "outputs": [
    {
     "data": {
      "text/html": [
       "<div>\n",
       "<style scoped>\n",
       "    .dataframe tbody tr th:only-of-type {\n",
       "        vertical-align: middle;\n",
       "    }\n",
       "\n",
       "    .dataframe tbody tr th {\n",
       "        vertical-align: top;\n",
       "    }\n",
       "\n",
       "    .dataframe thead th {\n",
       "        text-align: right;\n",
       "    }\n",
       "</style>\n",
       "<table border=\"1\" class=\"dataframe\">\n",
       "  <thead>\n",
       "    <tr style=\"text-align: right;\">\n",
       "      <th></th>\n",
       "      <th>mains</th>\n",
       "      <th>appliance</th>\n",
       "    </tr>\n",
       "  </thead>\n",
       "  <tbody>\n",
       "    <tr>\n",
       "      <th>count</th>\n",
       "      <td>408389.000000</td>\n",
       "      <td>408389.000000</td>\n",
       "    </tr>\n",
       "    <tr>\n",
       "      <th>mean</th>\n",
       "      <td>-0.221813</td>\n",
       "      <td>-0.623543</td>\n",
       "    </tr>\n",
       "    <tr>\n",
       "      <th>std</th>\n",
       "      <td>0.379762</td>\n",
       "      <td>0.000407</td>\n",
       "    </tr>\n",
       "    <tr>\n",
       "      <th>min</th>\n",
       "      <td>-0.557013</td>\n",
       "      <td>-0.625000</td>\n",
       "    </tr>\n",
       "    <tr>\n",
       "      <th>25%</th>\n",
       "      <td>-0.486671</td>\n",
       "      <td>-0.623750</td>\n",
       "    </tr>\n",
       "    <tr>\n",
       "      <th>50%</th>\n",
       "      <td>-0.344335</td>\n",
       "      <td>-0.623750</td>\n",
       "    </tr>\n",
       "    <tr>\n",
       "      <th>75%</th>\n",
       "      <td>-0.140450</td>\n",
       "      <td>-0.623333</td>\n",
       "    </tr>\n",
       "    <tr>\n",
       "      <th>max</th>\n",
       "      <td>3.755051</td>\n",
       "      <td>-0.600625</td>\n",
       "    </tr>\n",
       "  </tbody>\n",
       "</table>\n",
       "</div>"
      ],
      "text/plain": [
       "               mains      appliance\n",
       "count  408389.000000  408389.000000\n",
       "mean       -0.221813      -0.623543\n",
       "std         0.379762       0.000407\n",
       "min        -0.557013      -0.625000\n",
       "25%        -0.486671      -0.623750\n",
       "50%        -0.344335      -0.623750\n",
       "75%        -0.140450      -0.623333\n",
       "max         3.755051      -0.600625"
      ]
     },
     "execution_count": 57,
     "metadata": {},
     "output_type": "execute_result"
    }
   ],
   "source": [
    "df_new = pd.read_csv(path_new)\n",
    "df_new.columns = [\"mains\", \"appliance\"]\n",
    "df_new.describe()"
   ]
  },
  {
   "cell_type": "code",
   "execution_count": 59,
   "metadata": {},
   "outputs": [
    {
     "data": {
      "text/html": [
       "<div>\n",
       "<style scoped>\n",
       "    .dataframe tbody tr th:only-of-type {\n",
       "        vertical-align: middle;\n",
       "    }\n",
       "\n",
       "    .dataframe tbody tr th {\n",
       "        vertical-align: top;\n",
       "    }\n",
       "\n",
       "    .dataframe thead th {\n",
       "        text-align: right;\n",
       "    }\n",
       "</style>\n",
       "<table border=\"1\" class=\"dataframe\">\n",
       "  <thead>\n",
       "    <tr style=\"text-align: right;\">\n",
       "      <th></th>\n",
       "      <th>mains</th>\n",
       "      <th>appliance</th>\n",
       "    </tr>\n",
       "  </thead>\n",
       "  <tbody>\n",
       "    <tr>\n",
       "      <th>count</th>\n",
       "      <td>708739.000000</td>\n",
       "      <td>708739.000000</td>\n",
       "    </tr>\n",
       "    <tr>\n",
       "      <th>mean</th>\n",
       "      <td>-0.216176</td>\n",
       "      <td>-0.617874</td>\n",
       "    </tr>\n",
       "    <tr>\n",
       "      <th>std</th>\n",
       "      <td>0.559718</td>\n",
       "      <td>0.085400</td>\n",
       "    </tr>\n",
       "    <tr>\n",
       "      <th>min</th>\n",
       "      <td>-0.601689</td>\n",
       "      <td>-0.625000</td>\n",
       "    </tr>\n",
       "    <tr>\n",
       "      <th>25%</th>\n",
       "      <td>-0.487357</td>\n",
       "      <td>-0.623750</td>\n",
       "    </tr>\n",
       "    <tr>\n",
       "      <th>50%</th>\n",
       "      <td>-0.339446</td>\n",
       "      <td>-0.623125</td>\n",
       "    </tr>\n",
       "    <tr>\n",
       "      <th>75%</th>\n",
       "      <td>-0.177381</td>\n",
       "      <td>-0.622500</td>\n",
       "    </tr>\n",
       "    <tr>\n",
       "      <th>max</th>\n",
       "      <td>8.755021</td>\n",
       "      <td>1.848750</td>\n",
       "    </tr>\n",
       "  </tbody>\n",
       "</table>\n",
       "</div>"
      ],
      "text/plain": [
       "               mains      appliance\n",
       "count  708739.000000  708739.000000\n",
       "mean       -0.216176      -0.617874\n",
       "std         0.559718       0.085400\n",
       "min        -0.601689      -0.625000\n",
       "25%        -0.487357      -0.623750\n",
       "50%        -0.339446      -0.623125\n",
       "75%        -0.177381      -0.622500\n",
       "max         8.755021       1.848750"
      ]
     },
     "execution_count": 59,
     "metadata": {},
     "output_type": "execute_result"
    }
   ],
   "source": [
    "#Use this!\n",
    "train = pd.DataFrame(columns=['mains', \"appliance\"])\n",
    "train = train.append(df_old, ignore_index=True)\n",
    "train = train.append(df_new, ignore_index=True)\n",
    "train.describe()"
   ]
  },
  {
   "cell_type": "code",
   "execution_count": 60,
   "metadata": {},
   "outputs": [],
   "source": [
    "train.to_csv(os.path.join(PATH, \"microwave_training_234.csv\"), index=False, header=False)"
   ]
  },
  {
   "cell_type": "markdown",
   "metadata": {},
   "source": [
    "**Dishwasher**"
   ]
  },
  {
   "cell_type": "code",
   "execution_count": 52,
   "metadata": {},
   "outputs": [
    {
     "data": {
      "text/html": [
       "<div>\n",
       "<style scoped>\n",
       "    .dataframe tbody tr th:only-of-type {\n",
       "        vertical-align: middle;\n",
       "    }\n",
       "\n",
       "    .dataframe tbody tr th {\n",
       "        vertical-align: top;\n",
       "    }\n",
       "\n",
       "    .dataframe thead th {\n",
       "        text-align: right;\n",
       "    }\n",
       "</style>\n",
       "<table border=\"1\" class=\"dataframe\">\n",
       "  <thead>\n",
       "    <tr style=\"text-align: right;\">\n",
       "      <th></th>\n",
       "      <th>mains</th>\n",
       "      <th>appliance</th>\n",
       "    </tr>\n",
       "  </thead>\n",
       "  <tbody>\n",
       "    <tr>\n",
       "      <th>count</th>\n",
       "      <td>300350.000000</td>\n",
       "      <td>300350.000000</td>\n",
       "    </tr>\n",
       "    <tr>\n",
       "      <th>mean</th>\n",
       "      <td>-0.208511</td>\n",
       "      <td>-0.691894</td>\n",
       "    </tr>\n",
       "    <tr>\n",
       "      <th>std</th>\n",
       "      <td>0.736927</td>\n",
       "      <td>0.081920</td>\n",
       "    </tr>\n",
       "    <tr>\n",
       "      <th>min</th>\n",
       "      <td>-0.601689</td>\n",
       "      <td>-0.700000</td>\n",
       "    </tr>\n",
       "    <tr>\n",
       "      <th>25%</th>\n",
       "      <td>-0.489410</td>\n",
       "      <td>-0.700000</td>\n",
       "    </tr>\n",
       "    <tr>\n",
       "      <th>50%</th>\n",
       "      <td>-0.329694</td>\n",
       "      <td>-0.700000</td>\n",
       "    </tr>\n",
       "    <tr>\n",
       "      <th>75%</th>\n",
       "      <td>-0.239883</td>\n",
       "      <td>-0.699000</td>\n",
       "    </tr>\n",
       "    <tr>\n",
       "      <th>max</th>\n",
       "      <td>8.755021</td>\n",
       "      <td>0.674500</td>\n",
       "    </tr>\n",
       "  </tbody>\n",
       "</table>\n",
       "</div>"
      ],
      "text/plain": [
       "               mains      appliance\n",
       "count  300350.000000  300350.000000\n",
       "mean       -0.208511      -0.691894\n",
       "std         0.736927       0.081920\n",
       "min        -0.601689      -0.700000\n",
       "25%        -0.489410      -0.700000\n",
       "50%        -0.329694      -0.700000\n",
       "75%        -0.239883      -0.699000\n",
       "max         8.755021       0.674500"
      ]
     },
     "execution_count": 52,
     "metadata": {},
     "output_type": "execute_result"
    }
   ],
   "source": [
    "#Combining houses 2,3 with 4-Dishwasher\n",
    "PATH = '../../../trainingdata'\n",
    "path_old = os.path.join(PATH, \"REDDdishwasher_training_.csv\")\n",
    "path_new = os.path.join(PATH, \"train_houses4/dishwasher_training_house4.csv\")\n",
    "df_old = pd.read_csv(path_old)\n",
    "df_old.columns = [\"mains\", \"appliance\"]\n",
    "df_old.describe()"
   ]
  },
  {
   "cell_type": "code",
   "execution_count": 53,
   "metadata": {},
   "outputs": [
    {
     "data": {
      "text/html": [
       "<div>\n",
       "<style scoped>\n",
       "    .dataframe tbody tr th:only-of-type {\n",
       "        vertical-align: middle;\n",
       "    }\n",
       "\n",
       "    .dataframe tbody tr th {\n",
       "        vertical-align: top;\n",
       "    }\n",
       "\n",
       "    .dataframe thead th {\n",
       "        text-align: right;\n",
       "    }\n",
       "</style>\n",
       "<table border=\"1\" class=\"dataframe\">\n",
       "  <thead>\n",
       "    <tr style=\"text-align: right;\">\n",
       "      <th></th>\n",
       "      <th>mains</th>\n",
       "      <th>appliance</th>\n",
       "    </tr>\n",
       "  </thead>\n",
       "  <tbody>\n",
       "    <tr>\n",
       "      <th>count</th>\n",
       "      <td>204194.000000</td>\n",
       "      <td>204194.000000</td>\n",
       "    </tr>\n",
       "    <tr>\n",
       "      <th>mean</th>\n",
       "      <td>-0.221814</td>\n",
       "      <td>-0.699575</td>\n",
       "    </tr>\n",
       "    <tr>\n",
       "      <th>std</th>\n",
       "      <td>0.379763</td>\n",
       "      <td>0.000987</td>\n",
       "    </tr>\n",
       "    <tr>\n",
       "      <th>min</th>\n",
       "      <td>-0.557013</td>\n",
       "      <td>-0.700000</td>\n",
       "    </tr>\n",
       "    <tr>\n",
       "      <th>25%</th>\n",
       "      <td>-0.486670</td>\n",
       "      <td>-0.700000</td>\n",
       "    </tr>\n",
       "    <tr>\n",
       "      <th>50%</th>\n",
       "      <td>-0.344335</td>\n",
       "      <td>-0.700000</td>\n",
       "    </tr>\n",
       "    <tr>\n",
       "      <th>75%</th>\n",
       "      <td>-0.140451</td>\n",
       "      <td>-0.700000</td>\n",
       "    </tr>\n",
       "    <tr>\n",
       "      <th>max</th>\n",
       "      <td>3.755051</td>\n",
       "      <td>-0.671333</td>\n",
       "    </tr>\n",
       "  </tbody>\n",
       "</table>\n",
       "</div>"
      ],
      "text/plain": [
       "               mains      appliance\n",
       "count  204194.000000  204194.000000\n",
       "mean       -0.221814      -0.699575\n",
       "std         0.379763       0.000987\n",
       "min        -0.557013      -0.700000\n",
       "25%        -0.486670      -0.700000\n",
       "50%        -0.344335      -0.700000\n",
       "75%        -0.140451      -0.700000\n",
       "max         3.755051      -0.671333"
      ]
     },
     "execution_count": 53,
     "metadata": {},
     "output_type": "execute_result"
    }
   ],
   "source": [
    "df_new = pd.read_csv(path_new)\n",
    "df_new.columns = [\"mains\", \"appliance\"]\n",
    "df_new.describe()"
   ]
  },
  {
   "cell_type": "code",
   "execution_count": 38,
   "metadata": {},
   "outputs": [
    {
     "data": {
      "text/html": [
       "<div>\n",
       "<style scoped>\n",
       "    .dataframe tbody tr th:only-of-type {\n",
       "        vertical-align: middle;\n",
       "    }\n",
       "\n",
       "    .dataframe tbody tr th {\n",
       "        vertical-align: top;\n",
       "    }\n",
       "\n",
       "    .dataframe thead th {\n",
       "        text-align: right;\n",
       "    }\n",
       "</style>\n",
       "<table border=\"1\" class=\"dataframe\">\n",
       "  <thead>\n",
       "    <tr style=\"text-align: right;\">\n",
       "      <th></th>\n",
       "      <th>mains</th>\n",
       "      <th>appliance</th>\n",
       "    </tr>\n",
       "  </thead>\n",
       "  <tbody>\n",
       "    <tr>\n",
       "      <th>count</th>\n",
       "      <td>504544.000000</td>\n",
       "      <td>504544.000000</td>\n",
       "    </tr>\n",
       "    <tr>\n",
       "      <th>mean</th>\n",
       "      <td>-0.213895</td>\n",
       "      <td>-0.695002</td>\n",
       "    </tr>\n",
       "    <tr>\n",
       "      <th>std</th>\n",
       "      <td>0.617810</td>\n",
       "      <td>0.063321</td>\n",
       "    </tr>\n",
       "    <tr>\n",
       "      <th>min</th>\n",
       "      <td>-0.601689</td>\n",
       "      <td>-0.700000</td>\n",
       "    </tr>\n",
       "    <tr>\n",
       "      <th>25%</th>\n",
       "      <td>-0.487784</td>\n",
       "      <td>-0.700000</td>\n",
       "    </tr>\n",
       "    <tr>\n",
       "      <th>50%</th>\n",
       "      <td>-0.337035</td>\n",
       "      <td>-0.700000</td>\n",
       "    </tr>\n",
       "    <tr>\n",
       "      <th>75%</th>\n",
       "      <td>-0.195888</td>\n",
       "      <td>-0.699000</td>\n",
       "    </tr>\n",
       "    <tr>\n",
       "      <th>max</th>\n",
       "      <td>8.755021</td>\n",
       "      <td>0.674500</td>\n",
       "    </tr>\n",
       "  </tbody>\n",
       "</table>\n",
       "</div>"
      ],
      "text/plain": [
       "               mains      appliance\n",
       "count  504544.000000  504544.000000\n",
       "mean       -0.213895      -0.695002\n",
       "std         0.617810       0.063321\n",
       "min        -0.601689      -0.700000\n",
       "25%        -0.487784      -0.700000\n",
       "50%        -0.337035      -0.700000\n",
       "75%        -0.195888      -0.699000\n",
       "max         8.755021       0.674500"
      ]
     },
     "execution_count": 38,
     "metadata": {},
     "output_type": "execute_result"
    }
   ],
   "source": [
    "#Don't do this\n",
    "df_alldata = pd.concat([df_old, df_new], axis = 0)\n",
    "df_alldata.to_csv(os.path.join(PATH, \"dishwasher_training_234.csv\"))\n",
    "df_alldata.describe()"
   ]
  },
  {
   "cell_type": "code",
   "execution_count": 54,
   "metadata": {},
   "outputs": [
    {
     "data": {
      "text/html": [
       "<div>\n",
       "<style scoped>\n",
       "    .dataframe tbody tr th:only-of-type {\n",
       "        vertical-align: middle;\n",
       "    }\n",
       "\n",
       "    .dataframe tbody tr th {\n",
       "        vertical-align: top;\n",
       "    }\n",
       "\n",
       "    .dataframe thead th {\n",
       "        text-align: right;\n",
       "    }\n",
       "</style>\n",
       "<table border=\"1\" class=\"dataframe\">\n",
       "  <thead>\n",
       "    <tr style=\"text-align: right;\">\n",
       "      <th></th>\n",
       "      <th>mains</th>\n",
       "      <th>appliance</th>\n",
       "    </tr>\n",
       "  </thead>\n",
       "  <tbody>\n",
       "    <tr>\n",
       "      <th>count</th>\n",
       "      <td>504544.000000</td>\n",
       "      <td>504544.000000</td>\n",
       "    </tr>\n",
       "    <tr>\n",
       "      <th>mean</th>\n",
       "      <td>-0.213895</td>\n",
       "      <td>-0.695002</td>\n",
       "    </tr>\n",
       "    <tr>\n",
       "      <th>std</th>\n",
       "      <td>0.617810</td>\n",
       "      <td>0.063321</td>\n",
       "    </tr>\n",
       "    <tr>\n",
       "      <th>min</th>\n",
       "      <td>-0.601689</td>\n",
       "      <td>-0.700000</td>\n",
       "    </tr>\n",
       "    <tr>\n",
       "      <th>25%</th>\n",
       "      <td>-0.487784</td>\n",
       "      <td>-0.700000</td>\n",
       "    </tr>\n",
       "    <tr>\n",
       "      <th>50%</th>\n",
       "      <td>-0.337035</td>\n",
       "      <td>-0.700000</td>\n",
       "    </tr>\n",
       "    <tr>\n",
       "      <th>75%</th>\n",
       "      <td>-0.195888</td>\n",
       "      <td>-0.699000</td>\n",
       "    </tr>\n",
       "    <tr>\n",
       "      <th>max</th>\n",
       "      <td>8.755021</td>\n",
       "      <td>0.674500</td>\n",
       "    </tr>\n",
       "  </tbody>\n",
       "</table>\n",
       "</div>"
      ],
      "text/plain": [
       "               mains      appliance\n",
       "count  504544.000000  504544.000000\n",
       "mean       -0.213895      -0.695002\n",
       "std         0.617810       0.063321\n",
       "min        -0.601689      -0.700000\n",
       "25%        -0.487784      -0.700000\n",
       "50%        -0.337035      -0.700000\n",
       "75%        -0.195888      -0.699000\n",
       "max         8.755021       0.674500"
      ]
     },
     "execution_count": 54,
     "metadata": {},
     "output_type": "execute_result"
    }
   ],
   "source": [
    "#Use this!\n",
    "train = pd.DataFrame(columns=['mains', \"appliance\"])\n",
    "train = train.append(df_old, ignore_index=True)\n",
    "train = train.append(df_new, ignore_index=True)\n",
    "train.describe()"
   ]
  },
  {
   "cell_type": "code",
   "execution_count": 55,
   "metadata": {},
   "outputs": [],
   "source": [
    "train.to_csv(os.path.join(PATH, \"dishwasher_training_234.csv\"), index=False, header=False)"
   ]
  },
  {
   "cell_type": "markdown",
   "metadata": {},
   "source": [
    "**Microwave**"
   ]
  },
  {
   "cell_type": "code",
   "execution_count": 39,
   "metadata": {},
   "outputs": [
    {
     "data": {
      "text/html": [
       "<div>\n",
       "<style scoped>\n",
       "    .dataframe tbody tr th:only-of-type {\n",
       "        vertical-align: middle;\n",
       "    }\n",
       "\n",
       "    .dataframe tbody tr th {\n",
       "        vertical-align: top;\n",
       "    }\n",
       "\n",
       "    .dataframe thead th {\n",
       "        text-align: right;\n",
       "    }\n",
       "</style>\n",
       "<table border=\"1\" class=\"dataframe\">\n",
       "  <thead>\n",
       "    <tr style=\"text-align: right;\">\n",
       "      <th></th>\n",
       "      <th>mains</th>\n",
       "      <th>appliance</th>\n",
       "    </tr>\n",
       "  </thead>\n",
       "  <tbody>\n",
       "    <tr>\n",
       "      <th>count</th>\n",
       "      <td>300350.000000</td>\n",
       "      <td>300350.000000</td>\n",
       "    </tr>\n",
       "    <tr>\n",
       "      <th>mean</th>\n",
       "      <td>-0.208511</td>\n",
       "      <td>-0.610165</td>\n",
       "    </tr>\n",
       "    <tr>\n",
       "      <th>std</th>\n",
       "      <td>0.736927</td>\n",
       "      <td>0.130792</td>\n",
       "    </tr>\n",
       "    <tr>\n",
       "      <th>min</th>\n",
       "      <td>-0.601689</td>\n",
       "      <td>-0.625000</td>\n",
       "    </tr>\n",
       "    <tr>\n",
       "      <th>25%</th>\n",
       "      <td>-0.489410</td>\n",
       "      <td>-0.622500</td>\n",
       "    </tr>\n",
       "    <tr>\n",
       "      <th>50%</th>\n",
       "      <td>-0.329694</td>\n",
       "      <td>-0.620000</td>\n",
       "    </tr>\n",
       "    <tr>\n",
       "      <th>75%</th>\n",
       "      <td>-0.239883</td>\n",
       "      <td>-0.619167</td>\n",
       "    </tr>\n",
       "    <tr>\n",
       "      <th>max</th>\n",
       "      <td>8.755021</td>\n",
       "      <td>1.848750</td>\n",
       "    </tr>\n",
       "  </tbody>\n",
       "</table>\n",
       "</div>"
      ],
      "text/plain": [
       "               mains      appliance\n",
       "count  300350.000000  300350.000000\n",
       "mean       -0.208511      -0.610165\n",
       "std         0.736927       0.130792\n",
       "min        -0.601689      -0.625000\n",
       "25%        -0.489410      -0.622500\n",
       "50%        -0.329694      -0.620000\n",
       "75%        -0.239883      -0.619167\n",
       "max         8.755021       1.848750"
      ]
     },
     "execution_count": 39,
     "metadata": {},
     "output_type": "execute_result"
    }
   ],
   "source": [
    "#Combining houses 2,3 with 4-Microwave\n",
    "PATH = '../../../trainingdata'\n",
    "path_old = os.path.join(PATH, \"REDDmicrowave_training_.csv\")\n",
    "path_new = os.path.join(PATH, \"train_houses4/microwave_training_house4.csv\")\n",
    "df_old = pd.read_csv(path_old)\n",
    "df_old.columns = [\"mains\", \"appliance\"]\n",
    "df_old.describe()"
   ]
  },
  {
   "cell_type": "code",
   "execution_count": 40,
   "metadata": {},
   "outputs": [
    {
     "data": {
      "text/html": [
       "<div>\n",
       "<style scoped>\n",
       "    .dataframe tbody tr th:only-of-type {\n",
       "        vertical-align: middle;\n",
       "    }\n",
       "\n",
       "    .dataframe tbody tr th {\n",
       "        vertical-align: top;\n",
       "    }\n",
       "\n",
       "    .dataframe thead th {\n",
       "        text-align: right;\n",
       "    }\n",
       "</style>\n",
       "<table border=\"1\" class=\"dataframe\">\n",
       "  <thead>\n",
       "    <tr style=\"text-align: right;\">\n",
       "      <th></th>\n",
       "      <th>mains</th>\n",
       "      <th>appliance</th>\n",
       "    </tr>\n",
       "  </thead>\n",
       "  <tbody>\n",
       "    <tr>\n",
       "      <th>count</th>\n",
       "      <td>408389.000000</td>\n",
       "      <td>408389.000000</td>\n",
       "    </tr>\n",
       "    <tr>\n",
       "      <th>mean</th>\n",
       "      <td>-0.221813</td>\n",
       "      <td>-0.623543</td>\n",
       "    </tr>\n",
       "    <tr>\n",
       "      <th>std</th>\n",
       "      <td>0.379762</td>\n",
       "      <td>0.000407</td>\n",
       "    </tr>\n",
       "    <tr>\n",
       "      <th>min</th>\n",
       "      <td>-0.557013</td>\n",
       "      <td>-0.625000</td>\n",
       "    </tr>\n",
       "    <tr>\n",
       "      <th>25%</th>\n",
       "      <td>-0.486671</td>\n",
       "      <td>-0.623750</td>\n",
       "    </tr>\n",
       "    <tr>\n",
       "      <th>50%</th>\n",
       "      <td>-0.344335</td>\n",
       "      <td>-0.623750</td>\n",
       "    </tr>\n",
       "    <tr>\n",
       "      <th>75%</th>\n",
       "      <td>-0.140450</td>\n",
       "      <td>-0.623333</td>\n",
       "    </tr>\n",
       "    <tr>\n",
       "      <th>max</th>\n",
       "      <td>3.755051</td>\n",
       "      <td>-0.600625</td>\n",
       "    </tr>\n",
       "  </tbody>\n",
       "</table>\n",
       "</div>"
      ],
      "text/plain": [
       "               mains      appliance\n",
       "count  408389.000000  408389.000000\n",
       "mean       -0.221813      -0.623543\n",
       "std         0.379762       0.000407\n",
       "min        -0.557013      -0.625000\n",
       "25%        -0.486671      -0.623750\n",
       "50%        -0.344335      -0.623750\n",
       "75%        -0.140450      -0.623333\n",
       "max         3.755051      -0.600625"
      ]
     },
     "execution_count": 40,
     "metadata": {},
     "output_type": "execute_result"
    }
   ],
   "source": [
    "df_new = pd.read_csv(path_new)\n",
    "df_new.columns = [\"mains\", \"appliance\"]\n",
    "df_new.describe()"
   ]
  },
  {
   "cell_type": "code",
   "execution_count": 41,
   "metadata": {},
   "outputs": [],
   "source": [
    "df_alldata = pd.concat([df_old, df_new], axis = 0)"
   ]
  },
  {
   "cell_type": "code",
   "execution_count": 42,
   "metadata": {},
   "outputs": [
    {
     "data": {
      "text/html": [
       "<div>\n",
       "<style scoped>\n",
       "    .dataframe tbody tr th:only-of-type {\n",
       "        vertical-align: middle;\n",
       "    }\n",
       "\n",
       "    .dataframe tbody tr th {\n",
       "        vertical-align: top;\n",
       "    }\n",
       "\n",
       "    .dataframe thead th {\n",
       "        text-align: right;\n",
       "    }\n",
       "</style>\n",
       "<table border=\"1\" class=\"dataframe\">\n",
       "  <thead>\n",
       "    <tr style=\"text-align: right;\">\n",
       "      <th></th>\n",
       "      <th>mains</th>\n",
       "      <th>appliance</th>\n",
       "    </tr>\n",
       "  </thead>\n",
       "  <tbody>\n",
       "    <tr>\n",
       "      <th>count</th>\n",
       "      <td>708739.000000</td>\n",
       "      <td>708739.000000</td>\n",
       "    </tr>\n",
       "    <tr>\n",
       "      <th>mean</th>\n",
       "      <td>-0.216176</td>\n",
       "      <td>-0.617874</td>\n",
       "    </tr>\n",
       "    <tr>\n",
       "      <th>std</th>\n",
       "      <td>0.559718</td>\n",
       "      <td>0.085400</td>\n",
       "    </tr>\n",
       "    <tr>\n",
       "      <th>min</th>\n",
       "      <td>-0.601689</td>\n",
       "      <td>-0.625000</td>\n",
       "    </tr>\n",
       "    <tr>\n",
       "      <th>25%</th>\n",
       "      <td>-0.487357</td>\n",
       "      <td>-0.623750</td>\n",
       "    </tr>\n",
       "    <tr>\n",
       "      <th>50%</th>\n",
       "      <td>-0.339446</td>\n",
       "      <td>-0.623125</td>\n",
       "    </tr>\n",
       "    <tr>\n",
       "      <th>75%</th>\n",
       "      <td>-0.177381</td>\n",
       "      <td>-0.622500</td>\n",
       "    </tr>\n",
       "    <tr>\n",
       "      <th>max</th>\n",
       "      <td>8.755021</td>\n",
       "      <td>1.848750</td>\n",
       "    </tr>\n",
       "  </tbody>\n",
       "</table>\n",
       "</div>"
      ],
      "text/plain": [
       "               mains      appliance\n",
       "count  708739.000000  708739.000000\n",
       "mean       -0.216176      -0.617874\n",
       "std         0.559718       0.085400\n",
       "min        -0.601689      -0.625000\n",
       "25%        -0.487357      -0.623750\n",
       "50%        -0.339446      -0.623125\n",
       "75%        -0.177381      -0.622500\n",
       "max         8.755021       1.848750"
      ]
     },
     "execution_count": 42,
     "metadata": {},
     "output_type": "execute_result"
    }
   ],
   "source": [
    "df_alldata.to_csv(os.path.join(PATH, \"microwave_training_234.csv\"))\n",
    "df_alldata.describe()"
   ]
  },
  {
   "cell_type": "code",
   "execution_count": 19,
   "metadata": {},
   "outputs": [
    {
     "data": {
      "text/html": [
       "<div>\n",
       "<style scoped>\n",
       "    .dataframe tbody tr th:only-of-type {\n",
       "        vertical-align: middle;\n",
       "    }\n",
       "\n",
       "    .dataframe tbody tr th {\n",
       "        vertical-align: top;\n",
       "    }\n",
       "\n",
       "    .dataframe thead th {\n",
       "        text-align: right;\n",
       "    }\n",
       "</style>\n",
       "<table border=\"1\" class=\"dataframe\">\n",
       "  <thead>\n",
       "    <tr style=\"text-align: right;\">\n",
       "      <th></th>\n",
       "      <th>mains</th>\n",
       "      <th>appliance</th>\n",
       "    </tr>\n",
       "  </thead>\n",
       "  <tbody>\n",
       "    <tr>\n",
       "      <th>count</th>\n",
       "      <td>300350.000000</td>\n",
       "      <td>300350.000000</td>\n",
       "    </tr>\n",
       "    <tr>\n",
       "      <th>mean</th>\n",
       "      <td>-0.208511</td>\n",
       "      <td>-0.691894</td>\n",
       "    </tr>\n",
       "    <tr>\n",
       "      <th>std</th>\n",
       "      <td>0.736927</td>\n",
       "      <td>0.081920</td>\n",
       "    </tr>\n",
       "    <tr>\n",
       "      <th>min</th>\n",
       "      <td>-0.601689</td>\n",
       "      <td>-0.700000</td>\n",
       "    </tr>\n",
       "    <tr>\n",
       "      <th>25%</th>\n",
       "      <td>-0.489410</td>\n",
       "      <td>-0.700000</td>\n",
       "    </tr>\n",
       "    <tr>\n",
       "      <th>50%</th>\n",
       "      <td>-0.329694</td>\n",
       "      <td>-0.700000</td>\n",
       "    </tr>\n",
       "    <tr>\n",
       "      <th>75%</th>\n",
       "      <td>-0.239883</td>\n",
       "      <td>-0.699000</td>\n",
       "    </tr>\n",
       "    <tr>\n",
       "      <th>max</th>\n",
       "      <td>8.755021</td>\n",
       "      <td>0.674500</td>\n",
       "    </tr>\n",
       "  </tbody>\n",
       "</table>\n",
       "</div>"
      ],
      "text/plain": [
       "               mains      appliance\n",
       "count  300350.000000  300350.000000\n",
       "mean       -0.208511      -0.691894\n",
       "std         0.736927       0.081920\n",
       "min        -0.601689      -0.700000\n",
       "25%        -0.489410      -0.700000\n",
       "50%        -0.329694      -0.700000\n",
       "75%        -0.239883      -0.699000\n",
       "max         8.755021       0.674500"
      ]
     },
     "execution_count": 19,
     "metadata": {},
     "output_type": "execute_result"
    }
   ],
   "source": [
    "#Combining REDD houses 2,3 with 4,5,6\n",
    "PATH = '../../../trainingdata'\n",
    "path_old = os.path.join(PATH, \"REDDdishwasher_training_.csv\")\n",
    "path_new = os.path.join(PATH, \"train_houses456/dishwasher_training_.csv\")\n",
    "df_old = pd.read_csv(path_old)\n",
    "df_old.columns = [\"mains\", \"appliance\"]\n",
    "df_old.describe()\n",
    "\n"
   ]
  },
  {
   "cell_type": "code",
   "execution_count": 20,
   "metadata": {},
   "outputs": [
    {
     "data": {
      "text/html": [
       "<div>\n",
       "<style scoped>\n",
       "    .dataframe tbody tr th:only-of-type {\n",
       "        vertical-align: middle;\n",
       "    }\n",
       "\n",
       "    .dataframe tbody tr th {\n",
       "        vertical-align: top;\n",
       "    }\n",
       "\n",
       "    .dataframe thead th {\n",
       "        text-align: right;\n",
       "    }\n",
       "</style>\n",
       "<table border=\"1\" class=\"dataframe\">\n",
       "  <thead>\n",
       "    <tr style=\"text-align: right;\">\n",
       "      <th></th>\n",
       "      <th>mains</th>\n",
       "      <th>appliance</th>\n",
       "    </tr>\n",
       "  </thead>\n",
       "  <tbody>\n",
       "    <tr>\n",
       "      <th>count</th>\n",
       "      <td>343997.000000</td>\n",
       "      <td>343997.000000</td>\n",
       "    </tr>\n",
       "    <tr>\n",
       "      <th>mean</th>\n",
       "      <td>-0.126880</td>\n",
       "      <td>-0.693335</td>\n",
       "    </tr>\n",
       "    <tr>\n",
       "      <th>std</th>\n",
       "      <td>0.671331</td>\n",
       "      <td>0.089396</td>\n",
       "    </tr>\n",
       "    <tr>\n",
       "      <th>min</th>\n",
       "      <td>-0.557013</td>\n",
       "      <td>-0.700000</td>\n",
       "    </tr>\n",
       "    <tr>\n",
       "      <th>25%</th>\n",
       "      <td>-0.436391</td>\n",
       "      <td>-0.700000</td>\n",
       "    </tr>\n",
       "    <tr>\n",
       "      <th>50%</th>\n",
       "      <td>-0.318495</td>\n",
       "      <td>-0.700000</td>\n",
       "    </tr>\n",
       "    <tr>\n",
       "      <th>75%</th>\n",
       "      <td>-0.127167</td>\n",
       "      <td>-0.699500</td>\n",
       "    </tr>\n",
       "    <tr>\n",
       "      <th>max</th>\n",
       "      <td>7.492689</td>\n",
       "      <td>1.101500</td>\n",
       "    </tr>\n",
       "  </tbody>\n",
       "</table>\n",
       "</div>"
      ],
      "text/plain": [
       "               mains      appliance\n",
       "count  343997.000000  343997.000000\n",
       "mean       -0.126880      -0.693335\n",
       "std         0.671331       0.089396\n",
       "min        -0.557013      -0.700000\n",
       "25%        -0.436391      -0.700000\n",
       "50%        -0.318495      -0.700000\n",
       "75%        -0.127167      -0.699500\n",
       "max         7.492689       1.101500"
      ]
     },
     "execution_count": 20,
     "metadata": {},
     "output_type": "execute_result"
    }
   ],
   "source": [
    "df_new = pd.read_csv(path_new)\n",
    "df_new.columns = [\"mains\", \"appliance\"]\n",
    "df_new.describe()"
   ]
  },
  {
   "cell_type": "code",
   "execution_count": null,
   "metadata": {},
   "outputs": [],
   "source": []
  },
  {
   "cell_type": "code",
   "execution_count": 21,
   "metadata": {},
   "outputs": [],
   "source": [
    "df_alldata = pd.concat([df_old, df_new], axis = 0)"
   ]
  },
  {
   "cell_type": "code",
   "execution_count": 22,
   "metadata": {},
   "outputs": [
    {
     "data": {
      "text/html": [
       "<div>\n",
       "<style scoped>\n",
       "    .dataframe tbody tr th:only-of-type {\n",
       "        vertical-align: middle;\n",
       "    }\n",
       "\n",
       "    .dataframe tbody tr th {\n",
       "        vertical-align: top;\n",
       "    }\n",
       "\n",
       "    .dataframe thead th {\n",
       "        text-align: right;\n",
       "    }\n",
       "</style>\n",
       "<table border=\"1\" class=\"dataframe\">\n",
       "  <thead>\n",
       "    <tr style=\"text-align: right;\">\n",
       "      <th></th>\n",
       "      <th>mains</th>\n",
       "      <th>appliance</th>\n",
       "    </tr>\n",
       "  </thead>\n",
       "  <tbody>\n",
       "    <tr>\n",
       "      <th>0</th>\n",
       "      <td>-0.594218</td>\n",
       "      <td>-0.699000</td>\n",
       "    </tr>\n",
       "    <tr>\n",
       "      <th>1</th>\n",
       "      <td>-0.594211</td>\n",
       "      <td>-0.699667</td>\n",
       "    </tr>\n",
       "    <tr>\n",
       "      <th>2</th>\n",
       "      <td>-0.594240</td>\n",
       "      <td>-0.699000</td>\n",
       "    </tr>\n",
       "    <tr>\n",
       "      <th>3</th>\n",
       "      <td>-0.594295</td>\n",
       "      <td>-0.699000</td>\n",
       "    </tr>\n",
       "    <tr>\n",
       "      <th>4</th>\n",
       "      <td>-0.594297</td>\n",
       "      <td>-0.700000</td>\n",
       "    </tr>\n",
       "  </tbody>\n",
       "</table>\n",
       "</div>"
      ],
      "text/plain": [
       "      mains  appliance\n",
       "0 -0.594218  -0.699000\n",
       "1 -0.594211  -0.699667\n",
       "2 -0.594240  -0.699000\n",
       "3 -0.594295  -0.699000\n",
       "4 -0.594297  -0.700000"
      ]
     },
     "execution_count": 22,
     "metadata": {},
     "output_type": "execute_result"
    }
   ],
   "source": [
    "df_alldata.head()"
   ]
  },
  {
   "cell_type": "code",
   "execution_count": 28,
   "metadata": {},
   "outputs": [
    {
     "data": {
      "text/html": [
       "<div>\n",
       "<style scoped>\n",
       "    .dataframe tbody tr th:only-of-type {\n",
       "        vertical-align: middle;\n",
       "    }\n",
       "\n",
       "    .dataframe tbody tr th {\n",
       "        vertical-align: top;\n",
       "    }\n",
       "\n",
       "    .dataframe thead th {\n",
       "        text-align: right;\n",
       "    }\n",
       "</style>\n",
       "<table border=\"1\" class=\"dataframe\">\n",
       "  <thead>\n",
       "    <tr style=\"text-align: right;\">\n",
       "      <th></th>\n",
       "      <th>mains</th>\n",
       "      <th>appliance</th>\n",
       "    </tr>\n",
       "  </thead>\n",
       "  <tbody>\n",
       "    <tr>\n",
       "      <th>count</th>\n",
       "      <td>644347.000000</td>\n",
       "      <td>644347.000000</td>\n",
       "    </tr>\n",
       "    <tr>\n",
       "      <th>mean</th>\n",
       "      <td>-0.164931</td>\n",
       "      <td>-0.692663</td>\n",
       "    </tr>\n",
       "    <tr>\n",
       "      <th>std</th>\n",
       "      <td>0.703848</td>\n",
       "      <td>0.085995</td>\n",
       "    </tr>\n",
       "    <tr>\n",
       "      <th>min</th>\n",
       "      <td>-0.601689</td>\n",
       "      <td>-0.700000</td>\n",
       "    </tr>\n",
       "    <tr>\n",
       "      <th>25%</th>\n",
       "      <td>-0.474316</td>\n",
       "      <td>-0.700000</td>\n",
       "    </tr>\n",
       "    <tr>\n",
       "      <th>50%</th>\n",
       "      <td>-0.324275</td>\n",
       "      <td>-0.700000</td>\n",
       "    </tr>\n",
       "    <tr>\n",
       "      <th>75%</th>\n",
       "      <td>-0.162765</td>\n",
       "      <td>-0.699000</td>\n",
       "    </tr>\n",
       "    <tr>\n",
       "      <th>max</th>\n",
       "      <td>8.755021</td>\n",
       "      <td>1.101500</td>\n",
       "    </tr>\n",
       "  </tbody>\n",
       "</table>\n",
       "</div>"
      ],
      "text/plain": [
       "               mains      appliance\n",
       "count  644347.000000  644347.000000\n",
       "mean       -0.164931      -0.692663\n",
       "std         0.703848       0.085995\n",
       "min        -0.601689      -0.700000\n",
       "25%        -0.474316      -0.700000\n",
       "50%        -0.324275      -0.700000\n",
       "75%        -0.162765      -0.699000\n",
       "max         8.755021       1.101500"
      ]
     },
     "execution_count": 28,
     "metadata": {},
     "output_type": "execute_result"
    }
   ],
   "source": [
    "df_alldata.to_csv(os.path.join(PATH, \"dishwasher_training_all.csv\"))\n",
    "df_alldata.describe()"
   ]
  },
  {
   "cell_type": "code",
   "execution_count": 29,
   "metadata": {},
   "outputs": [
    {
     "data": {
      "text/plain": [
       "515.1359"
      ]
     },
     "execution_count": 29,
     "metadata": {},
     "output_type": "execute_result"
    }
   ],
   "source": [
    "-0.692663*700 + 1000\n"
   ]
  },
  {
   "cell_type": "code",
   "execution_count": 80,
   "metadata": {},
   "outputs": [],
   "source": [
    "parser = argparse.ArgumentParser(description='sequence to point learning \\\n",
    "                                     example for NILM')\n",
    "parser.add_argument(\"-f\", \"--fff\", help=\"a dummy argument to fool ipython\", default=\"1\")\n",
    "\n",
    "args = parser.parse_args()\n",
    "\n"
   ]
  },
  {
   "cell_type": "code",
   "execution_count": 81,
   "metadata": {},
   "outputs": [
    {
     "data": {
      "text/plain": [
       "Namespace(fff='/Users/shalinimustala/Library/Jupyter/runtime/kernel-298dcb4a-91c0-4a01-b6cc-87a59e41eb72.json')"
      ]
     },
     "execution_count": 81,
     "metadata": {},
     "output_type": "execute_result"
    }
   ],
   "source": [
    "args"
   ]
  },
  {
   "cell_type": "code",
   "execution_count": 82,
   "metadata": {},
   "outputs": [],
   "source": [
    "\n",
    "DATA_DIRECTORY = '../../../rawdata/REDD'\n",
    "SAVE_PATH = '../../../trainingdata/redd_kettle'\n",
    "AGG_MEAN = 522\n",
    "AGG_STD = 814\n",
    "def get_arguments():\n",
    "    parser = argparse.ArgumentParser(description='sequence to point learning \\\n",
    "                                     example for NILM')\n",
    "    parser.add_argument(\"-f\", \"--fff\", help=\"a dummy argument to fool ipython\", default=\"1\")\n",
    "    parser.add_argument('--data_dir', type=str, default=DATA_DIRECTORY,\n",
    "                          help='The directory containing the REDD data')\n",
    "    parser.add_argument('--appliance_name', type=str, default='dishwasher',\n",
    "                          help='which appliance you want to train: kettle,\\\n",
    "                          microwave,fridge,dishwasher,washingmachine')\n",
    "    parser.add_argument('--aggregate_mean',type=int,default=AGG_MEAN,\n",
    "                        help='Mean value of aggregated reading (mains)')\n",
    "    parser.add_argument('--aggregate_std',type=int,default=AGG_STD,\n",
    "                        help='Std value of aggregated reading (mains)')\n",
    "    parser.add_argument('--save_path', type=str, default=SAVE_PATH,\n",
    "                          help='The directory to store the training data')\n",
    "    return parser.parse_args()\n"
   ]
  },
  {
   "cell_type": "code",
   "execution_count": 83,
   "metadata": {},
   "outputs": [],
   "source": [
    "args = get_arguments()"
   ]
  },
  {
   "cell_type": "code",
   "execution_count": 84,
   "metadata": {},
   "outputs": [
    {
     "data": {
      "text/plain": [
       "'dishwasher'"
      ]
     },
     "execution_count": 84,
     "metadata": {},
     "output_type": "execute_result"
    }
   ],
   "source": [
    "start_time = time.time()\n",
    "args  = get_arguments()\n",
    "appliance_name = args.appliance_name\n",
    "appliance_name\n"
   ]
  },
  {
   "cell_type": "code",
   "execution_count": 85,
   "metadata": {},
   "outputs": [
    {
     "data": {
      "text/plain": [
       "{'microwave': {'windowlength': 599,\n",
       "  'on_power_threshold': 200,\n",
       "  'max_on_power': 3969,\n",
       "  'mean': 500,\n",
       "  'std': 800,\n",
       "  's2s_length': 128,\n",
       "  'houses': [1, 2, 3],\n",
       "  'channels': [11, 6, 16],\n",
       "  'train_build': [2, 3],\n",
       "  'test_build': 1},\n",
       " 'fridge': {'windowlength': 599,\n",
       "  'on_power_threshold': 50,\n",
       "  'max_on_power': 3323,\n",
       "  'mean': 200,\n",
       "  'std': 400,\n",
       "  's2s_length': 512,\n",
       "  'houses': [1, 2, 3],\n",
       "  'channels': [5, 9, 7],\n",
       "  'train_build': [2, 3],\n",
       "  'test_build': 1},\n",
       " 'dishwasher': {'windowlength': 599,\n",
       "  'on_power_threshold': 10,\n",
       "  'max_on_power': 3964,\n",
       "  'mean': 700,\n",
       "  'std': 1000,\n",
       "  's2s_length': 1536,\n",
       "  'houses': [1, 2, 3],\n",
       "  'channels': [6, 10, 9],\n",
       "  'train_build': [2, 3],\n",
       "  'test_build': 1},\n",
       " 'washingmachine': {'windowlength': 599,\n",
       "  'on_power_threshold': 20,\n",
       "  'max_on_power': 3999,\n",
       "  'mean': 400,\n",
       "  'std': 700,\n",
       "  's2s_length': 2000,\n",
       "  'houses': [1, 2, 3],\n",
       "  'channels': [20, 7, 13],\n",
       "  'train_build': [2, 3],\n",
       "  'test_build': 1}}"
      ]
     },
     "execution_count": 85,
     "metadata": {},
     "output_type": "execute_result"
    }
   ],
   "source": [
    "params_appliance"
   ]
  },
  {
   "cell_type": "code",
   "execution_count": 86,
   "metadata": {},
   "outputs": [
    {
     "name": "stdout",
     "output_type": "stream",
     "text": [
      "\n",
      "dishwasher\n",
      "    ../../../rawdata/REDDhouse_1/channel_6.dat\n"
     ]
    },
    {
     "name": "stderr",
     "output_type": "stream",
     "text": [
      "/Users/shalinimustala/anaconda3/lib/python3.7/site-packages/ipykernel_launcher.py:28: FutureWarning: read_table is deprecated, use read_csv instead.\n",
      "/Users/shalinimustala/anaconda3/lib/python3.7/site-packages/ipykernel_launcher.py:37: FutureWarning: read_table is deprecated, use read_csv instead.\n",
      "/Users/shalinimustala/anaconda3/lib/python3.7/site-packages/ipykernel_launcher.py:46: FutureWarning: read_table is deprecated, use read_csv instead.\n"
     ]
    }
   ],
   "source": [
    "sample_seconds = 8\n",
    "validation_percent = 10\n",
    "nrows = None\n",
    "debug = True\n",
    "\n",
    "appliance_name = args.appliance_name\n",
    "print('\\n' + appliance_name)\n",
    "train = pd.DataFrame(columns=['aggregate', appliance_name])\n",
    "params_appliance = redd_parameters.params_appliance\n",
    "\n",
    "#the code until appending all df_aligns to train if houses in training_houses and creating a test csv if houses in test set\n",
    "#should be inside the for loop.\n",
    "#I am taking it outside the for loop for sake of understanding the data and plotting\n",
    "#for h in params_appliance[appliance_name]['houses']:\n",
    "for h in [1]:\n",
    "    print('    ' + args.data_dir + 'house_' + str(h) + '/'\n",
    "                + 'channel_' +\n",
    "                str(params_appliance[appliance_name]['channels'][params_appliance[appliance_name]['houses'].index(h)]) +\n",
    "                '.dat')\n",
    "\n",
    "        # read data\n",
    "    mains1_df = pd.read_table(args.data_dir + '/' + 'house_' + str(h) + '/' + 'channel_' +\n",
    "                                      str(1) + '.dat',\n",
    "                                      sep=\"\\s+\",\n",
    "                                      nrows=nrows,\n",
    "                                      usecols=[0, 1],\n",
    "                                      names=['time', 'mains1'],\n",
    "                                      dtype={'time': str},\n",
    "                                      )\n",
    "\n",
    "    mains2_df = pd.read_table(args.data_dir + '/' + 'house_' + str(h) + '/' + 'channel_' +\n",
    "                                      str(2) + '.dat',\n",
    "                                      sep=\"\\s+\",\n",
    "                                      nrows=nrows,\n",
    "                                      usecols=[0, 1],\n",
    "                                      names=['time', 'mains2'],\n",
    "                                      dtype={'time': str},\n",
    "                                      )\n",
    "    app_df = pd.read_table(args.data_dir + '/' + 'house_' + str(h) + '/' + 'channel_' +\n",
    "                                   str(params_appliance[appliance_name]['channels']\n",
    "                                       [params_appliance[appliance_name]['houses'].index(h)]) + '.dat',\n",
    "                                   sep=\"\\s+\",\n",
    "                                   nrows=nrows,\n",
    "                                   usecols=[0, 1],\n",
    "                                   names=['time', appliance_name],\n",
    "                                   dtype={'time': str},\n",
    "                                   )"
   ]
  },
  {
   "cell_type": "code",
   "execution_count": 87,
   "metadata": {},
   "outputs": [],
   "source": [
    "mains1_df['time'] = pd.to_datetime(mains1_df['time'], unit='s')\n",
    "mains2_df['time'] = pd.to_datetime(mains2_df['time'], unit='s')\n",
    "\n",
    "mains1_df.set_index('time', inplace=True)\n",
    "mains2_df.set_index('time', inplace=True)\n",
    "\n",
    "mains_df = mains1_df.join(mains2_df, how='outer')\n",
    "\n",
    "mains_df['aggregate'] = mains_df.iloc[:].sum(axis=1)   #aggregate of 2 mains channels\n",
    "        #resample = mains_df.resample(str(sample_seconds) + 'S').mean()\n",
    "\n",
    "mains_df.reset_index(inplace=True)"
   ]
  },
  {
   "cell_type": "code",
   "execution_count": 88,
   "metadata": {},
   "outputs": [],
   "source": [
    "del mains_df['mains1'], mains_df['mains2']"
   ]
  },
  {
   "cell_type": "code",
   "execution_count": 89,
   "metadata": {},
   "outputs": [],
   "source": [
    "mains_sample = mains_df[[\"time\", \"aggregate\"]]"
   ]
  },
  {
   "cell_type": "code",
   "execution_count": 90,
   "metadata": {},
   "outputs": [
    {
     "data": {
      "text/html": [
       "<div>\n",
       "<style scoped>\n",
       "    .dataframe tbody tr th:only-of-type {\n",
       "        vertical-align: middle;\n",
       "    }\n",
       "\n",
       "    .dataframe tbody tr th {\n",
       "        vertical-align: top;\n",
       "    }\n",
       "\n",
       "    .dataframe thead th {\n",
       "        text-align: right;\n",
       "    }\n",
       "</style>\n",
       "<table border=\"1\" class=\"dataframe\">\n",
       "  <thead>\n",
       "    <tr style=\"text-align: right;\">\n",
       "      <th></th>\n",
       "      <th>Time</th>\n",
       "      <th>Mains Reading</th>\n",
       "    </tr>\n",
       "  </thead>\n",
       "  <tbody>\n",
       "    <tr>\n",
       "      <th>0</th>\n",
       "      <td>2011-04-18 13:22:09</td>\n",
       "      <td>342.82</td>\n",
       "    </tr>\n",
       "    <tr>\n",
       "      <th>1</th>\n",
       "      <td>2011-04-18 13:22:10</td>\n",
       "      <td>344.56</td>\n",
       "    </tr>\n",
       "    <tr>\n",
       "      <th>2</th>\n",
       "      <td>2011-04-18 13:22:11</td>\n",
       "      <td>345.14</td>\n",
       "    </tr>\n",
       "    <tr>\n",
       "      <th>3</th>\n",
       "      <td>2011-04-18 13:22:12</td>\n",
       "      <td>341.68</td>\n",
       "    </tr>\n",
       "    <tr>\n",
       "      <th>4</th>\n",
       "      <td>2011-04-18 13:22:13</td>\n",
       "      <td>341.03</td>\n",
       "    </tr>\n",
       "    <tr>\n",
       "      <th>5</th>\n",
       "      <td>2011-04-18 13:22:14</td>\n",
       "      <td>340.80</td>\n",
       "    </tr>\n",
       "    <tr>\n",
       "      <th>6</th>\n",
       "      <td>2011-04-18 13:22:15</td>\n",
       "      <td>342.21</td>\n",
       "    </tr>\n",
       "    <tr>\n",
       "      <th>7</th>\n",
       "      <td>2011-04-18 13:22:16</td>\n",
       "      <td>342.36</td>\n",
       "    </tr>\n",
       "    <tr>\n",
       "      <th>8</th>\n",
       "      <td>2011-04-18 13:22:17</td>\n",
       "      <td>341.35</td>\n",
       "    </tr>\n",
       "    <tr>\n",
       "      <th>9</th>\n",
       "      <td>2011-04-18 13:22:18</td>\n",
       "      <td>341.81</td>\n",
       "    </tr>\n",
       "  </tbody>\n",
       "</table>\n",
       "</div>"
      ],
      "text/plain": [
       "                 Time  Mains Reading\n",
       "0 2011-04-18 13:22:09         342.82\n",
       "1 2011-04-18 13:22:10         344.56\n",
       "2 2011-04-18 13:22:11         345.14\n",
       "3 2011-04-18 13:22:12         341.68\n",
       "4 2011-04-18 13:22:13         341.03\n",
       "5 2011-04-18 13:22:14         340.80\n",
       "6 2011-04-18 13:22:15         342.21\n",
       "7 2011-04-18 13:22:16         342.36\n",
       "8 2011-04-18 13:22:17         341.35\n",
       "9 2011-04-18 13:22:18         341.81"
      ]
     },
     "execution_count": 90,
     "metadata": {},
     "output_type": "execute_result"
    }
   ],
   "source": [
    "mains_sample.columns = [\"Time\", \"Mains Reading\"]\n",
    "mains_sample.head(10)"
   ]
  },
  {
   "cell_type": "code",
   "execution_count": 91,
   "metadata": {
    "scrolled": true
   },
   "outputs": [
    {
     "name": "stdout",
     "output_type": "stream",
     "text": [
      "    mains_df:\n",
      "                 time  aggregate\n",
      "0 2011-04-18 13:22:09     342.82\n",
      "1 2011-04-18 13:22:10     344.56\n",
      "2 2011-04-18 13:22:11     345.14\n",
      "3 2011-04-18 13:22:12     341.68\n",
      "4 2011-04-18 13:22:13     341.03\n"
     ]
    },
    {
     "name": "stderr",
     "output_type": "stream",
     "text": [
      "/Users/shalinimustala/anaconda3/lib/python3.7/site-packages/pandas/plotting/_converter.py:129: FutureWarning: Using an implicitly registered datetime converter for a matplotlib plotting method. The converter was registered by pandas on import. Future versions of pandas will require you to explicitly register matplotlib converters.\n",
      "\n",
      "To register the converters:\n",
      "\t>>> from pandas.plotting import register_matplotlib_converters\n",
      "\t>>> register_matplotlib_converters()\n",
      "  warnings.warn(msg, FutureWarning)\n"
     ]
    },
    {
     "name": "stdout",
     "output_type": "stream",
     "text": [
      "app_df:\n",
      "                 time  dishwasher\n",
      "0 2011-04-18 13:22:13         0.0\n",
      "1 2011-04-18 13:22:16         0.0\n",
      "2 2011-04-18 13:22:20         0.0\n",
      "3 2011-04-18 13:22:23         1.0\n",
      "4 2011-04-18 13:22:26         0.0\n"
     ]
    },
    {
     "data": {
      "image/png": "[encoded data removed]",
      "text/plain": [
       "<Figure size 1440x1800 with 2 Axes>"
      ]
     },
     "metadata": {
      "needs_background": "light"
     },
     "output_type": "display_data"
    }
   ],
   "source": [
    "\n",
    "if debug:\n",
    "    print(\"    mains_df:\")\n",
    "    print(mains_df.head())\n",
    "    fig = plt.figure(figsize = [20,25])\n",
    "    ax1 = fig.add_subplot(3,1,1)\n",
    "    ax1.plot(mains_df['time'], mains_df['aggregate'])\n",
    "    ax1.tick_params(direction='out', length=10, width=2, labelsize = 15)\n",
    "    plt.xlabel(\"Time\", fontsize=18)\n",
    "    plt.ylabel(\"Mains Reading\", fontsize=18)\n",
    "\n",
    "app_df['time'] = pd.to_datetime(app_df['time'], unit='s')\n",
    "            # app_df.columns = [appliance_name]\n",
    "if debug:\n",
    "    print(\"app_df:\")\n",
    "    print(app_df.head())\n",
    "    ax2 = fig.add_subplot(3,1,2)\n",
    "    ax2.plot(app_df['time'], app_df[appliance_name])\n",
    "    ax2.tick_params(length=10, width=2, labelsize = 15)\n",
    "    plt.xlabel(\"Time\", fontsize=18)\n",
    "    plt.ylabel(\"Appliance Reading (Dishwasher)\", fontsize=18)\n",
    "    \n",
    "    \n",
    "plt.show()"
   ]
  },
  {
   "cell_type": "code",
   "execution_count": 92,
   "metadata": {},
   "outputs": [],
   "source": [
    "mains_df.set_index('time', inplace=True)\n",
    "app_df.set_index('time', inplace=True)"
   ]
  },
  {
   "cell_type": "code",
   "execution_count": 93,
   "metadata": {},
   "outputs": [
    {
     "name": "stdout",
     "output_type": "stream",
     "text": [
      "aggregate    1561660\n",
      "dtype: int64\n",
      "Nans in mains readings: 0\n"
     ]
    },
    {
     "data": {
      "text/html": [
       "<div>\n",
       "<style scoped>\n",
       "    .dataframe tbody tr th:only-of-type {\n",
       "        vertical-align: middle;\n",
       "    }\n",
       "\n",
       "    .dataframe tbody tr th {\n",
       "        vertical-align: top;\n",
       "    }\n",
       "\n",
       "    .dataframe thead th {\n",
       "        text-align: right;\n",
       "    }\n",
       "</style>\n",
       "<table border=\"1\" class=\"dataframe\">\n",
       "  <thead>\n",
       "    <tr style=\"text-align: right;\">\n",
       "      <th></th>\n",
       "      <th>aggregate</th>\n",
       "    </tr>\n",
       "    <tr>\n",
       "      <th>time</th>\n",
       "      <th></th>\n",
       "    </tr>\n",
       "  </thead>\n",
       "  <tbody>\n",
       "    <tr>\n",
       "      <th>2011-05-24 19:56:58</th>\n",
       "      <td>273.16</td>\n",
       "    </tr>\n",
       "    <tr>\n",
       "      <th>2011-05-24 19:56:59</th>\n",
       "      <td>274.10</td>\n",
       "    </tr>\n",
       "    <tr>\n",
       "      <th>2011-05-24 19:57:00</th>\n",
       "      <td>273.39</td>\n",
       "    </tr>\n",
       "    <tr>\n",
       "      <th>2011-05-24 19:57:01</th>\n",
       "      <td>274.26</td>\n",
       "    </tr>\n",
       "    <tr>\n",
       "      <th>2011-05-24 19:57:02</th>\n",
       "      <td>274.27</td>\n",
       "    </tr>\n",
       "  </tbody>\n",
       "</table>\n",
       "</div>"
      ],
      "text/plain": [
       "                     aggregate\n",
       "time                          \n",
       "2011-05-24 19:56:58     273.16\n",
       "2011-05-24 19:56:59     274.10\n",
       "2011-05-24 19:57:00     273.39\n",
       "2011-05-24 19:57:01     274.26\n",
       "2011-05-24 19:57:02     274.27"
      ]
     },
     "execution_count": 93,
     "metadata": {},
     "output_type": "execute_result"
    }
   ],
   "source": [
    "print(mains_df.count())   \n",
    "print(\"Nans in mains readings: {}\".format(pd.isna(mains_df['aggregate']).sum()))\n",
    "mains_df.head() \n",
    "mains_df.tail()"
   ]
  },
  {
   "cell_type": "code",
   "execution_count": 94,
   "metadata": {},
   "outputs": [
    {
     "data": {
      "text/plain": [
       "16.51949074074074"
      ]
     },
     "execution_count": 94,
     "metadata": {},
     "output_type": "execute_result"
    }
   ],
   "source": [
    "1427284/60/60/24"
   ]
  },
  {
   "cell_type": "markdown",
   "metadata": {},
   "source": [
    "**Mains_df has readings every second**\n",
    "<br> No Nans\n",
    "<br> Start Time: 2011-04-16 05:11:27 (for house 3)\n",
    "<br> End Time: 2011-05-31 00:19:54 (for house 3)\n",
    "<br> Total Number of readings: 1427284\n"
   ]
  },
  {
   "cell_type": "code",
   "execution_count": 95,
   "metadata": {},
   "outputs": [
    {
     "name": "stdout",
     "output_type": "stream",
     "text": [
      "dishwasher    745878\n",
      "dtype: int64\n",
      "Nans in apps readings: 0\n"
     ]
    },
    {
     "data": {
      "text/html": [
       "<div>\n",
       "<style scoped>\n",
       "    .dataframe tbody tr th:only-of-type {\n",
       "        vertical-align: middle;\n",
       "    }\n",
       "\n",
       "    .dataframe tbody tr th {\n",
       "        vertical-align: top;\n",
       "    }\n",
       "\n",
       "    .dataframe thead th {\n",
       "        text-align: right;\n",
       "    }\n",
       "</style>\n",
       "<table border=\"1\" class=\"dataframe\">\n",
       "  <thead>\n",
       "    <tr style=\"text-align: right;\">\n",
       "      <th></th>\n",
       "      <th>dishwasher</th>\n",
       "    </tr>\n",
       "    <tr>\n",
       "      <th>time</th>\n",
       "      <th></th>\n",
       "    </tr>\n",
       "  </thead>\n",
       "  <tbody>\n",
       "    <tr>\n",
       "      <th>2011-05-24 19:56:20</th>\n",
       "      <td>1.0</td>\n",
       "    </tr>\n",
       "    <tr>\n",
       "      <th>2011-05-24 19:56:23</th>\n",
       "      <td>0.0</td>\n",
       "    </tr>\n",
       "    <tr>\n",
       "      <th>2011-05-24 19:56:27</th>\n",
       "      <td>0.0</td>\n",
       "    </tr>\n",
       "    <tr>\n",
       "      <th>2011-05-24 19:56:30</th>\n",
       "      <td>0.0</td>\n",
       "    </tr>\n",
       "    <tr>\n",
       "      <th>2011-05-24 19:56:34</th>\n",
       "      <td>0.0</td>\n",
       "    </tr>\n",
       "  </tbody>\n",
       "</table>\n",
       "</div>"
      ],
      "text/plain": [
       "                     dishwasher\n",
       "time                           \n",
       "2011-05-24 19:56:20         1.0\n",
       "2011-05-24 19:56:23         0.0\n",
       "2011-05-24 19:56:27         0.0\n",
       "2011-05-24 19:56:30         0.0\n",
       "2011-05-24 19:56:34         0.0"
      ]
     },
     "execution_count": 95,
     "metadata": {},
     "output_type": "execute_result"
    }
   ],
   "source": [
    "print(app_df.count())  #dishwasher\n",
    "print(\"Nans in apps readings: {}\".format(pd.isna(app_df[appliance_name]).sum()))\n",
    "app_df.head(20)\n",
    "app_df.tail()\n",
    "\n",
    "\n"
   ]
  },
  {
   "cell_type": "markdown",
   "metadata": {},
   "source": [
    "**app_df has readings every 3 or 4 seconds, there are readings more spaced than 4 seconds**\n",
    "<br>No Nans\n",
    "<br>Start Time: 2011-04-16 05:11:30\t (for house 3)\n",
    "<br>End Time: 2011-05-31 00:19:36 (for house 3)\n",
    "<br>Total Number of readings: 404107"
   ]
  },
  {
   "cell_type": "code",
   "execution_count": 96,
   "metadata": {},
   "outputs": [
    {
     "data": {
      "text/plain": [
       "aggregate     194655\n",
       "dishwasher     33496\n",
       "dtype: int64"
      ]
     },
     "execution_count": 96,
     "metadata": {},
     "output_type": "execute_result"
    }
   ],
   "source": [
    "mains_df.join(app_df, how='outer'). \\\n",
    "                resample(str(sample_seconds) + 'S').mean().fillna(method='backfill', limit=1).isna().sum()"
   ]
  },
  {
   "cell_type": "code",
   "execution_count": 97,
   "metadata": {},
   "outputs": [
    {
     "name": "stdout",
     "output_type": "stream",
     "text": [
      "time          197063\n",
      "aggregate     197063\n",
      "dishwasher    197063\n",
      "dtype: int64\n"
     ]
    },
    {
     "data": {
      "image/png": "[encoded data removed]",
      "text/plain": [
       "<Figure size 432x288 with 1 Axes>"
      ]
     },
     "metadata": {
      "needs_background": "light"
     },
     "output_type": "display_data"
    }
   ],
   "source": [
    "df_align = mains_df.join(app_df, how='outer'). \\\n",
    "                resample(str(sample_seconds) + 'S').mean().fillna(method='backfill', limit=1)   #sample_seconds = 8 sec\n",
    "df_align = df_align.dropna()\n",
    "df_align.reset_index(inplace=True)\n",
    "print(df_align.count())\n",
    "df_align['OVER 5 MINS'] = (df_align['time'].diff()).dt.seconds > 9   #to check how many readings are more than 9 seconds apart\n",
    "plt.plot(df_align['OVER 5 MINS'])\n",
    "plt.show() "
   ]
  },
  {
   "cell_type": "code",
   "execution_count": 98,
   "metadata": {},
   "outputs": [
    {
     "data": {
      "text/plain": [
       "time           37\n",
       "aggregate      37\n",
       "dishwasher     37\n",
       "OVER 5 MINS    37\n",
       "dtype: int64"
      ]
     },
     "execution_count": 98,
     "metadata": {},
     "output_type": "execute_result"
    }
   ],
   "source": [
    "df_align[df_align[\"OVER 5 MINS\"] == True].count()"
   ]
  },
  {
   "cell_type": "code",
   "execution_count": 99,
   "metadata": {},
   "outputs": [
    {
     "data": {
      "text/html": [
       "<div>\n",
       "<style scoped>\n",
       "    .dataframe tbody tr th:only-of-type {\n",
       "        vertical-align: middle;\n",
       "    }\n",
       "\n",
       "    .dataframe tbody tr th {\n",
       "        vertical-align: top;\n",
       "    }\n",
       "\n",
       "    .dataframe thead th {\n",
       "        text-align: right;\n",
       "    }\n",
       "</style>\n",
       "<table border=\"1\" class=\"dataframe\">\n",
       "  <thead>\n",
       "    <tr style=\"text-align: right;\">\n",
       "      <th></th>\n",
       "      <th>time</th>\n",
       "      <th>aggregate</th>\n",
       "      <th>dishwasher</th>\n",
       "      <th>OVER 5 MINS</th>\n",
       "    </tr>\n",
       "  </thead>\n",
       "  <tbody>\n",
       "    <tr>\n",
       "      <th>14987</th>\n",
       "      <td>2011-04-20 00:20:00</td>\n",
       "      <td>390.932500</td>\n",
       "      <td>0.0</td>\n",
       "      <td>True</td>\n",
       "    </tr>\n",
       "    <tr>\n",
       "      <th>28904</th>\n",
       "      <td>2011-04-21 10:17:12</td>\n",
       "      <td>176.366667</td>\n",
       "      <td>0.0</td>\n",
       "      <td>True</td>\n",
       "    </tr>\n",
       "    <tr>\n",
       "      <th>34063</th>\n",
       "      <td>2011-04-21 23:41:20</td>\n",
       "      <td>268.971429</td>\n",
       "      <td>0.0</td>\n",
       "      <td>True</td>\n",
       "    </tr>\n",
       "    <tr>\n",
       "      <th>103411</th>\n",
       "      <td>2011-04-30 03:10:24</td>\n",
       "      <td>313.885000</td>\n",
       "      <td>0.0</td>\n",
       "      <td>True</td>\n",
       "    </tr>\n",
       "    <tr>\n",
       "      <th>144025</th>\n",
       "      <td>2011-05-06 14:51:36</td>\n",
       "      <td>172.218000</td>\n",
       "      <td>0.0</td>\n",
       "      <td>True</td>\n",
       "    </tr>\n",
       "    <tr>\n",
       "      <th>155308</th>\n",
       "      <td>2011-05-11 07:19:36</td>\n",
       "      <td>136.990000</td>\n",
       "      <td>0.0</td>\n",
       "      <td>True</td>\n",
       "    </tr>\n",
       "    <tr>\n",
       "      <th>172620</th>\n",
       "      <td>2011-05-13 00:14:16</td>\n",
       "      <td>271.320000</td>\n",
       "      <td>0.0</td>\n",
       "      <td>True</td>\n",
       "    </tr>\n",
       "    <tr>\n",
       "      <th>176687</th>\n",
       "      <td>2011-05-22 20:04:40</td>\n",
       "      <td>837.315000</td>\n",
       "      <td>0.0</td>\n",
       "      <td>True</td>\n",
       "    </tr>\n",
       "    <tr>\n",
       "      <th>184448</th>\n",
       "      <td>2011-05-23 14:31:20</td>\n",
       "      <td>223.425000</td>\n",
       "      <td>0.0</td>\n",
       "      <td>True</td>\n",
       "    </tr>\n",
       "    <tr>\n",
       "      <th>197054</th>\n",
       "      <td>2011-05-24 19:55:28</td>\n",
       "      <td>274.713333</td>\n",
       "      <td>0.0</td>\n",
       "      <td>True</td>\n",
       "    </tr>\n",
       "  </tbody>\n",
       "</table>\n",
       "</div>"
      ],
      "text/plain": [
       "                      time   aggregate  dishwasher  OVER 5 MINS\n",
       "14987  2011-04-20 00:20:00  390.932500         0.0         True\n",
       "28904  2011-04-21 10:17:12  176.366667         0.0         True\n",
       "34063  2011-04-21 23:41:20  268.971429         0.0         True\n",
       "103411 2011-04-30 03:10:24  313.885000         0.0         True\n",
       "144025 2011-05-06 14:51:36  172.218000         0.0         True\n",
       "155308 2011-05-11 07:19:36  136.990000         0.0         True\n",
       "172620 2011-05-13 00:14:16  271.320000         0.0         True\n",
       "176687 2011-05-22 20:04:40  837.315000         0.0         True\n",
       "184448 2011-05-23 14:31:20  223.425000         0.0         True\n",
       "197054 2011-05-24 19:55:28  274.713333         0.0         True"
      ]
     },
     "execution_count": 99,
     "metadata": {},
     "output_type": "execute_result"
    }
   ],
   "source": [
    "df_align[(df_align['time'].diff()).dt.seconds > 5*60]"
   ]
  },
  {
   "cell_type": "code",
   "execution_count": 100,
   "metadata": {},
   "outputs": [
    {
     "name": "stdout",
     "output_type": "stream",
     "text": [
      "time           197063\n",
      "aggregate      197063\n",
      "dishwasher     197063\n",
      "OVER 5 MINS    197063\n",
      "dtype: int64\n",
      "Nans in merged and resampled readings (just a check, nans already backfilled and removed): time           0\n",
      "aggregate      0\n",
      "dishwasher     0\n",
      "OVER 5 MINS    0\n",
      "dtype: int64\n"
     ]
    },
    {
     "data": {
      "text/html": [
       "<div>\n",
       "<style scoped>\n",
       "    .dataframe tbody tr th:only-of-type {\n",
       "        vertical-align: middle;\n",
       "    }\n",
       "\n",
       "    .dataframe tbody tr th {\n",
       "        vertical-align: top;\n",
       "    }\n",
       "\n",
       "    .dataframe thead th {\n",
       "        text-align: right;\n",
       "    }\n",
       "</style>\n",
       "<table border=\"1\" class=\"dataframe\">\n",
       "  <thead>\n",
       "    <tr style=\"text-align: right;\">\n",
       "      <th></th>\n",
       "      <th>time</th>\n",
       "      <th>aggregate</th>\n",
       "      <th>dishwasher</th>\n",
       "      <th>OVER 5 MINS</th>\n",
       "    </tr>\n",
       "  </thead>\n",
       "  <tbody>\n",
       "    <tr>\n",
       "      <th>197058</th>\n",
       "      <td>2011-05-24 19:56:00</td>\n",
       "      <td>273.28000</td>\n",
       "      <td>0.500000</td>\n",
       "      <td>False</td>\n",
       "    </tr>\n",
       "    <tr>\n",
       "      <th>197059</th>\n",
       "      <td>2011-05-24 19:56:08</td>\n",
       "      <td>273.71625</td>\n",
       "      <td>1.000000</td>\n",
       "      <td>False</td>\n",
       "    </tr>\n",
       "    <tr>\n",
       "      <th>197060</th>\n",
       "      <td>2011-05-24 19:56:16</td>\n",
       "      <td>273.79375</td>\n",
       "      <td>0.666667</td>\n",
       "      <td>False</td>\n",
       "    </tr>\n",
       "    <tr>\n",
       "      <th>197061</th>\n",
       "      <td>2011-05-24 19:56:24</td>\n",
       "      <td>274.59750</td>\n",
       "      <td>0.000000</td>\n",
       "      <td>False</td>\n",
       "    </tr>\n",
       "    <tr>\n",
       "      <th>197062</th>\n",
       "      <td>2011-05-24 19:56:32</td>\n",
       "      <td>274.41125</td>\n",
       "      <td>0.000000</td>\n",
       "      <td>False</td>\n",
       "    </tr>\n",
       "  </tbody>\n",
       "</table>\n",
       "</div>"
      ],
      "text/plain": [
       "                      time  aggregate  dishwasher  OVER 5 MINS\n",
       "197058 2011-05-24 19:56:00  273.28000    0.500000        False\n",
       "197059 2011-05-24 19:56:08  273.71625    1.000000        False\n",
       "197060 2011-05-24 19:56:16  273.79375    0.666667        False\n",
       "197061 2011-05-24 19:56:24  274.59750    0.000000        False\n",
       "197062 2011-05-24 19:56:32  274.41125    0.000000        False"
      ]
     },
     "execution_count": 100,
     "metadata": {},
     "output_type": "execute_result"
    }
   ],
   "source": [
    "print(df_align.count())  #merged mains and app\n",
    "print(\"Nans in merged and resampled readings (just a check, nans already backfilled and removed): {}\".format(pd.isna(df_align).sum()))\n",
    "df_align.head()\n",
    "df_align.tail()"
   ]
  },
  {
   "cell_type": "markdown",
   "metadata": {},
   "source": [
    "**df_align is a merged df of mains and app, resampled to 1 reading in 8 seconds, missing values filled by backfilling.**\n",
    "<br> missing values: not all timesteps in the appliance timeseries (may be in mains df too) are not spaced <= 8 seconds. Therefore resampling to 8 sec creates some missing values\n",
    "<br> these missing values are filled by backfilling\n",
    "<br> but wherever the time gap is more 16 seconds,i.e., more than 2 consecutive Nans, backfilling doesn't remove all the NaNs. Backfilling is only to interpolate the missing values caused due to different timestamps of mains and appliance\n",
    "<br> Nan readings after backfilling: 299776 (27.7 days),\n",
    "<br> these rows with NaNs (because of the occurence of higher time gaps between timestamps) are droped using dropna method \n",
    "<br> Total Number of readings after dropna: 183543\n",
    "<br> Start time: 2011-04-16 05:11:20\t\n",
    "End time: 2011-05-31 00:19:36\n",
    "<br> Although start and end dates and 45 days apart. The dataset has data only during the dates in set(all_dates): 26 days\n",
    "<br> Since the data recorded during these dates is also not at regular intervals, \n",
    "<br> it's actually only around 17 days worth of data."
   ]
  },
  {
   "cell_type": "code",
   "execution_count": 101,
   "metadata": {},
   "outputs": [
    {
     "data": {
      "text/plain": [
       "array([18, 19, 20, 21, 22, 23, 24, 25, 26, 27, 28, 30,  1,  2,  3,  6,  7,\n",
       "       11, 12, 13])"
      ]
     },
     "execution_count": 101,
     "metadata": {},
     "output_type": "execute_result"
    }
   ],
   "source": [
    "\n",
    "df_align[\"time\"].dt.day.unique()  #looks like it has data only in these dates in April and May"
   ]
  },
  {
   "cell_type": "code",
   "execution_count": null,
   "metadata": {},
   "outputs": [],
   "source": [
    "all_dates = []\n",
    "for i in range(len(df_align)):\n",
    "    all_dates.append((df_align.iloc[i][\"time\"].month, df_align.iloc[i][\"time\"].day))\n",
    "set(all_dates)"
   ]
  },
  {
   "cell_type": "code",
   "execution_count": 23,
   "metadata": {},
   "outputs": [
    {
     "data": {
      "text/plain": [
       "16.994722222222222"
      ]
     },
     "execution_count": 23,
     "metadata": {},
     "output_type": "execute_result"
    }
   ],
   "source": [
    "183543*8/60/60/24  #It's only around 17 days worth of data.  "
   ]
  },
  {
   "cell_type": "code",
   "execution_count": 24,
   "metadata": {},
   "outputs": [
    {
     "data": {
      "text/plain": [
       "27.757037037037037"
      ]
     },
     "execution_count": 24,
     "metadata": {},
     "output_type": "execute_result"
    }
   ],
   "source": [
    "299776*8/60/60/24  #after resampling and backfilling (before removing nans)  ---> Gaps"
   ]
  },
  {
   "cell_type": "code",
   "execution_count": 25,
   "metadata": {},
   "outputs": [
    {
     "data": {
      "text/plain": [
       "Timedelta('44 days 19:08:16')"
      ]
     },
     "execution_count": 25,
     "metadata": {},
     "output_type": "execute_result"
    }
   ],
   "source": [
    "df_align.iloc[183542]['time'] - df_align.iloc[0]['time']"
   ]
  },
  {
   "cell_type": "code",
   "execution_count": 27,
   "metadata": {},
   "outputs": [
    {
     "data": {
      "text/plain": [
       "44.791666666666664"
      ]
     },
     "execution_count": 27,
     "metadata": {},
     "output_type": "execute_result"
    }
   ],
   "source": [
    "44 + 19/24"
   ]
  },
  {
   "cell_type": "code",
   "execution_count": 29,
   "metadata": {},
   "outputs": [
    {
     "data": {
      "text/plain": [
       "0.37939810680478653"
      ]
     },
     "execution_count": 29,
     "metadata": {},
     "output_type": "execute_result"
    }
   ],
   "source": [
    "dropout_rate = 16.994/44.792\n",
    "dropout_rate "
   ]
  },
  {
   "cell_type": "code",
   "execution_count": 33,
   "metadata": {},
   "outputs": [
    {
     "data": {
      "text/plain": [
       "0.9975931904901673"
      ]
     },
     "execution_count": 33,
     "metadata": {},
     "output_type": "execute_result"
    }
   ],
   "source": [
    "#dropout rate ignoring gaps\n",
    "dr_ig = 16.994/(44.792 - 27.757)\n",
    "dr_ig"
   ]
  },
  {
   "cell_type": "code",
   "execution_count": 102,
   "metadata": {},
   "outputs": [
    {
     "name": "stdout",
     "output_type": "stream",
     "text": [
      "df_align:\n",
      "                 time   aggregate  dishwasher  OVER 5 MINS\n",
      "0 2011-04-18 13:22:08  342.605714    0.000000        False\n",
      "1 2011-04-18 13:22:16  341.768750    0.333333        False\n",
      "2 2011-04-18 13:22:24  341.282500    0.000000        False\n",
      "3 2011-04-18 13:22:32  342.117500    0.000000        False\n",
      "4 2011-04-18 13:22:40  343.427500    0.000000        False\n"
     ]
    },
    {
     "name": "stderr",
     "output_type": "stream",
     "text": [
      "/Users/shalinimustala/anaconda3/lib/python3.7/site-packages/IPython/core/pylabtools.py:128: UserWarning: Creating legend with loc=\"best\" can be slow with large amounts of data.\n",
      "  fig.canvas.print_figure(bytes_io, **kw)\n"
     ]
    },
    {
     "data": {
      "image/png": "[encoded data removed]",
      "text/plain": [
       "<Figure size 936x504 with 1 Axes>"
      ]
     },
     "metadata": {
      "needs_background": "light"
     },
     "output_type": "display_data"
    }
   ],
   "source": [
    "mains = df_align['aggregate'].values\n",
    "app_data = df_align[appliance_name].values\n",
    "# plt.plot(np.arange(0, len(mains)), mains, app_data)\n",
    "# plt.show()\n",
    "if debug:\n",
    "# plot the dtaset\n",
    "    print(\"df_align:\")\n",
    "    print(df_align.head())\n",
    "    fig2 = plt.figure(figsize = [13,7])\n",
    "    ax2 = fig2.add_subplot(1,1,1)\n",
    "    ax2.plot(df_align['time'], df_align['aggregate'])\n",
    "    ax2.plot(df_align['time'], df_align[appliance_name])\n",
    "    ax2.tick_params(direction='out', length=10, width=2, labelsize = 15)\n",
    "    ax2.legend([\"Mains\", \"Appliance (Dishwasher)\"], fontsize = \"large\")\n",
    "    plt.xlabel(\"Time\", fontsize=18)\n",
    "    plt.ylabel(\"Energy Reading\", fontsize=18)\n",
    "    #plt.plot(df_align['aggregate'].values)\n",
    "    #plt.plot(df_align[appliance_name].values)  #make the plot time (date) vs readings\n",
    "    plt.show()"
   ]
  },
  {
   "cell_type": "markdown",
   "metadata": {},
   "source": [
    "**Normalization** : explains the negative values"
   ]
  },
  {
   "cell_type": "code",
   "execution_count": 139,
   "metadata": {},
   "outputs": [],
   "source": [
    "# Normalization\n",
    "mean = params_appliance[appliance_name]['mean']\n",
    "std = params_appliance[appliance_name]['std']\n",
    "\n",
    "df_align['aggregate'] = (df_align['aggregate'] - args.aggregate_mean) / args.aggregate_std\n",
    "df_align[appliance_name] = (df_align[appliance_name] - mean) / std"
   ]
  },
  {
   "cell_type": "code",
   "execution_count": 140,
   "metadata": {},
   "outputs": [
    {
     "data": {
      "text/html": [
       "<div>\n",
       "<style scoped>\n",
       "    .dataframe tbody tr th:only-of-type {\n",
       "        vertical-align: middle;\n",
       "    }\n",
       "\n",
       "    .dataframe tbody tr th {\n",
       "        vertical-align: top;\n",
       "    }\n",
       "\n",
       "    .dataframe thead th {\n",
       "        text-align: right;\n",
       "    }\n",
       "</style>\n",
       "<table border=\"1\" class=\"dataframe\">\n",
       "  <thead>\n",
       "    <tr style=\"text-align: right;\">\n",
       "      <th></th>\n",
       "      <th>time</th>\n",
       "      <th>aggregate</th>\n",
       "      <th>dishwasher</th>\n",
       "      <th>OVER 5 MINS</th>\n",
       "    </tr>\n",
       "  </thead>\n",
       "  <tbody>\n",
       "    <tr>\n",
       "      <th>0</th>\n",
       "      <td>2011-04-16 05:11:20</td>\n",
       "      <td>-0.640923</td>\n",
       "      <td>-0.700699</td>\n",
       "      <td>False</td>\n",
       "    </tr>\n",
       "    <tr>\n",
       "      <th>1</th>\n",
       "      <td>2011-04-16 05:11:28</td>\n",
       "      <td>-0.640920</td>\n",
       "      <td>-0.700699</td>\n",
       "      <td>False</td>\n",
       "    </tr>\n",
       "    <tr>\n",
       "      <th>2</th>\n",
       "      <td>2011-04-16 05:11:36</td>\n",
       "      <td>-0.640921</td>\n",
       "      <td>-0.700700</td>\n",
       "      <td>False</td>\n",
       "    </tr>\n",
       "    <tr>\n",
       "      <th>3</th>\n",
       "      <td>2011-04-16 05:11:44</td>\n",
       "      <td>-0.640920</td>\n",
       "      <td>-0.700699</td>\n",
       "      <td>False</td>\n",
       "    </tr>\n",
       "    <tr>\n",
       "      <th>4</th>\n",
       "      <td>2011-04-16 05:11:52</td>\n",
       "      <td>-0.640918</td>\n",
       "      <td>-0.700700</td>\n",
       "      <td>False</td>\n",
       "    </tr>\n",
       "  </tbody>\n",
       "</table>\n",
       "</div>"
      ],
      "text/plain": [
       "                 time  aggregate  dishwasher  OVER 5 MINS\n",
       "0 2011-04-16 05:11:20  -0.640923   -0.700699        False\n",
       "1 2011-04-16 05:11:28  -0.640920   -0.700699        False\n",
       "2 2011-04-16 05:11:36  -0.640921   -0.700700        False\n",
       "3 2011-04-16 05:11:44  -0.640920   -0.700699        False\n",
       "4 2011-04-16 05:11:52  -0.640918   -0.700700        False"
      ]
     },
     "execution_count": 140,
     "metadata": {},
     "output_type": "execute_result"
    }
   ],
   "source": [
    "df_align.head()"
   ]
  },
  {
   "cell_type": "code",
   "execution_count": 162,
   "metadata": {},
   "outputs": [
    {
     "data": {
      "image/png": "[encoded data removed]",
      "text/plain": [
       "<Figure size 1440x1800 with 2 Axes>"
      ]
     },
     "execution_count": 162,
     "metadata": {},
     "output_type": "execute_result"
    }
   ],
   "source": [
    "fig"
   ]
  },
  {
   "cell_type": "code",
   "execution_count": 10,
   "metadata": {},
   "outputs": [],
   "source": [
    "import os\n",
    "os.getcwd()\n",
    "import pandas as pd"
   ]
  },
  {
   "cell_type": "code",
   "execution_count": 11,
   "metadata": {},
   "outputs": [],
   "source": [
    "df_trainset = pd.read_csv(\"../../../trainingdata/REDDmicrowave_training_.csv\")"
   ]
  },
  {
   "cell_type": "code",
   "execution_count": 12,
   "metadata": {},
   "outputs": [
    {
     "data": {
      "text/html": [
       "<div>\n",
       "<style scoped>\n",
       "    .dataframe tbody tr th:only-of-type {\n",
       "        vertical-align: middle;\n",
       "    }\n",
       "\n",
       "    .dataframe tbody tr th {\n",
       "        vertical-align: top;\n",
       "    }\n",
       "\n",
       "    .dataframe thead th {\n",
       "        text-align: right;\n",
       "    }\n",
       "</style>\n",
       "<table border=\"1\" class=\"dataframe\">\n",
       "  <thead>\n",
       "    <tr style=\"text-align: right;\">\n",
       "      <th></th>\n",
       "      <th>-0.5942183660933661</th>\n",
       "      <th>-0.62</th>\n",
       "    </tr>\n",
       "  </thead>\n",
       "  <tbody>\n",
       "    <tr>\n",
       "      <th>0</th>\n",
       "      <td>-0.594218</td>\n",
       "      <td>-0.620000</td>\n",
       "    </tr>\n",
       "    <tr>\n",
       "      <th>1</th>\n",
       "      <td>-0.594211</td>\n",
       "      <td>-0.619583</td>\n",
       "    </tr>\n",
       "    <tr>\n",
       "      <th>2</th>\n",
       "      <td>-0.594240</td>\n",
       "      <td>-0.620000</td>\n",
       "    </tr>\n",
       "    <tr>\n",
       "      <th>3</th>\n",
       "      <td>-0.594295</td>\n",
       "      <td>-0.620000</td>\n",
       "    </tr>\n",
       "    <tr>\n",
       "      <th>4</th>\n",
       "      <td>-0.594297</td>\n",
       "      <td>-0.620000</td>\n",
       "    </tr>\n",
       "  </tbody>\n",
       "</table>\n",
       "</div>"
      ],
      "text/plain": [
       "   -0.5942183660933661     -0.62\n",
       "0            -0.594218 -0.620000\n",
       "1            -0.594211 -0.619583\n",
       "2            -0.594240 -0.620000\n",
       "3            -0.594295 -0.620000\n",
       "4            -0.594297 -0.620000"
      ]
     },
     "execution_count": 12,
     "metadata": {},
     "output_type": "execute_result"
    }
   ],
   "source": [
    "df_trainset.head()"
   ]
  },
  {
   "cell_type": "code",
   "execution_count": 23,
   "metadata": {},
   "outputs": [
    {
     "data": {
      "text/plain": [
       "-0.5942183660933661    300350\n",
       "-0.62                  300350\n",
       "dtype: int64"
      ]
     },
     "execution_count": 23,
     "metadata": {},
     "output_type": "execute_result"
    }
   ],
   "source": [
    "df_trainset.count()"
   ]
  },
  {
   "cell_type": "code",
   "execution_count": 19,
   "metadata": {},
   "outputs": [],
   "source": [
    "df_testset = pd.read_csv(\"../../../trainingdata/REDDmicrowave_test_.csv\")"
   ]
  },
  {
   "cell_type": "code",
   "execution_count": 20,
   "metadata": {},
   "outputs": [
    {
     "data": {
      "text/plain": [
       "-0.22038610038610035    197062\n",
       "-0.61875                197062\n",
       "dtype: int64"
      ]
     },
     "execution_count": 20,
     "metadata": {},
     "output_type": "execute_result"
    }
   ],
   "source": [
    "df_testset.count()"
   ]
  },
  {
   "cell_type": "code",
   "execution_count": 26,
   "metadata": {},
   "outputs": [
    {
     "data": {
      "text/plain": [
       "2.8"
      ]
     },
     "execution_count": 26,
     "metadata": {},
     "output_type": "execute_result"
    }
   ],
   "source": [
    "21*8/60"
   ]
  },
  {
   "cell_type": "code",
   "execution_count": 6,
   "metadata": {},
   "outputs": [
    {
     "data": {
      "text/plain": [
       "1.4666666666666666"
      ]
     },
     "execution_count": 6,
     "metadata": {},
     "output_type": "execute_result"
    }
   ],
   "source": [
    "11*8/60"
   ]
  },
  {
   "cell_type": "code",
   "execution_count": 7,
   "metadata": {},
   "outputs": [
    {
     "data": {
      "text/plain": [
       "6.8"
      ]
     },
     "execution_count": 7,
     "metadata": {},
     "output_type": "execute_result"
    }
   ],
   "source": [
    "51*8/60"
   ]
  },
  {
   "cell_type": "code",
   "execution_count": 24,
   "metadata": {},
   "outputs": [
    {
     "data": {
      "text/plain": [
       "299"
      ]
     },
     "execution_count": 24,
     "metadata": {},
     "output_type": "execute_result"
    }
   ],
   "source": [
    "int((0.5 * 601) - 1)"
   ]
  },
  {
   "cell_type": "code",
   "execution_count": 25,
   "metadata": {},
   "outputs": [
    {
     "data": {
      "text/plain": [
       "39.86666666666667"
      ]
     },
     "execution_count": 25,
     "metadata": {},
     "output_type": "execute_result"
    }
   ],
   "source": [
    "299*8/60"
   ]
  },
  {
   "cell_type": "code",
   "execution_count": 27,
   "metadata": {},
   "outputs": [
    {
     "name": "stdout",
     "output_type": "stream",
     "text": [
      "Tue Apr  6 11:57:20 2021\n",
      "Tue Apr  6 11:57:23 2021\n"
     ]
    }
   ],
   "source": [
    "import time\n",
    "now = time.ctime(int(time.time()))\n",
    "print(now)\n",
    "time.sleep(3)\n",
    "now = time.ctime(int(time.time()))\n",
    "print(now)"
   ]
  },
  {
   "cell_type": "code",
   "execution_count": 29,
   "metadata": {},
   "outputs": [
    {
     "data": {
      "text/plain": [
       "900"
      ]
     },
     "execution_count": 29,
     "metadata": {},
     "output_type": "execute_result"
    }
   ],
   "source": [
    "15*60\n"
   ]
  },
  {
   "cell_type": "code",
   "execution_count": 33,
   "metadata": {},
   "outputs": [
    {
     "data": {
      "text/plain": [
       "2640"
      ]
     },
     "execution_count": 33,
     "metadata": {},
     "output_type": "execute_result"
    }
   ],
   "source": [
    "30*11*8"
   ]
  },
  {
   "cell_type": "code",
   "execution_count": 31,
   "metadata": {},
   "outputs": [
    {
     "data": {
      "text/plain": [
       "21.90909090909091"
      ]
     },
     "execution_count": 31,
     "metadata": {},
     "output_type": "execute_result"
    }
   ],
   "source": [
    "7230 /330"
   ]
  },
  {
   "cell_type": "code",
   "execution_count": 35,
   "metadata": {},
   "outputs": [
    {
     "data": {
      "text/plain": [
       "24.0"
      ]
     },
     "execution_count": 35,
     "metadata": {},
     "output_type": "execute_result"
    }
   ],
   "source": [
    "7200/300"
   ]
  },
  {
   "cell_type": "code",
   "execution_count": 36,
   "metadata": {},
   "outputs": [
    {
     "data": {
      "text/plain": [
       "7200"
      ]
     },
     "execution_count": 36,
     "metadata": {},
     "output_type": "execute_result"
    }
   ],
   "source": [
    "30*30*8"
   ]
  },
  {
   "cell_type": "code",
   "execution_count": 37,
   "metadata": {},
   "outputs": [
    {
     "data": {
      "text/plain": [
       "7200"
      ]
     },
     "execution_count": 37,
     "metadata": {},
     "output_type": "execute_result"
    }
   ],
   "source": [
    "30*40*6"
   ]
  },
  {
   "cell_type": "code",
   "execution_count": 38,
   "metadata": {},
   "outputs": [
    {
     "data": {
      "text/plain": [
       "10000"
      ]
     },
     "execution_count": 38,
     "metadata": {},
     "output_type": "execute_result"
    }
   ],
   "source": [
    "40*50*5"
   ]
  },
  {
   "cell_type": "code",
   "execution_count": 39,
   "metadata": {},
   "outputs": [
    {
     "data": {
      "text/plain": [
       "28.4"
      ]
     },
     "execution_count": 39,
     "metadata": {},
     "output_type": "execute_result"
    }
   ],
   "source": [
    "0.0355 * 800"
   ]
  },
  {
   "cell_type": "code",
   "execution_count": null,
   "metadata": {},
   "outputs": [],
   "source": [
    "0.0355*800 "
   ]
  },
  {
   "cell_type": "code",
   "execution_count": 40,
   "metadata": {},
   "outputs": [],
   "source": [
    "mse =  0.0470\n",
    "RMSE = mse**0.5"
   ]
  },
  {
   "cell_type": "code",
   "execution_count": 41,
   "metadata": {},
   "outputs": [],
   "source": [
    "#Microwave\n",
    "RMSE_in_watts = RMSE*800"
   ]
  },
  {
   "cell_type": "code",
   "execution_count": 42,
   "metadata": {},
   "outputs": [
    {
     "data": {
      "text/plain": [
       "173.4358671094304"
      ]
     },
     "execution_count": 42,
     "metadata": {},
     "output_type": "execute_result"
    }
   ],
   "source": [
    "RMSE_in_watts"
   ]
  },
  {
   "cell_type": "code",
   "execution_count": 43,
   "metadata": {},
   "outputs": [
    {
     "data": {
      "text/plain": [
       "0.216794833886788"
      ]
     },
     "execution_count": 43,
     "metadata": {},
     "output_type": "execute_result"
    }
   ],
   "source": [
    "RMSE"
   ]
  },
  {
   "cell_type": "code",
   "execution_count": null,
   "metadata": {},
   "outputs": [],
   "source": [
    " 0.0453\n",
    "rmse =  0.0453**0.5"
   ]
  },
  {
   "cell_type": "code",
   "execution_count": null,
   "metadata": {},
   "outputs": [],
   "source": [
    "rmse*800"
   ]
  },
  {
   "cell_type": "markdown",
   "metadata": {},
   "source": [
    "Dishwasher"
   ]
  },
  {
   "cell_type": "code",
   "execution_count": 44,
   "metadata": {},
   "outputs": [
    {
     "data": {
      "text/plain": [
       "31.2"
      ]
     },
     "execution_count": 44,
     "metadata": {},
     "output_type": "execute_result"
    }
   ],
   "source": [
    "0.0312*1000\n"
   ]
  },
  {
   "cell_type": "code",
   "execution_count": 4,
   "metadata": {},
   "outputs": [],
   "source": [
    "mse = 0.0104\n",
    "RMSE = mse**0.5"
   ]
  },
  {
   "cell_type": "code",
   "execution_count": 5,
   "metadata": {},
   "outputs": [
    {
     "data": {
      "text/plain": [
       "101.9803902718557"
      ]
     },
     "execution_count": 5,
     "metadata": {},
     "output_type": "execute_result"
    }
   ],
   "source": [
    "RMSE*1000"
   ]
  },
  {
   "cell_type": "code",
   "execution_count": 112,
   "metadata": {},
   "outputs": [],
   "source": [
    "#Stove\n",
    "mse = 1.7241\n",
    "#mse = 1.6644\n",
    "rmse = mse**0.5"
   ]
  },
  {
   "cell_type": "code",
   "execution_count": 117,
   "metadata": {},
   "outputs": [
    {
     "data": {
      "text/plain": [
       "16.834131994255003"
      ]
     },
     "execution_count": 117,
     "metadata": {},
     "output_type": "execute_result"
    }
   ],
   "source": [
    "rmse*(50.75**0.5)"
   ]
  },
  {
   "cell_type": "code",
   "execution_count": 114,
   "metadata": {},
   "outputs": [],
   "source": [
    "#Kitcehn outlet\n",
    "mse = 5.5840\n",
    "rmse = mse**0.5"
   ]
  },
  {
   "cell_type": "code",
   "execution_count": 116,
   "metadata": {},
   "outputs": [
    {
     "data": {
      "text/plain": [
       "12.53975438355951"
      ]
     },
     "execution_count": 116,
     "metadata": {},
     "output_type": "execute_result"
    }
   ],
   "source": [
    "rmse*(28.16**0.5)"
   ]
  },
  {
   "cell_type": "code",
   "execution_count": 120,
   "metadata": {},
   "outputs": [
    {
     "data": {
      "text/plain": [
       "155.9487095169434"
      ]
     },
     "execution_count": 120,
     "metadata": {},
     "output_type": "execute_result"
    }
   ],
   "source": [
    "#microwave\n",
    "mse = 0.0380\n",
    "rmse = (mse)**0.5\n",
    "rmse*800"
   ]
  },
  {
   "cell_type": "code",
   "execution_count": 121,
   "metadata": {},
   "outputs": [
    {
     "data": {
      "text/plain": [
       "0.9173913043478261"
      ]
     },
     "execution_count": 121,
     "metadata": {},
     "output_type": "execute_result"
    }
   ],
   "source": [
    "#Improvement over baseline\n",
    "(312.8- 25.84)/312.8"
   ]
  },
  {
   "cell_type": "code",
   "execution_count": null,
   "metadata": {},
   "outputs": [],
   "source": []
  }
 ],
 "metadata": {
  "kernelspec": {
   "display_name": "Python 3",
   "language": "python",
   "name": "python3"
  },
  "language_info": {
   "codemirror_mode": {
    "name": "ipython",
    "version": 3
   },
   "file_extension": ".py",
   "mimetype": "text/x-python",
   "name": "python",
   "nbconvert_exporter": "python",
   "pygments_lexer": "ipython3",
   "version": "3.7.3"
  }
 },
 "nbformat": 4,
 "nbformat_minor": 2
}
