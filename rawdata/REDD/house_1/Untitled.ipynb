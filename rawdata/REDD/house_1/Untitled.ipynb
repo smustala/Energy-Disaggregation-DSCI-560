{
 "cells": [
  {
   "cell_type": "code",
   "execution_count": 11,
   "metadata": {},
   "outputs": [],
   "source": [
    "import pandas as pd\n",
    "import numpy as np\n",
    "import datetime"
   ]
  },
  {
   "cell_type": "code",
   "execution_count": 78,
   "metadata": {},
   "outputs": [
    {
     "name": "stdout",
     "output_type": "stream",
     "text": [
      "1\n",
      "2011-04-18 13:22:09 2011-05-24 19:57:02\n",
      "2\n",
      "2011-04-18 13:22:09 2011-05-24 19:57:02\n",
      "3\n",
      "2011-04-18 13:22:13 2011-05-24 19:56:34\n",
      "4\n",
      "2011-04-18 13:22:13 2011-05-24 19:56:34\n",
      "5\n",
      "2011-04-18 13:22:13 2011-05-24 19:56:34\n",
      "6\n",
      "2011-04-18 13:22:13 2011-05-24 19:56:34\n",
      "7\n",
      "2011-04-18 13:22:13 2011-05-24 19:56:34\n",
      "8\n",
      "2011-04-18 13:22:13 2011-05-24 19:56:34\n",
      "9\n",
      "2011-04-18 13:22:13 2011-05-24 19:56:34\n",
      "10\n",
      "2011-04-18 13:22:13 2011-05-24 19:56:34\n",
      "11\n",
      "2011-04-18 13:22:13 2011-05-24 19:56:34\n",
      "12\n",
      "2011-04-18 13:22:13 2011-05-24 19:56:34\n",
      "13\n",
      "2011-04-18 13:22:13 2011-05-24 19:56:34\n",
      "14\n",
      "2011-04-18 13:22:13 2011-05-24 19:56:34\n",
      "15\n",
      "2011-04-18 13:22:13 2011-05-24 19:56:34\n",
      "16\n",
      "2011-04-18 13:22:13 2011-05-24 19:56:34\n",
      "17\n",
      "2011-04-18 13:22:13 2011-05-24 19:56:34\n",
      "18\n",
      "2011-04-18 13:22:13 2011-05-24 19:56:34\n",
      "19\n",
      "2011-04-18 13:22:13 2011-05-24 19:56:34\n",
      "20\n",
      "2011-04-18 13:22:13 2011-05-24 19:56:34\n"
     ]
    }
   ],
   "source": [
    "nrows= None\n",
    "\n",
    "for i in np.arange(1,21):\n",
    "    print(i)\n",
    "    yeah = pd.read_table('./channel_'+str(i)+'.dat',\n",
    "        sep=\"\\s+\",\n",
    "        nrows=nrows,\n",
    "        usecols=[0, 1],\n",
    "        names=['time', 'mains1'],\n",
    "        dtype={'time': int},\n",
    "    )\n",
    "        \n",
    "    yeah['time']=pd.to_datetime(yeah['time'],unit='s')\n",
    "        \n",
    "    print(yeah['time'].min(), yeah['time'].max())"
   ]
  },
  {
   "cell_type": "code",
   "execution_count": 75,
   "metadata": {},
   "outputs": [
    {
     "data": {
      "text/html": [
       "<div>\n",
       "<style scoped>\n",
       "    .dataframe tbody tr th:only-of-type {\n",
       "        vertical-align: middle;\n",
       "    }\n",
       "\n",
       "    .dataframe tbody tr th {\n",
       "        vertical-align: top;\n",
       "    }\n",
       "\n",
       "    .dataframe thead th {\n",
       "        text-align: right;\n",
       "    }\n",
       "</style>\n",
       "<table border=\"1\" class=\"dataframe\">\n",
       "  <thead>\n",
       "    <tr style=\"text-align: right;\">\n",
       "      <th></th>\n",
       "      <th>time</th>\n",
       "      <th>mains1</th>\n",
       "    </tr>\n",
       "  </thead>\n",
       "  <tbody>\n",
       "    <tr>\n",
       "      <th>0</th>\n",
       "      <td>2011-04-18 13:22:09</td>\n",
       "      <td>224.19</td>\n",
       "    </tr>\n",
       "    <tr>\n",
       "      <th>1</th>\n",
       "      <td>2011-04-18 13:22:10</td>\n",
       "      <td>225.57</td>\n",
       "    </tr>\n",
       "    <tr>\n",
       "      <th>2</th>\n",
       "      <td>2011-04-18 13:22:11</td>\n",
       "      <td>226.09</td>\n",
       "    </tr>\n",
       "    <tr>\n",
       "      <th>3</th>\n",
       "      <td>2011-04-18 13:22:12</td>\n",
       "      <td>222.74</td>\n",
       "    </tr>\n",
       "    <tr>\n",
       "      <th>4</th>\n",
       "      <td>2011-04-18 13:22:13</td>\n",
       "      <td>222.20</td>\n",
       "    </tr>\n",
       "  </tbody>\n",
       "</table>\n",
       "</div>"
      ],
      "text/plain": [
       "                 time  mains1\n",
       "0 2011-04-18 13:22:09  224.19\n",
       "1 2011-04-18 13:22:10  225.57\n",
       "2 2011-04-18 13:22:11  226.09\n",
       "3 2011-04-18 13:22:12  222.74\n",
       "4 2011-04-18 13:22:13  222.20"
      ]
     },
     "execution_count": 75,
     "metadata": {},
     "output_type": "execute_result"
    }
   ],
   "source": [
    "yeah1.head()"
   ]
  },
  {
   "cell_type": "code",
   "execution_count": 73,
   "metadata": {},
   "outputs": [
    {
     "data": {
      "text/html": [
       "<div>\n",
       "<style scoped>\n",
       "    .dataframe tbody tr th:only-of-type {\n",
       "        vertical-align: middle;\n",
       "    }\n",
       "\n",
       "    .dataframe tbody tr th {\n",
       "        vertical-align: top;\n",
       "    }\n",
       "\n",
       "    .dataframe thead th {\n",
       "        text-align: right;\n",
       "    }\n",
       "</style>\n",
       "<table border=\"1\" class=\"dataframe\">\n",
       "  <thead>\n",
       "    <tr style=\"text-align: right;\">\n",
       "      <th></th>\n",
       "      <th>time</th>\n",
       "      <th>mains1</th>\n",
       "    </tr>\n",
       "  </thead>\n",
       "  <tbody>\n",
       "    <tr>\n",
       "      <th>0</th>\n",
       "      <td>2011-04-18 13:22:09</td>\n",
       "      <td>224.19</td>\n",
       "    </tr>\n",
       "    <tr>\n",
       "      <th>1</th>\n",
       "      <td>2011-04-18 13:22:10</td>\n",
       "      <td>225.57</td>\n",
       "    </tr>\n",
       "    <tr>\n",
       "      <th>2</th>\n",
       "      <td>2011-04-18 13:22:11</td>\n",
       "      <td>226.09</td>\n",
       "    </tr>\n",
       "    <tr>\n",
       "      <th>3</th>\n",
       "      <td>2011-04-18 13:22:12</td>\n",
       "      <td>222.74</td>\n",
       "    </tr>\n",
       "    <tr>\n",
       "      <th>4</th>\n",
       "      <td>2011-04-18 13:22:13</td>\n",
       "      <td>222.20</td>\n",
       "    </tr>\n",
       "  </tbody>\n",
       "</table>\n",
       "</div>"
      ],
      "text/plain": [
       "                 time  mains1\n",
       "0 2011-04-18 13:22:09  224.19\n",
       "1 2011-04-18 13:22:10  225.57\n",
       "2 2011-04-18 13:22:11  226.09\n",
       "3 2011-04-18 13:22:12  222.74\n",
       "4 2011-04-18 13:22:13  222.20"
      ]
     },
     "execution_count": 73,
     "metadata": {},
     "output_type": "execute_result"
    }
   ],
   "source": [
    "bigdata = pd.concat([yeah1,yeah1], ignore_index=False, sort=False)\n",
    "bigdata.head()"
   ]
  },
  {
   "cell_type": "code",
   "execution_count": 61,
   "metadata": {},
   "outputs": [],
   "source": [
    "fine=np.array(datetime.datetime.fromtimestamp(mains_df1['time'][1]))"
   ]
  },
  {
   "cell_type": "code",
   "execution_count": 62,
   "metadata": {},
   "outputs": [],
   "source": [
    "fine=np.append(fine,datetime.datetime.fromtimestamp(mains_df1['time'][2]))"
   ]
  },
  {
   "cell_type": "code",
   "execution_count": 40,
   "metadata": {},
   "outputs": [
    {
     "name": "stdout",
     "output_type": "stream",
     "text": [
      "[datetime.datetime(2011, 4, 18, 6, 22, 10)\n",
      " datetime.datetime(2011, 4, 18, 6, 22, 11)]\n"
     ]
    }
   ],
   "source": [
    "print(fine)"
   ]
  },
  {
   "cell_type": "code",
   "execution_count": null,
   "metadata": {},
   "outputs": [],
   "source": []
  }
 ],
 "metadata": {
  "kernelspec": {
   "display_name": "Python 3",
   "language": "python",
   "name": "python3"
  },
  "language_info": {
   "codemirror_mode": {
    "name": "ipython",
    "version": 3
   },
   "file_extension": ".py",
   "mimetype": "text/x-python",
   "name": "python",
   "nbconvert_exporter": "python",
   "pygments_lexer": "ipython3",
   "version": "3.6.5"
  }
 },
 "nbformat": 4,
 "nbformat_minor": 4
}
